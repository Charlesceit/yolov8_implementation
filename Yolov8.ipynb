{
 "cells": [
  {
   "cell_type": "markdown",
   "metadata": {},
   "source": [
    "# YOLO V8 Implementation for Rivet detection"
   ]
  },
  {
   "cell_type": "markdown",
   "metadata": {},
   "source": [
    "### Importing torch, and checking if cuda is available"
   ]
  },
  {
   "cell_type": "code",
   "execution_count": 1,
   "metadata": {},
   "outputs": [
    {
     "data": {
      "text/plain": [
       "True"
      ]
     },
     "execution_count": 1,
     "metadata": {},
     "output_type": "execute_result"
    }
   ],
   "source": [
    "import torch\n",
    "torch.cuda.is_available()"
   ]
  },
  {
   "cell_type": "markdown",
   "metadata": {},
   "source": [
    "### Split the Data"
   ]
  },
  {
   "cell_type": "code",
   "execution_count": 8,
   "metadata": {},
   "outputs": [
    {
     "name": "stdout",
     "output_type": "stream",
     "text": [
      "Warning: C:\\Users\\coigah\\Documents\\PhD Folder\\YOLO\\LabelStudio\\labels\\62a89b9f-image9..txt was not found. Skipping.\n"
     ]
    }
   ],
   "source": [
    "import os\n",
    "import random\n",
    "import math\n",
    "import shutil\n",
    "\n",
    "base = 'C:\\\\Users\\\\coigah\\\\Documents\\\\PhD Folder\\\\YOLO\\\\LabelStudio'\n",
    "\n",
    "items = os.listdir(os.path.join(base, 'images'))\n",
    "\n",
    "elements = len(items)\n",
    "split = math.trunc(elements * 0.80)\n",
    "\n",
    "random.shuffle(items)\n",
    "\n",
    "train = items[:split]\n",
    "valid = items[split:]\n",
    "\n",
    "path_train = 'C:\\\\Users\\\\coigah\\\\Documents\\\\PhD Folder\\\\YOLO\\\\train'\n",
    "path_val = 'C:\\\\Users\\\\coigah\\\\Documents\\\\PhD Folder\\\\YOLO\\\\val'\n",
    "\n",
    "# Removing existing files in the train and validation directories\n",
    "for directory in ['images', 'labels']:\n",
    "    train_dir = os.path.join(path_train, directory)\n",
    "    val_dir = os.path.join(path_val, directory)\n",
    "    for i in os.listdir(train_dir):\n",
    "        os.remove(os.path.join(train_dir, i))\n",
    "    for i in os.listdir(val_dir):\n",
    "        os.remove(os.path.join(val_dir, i))\n",
    "\n",
    "# Function to safely copy files with error handling\n",
    "def safe_copy(src_path, dst_path):\n",
    "    try:\n",
    "        shutil.copy2(src_path, dst_path)\n",
    "    except FileNotFoundError:\n",
    "        print(f\"Warning: {src_path} was not found. Skipping.\")\n",
    "\n",
    "# Copying training and validation datasets\n",
    "for item in train:\n",
    "    image_src = os.path.join(base, os.path.join('images', item))\n",
    "    label_src = os.path.join(base, os.path.join('labels', item[:-4] + '.txt'))\n",
    "    image_dst = os.path.join(path_train, os.path.join('images', item))\n",
    "    label_dst = os.path.join(path_train, os.path.join('labels', item[:-4] + '.txt'))\n",
    "    safe_copy(image_src, image_dst)\n",
    "    safe_copy(label_src, label_dst)\n",
    "\n",
    "for item in valid:\n",
    "    image_src = os.path.join(base, os.path.join('images', item))\n",
    "    label_src = os.path.join(base, os.path.join('labels', item[:-4] + '.txt'))\n",
    "    image_dst = os.path.join(path_val, os.path.join('images', item))\n",
    "    label_dst = os.path.join(path_val, os.path.join('labels', item[:-4] + '.txt'))\n",
    "    safe_copy(image_src, image_dst)\n",
    "    safe_copy(label_src, label_dst)\n"
   ]
  },
  {
   "cell_type": "code",
   "execution_count": 9,
   "metadata": {},
   "outputs": [
    {
     "data": {
      "text/plain": [
       "1363"
      ]
     },
     "execution_count": 9,
     "metadata": {},
     "output_type": "execute_result"
    }
   ],
   "source": [
    "len(os.listdir('C:\\\\Users\\\\coigah\\\\Documents\\\\PhD Folder\\\\YOLO\\\\train\\\\images'))"
   ]
  },
  {
   "cell_type": "code",
   "execution_count": 10,
   "metadata": {},
   "outputs": [
    {
     "data": {
      "text/plain": [
       "341"
      ]
     },
     "execution_count": 10,
     "metadata": {},
     "output_type": "execute_result"
    }
   ],
   "source": [
    "len(os.listdir('C:\\\\Users\\\\coigah\\\\Documents\\\\PhD Folder\\\\YOLO\\\\val\\\\images'))"
   ]
  },
  {
   "cell_type": "markdown",
   "metadata": {},
   "source": [
    "### Import YOLO"
   ]
  },
  {
   "cell_type": "code",
   "execution_count": 12,
   "metadata": {},
   "outputs": [],
   "source": [
    "from ultralytics import YOLO"
   ]
  },
  {
   "cell_type": "code",
   "execution_count": 15,
   "metadata": {},
   "outputs": [],
   "source": [
    "import ultralytics"
   ]
  },
  {
   "cell_type": "code",
   "execution_count": 16,
   "metadata": {},
   "outputs": [
    {
     "name": "stdout",
     "output_type": "stream",
     "text": [
      "Ultralytics YOLOv8.1.15 🚀 Python-3.11.7 torch-2.2.0 CUDA:0 (NVIDIA RTX A4500, 20470MiB)\n",
      "Setup complete ✅ (24 CPUs, 31.7 GB RAM, 218.6/476.8 GB disk)\n"
     ]
    }
   ],
   "source": [
    "ultralytics.checks()"
   ]
  },
  {
   "cell_type": "code",
   "execution_count": 17,
   "metadata": {},
   "outputs": [
    {
     "name": "stdout",
     "output_type": "stream",
     "text": [
      "Downloading https://github.com/ultralytics/assets/releases/download/v8.1.0/yolov8n.pt to 'yolov8n.pt'...\n",
      "Ultralytics YOLOv8.1.15 🚀 Python-3.11.7 torch-2.2.0 CUDA:0 (NVIDIA RTX A4500, 20470MiB)\n",
      "YOLOv8n summary (fused): 168 layers, 3151904 parameters, 0 gradients, 8.7 GFLOPs\n",
      "\n",
      "Downloading https://ultralytics.com/images/zidane.jpg to 'zidane.jpg'...\n",
      "image 1/1 c:\\Users\\coigah\\Documents\\PhD Folder\\YOLO\\zidane.jpg: 384x640 2 persons, 1 tie, 81.8ms\n",
      "Speed: 0.0ms preprocess, 81.8ms inference, 71.6ms postprocess per image at shape (1, 3, 384, 640)\n",
      "Results saved to \u001b[1mruns\\detect\\predict\u001b[0m\n",
      "💡 Learn more at https://docs.ultralytics.com/modes/predict\n"
     ]
    },
    {
     "name": "stderr",
     "output_type": "stream",
     "text": [
      "\n",
      "  0%|          | 0.00/6.23M [00:00<?, ?B/s]\n",
      " 10%|▉         | 624k/6.23M [00:00<00:00, 6.14MB/s]\n",
      " 21%|██        | 1.28M/6.23M [00:00<00:00, 6.64MB/s]\n",
      " 32%|███▏      | 2.00M/6.23M [00:00<00:00, 6.89MB/s]\n",
      " 43%|████▎     | 2.66M/6.23M [00:00<00:00, 6.88MB/s]\n",
      " 54%|█████▍    | 3.36M/6.23M [00:00<00:00, 6.82MB/s]\n",
      " 65%|██████▍   | 4.05M/6.23M [00:00<00:00, 6.88MB/s]\n",
      " 75%|███████▌  | 4.70M/6.23M [00:00<00:00, 6.74MB/s]\n",
      " 86%|████████▌ | 5.35M/6.23M [00:00<00:00, 6.75MB/s]\n",
      " 97%|█████████▋| 6.02M/6.23M [00:00<00:00, 6.67MB/s]\n",
      "100%|██████████| 6.23M/6.23M [00:00<00:00, 6.73MB/s]\n",
      "\n",
      "  0%|          | 0.00/165k [00:00<?, ?B/s]\n",
      "100%|██████████| 165k/165k [00:00<00:00, 3.26MB/s]\n"
     ]
    }
   ],
   "source": [
    "# Run inference on an image with YOLOv8n\n",
    "!yolo predict model=yolov8n.pt source='https://ultralytics.com/images/zidane.jpg'"
   ]
  },
  {
   "cell_type": "code",
   "execution_count": 18,
   "metadata": {},
   "outputs": [
    {
     "name": "stdout",
     "output_type": "stream",
     "text": [
      "Downloading https://github.com/ultralytics/assets/releases/download/v8.1.0/yolov8x.pt to 'yolov8x.pt'...\n",
      "Ultralytics YOLOv8.1.15 🚀 Python-3.11.7 torch-2.2.0 CUDA:0 (NVIDIA RTX A4500, 20470MiB)\n",
      "YOLOv8x summary (fused): 268 layers, 68200608 parameters, 0 gradients, 257.8 GFLOPs\n",
      "\n",
      "Found https://ultralytics.com/images/zidane.jpg locally at zidane.jpg\n",
      "image 1/1 c:\\Users\\coigah\\Documents\\PhD Folder\\YOLO\\zidane.jpg: 384x640 2 persons, 1 tie, 83.3ms\n",
      "Speed: 0.0ms preprocess, 83.3ms inference, 44.6ms postprocess per image at shape (1, 3, 384, 640)\n",
      "Results saved to \u001b[1mruns\\detect\\predict2\u001b[0m\n",
      "💡 Learn more at https://docs.ultralytics.com/modes/predict\n"
     ]
    },
    {
     "name": "stderr",
     "output_type": "stream",
     "text": [
      "\n",
      "  0%|          | 0.00/131M [00:00<?, ?B/s]\n",
      "  0%|          | 544k/131M [00:00<00:24, 5.56MB/s]\n",
      "  1%|          | 1.20M/131M [00:00<00:21, 6.35MB/s]\n",
      "  1%|▏         | 1.85M/131M [00:00<00:20, 6.49MB/s]\n",
      "  2%|▏         | 2.48M/131M [00:00<00:20, 6.43MB/s]\n",
      "  2%|▏         | 3.09M/131M [00:00<00:20, 6.39MB/s]\n",
      "  3%|▎         | 3.79M/131M [00:00<00:20, 6.53MB/s]\n",
      "  3%|▎         | 4.49M/131M [00:00<00:19, 6.73MB/s]\n",
      "  4%|▍         | 5.14M/131M [00:00<00:19, 6.70MB/s]\n",
      "  4%|▍         | 5.78M/131M [00:00<00:19, 6.67MB/s]\n",
      "  5%|▍         | 6.42M/131M [00:01<00:19, 6.67MB/s]\n",
      "  5%|▌         | 7.06M/131M [00:01<00:19, 6.56MB/s]\n",
      "  6%|▌         | 7.70M/131M [00:01<00:19, 6.48MB/s]\n",
      "  6%|▋         | 8.34M/131M [00:01<00:19, 6.50MB/s]\n",
      "  7%|▋         | 8.98M/131M [00:01<00:19, 6.54MB/s]\n",
      "  7%|▋         | 9.62M/131M [00:01<00:19, 6.56MB/s]\n",
      "  8%|▊         | 10.3M/131M [00:01<00:19, 6.54MB/s]\n",
      "  8%|▊         | 11.0M/131M [00:01<00:18, 6.72MB/s]\n",
      "  9%|▉         | 11.6M/131M [00:01<00:18, 6.71MB/s]\n",
      "  9%|▉         | 12.3M/131M [00:01<00:18, 6.84MB/s]\n",
      " 10%|▉         | 13.0M/131M [00:02<00:17, 6.88MB/s]\n",
      " 10%|█         | 13.7M/131M [00:02<00:17, 6.84MB/s]\n",
      " 11%|█         | 14.4M/131M [00:02<00:17, 6.93MB/s]\n",
      " 12%|█▏        | 15.0M/131M [00:02<00:17, 6.92MB/s]\n",
      " 12%|█▏        | 15.7M/131M [00:02<00:17, 6.95MB/s]\n",
      " 13%|█▎        | 16.4M/131M [00:02<00:17, 6.89MB/s]\n",
      " 13%|█▎        | 17.0M/131M [00:02<00:17, 6.91MB/s]\n",
      " 14%|█▎        | 17.7M/131M [00:02<00:17, 6.92MB/s]\n",
      " 14%|█▍        | 18.4M/131M [00:02<00:17, 6.87MB/s]\n",
      " 15%|█▍        | 19.0M/131M [00:02<00:17, 6.81MB/s]\n",
      " 15%|█▌        | 19.7M/131M [00:03<00:17, 6.77MB/s]\n",
      " 16%|█▌        | 20.3M/131M [00:03<00:17, 6.76MB/s]\n",
      " 16%|█▌        | 21.0M/131M [00:03<00:17, 6.67MB/s]\n",
      " 17%|█▋        | 21.6M/131M [00:03<00:17, 6.67MB/s]\n",
      " 17%|█▋        | 22.3M/131M [00:03<00:17, 6.65MB/s]\n",
      " 18%|█▊        | 22.9M/131M [00:03<00:17, 6.63MB/s]\n",
      " 18%|█▊        | 23.5M/131M [00:03<00:16, 6.63MB/s]\n",
      " 19%|█▊        | 24.2M/131M [00:03<00:16, 6.61MB/s]\n",
      " 19%|█▉        | 24.8M/131M [00:03<00:17, 6.50MB/s]\n",
      " 20%|█▉        | 25.5M/131M [00:04<00:16, 6.57MB/s]\n",
      " 20%|██        | 26.1M/131M [00:04<00:16, 6.61MB/s]\n",
      " 21%|██        | 26.8M/131M [00:04<00:16, 6.68MB/s]\n",
      " 21%|██        | 27.4M/131M [00:04<00:16, 6.73MB/s]\n",
      " 22%|██▏       | 28.1M/131M [00:04<00:15, 6.75MB/s]\n",
      " 22%|██▏       | 28.8M/131M [00:04<00:15, 6.71MB/s]\n",
      " 23%|██▎       | 29.4M/131M [00:04<00:15, 6.66MB/s]\n",
      " 23%|██▎       | 30.1M/131M [00:04<00:15, 6.70MB/s]\n",
      " 24%|██▎       | 30.8M/131M [00:04<00:15, 6.84MB/s]\n",
      " 24%|██▍       | 31.4M/131M [00:04<00:15, 6.83MB/s]\n",
      " 25%|██▍       | 32.1M/131M [00:05<00:15, 6.83MB/s]\n",
      " 25%|██▌       | 32.8M/131M [00:05<00:14, 6.92MB/s]\n",
      " 26%|██▌       | 33.4M/131M [00:05<00:14, 6.90MB/s]\n",
      " 26%|██▌       | 34.1M/131M [00:05<00:14, 6.91MB/s]\n",
      " 27%|██▋       | 34.8M/131M [00:05<00:14, 6.95MB/s]\n",
      " 27%|██▋       | 35.4M/131M [00:05<00:14, 6.94MB/s]\n",
      " 28%|██▊       | 36.1M/131M [00:05<00:14, 6.92MB/s]\n",
      " 28%|██▊       | 36.8M/131M [00:05<00:14, 6.88MB/s]\n",
      " 29%|██▊       | 37.4M/131M [00:05<00:14, 6.79MB/s]\n",
      " 29%|██▉       | 38.1M/131M [00:05<00:14, 6.74MB/s]\n",
      " 30%|██▉       | 38.7M/131M [00:06<00:14, 6.61MB/s]\n",
      " 30%|███       | 39.4M/131M [00:06<00:14, 6.61MB/s]\n",
      " 31%|███       | 40.1M/131M [00:06<00:14, 6.69MB/s]\n",
      " 31%|███       | 40.7M/131M [00:06<00:14, 6.63MB/s]\n",
      " 32%|███▏      | 41.4M/131M [00:06<00:13, 6.69MB/s]\n",
      " 32%|███▏      | 42.1M/131M [00:06<00:13, 6.82MB/s]\n",
      " 33%|███▎      | 42.7M/131M [00:06<00:13, 6.82MB/s]\n",
      " 33%|███▎      | 43.4M/131M [00:06<00:13, 6.84MB/s]\n",
      " 34%|███▍      | 44.1M/131M [00:06<00:13, 6.87MB/s]\n",
      " 34%|███▍      | 44.7M/131M [00:06<00:13, 6.85MB/s]\n",
      " 35%|███▍      | 45.4M/131M [00:07<00:13, 6.84MB/s]\n",
      " 35%|███▌      | 46.1M/131M [00:07<00:13, 6.78MB/s]\n",
      " 36%|███▌      | 46.7M/131M [00:07<00:13, 6.71MB/s]\n",
      " 36%|███▋      | 47.3M/131M [00:07<00:13, 6.66MB/s]\n",
      " 37%|███▋      | 48.0M/131M [00:07<00:13, 6.64MB/s]\n",
      " 37%|███▋      | 48.6M/131M [00:07<00:12, 6.67MB/s]\n",
      " 38%|███▊      | 49.3M/131M [00:07<00:12, 6.64MB/s]\n",
      " 38%|███▊      | 49.9M/131M [00:07<00:12, 6.53MB/s]\n",
      " 39%|███▉      | 50.6M/131M [00:07<00:12, 6.62MB/s]\n",
      " 39%|███▉      | 51.2M/131M [00:08<00:12, 6.57MB/s]\n",
      " 40%|███▉      | 51.9M/131M [00:08<00:12, 6.65MB/s]\n",
      " 40%|████      | 52.6M/131M [00:08<00:12, 6.70MB/s]\n",
      " 41%|████      | 53.2M/131M [00:08<00:12, 6.71MB/s]\n",
      " 41%|████▏     | 53.9M/131M [00:08<00:12, 6.67MB/s]\n",
      " 42%|████▏     | 54.5M/131M [00:08<00:11, 6.66MB/s]\n",
      " 42%|████▏     | 55.1M/131M [00:08<00:12, 6.59MB/s]\n",
      " 43%|████▎     | 55.8M/131M [00:08<00:11, 6.58MB/s]\n",
      " 43%|████▎     | 56.4M/131M [00:08<00:12, 6.42MB/s]\n",
      " 44%|████▎     | 57.0M/131M [00:08<00:12, 6.39MB/s]\n",
      " 44%|████▍     | 57.6M/131M [00:09<00:11, 6.38MB/s]\n",
      " 45%|████▍     | 58.3M/131M [00:09<00:11, 6.45MB/s]\n",
      " 45%|████▌     | 58.9M/131M [00:09<00:11, 6.46MB/s]\n",
      " 46%|████▌     | 59.6M/131M [00:09<00:11, 6.53MB/s]\n",
      " 46%|████▌     | 60.2M/131M [00:09<00:11, 6.64MB/s]\n",
      " 47%|████▋     | 60.9M/131M [00:09<00:10, 6.79MB/s]\n",
      " 47%|████▋     | 61.6M/131M [00:09<00:10, 6.90MB/s]\n",
      " 48%|████▊     | 62.3M/131M [00:09<00:10, 6.84MB/s]\n",
      " 48%|████▊     | 63.0M/131M [00:09<00:10, 6.89MB/s]\n",
      " 49%|████▉     | 63.6M/131M [00:09<00:10, 6.87MB/s]\n",
      " 49%|████▉     | 64.3M/131M [00:10<00:10, 6.82MB/s]\n",
      " 50%|████▉     | 65.0M/131M [00:10<00:10, 6.84MB/s]\n",
      " 50%|█████     | 65.6M/131M [00:10<00:10, 6.71MB/s]\n",
      " 51%|█████     | 66.3M/131M [00:10<00:10, 6.69MB/s]\n",
      " 51%|█████▏    | 66.9M/131M [00:10<00:10, 6.65MB/s]\n",
      " 52%|█████▏    | 67.6M/131M [00:10<00:09, 6.64MB/s]\n",
      " 52%|█████▏    | 68.2M/131M [00:10<00:09, 6.65MB/s]\n",
      " 53%|█████▎    | 68.8M/131M [00:10<00:09, 6.59MB/s]\n",
      " 53%|█████▎    | 69.5M/131M [00:10<00:09, 6.60MB/s]\n",
      " 54%|█████▎    | 70.1M/131M [00:10<00:09, 6.57MB/s]\n",
      " 54%|█████▍    | 70.8M/131M [00:11<00:09, 6.55MB/s]\n",
      " 55%|█████▍    | 71.4M/131M [00:11<00:09, 6.57MB/s]\n",
      " 55%|█████▌    | 72.1M/131M [00:11<00:09, 6.69MB/s]\n",
      " 56%|█████▌    | 72.7M/131M [00:11<00:09, 6.64MB/s]\n",
      " 56%|█████▌    | 73.4M/131M [00:11<00:09, 6.64MB/s]\n",
      " 57%|█████▋    | 74.0M/131M [00:11<00:08, 6.64MB/s]\n",
      " 57%|█████▋    | 74.7M/131M [00:11<00:08, 6.66MB/s]\n",
      " 58%|█████▊    | 75.3M/131M [00:11<00:08, 6.54MB/s]\n",
      " 58%|█████▊    | 76.0M/131M [00:11<00:08, 6.56MB/s]\n",
      " 59%|█████▊    | 76.6M/131M [00:12<00:08, 6.57MB/s]\n",
      " 59%|█████▉    | 77.2M/131M [00:12<00:08, 6.57MB/s]\n",
      " 60%|█████▉    | 77.9M/131M [00:12<00:08, 6.59MB/s]\n",
      " 60%|██████    | 78.5M/131M [00:12<00:08, 6.61MB/s]\n",
      " 61%|██████    | 79.2M/131M [00:12<00:08, 6.61MB/s]\n",
      " 61%|██████    | 79.8M/131M [00:12<00:08, 6.62MB/s]\n",
      " 62%|██████▏   | 80.4M/131M [00:12<00:07, 6.59MB/s]\n",
      " 62%|██████▏   | 81.1M/131M [00:12<00:07, 6.55MB/s]\n",
      " 63%|██████▎   | 81.8M/131M [00:12<00:07, 6.52MB/s]\n",
      " 63%|██████▎   | 82.4M/131M [00:12<00:07, 6.51MB/s]\n",
      " 64%|██████▎   | 83.0M/131M [00:13<00:07, 6.50MB/s]\n",
      " 64%|██████▍   | 83.6M/131M [00:13<00:07, 6.48MB/s]\n",
      " 65%|██████▍   | 84.3M/131M [00:13<00:07, 6.44MB/s]\n",
      " 65%|██████▌   | 84.9M/131M [00:13<00:07, 6.41MB/s]\n",
      " 65%|██████▌   | 85.5M/131M [00:13<00:07, 6.42MB/s]\n",
      " 66%|██████▌   | 86.1M/131M [00:13<00:07, 6.39MB/s]\n",
      " 66%|██████▋   | 86.7M/131M [00:13<00:07, 6.33MB/s]\n",
      " 67%|██████▋   | 87.4M/131M [00:13<00:07, 6.32MB/s]\n",
      " 67%|██████▋   | 88.0M/131M [00:13<00:06, 6.54MB/s]\n",
      " 68%|██████▊   | 88.7M/131M [00:13<00:06, 6.55MB/s]\n",
      " 68%|██████▊   | 89.4M/131M [00:14<00:06, 6.60MB/s]\n",
      " 69%|██████▉   | 90.0M/131M [00:14<00:06, 6.71MB/s]\n",
      " 69%|██████▉   | 90.7M/131M [00:14<00:06, 6.70MB/s]\n",
      " 70%|██████▉   | 91.3M/131M [00:14<00:06, 6.65MB/s]\n",
      " 70%|███████   | 92.0M/131M [00:14<00:06, 6.64MB/s]\n",
      " 71%|███████   | 92.6M/131M [00:14<00:06, 6.56MB/s]\n",
      " 71%|███████▏  | 93.3M/131M [00:14<00:05, 6.62MB/s]\n",
      " 72%|███████▏  | 93.9M/131M [00:14<00:05, 6.68MB/s]\n",
      " 72%|███████▏  | 94.6M/131M [00:14<00:05, 6.73MB/s]\n",
      " 73%|███████▎  | 95.2M/131M [00:14<00:05, 6.76MB/s]\n",
      " 73%|███████▎  | 95.9M/131M [00:15<00:05, 6.73MB/s]\n",
      " 74%|███████▍  | 96.6M/131M [00:15<00:05, 6.77MB/s]\n",
      " 74%|███████▍  | 97.2M/131M [00:15<00:05, 6.66MB/s]\n",
      " 75%|███████▍  | 97.9M/131M [00:15<00:05, 6.68MB/s]\n",
      " 75%|███████▌  | 98.5M/131M [00:15<00:05, 6.65MB/s]\n",
      " 76%|███████▌  | 99.2M/131M [00:15<00:04, 6.76MB/s]\n",
      " 76%|███████▋  | 99.8M/131M [00:15<00:04, 6.78MB/s]\n",
      " 77%|███████▋  | 100M/131M [00:15<00:04, 6.78MB/s] \n",
      " 77%|███████▋  | 101M/131M [00:15<00:04, 6.77MB/s]\n",
      " 78%|███████▊  | 102M/131M [00:16<00:04, 6.66MB/s]\n",
      " 78%|███████▊  | 102M/131M [00:16<00:04, 6.67MB/s]\n",
      " 79%|███████▉  | 103M/131M [00:16<00:04, 6.62MB/s]\n",
      " 79%|███████▉  | 104M/131M [00:16<00:04, 6.60MB/s]\n",
      " 80%|███████▉  | 104M/131M [00:16<00:04, 6.60MB/s]\n",
      " 80%|████████  | 105M/131M [00:16<00:04, 6.57MB/s]\n",
      " 81%|████████  | 106M/131M [00:16<00:03, 6.60MB/s]\n",
      " 81%|████████▏ | 106M/131M [00:16<00:03, 6.59MB/s]\n",
      " 82%|████████▏ | 107M/131M [00:16<00:03, 6.65MB/s]\n",
      " 82%|████████▏ | 108M/131M [00:16<00:03, 6.69MB/s]\n",
      " 83%|████████▎ | 108M/131M [00:17<00:03, 6.70MB/s]\n",
      " 83%|████████▎ | 109M/131M [00:17<00:03, 6.76MB/s]\n",
      " 84%|████████▍ | 110M/131M [00:17<00:03, 6.75MB/s]\n",
      " 84%|████████▍ | 110M/131M [00:17<00:03, 6.81MB/s]\n",
      " 85%|████████▍ | 111M/131M [00:17<00:03, 6.74MB/s]\n",
      " 85%|████████▌ | 112M/131M [00:17<00:02, 6.74MB/s]\n",
      " 86%|████████▌ | 112M/131M [00:17<00:02, 6.66MB/s]\n",
      " 86%|████████▋ | 113M/131M [00:17<00:02, 6.46MB/s]\n",
      " 87%|████████▋ | 114M/131M [00:17<00:02, 6.48MB/s]\n",
      " 87%|████████▋ | 114M/131M [00:17<00:02, 6.49MB/s]\n",
      " 88%|████████▊ | 115M/131M [00:18<00:02, 6.54MB/s]\n",
      " 88%|████████▊ | 115M/131M [00:18<00:02, 6.64MB/s]\n",
      " 89%|████████▉ | 116M/131M [00:18<00:02, 6.64MB/s]\n",
      " 89%|████████▉ | 117M/131M [00:18<00:02, 6.67MB/s]\n",
      " 90%|████████▉ | 117M/131M [00:18<00:02, 6.74MB/s]\n",
      " 90%|█████████ | 118M/131M [00:18<00:01, 6.69MB/s]\n",
      " 91%|█████████ | 119M/131M [00:18<00:01, 6.69MB/s]\n",
      " 91%|█████████▏| 119M/131M [00:18<00:01, 6.71MB/s]\n",
      " 92%|█████████▏| 120M/131M [00:18<00:01, 6.76MB/s]\n",
      " 92%|█████████▏| 121M/131M [00:18<00:01, 6.75MB/s]\n",
      " 93%|█████████▎| 121M/131M [00:19<00:01, 6.77MB/s]\n",
      " 93%|█████████▎| 122M/131M [00:19<00:01, 6.76MB/s]\n",
      " 94%|█████████▍| 123M/131M [00:19<00:01, 6.62MB/s]\n",
      " 95%|█████████▍| 123M/131M [00:19<00:01, 6.68MB/s]\n",
      " 95%|█████████▍| 124M/131M [00:19<00:01, 6.66MB/s]\n",
      " 95%|█████████▌| 125M/131M [00:19<00:00, 6.68MB/s]\n",
      " 96%|█████████▌| 125M/131M [00:19<00:00, 6.65MB/s]\n",
      " 97%|█████████▋| 126M/131M [00:19<00:00, 6.65MB/s]\n",
      " 97%|█████████▋| 127M/131M [00:19<00:00, 6.71MB/s]\n",
      " 98%|█████████▊| 127M/131M [00:20<00:00, 6.73MB/s]\n",
      " 98%|█████████▊| 128M/131M [00:20<00:00, 6.73MB/s]\n",
      " 99%|█████████▊| 129M/131M [00:20<00:00, 6.67MB/s]\n",
      " 99%|█████████▉| 129M/131M [00:20<00:00, 6.64MB/s]\n",
      "100%|█████████▉| 130M/131M [00:20<00:00, 6.65MB/s]\n",
      "100%|██████████| 131M/131M [00:20<00:00, 6.67MB/s]\n"
     ]
    }
   ],
   "source": [
    "# Run inference on an image with YOLOv8n\n",
    "!yolo predict model=yolov8x.pt source='https://ultralytics.com/images/zidane.jpg'"
   ]
  },
  {
   "cell_type": "code",
   "execution_count": 19,
   "metadata": {},
   "outputs": [
    {
     "data": {
      "text/plain": [
       "'\\nGitHub de YOLO:\\n\\nhttps://github.com/ultralytics/ultralytics\\n\\nVersiones de YOLO\\n\\n\\n\\n                        Speed       Speed\\n                        (ms)        (ms)\\t\\nModel   Size    mAPval  CPU ONNX    A100 TensorRT   params  FLOPs \\n                                                    (M)     (B)\\nYOLOv8n\\t640\\t    37.3\\t80.4\\t    0.99\\t        3.2\\t    8.7\\nYOLOv8s\\t640\\t    44.9\\t128.4\\t    1.20\\t        11.2\\t28.6\\nYOLOv8m\\t640\\t    50.2\\t234.7\\t    1.83\\t        25.9\\t78.9\\nYOLOv8l\\t640\\t    52.9\\t375.2\\t    2.39\\t        43.7\\t165.2\\nYOLOv8x\\t640\\t    53.9\\t479.1\\t    3.53\\t        68.2\\t257.8\\n\\n\\nLos modelos para segmentación son distintos, hay q copiar el link del nombre del modelo del github, pegarlo en el navegador, y coger el nombre del modelo.\\n'"
      ]
     },
     "execution_count": 19,
     "metadata": {},
     "output_type": "execute_result"
    }
   ],
   "source": [
    "# Load a model\n",
    "model_x = YOLO(\"yolov8x.pt\")  # build a new model from scratch\n",
    "#model_p = YOLO(\"yolov8p.pt\")  # load a pretrained model (recommended for training)\n",
    "\n",
    "'''\n",
    "GitHub de YOLO:\n",
    "\n",
    "https://github.com/ultralytics/ultralytics\n",
    "\n",
    "Versiones de YOLO\n",
    "\n",
    "\n",
    "\n",
    "                        Speed       Speed\n",
    "                        (ms)        (ms)\t\n",
    "Model   Size    mAPval  CPU ONNX    A100 TensorRT   params  FLOPs \n",
    "                                                    (M)     (B)\n",
    "YOLOv8n\t640\t    37.3\t80.4\t    0.99\t        3.2\t    8.7\n",
    "YOLOv8s\t640\t    44.9\t128.4\t    1.20\t        11.2\t28.6\n",
    "YOLOv8m\t640\t    50.2\t234.7\t    1.83\t        25.9\t78.9\n",
    "YOLOv8l\t640\t    52.9\t375.2\t    2.39\t        43.7\t165.2\n",
    "YOLOv8x\t640\t    53.9\t479.1\t    3.53\t        68.2\t257.8\n",
    "\n",
    "\n",
    "Los modelos para segmentación son distintos, hay q copiar el link del nombre del modelo del github, pegarlo en el navegador, y coger el nombre del modelo.\n",
    "'''"
   ]
  },
  {
   "cell_type": "code",
   "execution_count": 22,
   "metadata": {},
   "outputs": [
    {
     "name": "stdout",
     "output_type": "stream",
     "text": [
      "Ultralytics YOLOv8.1.15 🚀 Python-3.11.7 torch-2.2.0 CUDA:0 (NVIDIA RTX A4500, 20470MiB)\n",
      "\u001b[34m\u001b[1mengine\\trainer: \u001b[0mtask=detect, mode=train, model=yolov8x.pt, data=custom.yaml, epochs=200, time=None, patience=50, batch=4, imgsz=640, save=True, save_period=-1, cache=False, device=None, workers=1, project=None, name=train, exist_ok=False, pretrained=True, optimizer=auto, verbose=True, seed=0, deterministic=True, single_cls=False, rect=False, cos_lr=False, close_mosaic=10, resume=False, amp=True, fraction=1.0, profile=False, freeze=None, multi_scale=False, overlap_mask=True, mask_ratio=4, dropout=0.0, val=True, split=val, save_json=False, save_hybrid=False, conf=None, iou=0.7, max_det=300, half=False, dnn=False, plots=True, source=None, vid_stride=1, stream_buffer=False, visualize=False, augment=False, agnostic_nms=False, classes=None, retina_masks=False, embed=None, show=False, save_frames=False, save_txt=False, save_conf=False, save_crop=False, show_labels=True, show_conf=True, show_boxes=True, line_width=None, format=torchscript, keras=False, optimize=False, int8=False, dynamic=False, simplify=False, opset=None, workspace=4, nms=False, lr0=0.01, lrf=0.01, momentum=0.937, weight_decay=0.0005, warmup_epochs=3.0, warmup_momentum=0.8, warmup_bias_lr=0.1, box=7.5, cls=0.5, dfl=1.5, pose=12.0, kobj=1.0, label_smoothing=0.0, nbs=64, hsv_h=0.015, hsv_s=0.7, hsv_v=0.4, degrees=0.0, translate=0.1, scale=0.5, shear=0.0, perspective=0.0, flipud=0.0, fliplr=0.5, mosaic=1.0, mixup=0.0, copy_paste=0.0, auto_augment=randaugment, erasing=0.4, crop_fraction=1.0, cfg=None, tracker=botsort.yaml, save_dir=runs\\detect\\train\n",
      "Overriding model.yaml nc=80 with nc=1\n",
      "\n",
      "                   from  n    params  module                                       arguments                     \n",
      "  0                  -1  1      2320  ultralytics.nn.modules.conv.Conv             [3, 80, 3, 2]                 \n",
      "  1                  -1  1    115520  ultralytics.nn.modules.conv.Conv             [80, 160, 3, 2]               \n",
      "  2                  -1  3    436800  ultralytics.nn.modules.block.C2f             [160, 160, 3, True]           \n",
      "  3                  -1  1    461440  ultralytics.nn.modules.conv.Conv             [160, 320, 3, 2]              \n",
      "  4                  -1  6   3281920  ultralytics.nn.modules.block.C2f             [320, 320, 6, True]           \n",
      "  5                  -1  1   1844480  ultralytics.nn.modules.conv.Conv             [320, 640, 3, 2]              \n",
      "  6                  -1  6  13117440  ultralytics.nn.modules.block.C2f             [640, 640, 6, True]           \n",
      "  7                  -1  1   3687680  ultralytics.nn.modules.conv.Conv             [640, 640, 3, 2]              \n",
      "  8                  -1  3   6969600  ultralytics.nn.modules.block.C2f             [640, 640, 3, True]           \n",
      "  9                  -1  1   1025920  ultralytics.nn.modules.block.SPPF            [640, 640, 5]                 \n",
      " 10                  -1  1         0  torch.nn.modules.upsampling.Upsample         [None, 2, 'nearest']          \n",
      " 11             [-1, 6]  1         0  ultralytics.nn.modules.conv.Concat           [1]                           \n",
      " 12                  -1  3   7379200  ultralytics.nn.modules.block.C2f             [1280, 640, 3]                \n",
      " 13                  -1  1         0  torch.nn.modules.upsampling.Upsample         [None, 2, 'nearest']          \n",
      " 14             [-1, 4]  1         0  ultralytics.nn.modules.conv.Concat           [1]                           \n",
      " 15                  -1  3   1948800  ultralytics.nn.modules.block.C2f             [960, 320, 3]                 \n",
      " 16                  -1  1    922240  ultralytics.nn.modules.conv.Conv             [320, 320, 3, 2]              \n",
      " 17            [-1, 12]  1         0  ultralytics.nn.modules.conv.Concat           [1]                           \n",
      " 18                  -1  3   7174400  ultralytics.nn.modules.block.C2f             [960, 640, 3]                 \n",
      " 19                  -1  1   3687680  ultralytics.nn.modules.conv.Conv             [640, 640, 3, 2]              \n",
      " 20             [-1, 9]  1         0  ultralytics.nn.modules.conv.Concat           [1]                           \n",
      " 21                  -1  3   7379200  ultralytics.nn.modules.block.C2f             [1280, 640, 3]                \n",
      " 22        [15, 18, 21]  1   8718931  ultralytics.nn.modules.head.Detect           [1, [320, 640, 640]]          \n",
      "Model summary: 365 layers, 68153571 parameters, 68153555 gradients, 258.1 GFLOPs\n",
      "\n",
      "Transferred 589/595 items from pretrained weights\n",
      "Freezing layer 'model.22.dfl.conv.weight'\n",
      "\u001b[34m\u001b[1mAMP: \u001b[0mrunning Automatic Mixed Precision (AMP) checks with YOLOv8n...\n",
      "\u001b[34m\u001b[1mAMP: \u001b[0mchecks passed ✅\n"
     ]
    },
    {
     "name": "stderr",
     "output_type": "stream",
     "text": [
      "\u001b[34m\u001b[1mtrain: \u001b[0mScanning C:\\Users\\coigah\\Documents\\PhD Folder\\YOLO\\train\\labels... 1362 images, 1 backgrounds, 1 corrupt: 100%|██████████| 1363/1363 [00:00<00:00, 3017.60it/s]"
     ]
    },
    {
     "name": "stdout",
     "output_type": "stream",
     "text": [
      "\u001b[34m\u001b[1mtrain: \u001b[0mWARNING ⚠️ C:\\Users\\coigah\\Documents\\PhD Folder\\YOLO\\train\\images\\70c1bb18-5_jpg.rf.748e50c7b15a8750bbeccc92bbe545f3.jpg: ignoring corrupt image/label: non-normalized or out of bounds coordinates [     1.0931]\n"
     ]
    },
    {
     "name": "stderr",
     "output_type": "stream",
     "text": [
      "\n"
     ]
    },
    {
     "name": "stdout",
     "output_type": "stream",
     "text": [
      "\u001b[34m\u001b[1mtrain: \u001b[0mNew cache created: C:\\Users\\coigah\\Documents\\PhD Folder\\YOLO\\train\\labels.cache\n"
     ]
    },
    {
     "name": "stderr",
     "output_type": "stream",
     "text": [
      "\u001b[34m\u001b[1mval: \u001b[0mScanning C:\\Users\\coigah\\Documents\\PhD Folder\\YOLO\\val\\labels... 341 images, 0 backgrounds, 0 corrupt: 100%|██████████| 341/341 [00:00<00:00, 2864.16it/s]"
     ]
    },
    {
     "name": "stdout",
     "output_type": "stream",
     "text": [
      "\u001b[34m\u001b[1mval: \u001b[0mNew cache created: C:\\Users\\coigah\\Documents\\PhD Folder\\YOLO\\val\\labels.cache\n"
     ]
    },
    {
     "name": "stderr",
     "output_type": "stream",
     "text": [
      "\n"
     ]
    },
    {
     "name": "stdout",
     "output_type": "stream",
     "text": [
      "Plotting labels to runs\\detect\\train\\labels.jpg... \n",
      "\u001b[34m\u001b[1moptimizer:\u001b[0m 'optimizer=auto' found, ignoring 'lr0=0.01' and 'momentum=0.937' and determining best 'optimizer', 'lr0' and 'momentum' automatically... \n",
      "\u001b[34m\u001b[1moptimizer:\u001b[0m AdamW(lr=0.002, momentum=0.9) with parameter groups 97 weight(decay=0.0), 104 weight(decay=0.0005), 103 bias(decay=0.0)\n",
      "Image sizes 640 train, 640 val\n",
      "Using 1 dataloader workers\n",
      "Logging results to \u001b[1mruns\\detect\\train\u001b[0m\n",
      "Starting training for 200 epochs...\n",
      "\n",
      "      Epoch    GPU_mem   box_loss   cls_loss   dfl_loss  Instances       Size\n"
     ]
    },
    {
     "name": "stderr",
     "output_type": "stream",
     "text": [
      "      1/200      4.42G      1.305      1.093      1.451         15        640: 100%|██████████| 341/341 [00:52<00:00,  6.54it/s]\n",
      "                 Class     Images  Instances      Box(P          R      mAP50  mAP50-95): 100%|██████████| 43/43 [00:04<00:00,  9.16it/s]"
     ]
    },
    {
     "name": "stdout",
     "output_type": "stream",
     "text": [
      "                   all        341        864       0.83      0.615      0.759      0.402\n"
     ]
    },
    {
     "name": "stderr",
     "output_type": "stream",
     "text": [
      "\n"
     ]
    },
    {
     "name": "stdout",
     "output_type": "stream",
     "text": [
      "\n",
      "      Epoch    GPU_mem   box_loss   cls_loss   dfl_loss  Instances       Size\n"
     ]
    },
    {
     "name": "stderr",
     "output_type": "stream",
     "text": [
      "      2/200      4.37G      1.317     0.8941      1.478         16        640: 100%|██████████| 341/341 [00:50<00:00,  6.73it/s]\n",
      "                 Class     Images  Instances      Box(P          R      mAP50  mAP50-95): 100%|██████████| 43/43 [00:05<00:00,  8.14it/s]"
     ]
    },
    {
     "name": "stdout",
     "output_type": "stream",
     "text": [
      "                   all        341        864      0.666      0.375      0.518      0.324\n"
     ]
    },
    {
     "name": "stderr",
     "output_type": "stream",
     "text": [
      "\n"
     ]
    },
    {
     "name": "stdout",
     "output_type": "stream",
     "text": [
      "\n",
      "      Epoch    GPU_mem   box_loss   cls_loss   dfl_loss  Instances       Size\n"
     ]
    },
    {
     "name": "stderr",
     "output_type": "stream",
     "text": [
      "      3/200      4.38G      1.263     0.8276      1.459         26        640: 100%|██████████| 341/341 [00:54<00:00,  6.28it/s]\n",
      "                 Class     Images  Instances      Box(P          R      mAP50  mAP50-95): 100%|██████████| 43/43 [00:05<00:00,  8.12it/s]"
     ]
    },
    {
     "name": "stdout",
     "output_type": "stream",
     "text": [
      "                   all        341        864      0.925      0.852      0.922      0.572\n"
     ]
    },
    {
     "name": "stderr",
     "output_type": "stream",
     "text": [
      "\n"
     ]
    },
    {
     "name": "stdout",
     "output_type": "stream",
     "text": [
      "\n",
      "      Epoch    GPU_mem   box_loss   cls_loss   dfl_loss  Instances       Size\n"
     ]
    },
    {
     "name": "stderr",
     "output_type": "stream",
     "text": [
      "      4/200      4.39G      1.218     0.7387       1.42         14        640: 100%|██████████| 341/341 [00:54<00:00,  6.28it/s]\n",
      "                 Class     Images  Instances      Box(P          R      mAP50  mAP50-95): 100%|██████████| 43/43 [00:05<00:00,  8.16it/s]"
     ]
    },
    {
     "name": "stdout",
     "output_type": "stream",
     "text": [
      "                   all        341        864      0.959      0.937       0.98      0.668\n"
     ]
    },
    {
     "name": "stderr",
     "output_type": "stream",
     "text": [
      "\n"
     ]
    },
    {
     "name": "stdout",
     "output_type": "stream",
     "text": [
      "\n",
      "      Epoch    GPU_mem   box_loss   cls_loss   dfl_loss  Instances       Size\n"
     ]
    },
    {
     "name": "stderr",
     "output_type": "stream",
     "text": [
      "      5/200      4.39G      1.182      0.719      1.391          8        640: 100%|██████████| 341/341 [00:54<00:00,  6.25it/s]\n",
      "                 Class     Images  Instances      Box(P          R      mAP50  mAP50-95): 100%|██████████| 43/43 [00:05<00:00,  8.16it/s]"
     ]
    },
    {
     "name": "stdout",
     "output_type": "stream",
     "text": [
      "                   all        341        864      0.919      0.895      0.954      0.619\n"
     ]
    },
    {
     "name": "stderr",
     "output_type": "stream",
     "text": [
      "\n"
     ]
    },
    {
     "name": "stdout",
     "output_type": "stream",
     "text": [
      "\n",
      "      Epoch    GPU_mem   box_loss   cls_loss   dfl_loss  Instances       Size\n"
     ]
    },
    {
     "name": "stderr",
     "output_type": "stream",
     "text": [
      "      6/200      4.38G      1.165     0.6947      1.385         12        640: 100%|██████████| 341/341 [00:54<00:00,  6.26it/s]\n",
      "                 Class     Images  Instances      Box(P          R      mAP50  mAP50-95): 100%|██████████| 43/43 [00:05<00:00,  8.14it/s]"
     ]
    },
    {
     "name": "stdout",
     "output_type": "stream",
     "text": [
      "                   all        341        864      0.953      0.942      0.969      0.683\n"
     ]
    },
    {
     "name": "stderr",
     "output_type": "stream",
     "text": [
      "\n"
     ]
    },
    {
     "name": "stdout",
     "output_type": "stream",
     "text": [
      "\n",
      "      Epoch    GPU_mem   box_loss   cls_loss   dfl_loss  Instances       Size\n"
     ]
    },
    {
     "name": "stderr",
     "output_type": "stream",
     "text": [
      "      7/200      4.39G      1.136     0.6587      1.368          8        640: 100%|██████████| 341/341 [00:54<00:00,  6.24it/s]\n",
      "                 Class     Images  Instances      Box(P          R      mAP50  mAP50-95): 100%|██████████| 43/43 [00:05<00:00,  8.17it/s]"
     ]
    },
    {
     "name": "stdout",
     "output_type": "stream",
     "text": [
      "                   all        341        864      0.949      0.934      0.967      0.652\n"
     ]
    },
    {
     "name": "stderr",
     "output_type": "stream",
     "text": [
      "\n"
     ]
    },
    {
     "name": "stdout",
     "output_type": "stream",
     "text": [
      "\n",
      "      Epoch    GPU_mem   box_loss   cls_loss   dfl_loss  Instances       Size\n"
     ]
    },
    {
     "name": "stderr",
     "output_type": "stream",
     "text": [
      "      8/200      4.38G      1.135     0.6205      1.369         12        640: 100%|██████████| 341/341 [00:54<00:00,  6.26it/s]\n",
      "                 Class     Images  Instances      Box(P          R      mAP50  mAP50-95): 100%|██████████| 43/43 [00:05<00:00,  8.16it/s]"
     ]
    },
    {
     "name": "stdout",
     "output_type": "stream",
     "text": [
      "                   all        341        864      0.935      0.856      0.926      0.628\n"
     ]
    },
    {
     "name": "stderr",
     "output_type": "stream",
     "text": [
      "\n"
     ]
    },
    {
     "name": "stdout",
     "output_type": "stream",
     "text": [
      "\n",
      "      Epoch    GPU_mem   box_loss   cls_loss   dfl_loss  Instances       Size\n"
     ]
    },
    {
     "name": "stderr",
     "output_type": "stream",
     "text": [
      "      9/200      4.39G      1.129     0.6323      1.358         21        640: 100%|██████████| 341/341 [00:54<00:00,  6.27it/s]\n",
      "                 Class     Images  Instances      Box(P          R      mAP50  mAP50-95): 100%|██████████| 43/43 [00:05<00:00,  8.16it/s]"
     ]
    },
    {
     "name": "stdout",
     "output_type": "stream",
     "text": [
      "                   all        341        864      0.969      0.938      0.989      0.707\n"
     ]
    },
    {
     "name": "stderr",
     "output_type": "stream",
     "text": [
      "\n"
     ]
    },
    {
     "name": "stdout",
     "output_type": "stream",
     "text": [
      "\n",
      "      Epoch    GPU_mem   box_loss   cls_loss   dfl_loss  Instances       Size\n"
     ]
    },
    {
     "name": "stderr",
     "output_type": "stream",
     "text": [
      "     10/200      4.38G      1.111     0.5978      1.347         15        640: 100%|██████████| 341/341 [00:54<00:00,  6.25it/s]\n",
      "                 Class     Images  Instances      Box(P          R      mAP50  mAP50-95): 100%|██████████| 43/43 [00:05<00:00,  8.19it/s]"
     ]
    },
    {
     "name": "stdout",
     "output_type": "stream",
     "text": [
      "                   all        341        864      0.944      0.959      0.985      0.696\n"
     ]
    },
    {
     "name": "stderr",
     "output_type": "stream",
     "text": [
      "\n"
     ]
    },
    {
     "name": "stdout",
     "output_type": "stream",
     "text": [
      "\n",
      "      Epoch    GPU_mem   box_loss   cls_loss   dfl_loss  Instances       Size\n"
     ]
    },
    {
     "name": "stderr",
     "output_type": "stream",
     "text": [
      "     11/200      4.39G      1.087      0.582      1.345          4        640: 100%|██████████| 341/341 [00:54<00:00,  6.27it/s]\n",
      "                 Class     Images  Instances      Box(P          R      mAP50  mAP50-95): 100%|██████████| 43/43 [00:05<00:00,  8.19it/s]"
     ]
    },
    {
     "name": "stdout",
     "output_type": "stream",
     "text": [
      "                   all        341        864      0.968      0.965      0.989      0.701\n"
     ]
    },
    {
     "name": "stderr",
     "output_type": "stream",
     "text": [
      "\n"
     ]
    },
    {
     "name": "stdout",
     "output_type": "stream",
     "text": [
      "\n",
      "      Epoch    GPU_mem   box_loss   cls_loss   dfl_loss  Instances       Size\n"
     ]
    },
    {
     "name": "stderr",
     "output_type": "stream",
     "text": [
      "     12/200      4.38G      1.097     0.5741      1.337          9        640: 100%|██████████| 341/341 [00:53<00:00,  6.35it/s]\n",
      "                 Class     Images  Instances      Box(P          R      mAP50  mAP50-95): 100%|██████████| 43/43 [00:05<00:00,  8.51it/s]\n"
     ]
    },
    {
     "name": "stdout",
     "output_type": "stream",
     "text": [
      "                   all        341        864      0.961      0.969       0.99      0.698\n",
      "\n",
      "      Epoch    GPU_mem   box_loss   cls_loss   dfl_loss  Instances       Size\n"
     ]
    },
    {
     "name": "stderr",
     "output_type": "stream",
     "text": [
      "     13/200      4.38G      1.073     0.5443      1.324         12        640: 100%|██████████| 341/341 [00:52<00:00,  6.55it/s]\n",
      "                 Class     Images  Instances      Box(P          R      mAP50  mAP50-95): 100%|██████████| 43/43 [00:05<00:00,  8.52it/s]"
     ]
    },
    {
     "name": "stdout",
     "output_type": "stream",
     "text": [
      "                   all        341        864      0.964       0.97      0.991      0.709\n"
     ]
    },
    {
     "name": "stderr",
     "output_type": "stream",
     "text": [
      "\n"
     ]
    },
    {
     "name": "stdout",
     "output_type": "stream",
     "text": [
      "\n",
      "      Epoch    GPU_mem   box_loss   cls_loss   dfl_loss  Instances       Size\n"
     ]
    },
    {
     "name": "stderr",
     "output_type": "stream",
     "text": [
      "     14/200      4.38G       1.07     0.5562      1.326          3        640: 100%|██████████| 341/341 [00:52<00:00,  6.52it/s]\n",
      "                 Class     Images  Instances      Box(P          R      mAP50  mAP50-95): 100%|██████████| 43/43 [00:05<00:00,  8.52it/s]"
     ]
    },
    {
     "name": "stdout",
     "output_type": "stream",
     "text": [
      "                   all        341        864      0.977      0.983      0.992      0.713\n"
     ]
    },
    {
     "name": "stderr",
     "output_type": "stream",
     "text": [
      "\n"
     ]
    },
    {
     "name": "stdout",
     "output_type": "stream",
     "text": [
      "\n",
      "      Epoch    GPU_mem   box_loss   cls_loss   dfl_loss  Instances       Size\n"
     ]
    },
    {
     "name": "stderr",
     "output_type": "stream",
     "text": [
      "     15/200      4.39G       1.08     0.5543      1.336          8        640: 100%|██████████| 341/341 [00:53<00:00,  6.32it/s]\n",
      "                 Class     Images  Instances      Box(P          R      mAP50  mAP50-95): 100%|██████████| 43/43 [00:05<00:00,  8.15it/s]"
     ]
    },
    {
     "name": "stdout",
     "output_type": "stream",
     "text": [
      "                   all        341        864      0.965      0.944      0.988      0.721\n"
     ]
    },
    {
     "name": "stderr",
     "output_type": "stream",
     "text": [
      "\n"
     ]
    },
    {
     "name": "stdout",
     "output_type": "stream",
     "text": [
      "\n",
      "      Epoch    GPU_mem   box_loss   cls_loss   dfl_loss  Instances       Size\n"
     ]
    },
    {
     "name": "stderr",
     "output_type": "stream",
     "text": [
      "     16/200      4.39G      1.053     0.5281      1.311         14        640: 100%|██████████| 341/341 [00:54<00:00,  6.25it/s]\n",
      "                 Class     Images  Instances      Box(P          R      mAP50  mAP50-95): 100%|██████████| 43/43 [00:05<00:00,  8.04it/s]"
     ]
    },
    {
     "name": "stdout",
     "output_type": "stream",
     "text": [
      "                   all        341        864      0.983      0.952      0.989      0.721\n"
     ]
    },
    {
     "name": "stderr",
     "output_type": "stream",
     "text": [
      "\n"
     ]
    },
    {
     "name": "stdout",
     "output_type": "stream",
     "text": [
      "\n",
      "      Epoch    GPU_mem   box_loss   cls_loss   dfl_loss  Instances       Size\n"
     ]
    },
    {
     "name": "stderr",
     "output_type": "stream",
     "text": [
      "     17/200      4.39G      1.045     0.5321      1.303         10        640: 100%|██████████| 341/341 [00:54<00:00,  6.25it/s]\n",
      "                 Class     Images  Instances      Box(P          R      mAP50  mAP50-95): 100%|██████████| 43/43 [00:05<00:00,  8.21it/s]"
     ]
    },
    {
     "name": "stdout",
     "output_type": "stream",
     "text": [
      "                   all        341        864      0.959      0.975      0.988      0.661\n"
     ]
    },
    {
     "name": "stderr",
     "output_type": "stream",
     "text": [
      "\n"
     ]
    },
    {
     "name": "stdout",
     "output_type": "stream",
     "text": [
      "\n",
      "      Epoch    GPU_mem   box_loss   cls_loss   dfl_loss  Instances       Size\n"
     ]
    },
    {
     "name": "stderr",
     "output_type": "stream",
     "text": [
      "     18/200       4.4G      1.044     0.5217      1.319          8        640: 100%|██████████| 341/341 [00:54<00:00,  6.21it/s]\n",
      "                 Class     Images  Instances      Box(P          R      mAP50  mAP50-95): 100%|██████████| 43/43 [00:05<00:00,  8.18it/s]"
     ]
    },
    {
     "name": "stdout",
     "output_type": "stream",
     "text": [
      "                   all        341        864      0.971      0.977      0.992      0.736\n"
     ]
    },
    {
     "name": "stderr",
     "output_type": "stream",
     "text": [
      "\n"
     ]
    },
    {
     "name": "stdout",
     "output_type": "stream",
     "text": [
      "\n",
      "      Epoch    GPU_mem   box_loss   cls_loss   dfl_loss  Instances       Size\n"
     ]
    },
    {
     "name": "stderr",
     "output_type": "stream",
     "text": [
      "     19/200       4.4G      1.046     0.5237      1.315         14        640: 100%|██████████| 341/341 [00:54<00:00,  6.23it/s]\n",
      "                 Class     Images  Instances      Box(P          R      mAP50  mAP50-95): 100%|██████████| 43/43 [00:05<00:00,  8.11it/s]"
     ]
    },
    {
     "name": "stdout",
     "output_type": "stream",
     "text": [
      "                   all        341        864      0.977      0.974      0.993      0.719\n"
     ]
    },
    {
     "name": "stderr",
     "output_type": "stream",
     "text": [
      "\n"
     ]
    },
    {
     "name": "stdout",
     "output_type": "stream",
     "text": [
      "\n",
      "      Epoch    GPU_mem   box_loss   cls_loss   dfl_loss  Instances       Size\n"
     ]
    },
    {
     "name": "stderr",
     "output_type": "stream",
     "text": [
      "     20/200      4.39G      1.035     0.5046      1.319         11        640: 100%|██████████| 341/341 [00:54<00:00,  6.29it/s]\n",
      "                 Class     Images  Instances      Box(P          R      mAP50  mAP50-95): 100%|██████████| 43/43 [00:05<00:00,  8.06it/s]"
     ]
    },
    {
     "name": "stdout",
     "output_type": "stream",
     "text": [
      "                   all        341        864      0.968      0.936      0.984      0.727\n"
     ]
    },
    {
     "name": "stderr",
     "output_type": "stream",
     "text": [
      "\n"
     ]
    },
    {
     "name": "stdout",
     "output_type": "stream",
     "text": [
      "\n",
      "      Epoch    GPU_mem   box_loss   cls_loss   dfl_loss  Instances       Size\n"
     ]
    },
    {
     "name": "stderr",
     "output_type": "stream",
     "text": [
      "     21/200      4.39G      1.027     0.4975      1.299          3        640: 100%|██████████| 341/341 [00:54<00:00,  6.30it/s]\n",
      "                 Class     Images  Instances      Box(P          R      mAP50  mAP50-95): 100%|██████████| 43/43 [00:04<00:00,  9.51it/s]\n"
     ]
    },
    {
     "name": "stdout",
     "output_type": "stream",
     "text": [
      "                   all        341        864      0.966      0.973      0.992      0.741\n",
      "\n",
      "      Epoch    GPU_mem   box_loss   cls_loss   dfl_loss  Instances       Size\n"
     ]
    },
    {
     "name": "stderr",
     "output_type": "stream",
     "text": [
      "     22/200      4.38G      1.017     0.4953      1.297         10        640: 100%|██████████| 341/341 [00:50<00:00,  6.78it/s]\n",
      "                 Class     Images  Instances      Box(P          R      mAP50  mAP50-95): 100%|██████████| 43/43 [00:04<00:00,  9.85it/s]\n"
     ]
    },
    {
     "name": "stdout",
     "output_type": "stream",
     "text": [
      "                   all        341        864      0.972      0.958      0.985      0.729\n",
      "\n",
      "      Epoch    GPU_mem   box_loss   cls_loss   dfl_loss  Instances       Size\n"
     ]
    },
    {
     "name": "stderr",
     "output_type": "stream",
     "text": [
      "     23/200      4.38G       1.02     0.4908      1.295          6        640: 100%|██████████| 341/341 [00:51<00:00,  6.63it/s]\n",
      "                 Class     Images  Instances      Box(P          R      mAP50  mAP50-95): 100%|██████████| 43/43 [00:05<00:00,  8.54it/s]"
     ]
    },
    {
     "name": "stdout",
     "output_type": "stream",
     "text": [
      "                   all        341        864      0.974      0.981      0.993      0.734\n"
     ]
    },
    {
     "name": "stderr",
     "output_type": "stream",
     "text": [
      "\n"
     ]
    },
    {
     "name": "stdout",
     "output_type": "stream",
     "text": [
      "\n",
      "      Epoch    GPU_mem   box_loss   cls_loss   dfl_loss  Instances       Size\n"
     ]
    },
    {
     "name": "stderr",
     "output_type": "stream",
     "text": [
      "     24/200      4.38G      1.004     0.4804       1.29          8        640: 100%|██████████| 341/341 [00:51<00:00,  6.68it/s]\n",
      "                 Class     Images  Instances      Box(P          R      mAP50  mAP50-95): 100%|██████████| 43/43 [00:04<00:00,  8.69it/s]"
     ]
    },
    {
     "name": "stdout",
     "output_type": "stream",
     "text": [
      "                   all        341        864      0.965      0.976      0.991      0.715\n"
     ]
    },
    {
     "name": "stderr",
     "output_type": "stream",
     "text": [
      "\n"
     ]
    },
    {
     "name": "stdout",
     "output_type": "stream",
     "text": [
      "\n",
      "      Epoch    GPU_mem   box_loss   cls_loss   dfl_loss  Instances       Size\n"
     ]
    },
    {
     "name": "stderr",
     "output_type": "stream",
     "text": [
      "     25/200      4.38G      1.005     0.4768      1.286          9        640: 100%|██████████| 341/341 [00:51<00:00,  6.67it/s]\n",
      "                 Class     Images  Instances      Box(P          R      mAP50  mAP50-95): 100%|██████████| 43/43 [00:04<00:00,  8.75it/s]"
     ]
    },
    {
     "name": "stdout",
     "output_type": "stream",
     "text": [
      "                   all        341        864      0.972      0.979      0.993      0.738\n"
     ]
    },
    {
     "name": "stderr",
     "output_type": "stream",
     "text": [
      "\n"
     ]
    },
    {
     "name": "stdout",
     "output_type": "stream",
     "text": [
      "\n",
      "      Epoch    GPU_mem   box_loss   cls_loss   dfl_loss  Instances       Size\n"
     ]
    },
    {
     "name": "stderr",
     "output_type": "stream",
     "text": [
      "     26/200      4.38G      1.009     0.4824      1.286         13        640: 100%|██████████| 341/341 [00:51<00:00,  6.67it/s]\n",
      "                 Class     Images  Instances      Box(P          R      mAP50  mAP50-95): 100%|██████████| 43/43 [00:04<00:00,  8.68it/s]"
     ]
    },
    {
     "name": "stdout",
     "output_type": "stream",
     "text": [
      "                   all        341        864      0.966       0.98      0.993      0.741\n"
     ]
    },
    {
     "name": "stderr",
     "output_type": "stream",
     "text": [
      "\n"
     ]
    },
    {
     "name": "stdout",
     "output_type": "stream",
     "text": [
      "\n",
      "      Epoch    GPU_mem   box_loss   cls_loss   dfl_loss  Instances       Size\n"
     ]
    },
    {
     "name": "stderr",
     "output_type": "stream",
     "text": [
      "     27/200       4.4G      1.001     0.4807      1.283         14        640: 100%|██████████| 341/341 [00:51<00:00,  6.59it/s]\n",
      "                 Class     Images  Instances      Box(P          R      mAP50  mAP50-95): 100%|██████████| 43/43 [00:05<00:00,  8.53it/s]\n"
     ]
    },
    {
     "name": "stdout",
     "output_type": "stream",
     "text": [
      "                   all        341        864      0.981      0.956      0.992      0.753\n",
      "\n",
      "      Epoch    GPU_mem   box_loss   cls_loss   dfl_loss  Instances       Size\n"
     ]
    },
    {
     "name": "stderr",
     "output_type": "stream",
     "text": [
      "     28/200      4.37G      1.019     0.4804        1.3          8        640: 100%|██████████| 341/341 [00:52<00:00,  6.52it/s]\n",
      "                 Class     Images  Instances      Box(P          R      mAP50  mAP50-95): 100%|██████████| 43/43 [00:05<00:00,  8.40it/s]"
     ]
    },
    {
     "name": "stdout",
     "output_type": "stream",
     "text": [
      "                   all        341        864      0.989      0.959      0.992      0.759\n"
     ]
    },
    {
     "name": "stderr",
     "output_type": "stream",
     "text": [
      "\n"
     ]
    },
    {
     "name": "stdout",
     "output_type": "stream",
     "text": [
      "\n",
      "      Epoch    GPU_mem   box_loss   cls_loss   dfl_loss  Instances       Size\n"
     ]
    },
    {
     "name": "stderr",
     "output_type": "stream",
     "text": [
      "     29/200       4.4G      1.002     0.4646      1.288         15        640: 100%|██████████| 341/341 [00:53<00:00,  6.40it/s]\n",
      "                 Class     Images  Instances      Box(P          R      mAP50  mAP50-95): 100%|██████████| 43/43 [00:05<00:00,  8.34it/s]"
     ]
    },
    {
     "name": "stdout",
     "output_type": "stream",
     "text": [
      "                   all        341        864      0.984      0.948      0.989      0.752\n"
     ]
    },
    {
     "name": "stderr",
     "output_type": "stream",
     "text": [
      "\n"
     ]
    },
    {
     "name": "stdout",
     "output_type": "stream",
     "text": [
      "\n",
      "      Epoch    GPU_mem   box_loss   cls_loss   dfl_loss  Instances       Size\n"
     ]
    },
    {
     "name": "stderr",
     "output_type": "stream",
     "text": [
      "     30/200      4.38G      1.001     0.4715      1.286         13        640: 100%|██████████| 341/341 [00:51<00:00,  6.57it/s]\n",
      "                 Class     Images  Instances      Box(P          R      mAP50  mAP50-95): 100%|██████████| 43/43 [00:04<00:00,  8.69it/s]"
     ]
    },
    {
     "name": "stdout",
     "output_type": "stream",
     "text": [
      "                   all        341        864      0.979      0.977      0.993       0.75\n"
     ]
    },
    {
     "name": "stderr",
     "output_type": "stream",
     "text": [
      "\n"
     ]
    },
    {
     "name": "stdout",
     "output_type": "stream",
     "text": [
      "\n",
      "      Epoch    GPU_mem   box_loss   cls_loss   dfl_loss  Instances       Size\n"
     ]
    },
    {
     "name": "stderr",
     "output_type": "stream",
     "text": [
      "     31/200      4.39G     0.9989     0.4668      1.276          5        640: 100%|██████████| 341/341 [00:52<00:00,  6.53it/s]\n",
      "                 Class     Images  Instances      Box(P          R      mAP50  mAP50-95): 100%|██████████| 43/43 [00:05<00:00,  8.43it/s]"
     ]
    },
    {
     "name": "stdout",
     "output_type": "stream",
     "text": [
      "                   all        341        864      0.967      0.978      0.992      0.722\n"
     ]
    },
    {
     "name": "stderr",
     "output_type": "stream",
     "text": [
      "\n"
     ]
    },
    {
     "name": "stdout",
     "output_type": "stream",
     "text": [
      "\n",
      "      Epoch    GPU_mem   box_loss   cls_loss   dfl_loss  Instances       Size\n"
     ]
    },
    {
     "name": "stderr",
     "output_type": "stream",
     "text": [
      "     32/200      4.39G     0.9664     0.4586      1.259          5        640: 100%|██████████| 341/341 [00:52<00:00,  6.50it/s]\n",
      "                 Class     Images  Instances      Box(P          R      mAP50  mAP50-95): 100%|██████████| 43/43 [00:05<00:00,  8.47it/s]"
     ]
    },
    {
     "name": "stdout",
     "output_type": "stream",
     "text": [
      "                   all        341        864      0.977      0.976      0.992      0.744\n"
     ]
    },
    {
     "name": "stderr",
     "output_type": "stream",
     "text": [
      "\n"
     ]
    },
    {
     "name": "stdout",
     "output_type": "stream",
     "text": [
      "\n",
      "      Epoch    GPU_mem   box_loss   cls_loss   dfl_loss  Instances       Size\n"
     ]
    },
    {
     "name": "stderr",
     "output_type": "stream",
     "text": [
      "     33/200      4.39G     0.9867      0.458      1.266         20        640: 100%|██████████| 341/341 [00:52<00:00,  6.52it/s]\n",
      "                 Class     Images  Instances      Box(P          R      mAP50  mAP50-95): 100%|██████████| 43/43 [00:05<00:00,  8.52it/s]\n"
     ]
    },
    {
     "name": "stdout",
     "output_type": "stream",
     "text": [
      "                   all        341        864      0.985      0.978      0.994      0.754\n",
      "\n",
      "      Epoch    GPU_mem   box_loss   cls_loss   dfl_loss  Instances       Size\n"
     ]
    },
    {
     "name": "stderr",
     "output_type": "stream",
     "text": [
      "     34/200      4.39G     0.9787     0.4555      1.265          8        640: 100%|██████████| 341/341 [00:51<00:00,  6.65it/s]\n",
      "                 Class     Images  Instances      Box(P          R      mAP50  mAP50-95): 100%|██████████| 43/43 [00:04<00:00,  9.45it/s]\n"
     ]
    },
    {
     "name": "stdout",
     "output_type": "stream",
     "text": [
      "                   all        341        864      0.964      0.992      0.994      0.741\n",
      "\n",
      "      Epoch    GPU_mem   box_loss   cls_loss   dfl_loss  Instances       Size\n"
     ]
    },
    {
     "name": "stderr",
     "output_type": "stream",
     "text": [
      "     35/200      4.38G      0.994     0.4584      1.287          8        640: 100%|██████████| 341/341 [00:48<00:00,  7.05it/s]\n",
      "                 Class     Images  Instances      Box(P          R      mAP50  mAP50-95): 100%|██████████| 43/43 [00:04<00:00, 10.00it/s]"
     ]
    },
    {
     "name": "stdout",
     "output_type": "stream",
     "text": [
      "                   all        341        864      0.978      0.981      0.993      0.733\n"
     ]
    },
    {
     "name": "stderr",
     "output_type": "stream",
     "text": [
      "\n"
     ]
    },
    {
     "name": "stdout",
     "output_type": "stream",
     "text": [
      "\n",
      "      Epoch    GPU_mem   box_loss   cls_loss   dfl_loss  Instances       Size\n"
     ]
    },
    {
     "name": "stderr",
     "output_type": "stream",
     "text": [
      "     36/200      4.38G     0.9811     0.4539      1.277          5        640: 100%|██████████| 341/341 [00:50<00:00,  6.73it/s]\n",
      "                 Class     Images  Instances      Box(P          R      mAP50  mAP50-95): 100%|██████████| 43/43 [00:04<00:00,  9.38it/s]"
     ]
    },
    {
     "name": "stdout",
     "output_type": "stream",
     "text": [
      "                   all        341        864      0.975      0.982      0.993      0.746\n"
     ]
    },
    {
     "name": "stderr",
     "output_type": "stream",
     "text": [
      "\n"
     ]
    },
    {
     "name": "stdout",
     "output_type": "stream",
     "text": [
      "\n",
      "      Epoch    GPU_mem   box_loss   cls_loss   dfl_loss  Instances       Size\n"
     ]
    },
    {
     "name": "stderr",
     "output_type": "stream",
     "text": [
      "     37/200      4.37G     0.9831     0.4499      1.266         16        640: 100%|██████████| 341/341 [00:51<00:00,  6.62it/s]\n",
      "                 Class     Images  Instances      Box(P          R      mAP50  mAP50-95): 100%|██████████| 43/43 [00:05<00:00,  8.40it/s]"
     ]
    },
    {
     "name": "stdout",
     "output_type": "stream",
     "text": [
      "                   all        341        864      0.972       0.98      0.993      0.754\n"
     ]
    },
    {
     "name": "stderr",
     "output_type": "stream",
     "text": [
      "\n"
     ]
    },
    {
     "name": "stdout",
     "output_type": "stream",
     "text": [
      "\n",
      "      Epoch    GPU_mem   box_loss   cls_loss   dfl_loss  Instances       Size\n"
     ]
    },
    {
     "name": "stderr",
     "output_type": "stream",
     "text": [
      "     38/200      4.38G     0.9893     0.4634      1.277         18        640: 100%|██████████| 341/341 [00:51<00:00,  6.57it/s]\n",
      "                 Class     Images  Instances      Box(P          R      mAP50  mAP50-95): 100%|██████████| 43/43 [00:05<00:00,  8.57it/s]"
     ]
    },
    {
     "name": "stdout",
     "output_type": "stream",
     "text": [
      "                   all        341        864      0.975      0.987      0.994      0.715\n"
     ]
    },
    {
     "name": "stderr",
     "output_type": "stream",
     "text": [
      "\n"
     ]
    },
    {
     "name": "stdout",
     "output_type": "stream",
     "text": [
      "\n",
      "      Epoch    GPU_mem   box_loss   cls_loss   dfl_loss  Instances       Size\n"
     ]
    },
    {
     "name": "stderr",
     "output_type": "stream",
     "text": [
      "     39/200      4.38G     0.9594     0.4406      1.266          4        640: 100%|██████████| 341/341 [00:52<00:00,  6.50it/s]\n",
      "                 Class     Images  Instances      Box(P          R      mAP50  mAP50-95): 100%|██████████| 43/43 [00:05<00:00,  8.46it/s]\n"
     ]
    },
    {
     "name": "stdout",
     "output_type": "stream",
     "text": [
      "                   all        341        864      0.985      0.958      0.993      0.766\n",
      "\n",
      "      Epoch    GPU_mem   box_loss   cls_loss   dfl_loss  Instances       Size\n"
     ]
    },
    {
     "name": "stderr",
     "output_type": "stream",
     "text": [
      "     40/200      4.38G     0.9724     0.4472      1.267         30        640: 100%|██████████| 341/341 [00:51<00:00,  6.57it/s]\n",
      "                 Class     Images  Instances      Box(P          R      mAP50  mAP50-95): 100%|██████████| 43/43 [00:05<00:00,  8.40it/s]\n"
     ]
    },
    {
     "name": "stdout",
     "output_type": "stream",
     "text": [
      "                   all        341        864      0.967      0.976      0.992      0.756\n",
      "\n",
      "      Epoch    GPU_mem   box_loss   cls_loss   dfl_loss  Instances       Size\n"
     ]
    },
    {
     "name": "stderr",
     "output_type": "stream",
     "text": [
      "     41/200      4.38G     0.9859     0.4579      1.278         11        640: 100%|██████████| 341/341 [00:51<00:00,  6.58it/s]\n",
      "                 Class     Images  Instances      Box(P          R      mAP50  mAP50-95): 100%|██████████| 43/43 [00:04<00:00,  9.38it/s]\n"
     ]
    },
    {
     "name": "stdout",
     "output_type": "stream",
     "text": [
      "                   all        341        864      0.976      0.991      0.993      0.761\n",
      "\n",
      "      Epoch    GPU_mem   box_loss   cls_loss   dfl_loss  Instances       Size\n"
     ]
    },
    {
     "name": "stderr",
     "output_type": "stream",
     "text": [
      "     42/200      4.38G     0.9696     0.4343      1.262          3        640: 100%|██████████| 341/341 [00:50<00:00,  6.70it/s]\n",
      "                 Class     Images  Instances      Box(P          R      mAP50  mAP50-95): 100%|██████████| 43/43 [00:04<00:00,  9.32it/s]"
     ]
    },
    {
     "name": "stdout",
     "output_type": "stream",
     "text": [
      "                   all        341        864      0.975      0.976      0.991      0.758\n"
     ]
    },
    {
     "name": "stderr",
     "output_type": "stream",
     "text": [
      "\n"
     ]
    },
    {
     "name": "stdout",
     "output_type": "stream",
     "text": [
      "\n",
      "      Epoch    GPU_mem   box_loss   cls_loss   dfl_loss  Instances       Size\n"
     ]
    },
    {
     "name": "stderr",
     "output_type": "stream",
     "text": [
      "     43/200       4.4G     0.9694     0.4448      1.286          8        640: 100%|██████████| 341/341 [00:50<00:00,  6.69it/s]\n",
      "                 Class     Images  Instances      Box(P          R      mAP50  mAP50-95): 100%|██████████| 43/43 [00:04<00:00,  9.32it/s]\n"
     ]
    },
    {
     "name": "stdout",
     "output_type": "stream",
     "text": [
      "                   all        341        864      0.982      0.996      0.994      0.754\n",
      "\n",
      "      Epoch    GPU_mem   box_loss   cls_loss   dfl_loss  Instances       Size\n"
     ]
    },
    {
     "name": "stderr",
     "output_type": "stream",
     "text": [
      "     44/200      4.39G     0.9872     0.4544      1.284          3        640: 100%|██████████| 341/341 [00:50<00:00,  6.77it/s]\n",
      "                 Class     Images  Instances      Box(P          R      mAP50  mAP50-95): 100%|██████████| 43/43 [00:04<00:00,  9.41it/s]\n"
     ]
    },
    {
     "name": "stdout",
     "output_type": "stream",
     "text": [
      "                   all        341        864      0.985      0.977      0.994      0.699\n",
      "\n",
      "      Epoch    GPU_mem   box_loss   cls_loss   dfl_loss  Instances       Size\n"
     ]
    },
    {
     "name": "stderr",
     "output_type": "stream",
     "text": [
      "     45/200       4.4G      0.965     0.4337      1.256         23        640: 100%|██████████| 341/341 [00:50<00:00,  6.80it/s]\n",
      "                 Class     Images  Instances      Box(P          R      mAP50  mAP50-95): 100%|██████████| 43/43 [00:04<00:00,  9.52it/s]\n"
     ]
    },
    {
     "name": "stdout",
     "output_type": "stream",
     "text": [
      "                   all        341        864      0.979      0.975      0.993      0.759\n",
      "\n",
      "      Epoch    GPU_mem   box_loss   cls_loss   dfl_loss  Instances       Size\n"
     ]
    },
    {
     "name": "stderr",
     "output_type": "stream",
     "text": [
      "     46/200      4.38G     0.9684     0.4454       1.26          8        640: 100%|██████████| 341/341 [00:50<00:00,  6.78it/s]\n",
      "                 Class     Images  Instances      Box(P          R      mAP50  mAP50-95): 100%|██████████| 43/43 [00:04<00:00,  9.21it/s]"
     ]
    },
    {
     "name": "stdout",
     "output_type": "stream",
     "text": [
      "                   all        341        864      0.991      0.972      0.993      0.754\n"
     ]
    },
    {
     "name": "stderr",
     "output_type": "stream",
     "text": [
      "\n"
     ]
    },
    {
     "name": "stdout",
     "output_type": "stream",
     "text": [
      "\n",
      "      Epoch    GPU_mem   box_loss   cls_loss   dfl_loss  Instances       Size\n"
     ]
    },
    {
     "name": "stderr",
     "output_type": "stream",
     "text": [
      "     47/200      4.38G     0.9956     0.4521      1.271          6        640: 100%|██████████| 341/341 [00:50<00:00,  6.77it/s]\n",
      "                 Class     Images  Instances      Box(P          R      mAP50  mAP50-95): 100%|██████████| 43/43 [00:04<00:00,  9.48it/s]"
     ]
    },
    {
     "name": "stdout",
     "output_type": "stream",
     "text": [
      "                   all        341        864      0.987      0.976      0.993      0.757\n"
     ]
    },
    {
     "name": "stderr",
     "output_type": "stream",
     "text": [
      "\n"
     ]
    },
    {
     "name": "stdout",
     "output_type": "stream",
     "text": [
      "\n",
      "      Epoch    GPU_mem   box_loss   cls_loss   dfl_loss  Instances       Size\n"
     ]
    },
    {
     "name": "stderr",
     "output_type": "stream",
     "text": [
      "     48/200      4.38G     0.9639      0.429      1.266         14        640: 100%|██████████| 341/341 [00:50<00:00,  6.76it/s]\n",
      "                 Class     Images  Instances      Box(P          R      mAP50  mAP50-95): 100%|██████████| 43/43 [00:04<00:00,  9.48it/s]\n"
     ]
    },
    {
     "name": "stdout",
     "output_type": "stream",
     "text": [
      "                   all        341        864      0.985      0.985      0.994      0.755\n",
      "\n",
      "      Epoch    GPU_mem   box_loss   cls_loss   dfl_loss  Instances       Size\n"
     ]
    },
    {
     "name": "stderr",
     "output_type": "stream",
     "text": [
      "     49/200      4.39G     0.9538     0.4327      1.264          4        640: 100%|██████████| 341/341 [00:49<00:00,  6.85it/s]\n",
      "                 Class     Images  Instances      Box(P          R      mAP50  mAP50-95): 100%|██████████| 43/43 [00:04<00:00,  9.34it/s]"
     ]
    },
    {
     "name": "stdout",
     "output_type": "stream",
     "text": [
      "                   all        341        864       0.98      0.977      0.994       0.74\n"
     ]
    },
    {
     "name": "stderr",
     "output_type": "stream",
     "text": [
      "\n"
     ]
    },
    {
     "name": "stdout",
     "output_type": "stream",
     "text": [
      "\n",
      "      Epoch    GPU_mem   box_loss   cls_loss   dfl_loss  Instances       Size\n"
     ]
    },
    {
     "name": "stderr",
     "output_type": "stream",
     "text": [
      "     50/200      4.38G     0.9456     0.4282      1.252          8        640: 100%|██████████| 341/341 [00:50<00:00,  6.73it/s]\n",
      "                 Class     Images  Instances      Box(P          R      mAP50  mAP50-95): 100%|██████████| 43/43 [00:04<00:00,  9.41it/s]\n"
     ]
    },
    {
     "name": "stdout",
     "output_type": "stream",
     "text": [
      "                   all        341        864       0.98      0.981      0.994      0.765\n",
      "\n",
      "      Epoch    GPU_mem   box_loss   cls_loss   dfl_loss  Instances       Size\n"
     ]
    },
    {
     "name": "stderr",
     "output_type": "stream",
     "text": [
      "     51/200      4.38G     0.9565     0.4323      1.263         12        640: 100%|██████████| 341/341 [00:49<00:00,  6.83it/s]\n",
      "                 Class     Images  Instances      Box(P          R      mAP50  mAP50-95): 100%|██████████| 43/43 [00:04<00:00,  9.45it/s]\n"
     ]
    },
    {
     "name": "stdout",
     "output_type": "stream",
     "text": [
      "                   all        341        864      0.984      0.972      0.993      0.747\n",
      "\n",
      "      Epoch    GPU_mem   box_loss   cls_loss   dfl_loss  Instances       Size\n"
     ]
    },
    {
     "name": "stderr",
     "output_type": "stream",
     "text": [
      "     52/200      4.39G     0.9569     0.4349      1.265          8        640: 100%|██████████| 341/341 [00:49<00:00,  6.84it/s]\n",
      "                 Class     Images  Instances      Box(P          R      mAP50  mAP50-95): 100%|██████████| 43/43 [00:04<00:00,  9.52it/s]"
     ]
    },
    {
     "name": "stdout",
     "output_type": "stream",
     "text": [
      "                   all        341        864      0.968      0.974      0.992      0.757\n"
     ]
    },
    {
     "name": "stderr",
     "output_type": "stream",
     "text": [
      "\n"
     ]
    },
    {
     "name": "stdout",
     "output_type": "stream",
     "text": [
      "\n",
      "      Epoch    GPU_mem   box_loss   cls_loss   dfl_loss  Instances       Size\n"
     ]
    },
    {
     "name": "stderr",
     "output_type": "stream",
     "text": [
      "     53/200      4.39G     0.9491     0.4222      1.257         34        640: 100%|██████████| 341/341 [00:49<00:00,  6.83it/s]\n",
      "                 Class     Images  Instances      Box(P          R      mAP50  mAP50-95): 100%|██████████| 43/43 [00:04<00:00,  9.42it/s]\n"
     ]
    },
    {
     "name": "stdout",
     "output_type": "stream",
     "text": [
      "                   all        341        864      0.981      0.964      0.988      0.733\n",
      "\n",
      "      Epoch    GPU_mem   box_loss   cls_loss   dfl_loss  Instances       Size\n"
     ]
    },
    {
     "name": "stderr",
     "output_type": "stream",
     "text": [
      "     54/200      4.39G     0.9524     0.4251      1.255          5        640: 100%|██████████| 341/341 [00:50<00:00,  6.81it/s]\n",
      "                 Class     Images  Instances      Box(P          R      mAP50  mAP50-95): 100%|██████████| 43/43 [00:04<00:00,  9.45it/s]\n"
     ]
    },
    {
     "name": "stdout",
     "output_type": "stream",
     "text": [
      "                   all        341        864      0.979      0.982      0.993      0.737\n",
      "\n",
      "      Epoch    GPU_mem   box_loss   cls_loss   dfl_loss  Instances       Size\n"
     ]
    },
    {
     "name": "stderr",
     "output_type": "stream",
     "text": [
      "     55/200      4.38G     0.9472     0.4144      1.256         20        640: 100%|██████████| 341/341 [00:50<00:00,  6.80it/s]\n",
      "                 Class     Images  Instances      Box(P          R      mAP50  mAP50-95): 100%|██████████| 43/43 [00:04<00:00,  9.52it/s]\n"
     ]
    },
    {
     "name": "stdout",
     "output_type": "stream",
     "text": [
      "                   all        341        864      0.966      0.978      0.992      0.757\n",
      "\n",
      "      Epoch    GPU_mem   box_loss   cls_loss   dfl_loss  Instances       Size\n"
     ]
    },
    {
     "name": "stderr",
     "output_type": "stream",
     "text": [
      "     56/200      4.38G     0.9618     0.4362      1.272         10        640: 100%|██████████| 341/341 [00:50<00:00,  6.82it/s]\n",
      "                 Class     Images  Instances      Box(P          R      mAP50  mAP50-95): 100%|██████████| 43/43 [00:04<00:00,  9.45it/s]"
     ]
    },
    {
     "name": "stdout",
     "output_type": "stream",
     "text": [
      "                   all        341        864      0.978      0.979      0.993      0.747\n"
     ]
    },
    {
     "name": "stderr",
     "output_type": "stream",
     "text": [
      "\n"
     ]
    },
    {
     "name": "stdout",
     "output_type": "stream",
     "text": [
      "\n",
      "      Epoch    GPU_mem   box_loss   cls_loss   dfl_loss  Instances       Size\n"
     ]
    },
    {
     "name": "stderr",
     "output_type": "stream",
     "text": [
      "     57/200      4.38G     0.9492     0.4225       1.27         11        640: 100%|██████████| 341/341 [00:50<00:00,  6.80it/s]\n",
      "                 Class     Images  Instances      Box(P          R      mAP50  mAP50-95): 100%|██████████| 43/43 [00:04<00:00,  9.12it/s]"
     ]
    },
    {
     "name": "stdout",
     "output_type": "stream",
     "text": [
      "                   all        341        864      0.985      0.982      0.994      0.751\n"
     ]
    },
    {
     "name": "stderr",
     "output_type": "stream",
     "text": [
      "\n"
     ]
    },
    {
     "name": "stdout",
     "output_type": "stream",
     "text": [
      "\n",
      "      Epoch    GPU_mem   box_loss   cls_loss   dfl_loss  Instances       Size\n"
     ]
    },
    {
     "name": "stderr",
     "output_type": "stream",
     "text": [
      "     58/200      4.38G     0.9495     0.4232      1.271          5        640: 100%|██████████| 341/341 [00:50<00:00,  6.78it/s]\n",
      "                 Class     Images  Instances      Box(P          R      mAP50  mAP50-95): 100%|██████████| 43/43 [00:04<00:00,  9.35it/s]"
     ]
    },
    {
     "name": "stdout",
     "output_type": "stream",
     "text": [
      "                   all        341        864      0.977      0.978       0.99      0.726\n"
     ]
    },
    {
     "name": "stderr",
     "output_type": "stream",
     "text": [
      "\n"
     ]
    },
    {
     "name": "stdout",
     "output_type": "stream",
     "text": [
      "\n",
      "      Epoch    GPU_mem   box_loss   cls_loss   dfl_loss  Instances       Size\n"
     ]
    },
    {
     "name": "stderr",
     "output_type": "stream",
     "text": [
      "     59/200      4.39G     0.9358     0.4171      1.246          6        640: 100%|██████████| 341/341 [00:50<00:00,  6.80it/s]\n",
      "                 Class     Images  Instances      Box(P          R      mAP50  mAP50-95): 100%|██████████| 43/43 [00:04<00:00,  9.42it/s]"
     ]
    },
    {
     "name": "stdout",
     "output_type": "stream",
     "text": [
      "                   all        341        864      0.985      0.984      0.993       0.76\n"
     ]
    },
    {
     "name": "stderr",
     "output_type": "stream",
     "text": [
      "\n"
     ]
    },
    {
     "name": "stdout",
     "output_type": "stream",
     "text": [
      "\n",
      "      Epoch    GPU_mem   box_loss   cls_loss   dfl_loss  Instances       Size\n"
     ]
    },
    {
     "name": "stderr",
     "output_type": "stream",
     "text": [
      "     60/200      4.39G     0.9451      0.418      1.262          8        640: 100%|██████████| 341/341 [00:49<00:00,  6.84it/s]\n",
      "                 Class     Images  Instances      Box(P          R      mAP50  mAP50-95): 100%|██████████| 43/43 [00:04<00:00,  9.42it/s]"
     ]
    },
    {
     "name": "stdout",
     "output_type": "stream",
     "text": [
      "                   all        341        864      0.976      0.983      0.993      0.767\n"
     ]
    },
    {
     "name": "stderr",
     "output_type": "stream",
     "text": [
      "\n"
     ]
    },
    {
     "name": "stdout",
     "output_type": "stream",
     "text": [
      "\n",
      "      Epoch    GPU_mem   box_loss   cls_loss   dfl_loss  Instances       Size\n"
     ]
    },
    {
     "name": "stderr",
     "output_type": "stream",
     "text": [
      "     61/200      4.39G     0.9533     0.4258      1.255          6        640: 100%|██████████| 341/341 [00:49<00:00,  6.83it/s]\n",
      "                 Class     Images  Instances      Box(P          R      mAP50  mAP50-95): 100%|██████████| 43/43 [00:04<00:00,  9.17it/s]\n"
     ]
    },
    {
     "name": "stdout",
     "output_type": "stream",
     "text": [
      "                   all        341        864      0.975      0.985      0.994      0.718\n",
      "\n",
      "      Epoch    GPU_mem   box_loss   cls_loss   dfl_loss  Instances       Size\n"
     ]
    },
    {
     "name": "stderr",
     "output_type": "stream",
     "text": [
      "     62/200      4.38G     0.9324     0.4103      1.264         14        640: 100%|██████████| 341/341 [00:50<00:00,  6.70it/s]\n",
      "                 Class     Images  Instances      Box(P          R      mAP50  mAP50-95): 100%|██████████| 43/43 [00:04<00:00,  9.40it/s]\n"
     ]
    },
    {
     "name": "stdout",
     "output_type": "stream",
     "text": [
      "                   all        341        864       0.98       0.98      0.994      0.766\n",
      "\n",
      "      Epoch    GPU_mem   box_loss   cls_loss   dfl_loss  Instances       Size\n"
     ]
    },
    {
     "name": "stderr",
     "output_type": "stream",
     "text": [
      "     63/200      4.37G     0.9362     0.4169      1.263          4        640: 100%|██████████| 341/341 [00:50<00:00,  6.75it/s]\n",
      "                 Class     Images  Instances      Box(P          R      mAP50  mAP50-95): 100%|██████████| 43/43 [00:04<00:00,  9.38it/s]"
     ]
    },
    {
     "name": "stdout",
     "output_type": "stream",
     "text": [
      "                   all        341        864      0.975      0.968      0.991      0.771\n"
     ]
    },
    {
     "name": "stderr",
     "output_type": "stream",
     "text": [
      "\n"
     ]
    },
    {
     "name": "stdout",
     "output_type": "stream",
     "text": [
      "\n",
      "      Epoch    GPU_mem   box_loss   cls_loss   dfl_loss  Instances       Size\n"
     ]
    },
    {
     "name": "stderr",
     "output_type": "stream",
     "text": [
      "     64/200      4.38G     0.9183     0.4103      1.237         13        640: 100%|██████████| 341/341 [00:50<00:00,  6.73it/s]\n",
      "                 Class     Images  Instances      Box(P          R      mAP50  mAP50-95): 100%|██████████| 43/43 [00:05<00:00,  8.39it/s]"
     ]
    },
    {
     "name": "stdout",
     "output_type": "stream",
     "text": [
      "                   all        341        864      0.974      0.973      0.992      0.767\n"
     ]
    },
    {
     "name": "stderr",
     "output_type": "stream",
     "text": [
      "\n"
     ]
    },
    {
     "name": "stdout",
     "output_type": "stream",
     "text": [
      "\n",
      "      Epoch    GPU_mem   box_loss   cls_loss   dfl_loss  Instances       Size\n"
     ]
    },
    {
     "name": "stderr",
     "output_type": "stream",
     "text": [
      "     65/200      4.39G     0.9227     0.4118       1.24          2        640: 100%|██████████| 341/341 [00:52<00:00,  6.50it/s]\n",
      "                 Class     Images  Instances      Box(P          R      mAP50  mAP50-95): 100%|██████████| 43/43 [00:05<00:00,  8.51it/s]"
     ]
    },
    {
     "name": "stdout",
     "output_type": "stream",
     "text": [
      "                   all        341        864      0.971      0.978      0.993      0.772\n"
     ]
    },
    {
     "name": "stderr",
     "output_type": "stream",
     "text": [
      "\n"
     ]
    },
    {
     "name": "stdout",
     "output_type": "stream",
     "text": [
      "\n",
      "      Epoch    GPU_mem   box_loss   cls_loss   dfl_loss  Instances       Size\n"
     ]
    },
    {
     "name": "stderr",
     "output_type": "stream",
     "text": [
      "     66/200       4.4G     0.9294     0.4023      1.251          9        640: 100%|██████████| 341/341 [00:51<00:00,  6.57it/s]\n",
      "                 Class     Images  Instances      Box(P          R      mAP50  mAP50-95): 100%|██████████| 43/43 [00:04<00:00,  8.72it/s]"
     ]
    },
    {
     "name": "stdout",
     "output_type": "stream",
     "text": [
      "                   all        341        864      0.981      0.977      0.993      0.764\n"
     ]
    },
    {
     "name": "stderr",
     "output_type": "stream",
     "text": [
      "\n"
     ]
    },
    {
     "name": "stdout",
     "output_type": "stream",
     "text": [
      "\n",
      "      Epoch    GPU_mem   box_loss   cls_loss   dfl_loss  Instances       Size\n"
     ]
    },
    {
     "name": "stderr",
     "output_type": "stream",
     "text": [
      "     67/200       4.4G     0.9452     0.4138      1.244         12        640: 100%|██████████| 341/341 [00:53<00:00,  6.42it/s]\n",
      "                 Class     Images  Instances      Box(P          R      mAP50  mAP50-95): 100%|██████████| 43/43 [00:05<00:00,  8.43it/s]"
     ]
    },
    {
     "name": "stdout",
     "output_type": "stream",
     "text": [
      "                   all        341        864      0.974      0.981      0.994      0.756\n"
     ]
    },
    {
     "name": "stderr",
     "output_type": "stream",
     "text": [
      "\n"
     ]
    },
    {
     "name": "stdout",
     "output_type": "stream",
     "text": [
      "\n",
      "      Epoch    GPU_mem   box_loss   cls_loss   dfl_loss  Instances       Size\n"
     ]
    },
    {
     "name": "stderr",
     "output_type": "stream",
     "text": [
      "     68/200      4.38G     0.9254     0.4009      1.243         19        640: 100%|██████████| 341/341 [00:52<00:00,  6.49it/s]\n",
      "                 Class     Images  Instances      Box(P          R      mAP50  mAP50-95): 100%|██████████| 43/43 [00:05<00:00,  8.43it/s]"
     ]
    },
    {
     "name": "stdout",
     "output_type": "stream",
     "text": [
      "                   all        341        864      0.982      0.985      0.994       0.77\n"
     ]
    },
    {
     "name": "stderr",
     "output_type": "stream",
     "text": [
      "\n"
     ]
    },
    {
     "name": "stdout",
     "output_type": "stream",
     "text": [
      "\n",
      "      Epoch    GPU_mem   box_loss   cls_loss   dfl_loss  Instances       Size\n"
     ]
    },
    {
     "name": "stderr",
     "output_type": "stream",
     "text": [
      "     69/200      4.38G     0.9202     0.4003      1.258         10        640: 100%|██████████| 341/341 [00:52<00:00,  6.47it/s]\n",
      "                 Class     Images  Instances      Box(P          R      mAP50  mAP50-95): 100%|██████████| 43/43 [00:05<00:00,  8.35it/s]"
     ]
    },
    {
     "name": "stdout",
     "output_type": "stream",
     "text": [
      "                   all        341        864      0.989      0.954      0.992      0.762\n"
     ]
    },
    {
     "name": "stderr",
     "output_type": "stream",
     "text": [
      "\n"
     ]
    },
    {
     "name": "stdout",
     "output_type": "stream",
     "text": [
      "\n",
      "      Epoch    GPU_mem   box_loss   cls_loss   dfl_loss  Instances       Size\n"
     ]
    },
    {
     "name": "stderr",
     "output_type": "stream",
     "text": [
      "     70/200      4.38G     0.9266     0.4013      1.248          8        640: 100%|██████████| 341/341 [00:51<00:00,  6.63it/s]\n",
      "                 Class     Images  Instances      Box(P          R      mAP50  mAP50-95): 100%|██████████| 43/43 [00:04<00:00,  8.72it/s]\n"
     ]
    },
    {
     "name": "stdout",
     "output_type": "stream",
     "text": [
      "                   all        341        864      0.974      0.988      0.994      0.768\n",
      "\n",
      "      Epoch    GPU_mem   box_loss   cls_loss   dfl_loss  Instances       Size\n"
     ]
    },
    {
     "name": "stderr",
     "output_type": "stream",
     "text": [
      "     71/200      4.39G     0.9373     0.4043      1.255          6        640: 100%|██████████| 341/341 [00:51<00:00,  6.65it/s]\n",
      "                 Class     Images  Instances      Box(P          R      mAP50  mAP50-95): 100%|██████████| 43/43 [00:04<00:00,  8.63it/s]"
     ]
    },
    {
     "name": "stdout",
     "output_type": "stream",
     "text": [
      "                   all        341        864      0.971      0.991      0.994      0.755\n"
     ]
    },
    {
     "name": "stderr",
     "output_type": "stream",
     "text": [
      "\n"
     ]
    },
    {
     "name": "stdout",
     "output_type": "stream",
     "text": [
      "\n",
      "      Epoch    GPU_mem   box_loss   cls_loss   dfl_loss  Instances       Size\n"
     ]
    },
    {
     "name": "stderr",
     "output_type": "stream",
     "text": [
      "     72/200      4.39G     0.9361     0.4017      1.236          7        640: 100%|██████████| 341/341 [00:51<00:00,  6.59it/s]\n",
      "                 Class     Images  Instances      Box(P          R      mAP50  mAP50-95): 100%|██████████| 43/43 [00:04<00:00,  8.72it/s]"
     ]
    },
    {
     "name": "stdout",
     "output_type": "stream",
     "text": [
      "                   all        341        864      0.987      0.981      0.994       0.77\n"
     ]
    },
    {
     "name": "stderr",
     "output_type": "stream",
     "text": [
      "\n"
     ]
    },
    {
     "name": "stdout",
     "output_type": "stream",
     "text": [
      "\n",
      "      Epoch    GPU_mem   box_loss   cls_loss   dfl_loss  Instances       Size\n"
     ]
    },
    {
     "name": "stderr",
     "output_type": "stream",
     "text": [
      "     73/200      4.39G     0.9201     0.4087      1.243          5        640: 100%|██████████| 341/341 [00:51<00:00,  6.57it/s]\n",
      "                 Class     Images  Instances      Box(P          R      mAP50  mAP50-95): 100%|██████████| 43/43 [00:05<00:00,  8.49it/s]"
     ]
    },
    {
     "name": "stdout",
     "output_type": "stream",
     "text": [
      "                   all        341        864      0.973      0.986      0.993       0.77\n"
     ]
    },
    {
     "name": "stderr",
     "output_type": "stream",
     "text": [
      "\n"
     ]
    },
    {
     "name": "stdout",
     "output_type": "stream",
     "text": [
      "\n",
      "      Epoch    GPU_mem   box_loss   cls_loss   dfl_loss  Instances       Size\n"
     ]
    },
    {
     "name": "stderr",
     "output_type": "stream",
     "text": [
      "     74/200      4.38G     0.9037     0.3918       1.23         16        640: 100%|██████████| 341/341 [00:51<00:00,  6.67it/s]\n",
      "                 Class     Images  Instances      Box(P          R      mAP50  mAP50-95): 100%|██████████| 43/43 [00:04<00:00,  8.72it/s]"
     ]
    },
    {
     "name": "stdout",
     "output_type": "stream",
     "text": [
      "                   all        341        864       0.98      0.986      0.994      0.764\n"
     ]
    },
    {
     "name": "stderr",
     "output_type": "stream",
     "text": [
      "\n"
     ]
    },
    {
     "name": "stdout",
     "output_type": "stream",
     "text": [
      "\n",
      "      Epoch    GPU_mem   box_loss   cls_loss   dfl_loss  Instances       Size\n"
     ]
    },
    {
     "name": "stderr",
     "output_type": "stream",
     "text": [
      "     75/200      4.37G     0.9243     0.4057      1.254         10        640: 100%|██████████| 341/341 [00:50<00:00,  6.69it/s]\n",
      "                 Class     Images  Instances      Box(P          R      mAP50  mAP50-95): 100%|██████████| 43/43 [00:04<00:00,  8.69it/s]\n"
     ]
    },
    {
     "name": "stdout",
     "output_type": "stream",
     "text": [
      "                   all        341        864      0.991      0.975      0.994      0.751\n",
      "\n",
      "      Epoch    GPU_mem   box_loss   cls_loss   dfl_loss  Instances       Size\n"
     ]
    },
    {
     "name": "stderr",
     "output_type": "stream",
     "text": [
      "     76/200      4.38G     0.9228     0.4056      1.245         12        640: 100%|██████████| 341/341 [00:51<00:00,  6.67it/s]\n",
      "                 Class     Images  Instances      Box(P          R      mAP50  mAP50-95): 100%|██████████| 43/43 [00:04<00:00,  8.72it/s]\n"
     ]
    },
    {
     "name": "stdout",
     "output_type": "stream",
     "text": [
      "                   all        341        864       0.99      0.985      0.994      0.773\n",
      "\n",
      "      Epoch    GPU_mem   box_loss   cls_loss   dfl_loss  Instances       Size\n"
     ]
    },
    {
     "name": "stderr",
     "output_type": "stream",
     "text": [
      "     77/200      4.39G     0.9154     0.3982      1.256         17        640: 100%|██████████| 341/341 [00:51<00:00,  6.64it/s]\n",
      "                 Class     Images  Instances      Box(P          R      mAP50  mAP50-95): 100%|██████████| 43/43 [00:04<00:00,  9.17it/s]\n"
     ]
    },
    {
     "name": "stdout",
     "output_type": "stream",
     "text": [
      "                   all        341        864       0.99      0.987      0.994      0.768\n",
      "\n",
      "      Epoch    GPU_mem   box_loss   cls_loss   dfl_loss  Instances       Size\n"
     ]
    },
    {
     "name": "stderr",
     "output_type": "stream",
     "text": [
      "     78/200      4.38G     0.9199     0.3996      1.241         15        640: 100%|██████████| 341/341 [00:50<00:00,  6.70it/s]\n",
      "                 Class     Images  Instances      Box(P          R      mAP50  mAP50-95): 100%|██████████| 43/43 [00:04<00:00,  9.35it/s]"
     ]
    },
    {
     "name": "stdout",
     "output_type": "stream",
     "text": [
      "                   all        341        864      0.983      0.986      0.994       0.77\n"
     ]
    },
    {
     "name": "stderr",
     "output_type": "stream",
     "text": [
      "\n"
     ]
    },
    {
     "name": "stdout",
     "output_type": "stream",
     "text": [
      "\n",
      "      Epoch    GPU_mem   box_loss   cls_loss   dfl_loss  Instances       Size\n"
     ]
    },
    {
     "name": "stderr",
     "output_type": "stream",
     "text": [
      "     79/200      4.38G     0.9236     0.4049      1.256          5        640: 100%|██████████| 341/341 [00:50<00:00,  6.70it/s]\n",
      "                 Class     Images  Instances      Box(P          R      mAP50  mAP50-95): 100%|██████████| 43/43 [00:04<00:00,  9.38it/s]\n"
     ]
    },
    {
     "name": "stdout",
     "output_type": "stream",
     "text": [
      "                   all        341        864      0.978      0.982      0.993      0.759\n",
      "\n",
      "      Epoch    GPU_mem   box_loss   cls_loss   dfl_loss  Instances       Size\n"
     ]
    },
    {
     "name": "stderr",
     "output_type": "stream",
     "text": [
      "     80/200       4.4G     0.9103     0.3958      1.232          5        640: 100%|██████████| 341/341 [00:50<00:00,  6.71it/s]\n",
      "                 Class     Images  Instances      Box(P          R      mAP50  mAP50-95): 100%|██████████| 43/43 [00:04<00:00,  9.37it/s]\n"
     ]
    },
    {
     "name": "stdout",
     "output_type": "stream",
     "text": [
      "                   all        341        864      0.978      0.984      0.993       0.76\n",
      "\n",
      "      Epoch    GPU_mem   box_loss   cls_loss   dfl_loss  Instances       Size\n"
     ]
    },
    {
     "name": "stderr",
     "output_type": "stream",
     "text": [
      "     81/200      4.39G     0.9162     0.3962      1.243         24        640: 100%|██████████| 341/341 [00:50<00:00,  6.71it/s]\n",
      "                 Class     Images  Instances      Box(P          R      mAP50  mAP50-95): 100%|██████████| 43/43 [00:04<00:00,  9.38it/s]\n"
     ]
    },
    {
     "name": "stdout",
     "output_type": "stream",
     "text": [
      "                   all        341        864      0.983       0.98      0.994       0.77\n",
      "\n",
      "      Epoch    GPU_mem   box_loss   cls_loss   dfl_loss  Instances       Size\n"
     ]
    },
    {
     "name": "stderr",
     "output_type": "stream",
     "text": [
      "     82/200      4.38G     0.8985     0.3886      1.236         25        640: 100%|██████████| 341/341 [00:51<00:00,  6.66it/s]\n",
      "                 Class     Images  Instances      Box(P          R      mAP50  mAP50-95): 100%|██████████| 43/43 [00:04<00:00,  9.50it/s]"
     ]
    },
    {
     "name": "stdout",
     "output_type": "stream",
     "text": [
      "                   all        341        864       0.97      0.984      0.993      0.763\n"
     ]
    },
    {
     "name": "stderr",
     "output_type": "stream",
     "text": [
      "\n"
     ]
    },
    {
     "name": "stdout",
     "output_type": "stream",
     "text": [
      "\n",
      "      Epoch    GPU_mem   box_loss   cls_loss   dfl_loss  Instances       Size\n"
     ]
    },
    {
     "name": "stderr",
     "output_type": "stream",
     "text": [
      "     83/200       4.4G     0.9052     0.3866      1.227          6        640: 100%|██████████| 341/341 [00:50<00:00,  6.80it/s]\n",
      "                 Class     Images  Instances      Box(P          R      mAP50  mAP50-95): 100%|██████████| 43/43 [00:04<00:00,  9.52it/s]\n"
     ]
    },
    {
     "name": "stdout",
     "output_type": "stream",
     "text": [
      "                   all        341        864      0.983      0.991      0.994       0.77\n",
      "\n",
      "      Epoch    GPU_mem   box_loss   cls_loss   dfl_loss  Instances       Size\n"
     ]
    },
    {
     "name": "stderr",
     "output_type": "stream",
     "text": [
      "     84/200       4.4G      0.918     0.3864      1.238         15        640: 100%|██████████| 341/341 [00:50<00:00,  6.80it/s]\n",
      "                 Class     Images  Instances      Box(P          R      mAP50  mAP50-95): 100%|██████████| 43/43 [00:04<00:00,  9.49it/s]\n"
     ]
    },
    {
     "name": "stdout",
     "output_type": "stream",
     "text": [
      "                   all        341        864       0.98      0.979      0.992      0.767\n",
      "\n",
      "      Epoch    GPU_mem   box_loss   cls_loss   dfl_loss  Instances       Size\n"
     ]
    },
    {
     "name": "stderr",
     "output_type": "stream",
     "text": [
      "     85/200      4.38G     0.9057     0.3821      1.237          3        640: 100%|██████████| 341/341 [00:50<00:00,  6.81it/s]\n",
      "                 Class     Images  Instances      Box(P          R      mAP50  mAP50-95): 100%|██████████| 43/43 [00:04<00:00,  9.48it/s]"
     ]
    },
    {
     "name": "stdout",
     "output_type": "stream",
     "text": [
      "                   all        341        864      0.983      0.983      0.994      0.762\n"
     ]
    },
    {
     "name": "stderr",
     "output_type": "stream",
     "text": [
      "\n"
     ]
    },
    {
     "name": "stdout",
     "output_type": "stream",
     "text": [
      "\n",
      "      Epoch    GPU_mem   box_loss   cls_loss   dfl_loss  Instances       Size\n"
     ]
    },
    {
     "name": "stderr",
     "output_type": "stream",
     "text": [
      "     86/200      4.38G     0.8909     0.3821      1.221         10        640: 100%|██████████| 341/341 [00:50<00:00,  6.81it/s]\n",
      "                 Class     Images  Instances      Box(P          R      mAP50  mAP50-95): 100%|██████████| 43/43 [00:04<00:00,  9.52it/s]\n"
     ]
    },
    {
     "name": "stdout",
     "output_type": "stream",
     "text": [
      "                   all        341        864       0.98      0.976      0.992      0.771\n",
      "\n",
      "      Epoch    GPU_mem   box_loss   cls_loss   dfl_loss  Instances       Size\n"
     ]
    },
    {
     "name": "stderr",
     "output_type": "stream",
     "text": [
      "     87/200      4.39G     0.8958     0.3829       1.23         15        640: 100%|██████████| 341/341 [00:50<00:00,  6.82it/s]\n",
      "                 Class     Images  Instances      Box(P          R      mAP50  mAP50-95): 100%|██████████| 43/43 [00:04<00:00,  9.51it/s]\n"
     ]
    },
    {
     "name": "stdout",
     "output_type": "stream",
     "text": [
      "                   all        341        864      0.979      0.998      0.994      0.772\n",
      "\n",
      "      Epoch    GPU_mem   box_loss   cls_loss   dfl_loss  Instances       Size\n"
     ]
    },
    {
     "name": "stderr",
     "output_type": "stream",
     "text": [
      "     88/200       4.4G     0.9139     0.3933      1.234          6        640: 100%|██████████| 341/341 [00:50<00:00,  6.81it/s]\n",
      "                 Class     Images  Instances      Box(P          R      mAP50  mAP50-95): 100%|██████████| 43/43 [00:04<00:00,  9.49it/s]\n"
     ]
    },
    {
     "name": "stdout",
     "output_type": "stream",
     "text": [
      "                   all        341        864      0.971      0.995      0.994       0.77\n",
      "\n",
      "      Epoch    GPU_mem   box_loss   cls_loss   dfl_loss  Instances       Size\n"
     ]
    },
    {
     "name": "stderr",
     "output_type": "stream",
     "text": [
      "     89/200      4.39G     0.9022     0.3863      1.228          6        640: 100%|██████████| 341/341 [00:50<00:00,  6.81it/s]\n",
      "                 Class     Images  Instances      Box(P          R      mAP50  mAP50-95): 100%|██████████| 43/43 [00:04<00:00,  9.52it/s]"
     ]
    },
    {
     "name": "stdout",
     "output_type": "stream",
     "text": [
      "                   all        341        864      0.983      0.988      0.994      0.778\n"
     ]
    },
    {
     "name": "stderr",
     "output_type": "stream",
     "text": [
      "\n"
     ]
    },
    {
     "name": "stdout",
     "output_type": "stream",
     "text": [
      "\n",
      "      Epoch    GPU_mem   box_loss   cls_loss   dfl_loss  Instances       Size\n"
     ]
    },
    {
     "name": "stderr",
     "output_type": "stream",
     "text": [
      "     90/200       4.4G     0.9099     0.3905      1.242          7        640: 100%|██████████| 341/341 [00:50<00:00,  6.81it/s]\n",
      "                 Class     Images  Instances      Box(P          R      mAP50  mAP50-95): 100%|██████████| 43/43 [00:04<00:00,  9.52it/s]"
     ]
    },
    {
     "name": "stdout",
     "output_type": "stream",
     "text": [
      "                   all        341        864      0.977      0.987      0.994      0.768\n"
     ]
    },
    {
     "name": "stderr",
     "output_type": "stream",
     "text": [
      "\n"
     ]
    },
    {
     "name": "stdout",
     "output_type": "stream",
     "text": [
      "\n",
      "      Epoch    GPU_mem   box_loss   cls_loss   dfl_loss  Instances       Size\n"
     ]
    },
    {
     "name": "stderr",
     "output_type": "stream",
     "text": [
      "     91/200      4.38G     0.8925     0.3843      1.234          7        640: 100%|██████████| 341/341 [00:50<00:00,  6.82it/s]\n",
      "                 Class     Images  Instances      Box(P          R      mAP50  mAP50-95): 100%|██████████| 43/43 [00:04<00:00,  9.49it/s]"
     ]
    },
    {
     "name": "stdout",
     "output_type": "stream",
     "text": [
      "                   all        341        864      0.973       0.97      0.989      0.752\n"
     ]
    },
    {
     "name": "stderr",
     "output_type": "stream",
     "text": [
      "\n"
     ]
    },
    {
     "name": "stdout",
     "output_type": "stream",
     "text": [
      "\n",
      "      Epoch    GPU_mem   box_loss   cls_loss   dfl_loss  Instances       Size\n"
     ]
    },
    {
     "name": "stderr",
     "output_type": "stream",
     "text": [
      "     92/200      4.37G     0.9186     0.3865       1.24          6        640: 100%|██████████| 341/341 [00:50<00:00,  6.80it/s]\n",
      "                 Class     Images  Instances      Box(P          R      mAP50  mAP50-95): 100%|██████████| 43/43 [00:04<00:00,  9.35it/s]"
     ]
    },
    {
     "name": "stdout",
     "output_type": "stream",
     "text": [
      "                   all        341        864      0.972      0.987      0.994      0.761\n"
     ]
    },
    {
     "name": "stderr",
     "output_type": "stream",
     "text": [
      "\n"
     ]
    },
    {
     "name": "stdout",
     "output_type": "stream",
     "text": [
      "\n",
      "      Epoch    GPU_mem   box_loss   cls_loss   dfl_loss  Instances       Size\n"
     ]
    },
    {
     "name": "stderr",
     "output_type": "stream",
     "text": [
      "     93/200      4.38G     0.8984     0.3789      1.227          8        640: 100%|██████████| 341/341 [00:50<00:00,  6.76it/s]\n",
      "                 Class     Images  Instances      Box(P          R      mAP50  mAP50-95): 100%|██████████| 43/43 [00:04<00:00,  8.72it/s]\n"
     ]
    },
    {
     "name": "stdout",
     "output_type": "stream",
     "text": [
      "                   all        341        864      0.982      0.985      0.994       0.77\n",
      "\n",
      "      Epoch    GPU_mem   box_loss   cls_loss   dfl_loss  Instances       Size\n"
     ]
    },
    {
     "name": "stderr",
     "output_type": "stream",
     "text": [
      "     94/200      4.38G      0.902     0.3817      1.237          5        640: 100%|██████████| 341/341 [00:51<00:00,  6.67it/s]\n",
      "                 Class     Images  Instances      Box(P          R      mAP50  mAP50-95): 100%|██████████| 43/43 [00:04<00:00,  8.72it/s]"
     ]
    },
    {
     "name": "stdout",
     "output_type": "stream",
     "text": [
      "                   all        341        864      0.978      0.984      0.993      0.778\n"
     ]
    },
    {
     "name": "stderr",
     "output_type": "stream",
     "text": [
      "\n"
     ]
    },
    {
     "name": "stdout",
     "output_type": "stream",
     "text": [
      "\n",
      "      Epoch    GPU_mem   box_loss   cls_loss   dfl_loss  Instances       Size\n"
     ]
    },
    {
     "name": "stderr",
     "output_type": "stream",
     "text": [
      "     95/200      4.38G     0.8847     0.3762      1.217         11        640: 100%|██████████| 341/341 [00:51<00:00,  6.66it/s]\n",
      "                 Class     Images  Instances      Box(P          R      mAP50  mAP50-95): 100%|██████████| 43/43 [00:04<00:00,  8.71it/s]"
     ]
    },
    {
     "name": "stdout",
     "output_type": "stream",
     "text": [
      "                   all        341        864      0.984      0.973      0.994      0.768\n"
     ]
    },
    {
     "name": "stderr",
     "output_type": "stream",
     "text": [
      "\n"
     ]
    },
    {
     "name": "stdout",
     "output_type": "stream",
     "text": [
      "\n",
      "      Epoch    GPU_mem   box_loss   cls_loss   dfl_loss  Instances       Size\n"
     ]
    },
    {
     "name": "stderr",
     "output_type": "stream",
     "text": [
      "     96/200       4.4G     0.8987     0.3813      1.222         12        640: 100%|██████████| 341/341 [00:51<00:00,  6.67it/s]\n",
      "                 Class     Images  Instances      Box(P          R      mAP50  mAP50-95): 100%|██████████| 43/43 [00:04<00:00,  8.72it/s]\n"
     ]
    },
    {
     "name": "stdout",
     "output_type": "stream",
     "text": [
      "                   all        341        864      0.977      0.982      0.994      0.771\n",
      "\n",
      "      Epoch    GPU_mem   box_loss   cls_loss   dfl_loss  Instances       Size\n"
     ]
    },
    {
     "name": "stderr",
     "output_type": "stream",
     "text": [
      "     97/200       4.4G     0.8811     0.3748      1.213         11        640: 100%|██████████| 341/341 [00:51<00:00,  6.68it/s]\n",
      "                 Class     Images  Instances      Box(P          R      mAP50  mAP50-95): 100%|██████████| 43/43 [00:04<00:00,  8.72it/s]\n"
     ]
    },
    {
     "name": "stdout",
     "output_type": "stream",
     "text": [
      "                   all        341        864       0.98      0.984      0.993      0.767\n",
      "\n",
      "      Epoch    GPU_mem   box_loss   cls_loss   dfl_loss  Instances       Size\n"
     ]
    },
    {
     "name": "stderr",
     "output_type": "stream",
     "text": [
      "     98/200      4.39G     0.8959     0.3789      1.223          4        640: 100%|██████████| 341/341 [00:52<00:00,  6.55it/s]\n",
      "                 Class     Images  Instances      Box(P          R      mAP50  mAP50-95): 100%|██████████| 43/43 [00:04<00:00,  8.60it/s]\n"
     ]
    },
    {
     "name": "stdout",
     "output_type": "stream",
     "text": [
      "                   all        341        864      0.979       0.98      0.993      0.772\n",
      "\n",
      "      Epoch    GPU_mem   box_loss   cls_loss   dfl_loss  Instances       Size\n"
     ]
    },
    {
     "name": "stderr",
     "output_type": "stream",
     "text": [
      "     99/200      4.38G     0.8885     0.3813      1.226         21        640: 100%|██████████| 341/341 [00:52<00:00,  6.48it/s]\n",
      "                 Class     Images  Instances      Box(P          R      mAP50  mAP50-95): 100%|██████████| 43/43 [00:05<00:00,  8.58it/s]"
     ]
    },
    {
     "name": "stdout",
     "output_type": "stream",
     "text": [
      "                   all        341        864      0.967      0.978      0.993      0.771\n"
     ]
    },
    {
     "name": "stderr",
     "output_type": "stream",
     "text": [
      "\n"
     ]
    },
    {
     "name": "stdout",
     "output_type": "stream",
     "text": [
      "\n",
      "      Epoch    GPU_mem   box_loss   cls_loss   dfl_loss  Instances       Size\n"
     ]
    },
    {
     "name": "stderr",
     "output_type": "stream",
     "text": [
      "    100/200      4.39G     0.9004     0.3814      1.238          9        640: 100%|██████████| 341/341 [00:52<00:00,  6.51it/s]\n",
      "                 Class     Images  Instances      Box(P          R      mAP50  mAP50-95): 100%|██████████| 43/43 [00:05<00:00,  8.57it/s]"
     ]
    },
    {
     "name": "stdout",
     "output_type": "stream",
     "text": [
      "                   all        341        864      0.974       0.98      0.993      0.772\n"
     ]
    },
    {
     "name": "stderr",
     "output_type": "stream",
     "text": [
      "\n"
     ]
    },
    {
     "name": "stdout",
     "output_type": "stream",
     "text": [
      "\n",
      "      Epoch    GPU_mem   box_loss   cls_loss   dfl_loss  Instances       Size\n"
     ]
    },
    {
     "name": "stderr",
     "output_type": "stream",
     "text": [
      "    101/200       4.4G     0.9008     0.3807      1.224          6        640: 100%|██████████| 341/341 [00:52<00:00,  6.53it/s]\n",
      "                 Class     Images  Instances      Box(P          R      mAP50  mAP50-95): 100%|██████████| 43/43 [00:05<00:00,  8.60it/s]\n"
     ]
    },
    {
     "name": "stdout",
     "output_type": "stream",
     "text": [
      "                   all        341        864      0.978      0.965       0.99      0.772\n",
      "\n",
      "      Epoch    GPU_mem   box_loss   cls_loss   dfl_loss  Instances       Size\n"
     ]
    },
    {
     "name": "stderr",
     "output_type": "stream",
     "text": [
      "    102/200      4.39G     0.8819     0.3766       1.22         14        640: 100%|██████████| 341/341 [00:52<00:00,  6.54it/s]\n",
      "                 Class     Images  Instances      Box(P          R      mAP50  mAP50-95): 100%|██████████| 43/43 [00:05<00:00,  8.57it/s]"
     ]
    },
    {
     "name": "stdout",
     "output_type": "stream",
     "text": [
      "                   all        341        864       0.98      0.975       0.99      0.772\n"
     ]
    },
    {
     "name": "stderr",
     "output_type": "stream",
     "text": [
      "\n"
     ]
    },
    {
     "name": "stdout",
     "output_type": "stream",
     "text": [
      "\n",
      "      Epoch    GPU_mem   box_loss   cls_loss   dfl_loss  Instances       Size\n"
     ]
    },
    {
     "name": "stderr",
     "output_type": "stream",
     "text": [
      "    103/200      4.38G     0.8926     0.3752      1.216         12        640: 100%|██████████| 341/341 [00:51<00:00,  6.58it/s]\n",
      "                 Class     Images  Instances      Box(P          R      mAP50  mAP50-95): 100%|██████████| 43/43 [00:05<00:00,  8.49it/s]"
     ]
    },
    {
     "name": "stdout",
     "output_type": "stream",
     "text": [
      "                   all        341        864      0.985      0.993      0.994      0.774\n"
     ]
    },
    {
     "name": "stderr",
     "output_type": "stream",
     "text": [
      "\n"
     ]
    },
    {
     "name": "stdout",
     "output_type": "stream",
     "text": [
      "\n",
      "      Epoch    GPU_mem   box_loss   cls_loss   dfl_loss  Instances       Size\n"
     ]
    },
    {
     "name": "stderr",
     "output_type": "stream",
     "text": [
      "    104/200      4.38G     0.8989     0.3743      1.217          7        640: 100%|██████████| 341/341 [00:51<00:00,  6.60it/s]\n",
      "                 Class     Images  Instances      Box(P          R      mAP50  mAP50-95): 100%|██████████| 43/43 [00:05<00:00,  8.51it/s]"
     ]
    },
    {
     "name": "stdout",
     "output_type": "stream",
     "text": [
      "                   all        341        864      0.976      0.991      0.994      0.775\n"
     ]
    },
    {
     "name": "stderr",
     "output_type": "stream",
     "text": [
      "\n"
     ]
    },
    {
     "name": "stdout",
     "output_type": "stream",
     "text": [
      "\n",
      "      Epoch    GPU_mem   box_loss   cls_loss   dfl_loss  Instances       Size\n"
     ]
    },
    {
     "name": "stderr",
     "output_type": "stream",
     "text": [
      "    105/200      4.39G     0.9019     0.3735      1.227         13        640: 100%|██████████| 341/341 [00:52<00:00,  6.55it/s]\n",
      "                 Class     Images  Instances      Box(P          R      mAP50  mAP50-95): 100%|██████████| 43/43 [00:05<00:00,  8.60it/s]"
     ]
    },
    {
     "name": "stdout",
     "output_type": "stream",
     "text": [
      "                   all        341        864      0.985       0.99      0.994      0.773\n"
     ]
    },
    {
     "name": "stderr",
     "output_type": "stream",
     "text": [
      "\n"
     ]
    },
    {
     "name": "stdout",
     "output_type": "stream",
     "text": [
      "\n",
      "      Epoch    GPU_mem   box_loss   cls_loss   dfl_loss  Instances       Size\n"
     ]
    },
    {
     "name": "stderr",
     "output_type": "stream",
     "text": [
      "    106/200      4.38G      0.871     0.3654       1.22          4        640: 100%|██████████| 341/341 [00:51<00:00,  6.59it/s]\n",
      "                 Class     Images  Instances      Box(P          R      mAP50  mAP50-95): 100%|██████████| 43/43 [00:04<00:00,  8.69it/s]"
     ]
    },
    {
     "name": "stdout",
     "output_type": "stream",
     "text": [
      "                   all        341        864      0.982      0.974      0.993      0.777\n"
     ]
    },
    {
     "name": "stderr",
     "output_type": "stream",
     "text": [
      "\n"
     ]
    },
    {
     "name": "stdout",
     "output_type": "stream",
     "text": [
      "\n",
      "      Epoch    GPU_mem   box_loss   cls_loss   dfl_loss  Instances       Size\n"
     ]
    },
    {
     "name": "stderr",
     "output_type": "stream",
     "text": [
      "    107/200      4.38G     0.8732     0.3669      1.221          6        640: 100%|██████████| 341/341 [00:52<00:00,  6.50it/s]\n",
      "                 Class     Images  Instances      Box(P          R      mAP50  mAP50-95): 100%|██████████| 43/43 [00:05<00:00,  8.54it/s]"
     ]
    },
    {
     "name": "stdout",
     "output_type": "stream",
     "text": [
      "                   all        341        864      0.987      0.976      0.994       0.78\n"
     ]
    },
    {
     "name": "stderr",
     "output_type": "stream",
     "text": [
      "\n"
     ]
    },
    {
     "name": "stdout",
     "output_type": "stream",
     "text": [
      "\n",
      "      Epoch    GPU_mem   box_loss   cls_loss   dfl_loss  Instances       Size\n"
     ]
    },
    {
     "name": "stderr",
     "output_type": "stream",
     "text": [
      "    108/200      4.39G     0.8895     0.3725      1.218         22        640: 100%|██████████| 341/341 [00:52<00:00,  6.50it/s]\n",
      "                 Class     Images  Instances      Box(P          R      mAP50  mAP50-95): 100%|██████████| 43/43 [00:04<00:00,  8.72it/s]"
     ]
    },
    {
     "name": "stdout",
     "output_type": "stream",
     "text": [
      "                   all        341        864      0.986       0.98      0.994      0.778\n"
     ]
    },
    {
     "name": "stderr",
     "output_type": "stream",
     "text": [
      "\n"
     ]
    },
    {
     "name": "stdout",
     "output_type": "stream",
     "text": [
      "\n",
      "      Epoch    GPU_mem   box_loss   cls_loss   dfl_loss  Instances       Size\n"
     ]
    },
    {
     "name": "stderr",
     "output_type": "stream",
     "text": [
      "    109/200      4.38G     0.8796     0.3712      1.221          5        640: 100%|██████████| 341/341 [00:51<00:00,  6.64it/s]\n",
      "                 Class     Images  Instances      Box(P          R      mAP50  mAP50-95): 100%|██████████| 43/43 [00:04<00:00,  9.35it/s]\n"
     ]
    },
    {
     "name": "stdout",
     "output_type": "stream",
     "text": [
      "                   all        341        864      0.985      0.971       0.99      0.775\n",
      "\n",
      "      Epoch    GPU_mem   box_loss   cls_loss   dfl_loss  Instances       Size\n"
     ]
    },
    {
     "name": "stderr",
     "output_type": "stream",
     "text": [
      "    110/200      4.39G     0.8855     0.3751      1.216         16        640: 100%|██████████| 341/341 [00:50<00:00,  6.75it/s]\n",
      "                 Class     Images  Instances      Box(P          R      mAP50  mAP50-95): 100%|██████████| 43/43 [00:04<00:00,  9.36it/s]\n"
     ]
    },
    {
     "name": "stdout",
     "output_type": "stream",
     "text": [
      "                   all        341        864      0.978      0.971      0.989      0.777\n",
      "\n",
      "      Epoch    GPU_mem   box_loss   cls_loss   dfl_loss  Instances       Size\n"
     ]
    },
    {
     "name": "stderr",
     "output_type": "stream",
     "text": [
      "    111/200       4.4G     0.8791     0.3708       1.22         13        640: 100%|██████████| 341/341 [00:50<00:00,  6.73it/s]\n",
      "                 Class     Images  Instances      Box(P          R      mAP50  mAP50-95): 100%|██████████| 43/43 [00:04<00:00,  9.48it/s]"
     ]
    },
    {
     "name": "stdout",
     "output_type": "stream",
     "text": [
      "                   all        341        864      0.987      0.981      0.994      0.771\n"
     ]
    },
    {
     "name": "stderr",
     "output_type": "stream",
     "text": [
      "\n"
     ]
    },
    {
     "name": "stdout",
     "output_type": "stream",
     "text": [
      "\n",
      "      Epoch    GPU_mem   box_loss   cls_loss   dfl_loss  Instances       Size\n"
     ]
    },
    {
     "name": "stderr",
     "output_type": "stream",
     "text": [
      "    112/200       4.4G     0.8675     0.3616      1.213         16        640: 100%|██████████| 341/341 [00:50<00:00,  6.76it/s]\n",
      "                 Class     Images  Instances      Box(P          R      mAP50  mAP50-95): 100%|██████████| 43/43 [00:04<00:00,  9.35it/s]\n"
     ]
    },
    {
     "name": "stdout",
     "output_type": "stream",
     "text": [
      "                   all        341        864      0.986      0.978      0.993      0.763\n",
      "\n",
      "      Epoch    GPU_mem   box_loss   cls_loss   dfl_loss  Instances       Size\n"
     ]
    },
    {
     "name": "stderr",
     "output_type": "stream",
     "text": [
      "    113/200      4.39G     0.8841     0.3713      1.224         15        640: 100%|██████████| 341/341 [00:51<00:00,  6.66it/s]\n",
      "                 Class     Images  Instances      Box(P          R      mAP50  mAP50-95): 100%|██████████| 43/43 [00:04<00:00,  9.19it/s]\n"
     ]
    },
    {
     "name": "stdout",
     "output_type": "stream",
     "text": [
      "                   all        341        864       0.98      0.981      0.994      0.761\n",
      "\n",
      "      Epoch    GPU_mem   box_loss   cls_loss   dfl_loss  Instances       Size\n"
     ]
    },
    {
     "name": "stderr",
     "output_type": "stream",
     "text": [
      "    114/200      4.39G     0.8811     0.3691       1.22          5        640: 100%|██████████| 341/341 [00:50<00:00,  6.72it/s]\n",
      "                 Class     Images  Instances      Box(P          R      mAP50  mAP50-95): 100%|██████████| 43/43 [00:04<00:00,  9.45it/s]"
     ]
    },
    {
     "name": "stdout",
     "output_type": "stream",
     "text": [
      "                   all        341        864      0.989      0.978      0.994      0.773\n"
     ]
    },
    {
     "name": "stderr",
     "output_type": "stream",
     "text": [
      "\n"
     ]
    },
    {
     "name": "stdout",
     "output_type": "stream",
     "text": [
      "\n",
      "      Epoch    GPU_mem   box_loss   cls_loss   dfl_loss  Instances       Size\n"
     ]
    },
    {
     "name": "stderr",
     "output_type": "stream",
     "text": [
      "    115/200       4.4G     0.8654     0.3625      1.209          9        640: 100%|██████████| 341/341 [00:50<00:00,  6.75it/s]\n",
      "                 Class     Images  Instances      Box(P          R      mAP50  mAP50-95): 100%|██████████| 43/43 [00:04<00:00,  9.45it/s]\n"
     ]
    },
    {
     "name": "stdout",
     "output_type": "stream",
     "text": [
      "                   all        341        864      0.975      0.983      0.993      0.773\n",
      "\n",
      "      Epoch    GPU_mem   box_loss   cls_loss   dfl_loss  Instances       Size\n"
     ]
    },
    {
     "name": "stderr",
     "output_type": "stream",
     "text": [
      "    116/200      4.38G     0.8633     0.3619      1.208         16        640: 100%|██████████| 341/341 [00:49<00:00,  6.84it/s]\n",
      "                 Class     Images  Instances      Box(P          R      mAP50  mAP50-95): 100%|██████████| 43/43 [00:04<00:00,  9.54it/s]"
     ]
    },
    {
     "name": "stdout",
     "output_type": "stream",
     "text": [
      "                   all        341        864      0.977      0.978      0.992      0.775\n"
     ]
    },
    {
     "name": "stderr",
     "output_type": "stream",
     "text": [
      "\n"
     ]
    },
    {
     "name": "stdout",
     "output_type": "stream",
     "text": [
      "\n",
      "      Epoch    GPU_mem   box_loss   cls_loss   dfl_loss  Instances       Size\n"
     ]
    },
    {
     "name": "stderr",
     "output_type": "stream",
     "text": [
      "    117/200      4.38G     0.8589     0.3617      1.209          7        640: 100%|██████████| 341/341 [00:49<00:00,  6.84it/s]\n",
      "                 Class     Images  Instances      Box(P          R      mAP50  mAP50-95): 100%|██████████| 43/43 [00:04<00:00,  9.31it/s]"
     ]
    },
    {
     "name": "stdout",
     "output_type": "stream",
     "text": [
      "                   all        341        864       0.98      0.984      0.993      0.772\n"
     ]
    },
    {
     "name": "stderr",
     "output_type": "stream",
     "text": [
      "\n"
     ]
    },
    {
     "name": "stdout",
     "output_type": "stream",
     "text": [
      "\n",
      "      Epoch    GPU_mem   box_loss   cls_loss   dfl_loss  Instances       Size\n"
     ]
    },
    {
     "name": "stderr",
     "output_type": "stream",
     "text": [
      "    118/200      4.37G     0.8583      0.368      1.202          4        640: 100%|██████████| 341/341 [00:50<00:00,  6.79it/s]\n",
      "                 Class     Images  Instances      Box(P          R      mAP50  mAP50-95): 100%|██████████| 43/43 [00:04<00:00,  9.45it/s]"
     ]
    },
    {
     "name": "stdout",
     "output_type": "stream",
     "text": [
      "                   all        341        864      0.979      0.979      0.991      0.767\n"
     ]
    },
    {
     "name": "stderr",
     "output_type": "stream",
     "text": [
      "\n"
     ]
    },
    {
     "name": "stdout",
     "output_type": "stream",
     "text": [
      "\n",
      "      Epoch    GPU_mem   box_loss   cls_loss   dfl_loss  Instances       Size\n"
     ]
    },
    {
     "name": "stderr",
     "output_type": "stream",
     "text": [
      "    119/200      4.37G     0.8663      0.366      1.213          8        640: 100%|██████████| 341/341 [00:50<00:00,  6.75it/s]\n",
      "                 Class     Images  Instances      Box(P          R      mAP50  mAP50-95): 100%|██████████| 43/43 [00:04<00:00,  9.47it/s]"
     ]
    },
    {
     "name": "stdout",
     "output_type": "stream",
     "text": [
      "                   all        341        864      0.978      0.969      0.991      0.767\n"
     ]
    },
    {
     "name": "stderr",
     "output_type": "stream",
     "text": [
      "\n"
     ]
    },
    {
     "name": "stdout",
     "output_type": "stream",
     "text": [
      "\n",
      "      Epoch    GPU_mem   box_loss   cls_loss   dfl_loss  Instances       Size\n"
     ]
    },
    {
     "name": "stderr",
     "output_type": "stream",
     "text": [
      "    120/200      4.39G     0.8701     0.3589      1.211          6        640: 100%|██████████| 341/341 [00:50<00:00,  6.76it/s]\n",
      "                 Class     Images  Instances      Box(P          R      mAP50  mAP50-95): 100%|██████████| 43/43 [00:04<00:00,  9.30it/s]"
     ]
    },
    {
     "name": "stdout",
     "output_type": "stream",
     "text": [
      "                   all        341        864      0.982      0.979      0.993      0.772\n"
     ]
    },
    {
     "name": "stderr",
     "output_type": "stream",
     "text": [
      "\n"
     ]
    },
    {
     "name": "stdout",
     "output_type": "stream",
     "text": [
      "\n",
      "      Epoch    GPU_mem   box_loss   cls_loss   dfl_loss  Instances       Size\n"
     ]
    },
    {
     "name": "stderr",
     "output_type": "stream",
     "text": [
      "    121/200       4.4G     0.8629     0.3622      1.206          5        640: 100%|██████████| 341/341 [00:50<00:00,  6.77it/s]\n",
      "                 Class     Images  Instances      Box(P          R      mAP50  mAP50-95): 100%|██████████| 43/43 [00:04<00:00,  9.48it/s]"
     ]
    },
    {
     "name": "stdout",
     "output_type": "stream",
     "text": [
      "                   all        341        864      0.985      0.976      0.992      0.767\n"
     ]
    },
    {
     "name": "stderr",
     "output_type": "stream",
     "text": [
      "\n"
     ]
    },
    {
     "name": "stdout",
     "output_type": "stream",
     "text": [
      "\n",
      "      Epoch    GPU_mem   box_loss   cls_loss   dfl_loss  Instances       Size\n"
     ]
    },
    {
     "name": "stderr",
     "output_type": "stream",
     "text": [
      "    122/200      4.39G     0.8679     0.3594      1.219          2        640: 100%|██████████| 341/341 [00:51<00:00,  6.64it/s]\n",
      "                 Class     Images  Instances      Box(P          R      mAP50  mAP50-95): 100%|██████████| 43/43 [00:04<00:00,  9.49it/s]\n"
     ]
    },
    {
     "name": "stdout",
     "output_type": "stream",
     "text": [
      "                   all        341        864      0.986      0.987      0.994      0.772\n",
      "\n",
      "      Epoch    GPU_mem   box_loss   cls_loss   dfl_loss  Instances       Size\n"
     ]
    },
    {
     "name": "stderr",
     "output_type": "stream",
     "text": [
      "    123/200      4.39G     0.8434     0.3607      1.202          3        640: 100%|██████████| 341/341 [00:50<00:00,  6.79it/s]\n",
      "                 Class     Images  Instances      Box(P          R      mAP50  mAP50-95): 100%|██████████| 43/43 [00:04<00:00,  9.38it/s]"
     ]
    },
    {
     "name": "stdout",
     "output_type": "stream",
     "text": [
      "                   all        341        864       0.98      0.979       0.99      0.767\n"
     ]
    },
    {
     "name": "stderr",
     "output_type": "stream",
     "text": [
      "\n"
     ]
    },
    {
     "name": "stdout",
     "output_type": "stream",
     "text": [
      "\n",
      "      Epoch    GPU_mem   box_loss   cls_loss   dfl_loss  Instances       Size\n"
     ]
    },
    {
     "name": "stderr",
     "output_type": "stream",
     "text": [
      "    124/200      4.38G      0.881     0.3642      1.217          9        640: 100%|██████████| 341/341 [00:51<00:00,  6.68it/s]\n",
      "                 Class     Images  Instances      Box(P          R      mAP50  mAP50-95): 100%|██████████| 43/43 [00:04<00:00,  9.44it/s]\n"
     ]
    },
    {
     "name": "stdout",
     "output_type": "stream",
     "text": [
      "                   all        341        864      0.978      0.979      0.993       0.75\n",
      "\n",
      "      Epoch    GPU_mem   box_loss   cls_loss   dfl_loss  Instances       Size\n"
     ]
    },
    {
     "name": "stderr",
     "output_type": "stream",
     "text": [
      "    125/200      4.37G     0.8719     0.3618      1.215          7        640: 100%|██████████| 341/341 [00:50<00:00,  6.80it/s]\n",
      "                 Class     Images  Instances      Box(P          R      mAP50  mAP50-95): 100%|██████████| 43/43 [00:04<00:00,  9.43it/s]"
     ]
    },
    {
     "name": "stdout",
     "output_type": "stream",
     "text": [
      "                   all        341        864      0.979      0.963       0.99      0.769\n"
     ]
    },
    {
     "name": "stderr",
     "output_type": "stream",
     "text": [
      "\n"
     ]
    },
    {
     "name": "stdout",
     "output_type": "stream",
     "text": [
      "\n",
      "      Epoch    GPU_mem   box_loss   cls_loss   dfl_loss  Instances       Size\n"
     ]
    },
    {
     "name": "stderr",
     "output_type": "stream",
     "text": [
      "    126/200      4.39G      0.864      0.358      1.206         15        640: 100%|██████████| 341/341 [00:50<00:00,  6.79it/s]\n",
      "                 Class     Images  Instances      Box(P          R      mAP50  mAP50-95): 100%|██████████| 43/43 [00:04<00:00,  9.47it/s]\n"
     ]
    },
    {
     "name": "stdout",
     "output_type": "stream",
     "text": [
      "                   all        341        864      0.979      0.975      0.992      0.774\n",
      "\n",
      "      Epoch    GPU_mem   box_loss   cls_loss   dfl_loss  Instances       Size\n"
     ]
    },
    {
     "name": "stderr",
     "output_type": "stream",
     "text": [
      "    127/200      4.38G     0.8534     0.3546      1.205         21        640: 100%|██████████| 341/341 [00:50<00:00,  6.82it/s]\n",
      "                 Class     Images  Instances      Box(P          R      mAP50  mAP50-95): 100%|██████████| 43/43 [00:04<00:00,  9.45it/s]\n"
     ]
    },
    {
     "name": "stdout",
     "output_type": "stream",
     "text": [
      "                   all        341        864      0.983      0.983      0.994       0.77\n",
      "\n",
      "      Epoch    GPU_mem   box_loss   cls_loss   dfl_loss  Instances       Size\n"
     ]
    },
    {
     "name": "stderr",
     "output_type": "stream",
     "text": [
      "    128/200       4.4G      0.854     0.3475      1.201         12        640: 100%|██████████| 341/341 [00:49<00:00,  6.82it/s]\n",
      "                 Class     Images  Instances      Box(P          R      mAP50  mAP50-95): 100%|██████████| 43/43 [00:04<00:00,  9.44it/s]\n"
     ]
    },
    {
     "name": "stdout",
     "output_type": "stream",
     "text": [
      "                   all        341        864      0.981      0.978      0.994      0.771\n",
      "\n",
      "      Epoch    GPU_mem   box_loss   cls_loss   dfl_loss  Instances       Size\n"
     ]
    },
    {
     "name": "stderr",
     "output_type": "stream",
     "text": [
      "    129/200       4.4G     0.8546     0.3554      1.204          6        640: 100%|██████████| 341/341 [00:50<00:00,  6.73it/s]\n",
      "                 Class     Images  Instances      Box(P          R      mAP50  mAP50-95): 100%|██████████| 43/43 [00:04<00:00,  9.46it/s]\n"
     ]
    },
    {
     "name": "stdout",
     "output_type": "stream",
     "text": [
      "                   all        341        864      0.983      0.981      0.994      0.775\n",
      "\n",
      "      Epoch    GPU_mem   box_loss   cls_loss   dfl_loss  Instances       Size\n"
     ]
    },
    {
     "name": "stderr",
     "output_type": "stream",
     "text": [
      "    130/200      4.38G     0.8479     0.3576      1.205          5        640: 100%|██████████| 341/341 [00:50<00:00,  6.72it/s]\n",
      "                 Class     Images  Instances      Box(P          R      mAP50  mAP50-95): 100%|██████████| 43/43 [00:04<00:00,  9.38it/s]\n"
     ]
    },
    {
     "name": "stdout",
     "output_type": "stream",
     "text": [
      "                   all        341        864       0.98      0.985      0.994      0.772\n",
      "\n",
      "      Epoch    GPU_mem   box_loss   cls_loss   dfl_loss  Instances       Size\n"
     ]
    },
    {
     "name": "stderr",
     "output_type": "stream",
     "text": [
      "    131/200       4.4G     0.8362     0.3509      1.191          8        640: 100%|██████████| 341/341 [00:50<00:00,  6.76it/s]\n",
      "                 Class     Images  Instances      Box(P          R      mAP50  mAP50-95): 100%|██████████| 43/43 [00:04<00:00,  9.36it/s]"
     ]
    },
    {
     "name": "stdout",
     "output_type": "stream",
     "text": [
      "                   all        341        864      0.986      0.982      0.994      0.778\n"
     ]
    },
    {
     "name": "stderr",
     "output_type": "stream",
     "text": [
      "\n"
     ]
    },
    {
     "name": "stdout",
     "output_type": "stream",
     "text": [
      "\n",
      "      Epoch    GPU_mem   box_loss   cls_loss   dfl_loss  Instances       Size\n"
     ]
    },
    {
     "name": "stderr",
     "output_type": "stream",
     "text": [
      "    132/200      4.39G     0.8514     0.3537      1.207          5        640: 100%|██████████| 341/341 [00:50<00:00,  6.75it/s]\n",
      "                 Class     Images  Instances      Box(P          R      mAP50  mAP50-95): 100%|██████████| 43/43 [00:04<00:00,  9.38it/s]\n"
     ]
    },
    {
     "name": "stdout",
     "output_type": "stream",
     "text": [
      "                   all        341        864      0.984      0.983      0.994      0.776\n",
      "\n",
      "      Epoch    GPU_mem   box_loss   cls_loss   dfl_loss  Instances       Size\n"
     ]
    },
    {
     "name": "stderr",
     "output_type": "stream",
     "text": [
      "    133/200       4.4G     0.8521     0.3533      1.203          9        640: 100%|██████████| 341/341 [00:50<00:00,  6.77it/s]\n",
      "                 Class     Images  Instances      Box(P          R      mAP50  mAP50-95): 100%|██████████| 43/43 [00:04<00:00,  9.34it/s]\n"
     ]
    },
    {
     "name": "stdout",
     "output_type": "stream",
     "text": [
      "                   all        341        864      0.987      0.982      0.994      0.775\n",
      "\n",
      "      Epoch    GPU_mem   box_loss   cls_loss   dfl_loss  Instances       Size\n"
     ]
    },
    {
     "name": "stderr",
     "output_type": "stream",
     "text": [
      "    134/200      4.38G     0.8279     0.3453      1.188         24        640: 100%|██████████| 341/341 [00:50<00:00,  6.77it/s]\n",
      "                 Class     Images  Instances      Box(P          R      mAP50  mAP50-95): 100%|██████████| 43/43 [00:04<00:00,  9.38it/s]\n"
     ]
    },
    {
     "name": "stdout",
     "output_type": "stream",
     "text": [
      "                   all        341        864      0.981      0.981      0.993      0.772\n",
      "\n",
      "      Epoch    GPU_mem   box_loss   cls_loss   dfl_loss  Instances       Size\n"
     ]
    },
    {
     "name": "stderr",
     "output_type": "stream",
     "text": [
      "    135/200      4.39G     0.8388     0.3492      1.199          4        640: 100%|██████████| 341/341 [00:50<00:00,  6.76it/s]\n",
      "                 Class     Images  Instances      Box(P          R      mAP50  mAP50-95): 100%|██████████| 43/43 [00:04<00:00,  9.38it/s]\n"
     ]
    },
    {
     "name": "stdout",
     "output_type": "stream",
     "text": [
      "                   all        341        864      0.983      0.978      0.992      0.777\n",
      "\n",
      "      Epoch    GPU_mem   box_loss   cls_loss   dfl_loss  Instances       Size\n"
     ]
    },
    {
     "name": "stderr",
     "output_type": "stream",
     "text": [
      "    136/200      4.38G     0.8357     0.3465      1.199          3        640: 100%|██████████| 341/341 [00:50<00:00,  6.71it/s]\n",
      "                 Class     Images  Instances      Box(P          R      mAP50  mAP50-95): 100%|██████████| 43/43 [00:04<00:00,  9.38it/s]\n"
     ]
    },
    {
     "name": "stdout",
     "output_type": "stream",
     "text": [
      "                   all        341        864      0.984      0.975      0.991       0.77\n",
      "\n",
      "      Epoch    GPU_mem   box_loss   cls_loss   dfl_loss  Instances       Size\n"
     ]
    },
    {
     "name": "stderr",
     "output_type": "stream",
     "text": [
      "    137/200      4.39G     0.8503     0.3489       1.18          7        640: 100%|██████████| 341/341 [00:50<00:00,  6.73it/s]\n",
      "                 Class     Images  Instances      Box(P          R      mAP50  mAP50-95): 100%|██████████| 43/43 [00:04<00:00,  9.31it/s]\n"
     ]
    },
    {
     "name": "stdout",
     "output_type": "stream",
     "text": [
      "                   all        341        864      0.982      0.981      0.994       0.78\n",
      "\n",
      "      Epoch    GPU_mem   box_loss   cls_loss   dfl_loss  Instances       Size\n"
     ]
    },
    {
     "name": "stderr",
     "output_type": "stream",
     "text": [
      "    138/200      4.37G     0.8374     0.3405       1.19         13        640: 100%|██████████| 341/341 [00:50<00:00,  6.70it/s]\n",
      "                 Class     Images  Instances      Box(P          R      mAP50  mAP50-95): 100%|██████████| 43/43 [00:04<00:00,  9.30it/s]\n"
     ]
    },
    {
     "name": "stdout",
     "output_type": "stream",
     "text": [
      "                   all        341        864      0.983      0.982      0.994      0.779\n",
      "\n",
      "      Epoch    GPU_mem   box_loss   cls_loss   dfl_loss  Instances       Size\n"
     ]
    },
    {
     "name": "stderr",
     "output_type": "stream",
     "text": [
      "    139/200      4.39G     0.8386     0.3469      1.194          7        640: 100%|██████████| 341/341 [00:50<00:00,  6.70it/s]\n",
      "                 Class     Images  Instances      Box(P          R      mAP50  mAP50-95): 100%|██████████| 43/43 [00:04<00:00,  9.11it/s]\n"
     ]
    },
    {
     "name": "stdout",
     "output_type": "stream",
     "text": [
      "                   all        341        864      0.985      0.984      0.994      0.774\n",
      "\n",
      "      Epoch    GPU_mem   box_loss   cls_loss   dfl_loss  Instances       Size\n"
     ]
    },
    {
     "name": "stderr",
     "output_type": "stream",
     "text": [
      "    140/200      4.38G     0.8332     0.3475      1.192         25        640: 100%|██████████| 341/341 [00:50<00:00,  6.70it/s]\n",
      "                 Class     Images  Instances      Box(P          R      mAP50  mAP50-95): 100%|██████████| 43/43 [00:04<00:00,  9.42it/s]\n"
     ]
    },
    {
     "name": "stdout",
     "output_type": "stream",
     "text": [
      "                   all        341        864      0.983       0.98      0.994      0.772\n",
      "\n",
      "      Epoch    GPU_mem   box_loss   cls_loss   dfl_loss  Instances       Size\n"
     ]
    },
    {
     "name": "stderr",
     "output_type": "stream",
     "text": [
      "    141/200      4.38G     0.8372     0.3478      1.195          6        640: 100%|██████████| 341/341 [00:50<00:00,  6.81it/s]\n",
      "                 Class     Images  Instances      Box(P          R      mAP50  mAP50-95): 100%|██████████| 43/43 [00:04<00:00,  9.45it/s]"
     ]
    },
    {
     "name": "stdout",
     "output_type": "stream",
     "text": [
      "                   all        341        864      0.983      0.979      0.994      0.776\n"
     ]
    },
    {
     "name": "stderr",
     "output_type": "stream",
     "text": [
      "\n"
     ]
    },
    {
     "name": "stdout",
     "output_type": "stream",
     "text": [
      "\n",
      "      Epoch    GPU_mem   box_loss   cls_loss   dfl_loss  Instances       Size\n"
     ]
    },
    {
     "name": "stderr",
     "output_type": "stream",
     "text": [
      "    142/200      4.39G     0.8252     0.3431      1.192          3        640: 100%|██████████| 341/341 [00:50<00:00,  6.78it/s]\n",
      "                 Class     Images  Instances      Box(P          R      mAP50  mAP50-95): 100%|██████████| 43/43 [00:04<00:00,  9.48it/s]"
     ]
    },
    {
     "name": "stdout",
     "output_type": "stream",
     "text": [
      "                   all        341        864      0.986      0.981      0.994      0.776\n"
     ]
    },
    {
     "name": "stderr",
     "output_type": "stream",
     "text": [
      "\n"
     ]
    },
    {
     "name": "stdout",
     "output_type": "stream",
     "text": [
      "\n",
      "      Epoch    GPU_mem   box_loss   cls_loss   dfl_loss  Instances       Size\n"
     ]
    },
    {
     "name": "stderr",
     "output_type": "stream",
     "text": [
      "    143/200      4.38G     0.8149     0.3387       1.18         14        640: 100%|██████████| 341/341 [00:50<00:00,  6.76it/s]\n",
      "                 Class     Images  Instances      Box(P          R      mAP50  mAP50-95): 100%|██████████| 43/43 [00:04<00:00,  9.38it/s]\n"
     ]
    },
    {
     "name": "stdout",
     "output_type": "stream",
     "text": [
      "                   all        341        864      0.983      0.984      0.993      0.774\n",
      "\n",
      "      Epoch    GPU_mem   box_loss   cls_loss   dfl_loss  Instances       Size\n"
     ]
    },
    {
     "name": "stderr",
     "output_type": "stream",
     "text": [
      "    144/200      4.42G     0.8153     0.3426      1.183          5        640: 100%|██████████| 341/341 [00:50<00:00,  6.81it/s]\n",
      "                 Class     Images  Instances      Box(P          R      mAP50  mAP50-95): 100%|██████████| 43/43 [00:04<00:00,  9.41it/s]\n"
     ]
    },
    {
     "name": "stdout",
     "output_type": "stream",
     "text": [
      "                   all        341        864      0.991      0.979      0.994      0.776\n",
      "\n",
      "      Epoch    GPU_mem   box_loss   cls_loss   dfl_loss  Instances       Size\n"
     ]
    },
    {
     "name": "stderr",
     "output_type": "stream",
     "text": [
      "    145/200      4.39G     0.8372     0.3425       1.19          4        640: 100%|██████████| 341/341 [00:50<00:00,  6.79it/s]\n",
      "                 Class     Images  Instances      Box(P          R      mAP50  mAP50-95): 100%|██████████| 43/43 [00:04<00:00,  9.46it/s]\n"
     ]
    },
    {
     "name": "stdout",
     "output_type": "stream",
     "text": [
      "                   all        341        864      0.987      0.984      0.994      0.781\n",
      "\n",
      "      Epoch    GPU_mem   box_loss   cls_loss   dfl_loss  Instances       Size\n"
     ]
    },
    {
     "name": "stderr",
     "output_type": "stream",
     "text": [
      "    146/200      4.39G     0.8297     0.3413      1.187          7        640: 100%|██████████| 341/341 [00:50<00:00,  6.76it/s]\n",
      "                 Class     Images  Instances      Box(P          R      mAP50  mAP50-95): 100%|██████████| 43/43 [00:04<00:00,  9.46it/s]\n"
     ]
    },
    {
     "name": "stdout",
     "output_type": "stream",
     "text": [
      "                   all        341        864      0.983      0.982      0.994      0.777\n",
      "\n",
      "      Epoch    GPU_mem   box_loss   cls_loss   dfl_loss  Instances       Size\n"
     ]
    },
    {
     "name": "stderr",
     "output_type": "stream",
     "text": [
      "    147/200      4.38G     0.8194     0.3427      1.195         12        640: 100%|██████████| 341/341 [00:50<00:00,  6.80it/s]\n",
      "                 Class     Images  Instances      Box(P          R      mAP50  mAP50-95): 100%|██████████| 43/43 [00:04<00:00,  9.39it/s]"
     ]
    },
    {
     "name": "stdout",
     "output_type": "stream",
     "text": [
      "                   all        341        864      0.983      0.977      0.994      0.779\n"
     ]
    },
    {
     "name": "stderr",
     "output_type": "stream",
     "text": [
      "\n"
     ]
    },
    {
     "name": "stdout",
     "output_type": "stream",
     "text": [
      "\n",
      "      Epoch    GPU_mem   box_loss   cls_loss   dfl_loss  Instances       Size\n"
     ]
    },
    {
     "name": "stderr",
     "output_type": "stream",
     "text": [
      "    148/200       4.4G     0.8206     0.3366      1.182          6        640: 100%|██████████| 341/341 [00:50<00:00,  6.79it/s]\n",
      "                 Class     Images  Instances      Box(P          R      mAP50  mAP50-95): 100%|██████████| 43/43 [00:04<00:00,  9.43it/s]\n"
     ]
    },
    {
     "name": "stdout",
     "output_type": "stream",
     "text": [
      "                   all        341        864      0.985      0.984      0.994      0.776\n",
      "\n",
      "      Epoch    GPU_mem   box_loss   cls_loss   dfl_loss  Instances       Size\n"
     ]
    },
    {
     "name": "stderr",
     "output_type": "stream",
     "text": [
      "    149/200      4.38G      0.808     0.3307      1.177         12        640: 100%|██████████| 341/341 [00:50<00:00,  6.78it/s]\n",
      "                 Class     Images  Instances      Box(P          R      mAP50  mAP50-95): 100%|██████████| 43/43 [00:04<00:00,  9.44it/s]\n"
     ]
    },
    {
     "name": "stdout",
     "output_type": "stream",
     "text": [
      "                   all        341        864      0.983      0.981      0.994      0.775\n",
      "\n",
      "      Epoch    GPU_mem   box_loss   cls_loss   dfl_loss  Instances       Size\n"
     ]
    },
    {
     "name": "stderr",
     "output_type": "stream",
     "text": [
      "    150/200      4.39G     0.8272     0.3374      1.174         26        640: 100%|██████████| 341/341 [00:50<00:00,  6.80it/s]\n",
      "                 Class     Images  Instances      Box(P          R      mAP50  mAP50-95): 100%|██████████| 43/43 [00:04<00:00,  9.44it/s]\n"
     ]
    },
    {
     "name": "stdout",
     "output_type": "stream",
     "text": [
      "                   all        341        864       0.98      0.983      0.994      0.778\n",
      "\n",
      "      Epoch    GPU_mem   box_loss   cls_loss   dfl_loss  Instances       Size\n"
     ]
    },
    {
     "name": "stderr",
     "output_type": "stream",
     "text": [
      "    151/200       4.4G     0.8036     0.3365      1.176         20        640: 100%|██████████| 341/341 [00:50<00:00,  6.78it/s]\n",
      "                 Class     Images  Instances      Box(P          R      mAP50  mAP50-95): 100%|██████████| 43/43 [00:04<00:00,  9.32it/s]\n"
     ]
    },
    {
     "name": "stdout",
     "output_type": "stream",
     "text": [
      "                   all        341        864      0.983      0.987      0.994      0.782\n",
      "\n",
      "      Epoch    GPU_mem   box_loss   cls_loss   dfl_loss  Instances       Size\n"
     ]
    },
    {
     "name": "stderr",
     "output_type": "stream",
     "text": [
      "    152/200      4.39G     0.8144     0.3372       1.18          8        640: 100%|██████████| 341/341 [00:50<00:00,  6.73it/s]\n",
      "                 Class     Images  Instances      Box(P          R      mAP50  mAP50-95): 100%|██████████| 43/43 [00:04<00:00,  9.34it/s]\n"
     ]
    },
    {
     "name": "stdout",
     "output_type": "stream",
     "text": [
      "                   all        341        864      0.978      0.986      0.994      0.775\n",
      "\n",
      "      Epoch    GPU_mem   box_loss   cls_loss   dfl_loss  Instances       Size\n"
     ]
    },
    {
     "name": "stderr",
     "output_type": "stream",
     "text": [
      "    153/200      4.37G       0.81     0.3385      1.167         15        640: 100%|██████████| 341/341 [00:50<00:00,  6.73it/s]\n",
      "                 Class     Images  Instances      Box(P          R      mAP50  mAP50-95): 100%|██████████| 43/43 [00:04<00:00,  9.38it/s]\n"
     ]
    },
    {
     "name": "stdout",
     "output_type": "stream",
     "text": [
      "                   all        341        864      0.981      0.978      0.993      0.778\n",
      "\n",
      "      Epoch    GPU_mem   box_loss   cls_loss   dfl_loss  Instances       Size\n"
     ]
    },
    {
     "name": "stderr",
     "output_type": "stream",
     "text": [
      "    154/200      4.38G     0.8156     0.3376       1.18          3        640: 100%|██████████| 341/341 [00:50<00:00,  6.78it/s]\n",
      "                 Class     Images  Instances      Box(P          R      mAP50  mAP50-95): 100%|██████████| 43/43 [00:04<00:00,  9.28it/s]\n"
     ]
    },
    {
     "name": "stdout",
     "output_type": "stream",
     "text": [
      "                   all        341        864      0.977       0.98      0.994      0.773\n",
      "\n",
      "      Epoch    GPU_mem   box_loss   cls_loss   dfl_loss  Instances       Size\n"
     ]
    },
    {
     "name": "stderr",
     "output_type": "stream",
     "text": [
      "    155/200      4.38G     0.8134     0.3399      1.186          5        640: 100%|██████████| 341/341 [00:50<00:00,  6.70it/s]\n",
      "                 Class     Images  Instances      Box(P          R      mAP50  mAP50-95): 100%|██████████| 43/43 [00:04<00:00,  9.32it/s]"
     ]
    },
    {
     "name": "stdout",
     "output_type": "stream",
     "text": [
      "                   all        341        864      0.982      0.975      0.992      0.771\n"
     ]
    },
    {
     "name": "stderr",
     "output_type": "stream",
     "text": [
      "\n"
     ]
    },
    {
     "name": "stdout",
     "output_type": "stream",
     "text": [
      "\n",
      "      Epoch    GPU_mem   box_loss   cls_loss   dfl_loss  Instances       Size\n"
     ]
    },
    {
     "name": "stderr",
     "output_type": "stream",
     "text": [
      "    156/200      4.37G     0.8027     0.3319      1.172          3        640: 100%|██████████| 341/341 [00:50<00:00,  6.69it/s]\n",
      "                 Class     Images  Instances      Box(P          R      mAP50  mAP50-95): 100%|██████████| 43/43 [00:04<00:00,  9.03it/s]\n"
     ]
    },
    {
     "name": "stdout",
     "output_type": "stream",
     "text": [
      "                   all        341        864       0.98      0.977      0.993      0.771\n",
      "\n",
      "      Epoch    GPU_mem   box_loss   cls_loss   dfl_loss  Instances       Size\n"
     ]
    },
    {
     "name": "stderr",
     "output_type": "stream",
     "text": [
      "    157/200      4.38G     0.7971     0.3318      1.167          8        640: 100%|██████████| 341/341 [00:50<00:00,  6.73it/s]\n",
      "                 Class     Images  Instances      Box(P          R      mAP50  mAP50-95): 100%|██████████| 43/43 [00:04<00:00,  9.29it/s]\n"
     ]
    },
    {
     "name": "stdout",
     "output_type": "stream",
     "text": [
      "                   all        341        864      0.982      0.978      0.992      0.773\n",
      "\n",
      "      Epoch    GPU_mem   box_loss   cls_loss   dfl_loss  Instances       Size\n"
     ]
    },
    {
     "name": "stderr",
     "output_type": "stream",
     "text": [
      "    158/200      4.38G     0.7951      0.333       1.17          3        640: 100%|██████████| 341/341 [00:50<00:00,  6.73it/s]\n",
      "                 Class     Images  Instances      Box(P          R      mAP50  mAP50-95): 100%|██████████| 43/43 [00:04<00:00,  9.29it/s]"
     ]
    },
    {
     "name": "stdout",
     "output_type": "stream",
     "text": [
      "                   all        341        864      0.984      0.979      0.993      0.773\n"
     ]
    },
    {
     "name": "stderr",
     "output_type": "stream",
     "text": [
      "\n"
     ]
    },
    {
     "name": "stdout",
     "output_type": "stream",
     "text": [
      "\n",
      "      Epoch    GPU_mem   box_loss   cls_loss   dfl_loss  Instances       Size\n"
     ]
    },
    {
     "name": "stderr",
     "output_type": "stream",
     "text": [
      "    159/200      4.38G      0.808     0.3312      1.174          5        640: 100%|██████████| 341/341 [00:50<00:00,  6.72it/s]\n",
      "                 Class     Images  Instances      Box(P          R      mAP50  mAP50-95): 100%|██████████| 43/43 [00:04<00:00,  9.32it/s]\n"
     ]
    },
    {
     "name": "stdout",
     "output_type": "stream",
     "text": [
      "                   all        341        864      0.984       0.98      0.993      0.773\n",
      "\n",
      "      Epoch    GPU_mem   box_loss   cls_loss   dfl_loss  Instances       Size\n"
     ]
    },
    {
     "name": "stderr",
     "output_type": "stream",
     "text": [
      "    160/200       4.4G     0.7963     0.3346       1.17         10        640: 100%|██████████| 341/341 [00:50<00:00,  6.72it/s]\n",
      "                 Class     Images  Instances      Box(P          R      mAP50  mAP50-95): 100%|██████████| 43/43 [00:04<00:00,  9.42it/s]"
     ]
    },
    {
     "name": "stdout",
     "output_type": "stream",
     "text": [
      "                   all        341        864      0.979      0.978      0.992      0.772\n"
     ]
    },
    {
     "name": "stderr",
     "output_type": "stream",
     "text": [
      "\n"
     ]
    },
    {
     "name": "stdout",
     "output_type": "stream",
     "text": [
      "\n",
      "      Epoch    GPU_mem   box_loss   cls_loss   dfl_loss  Instances       Size\n"
     ]
    },
    {
     "name": "stderr",
     "output_type": "stream",
     "text": [
      "    161/200      4.39G     0.8049     0.3311      1.175         13        640: 100%|██████████| 341/341 [00:50<00:00,  6.79it/s]\n",
      "                 Class     Images  Instances      Box(P          R      mAP50  mAP50-95): 100%|██████████| 43/43 [00:04<00:00,  9.50it/s]\n"
     ]
    },
    {
     "name": "stdout",
     "output_type": "stream",
     "text": [
      "                   all        341        864      0.976      0.979      0.992      0.772\n",
      "\n",
      "      Epoch    GPU_mem   box_loss   cls_loss   dfl_loss  Instances       Size\n"
     ]
    },
    {
     "name": "stderr",
     "output_type": "stream",
     "text": [
      "    162/200      4.39G     0.8007     0.3245      1.168         13        640: 100%|██████████| 341/341 [00:49<00:00,  6.83it/s]\n",
      "                 Class     Images  Instances      Box(P          R      mAP50  mAP50-95): 100%|██████████| 43/43 [00:04<00:00,  9.54it/s]\n"
     ]
    },
    {
     "name": "stdout",
     "output_type": "stream",
     "text": [
      "                   all        341        864      0.986       0.98      0.994      0.774\n",
      "\n",
      "      Epoch    GPU_mem   box_loss   cls_loss   dfl_loss  Instances       Size\n"
     ]
    },
    {
     "name": "stderr",
     "output_type": "stream",
     "text": [
      "    163/200       4.4G      0.795      0.328      1.154         12        640: 100%|██████████| 341/341 [00:50<00:00,  6.74it/s]\n",
      "                 Class     Images  Instances      Box(P          R      mAP50  mAP50-95): 100%|██████████| 43/43 [00:04<00:00,  9.56it/s]\n"
     ]
    },
    {
     "name": "stdout",
     "output_type": "stream",
     "text": [
      "                   all        341        864      0.979      0.984      0.993      0.776\n",
      "\n",
      "      Epoch    GPU_mem   box_loss   cls_loss   dfl_loss  Instances       Size\n"
     ]
    },
    {
     "name": "stderr",
     "output_type": "stream",
     "text": [
      "    164/200      4.39G     0.7985      0.331      1.172          7        640: 100%|██████████| 341/341 [00:49<00:00,  6.83it/s]\n",
      "                 Class     Images  Instances      Box(P          R      mAP50  mAP50-95): 100%|██████████| 43/43 [00:04<00:00,  9.52it/s]\n"
     ]
    },
    {
     "name": "stdout",
     "output_type": "stream",
     "text": [
      "                   all        341        864      0.983      0.979      0.993      0.775\n",
      "\n",
      "      Epoch    GPU_mem   box_loss   cls_loss   dfl_loss  Instances       Size\n"
     ]
    },
    {
     "name": "stderr",
     "output_type": "stream",
     "text": [
      "    165/200      4.39G     0.7891     0.3233      1.169          7        640: 100%|██████████| 341/341 [00:49<00:00,  6.83it/s]\n",
      "                 Class     Images  Instances      Box(P          R      mAP50  mAP50-95): 100%|██████████| 43/43 [00:04<00:00,  9.56it/s]\n"
     ]
    },
    {
     "name": "stdout",
     "output_type": "stream",
     "text": [
      "                   all        341        864      0.975      0.979      0.993      0.775\n",
      "\n",
      "      Epoch    GPU_mem   box_loss   cls_loss   dfl_loss  Instances       Size\n"
     ]
    },
    {
     "name": "stderr",
     "output_type": "stream",
     "text": [
      "    166/200      4.38G     0.7897     0.3234      1.157         12        640: 100%|██████████| 341/341 [00:50<00:00,  6.78it/s]\n",
      "                 Class     Images  Instances      Box(P          R      mAP50  mAP50-95): 100%|██████████| 43/43 [00:04<00:00,  9.40it/s]"
     ]
    },
    {
     "name": "stdout",
     "output_type": "stream",
     "text": [
      "                   all        341        864      0.983      0.981      0.994      0.767\n"
     ]
    },
    {
     "name": "stderr",
     "output_type": "stream",
     "text": [
      "\n"
     ]
    },
    {
     "name": "stdout",
     "output_type": "stream",
     "text": [
      "\n",
      "      Epoch    GPU_mem   box_loss   cls_loss   dfl_loss  Instances       Size\n"
     ]
    },
    {
     "name": "stderr",
     "output_type": "stream",
     "text": [
      "    167/200       4.4G     0.7808     0.3261      1.156          6        640: 100%|██████████| 341/341 [00:50<00:00,  6.69it/s]\n",
      "                 Class     Images  Instances      Box(P          R      mAP50  mAP50-95): 100%|██████████| 43/43 [00:04<00:00,  8.64it/s]"
     ]
    },
    {
     "name": "stdout",
     "output_type": "stream",
     "text": [
      "                   all        341        864       0.98      0.981      0.993       0.77\n"
     ]
    },
    {
     "name": "stderr",
     "output_type": "stream",
     "text": [
      "\n"
     ]
    },
    {
     "name": "stdout",
     "output_type": "stream",
     "text": [
      "\n",
      "      Epoch    GPU_mem   box_loss   cls_loss   dfl_loss  Instances       Size\n"
     ]
    },
    {
     "name": "stderr",
     "output_type": "stream",
     "text": [
      "    168/200      4.39G      0.771     0.3215      1.166         22        640: 100%|██████████| 341/341 [00:51<00:00,  6.68it/s]\n",
      "                 Class     Images  Instances      Box(P          R      mAP50  mAP50-95): 100%|██████████| 43/43 [00:04<00:00,  8.71it/s]\n"
     ]
    },
    {
     "name": "stdout",
     "output_type": "stream",
     "text": [
      "                   all        341        864      0.981      0.977      0.993      0.776\n",
      "\n",
      "      Epoch    GPU_mem   box_loss   cls_loss   dfl_loss  Instances       Size\n"
     ]
    },
    {
     "name": "stderr",
     "output_type": "stream",
     "text": [
      "    169/200      4.38G     0.7742     0.3201      1.156          5        640: 100%|██████████| 341/341 [00:51<00:00,  6.66it/s]\n",
      "                 Class     Images  Instances      Box(P          R      mAP50  mAP50-95): 100%|██████████| 43/43 [00:04<00:00,  9.32it/s]"
     ]
    },
    {
     "name": "stdout",
     "output_type": "stream",
     "text": [
      "                   all        341        864      0.976      0.986      0.994      0.774\n"
     ]
    },
    {
     "name": "stderr",
     "output_type": "stream",
     "text": [
      "\n"
     ]
    },
    {
     "name": "stdout",
     "output_type": "stream",
     "text": [
      "\n",
      "      Epoch    GPU_mem   box_loss   cls_loss   dfl_loss  Instances       Size\n"
     ]
    },
    {
     "name": "stderr",
     "output_type": "stream",
     "text": [
      "    170/200      4.39G     0.7707     0.3159      1.143         16        640: 100%|██████████| 341/341 [00:50<00:00,  6.76it/s]\n",
      "                 Class     Images  Instances      Box(P          R      mAP50  mAP50-95): 100%|██████████| 43/43 [00:04<00:00,  8.72it/s]"
     ]
    },
    {
     "name": "stdout",
     "output_type": "stream",
     "text": [
      "                   all        341        864       0.98      0.978      0.993       0.77\n"
     ]
    },
    {
     "name": "stderr",
     "output_type": "stream",
     "text": [
      "\n"
     ]
    },
    {
     "name": "stdout",
     "output_type": "stream",
     "text": [
      "\n",
      "      Epoch    GPU_mem   box_loss   cls_loss   dfl_loss  Instances       Size\n"
     ]
    },
    {
     "name": "stderr",
     "output_type": "stream",
     "text": [
      "    171/200      4.39G     0.7676     0.3169      1.151         52        640: 100%|██████████| 341/341 [00:51<00:00,  6.68it/s]\n",
      "                 Class     Images  Instances      Box(P          R      mAP50  mAP50-95): 100%|██████████| 43/43 [00:04<00:00,  8.72it/s]\n"
     ]
    },
    {
     "name": "stdout",
     "output_type": "stream",
     "text": [
      "                   all        341        864      0.975      0.975      0.992      0.776\n",
      "\n",
      "      Epoch    GPU_mem   box_loss   cls_loss   dfl_loss  Instances       Size\n"
     ]
    },
    {
     "name": "stderr",
     "output_type": "stream",
     "text": [
      "    172/200      4.39G     0.7779     0.3201      1.163         12        640: 100%|██████████| 341/341 [00:51<00:00,  6.67it/s]\n",
      "                 Class     Images  Instances      Box(P          R      mAP50  mAP50-95): 100%|██████████| 43/43 [00:04<00:00,  8.72it/s]"
     ]
    },
    {
     "name": "stdout",
     "output_type": "stream",
     "text": [
      "                   all        341        864       0.98      0.976      0.991      0.771\n"
     ]
    },
    {
     "name": "stderr",
     "output_type": "stream",
     "text": [
      "\n"
     ]
    },
    {
     "name": "stdout",
     "output_type": "stream",
     "text": [
      "\n",
      "      Epoch    GPU_mem   box_loss   cls_loss   dfl_loss  Instances       Size\n"
     ]
    },
    {
     "name": "stderr",
     "output_type": "stream",
     "text": [
      "    173/200      4.37G     0.7689     0.3166      1.143         11        640: 100%|██████████| 341/341 [00:51<00:00,  6.68it/s]\n",
      "                 Class     Images  Instances      Box(P          R      mAP50  mAP50-95): 100%|██████████| 43/43 [00:04<00:00,  8.71it/s]\n"
     ]
    },
    {
     "name": "stdout",
     "output_type": "stream",
     "text": [
      "                   all        341        864      0.978      0.977      0.993      0.767\n",
      "\n",
      "      Epoch    GPU_mem   box_loss   cls_loss   dfl_loss  Instances       Size\n"
     ]
    },
    {
     "name": "stderr",
     "output_type": "stream",
     "text": [
      "    174/200      4.38G     0.7601     0.3135      1.149         18        640: 100%|██████████| 341/341 [00:51<00:00,  6.66it/s]\n",
      "                 Class     Images  Instances      Box(P          R      mAP50  mAP50-95): 100%|██████████| 43/43 [00:04<00:00,  8.68it/s]"
     ]
    },
    {
     "name": "stdout",
     "output_type": "stream",
     "text": [
      "                   all        341        864       0.98      0.976      0.993       0.77\n"
     ]
    },
    {
     "name": "stderr",
     "output_type": "stream",
     "text": [
      "\n"
     ]
    },
    {
     "name": "stdout",
     "output_type": "stream",
     "text": [
      "\n",
      "      Epoch    GPU_mem   box_loss   cls_loss   dfl_loss  Instances       Size\n"
     ]
    },
    {
     "name": "stderr",
     "output_type": "stream",
     "text": [
      "    175/200      4.39G     0.7596     0.3102      1.144         10        640: 100%|██████████| 341/341 [00:51<00:00,  6.66it/s]\n",
      "                 Class     Images  Instances      Box(P          R      mAP50  mAP50-95): 100%|██████████| 43/43 [00:04<00:00,  8.66it/s]"
     ]
    },
    {
     "name": "stdout",
     "output_type": "stream",
     "text": [
      "                   all        341        864      0.976      0.981      0.993      0.768\n"
     ]
    },
    {
     "name": "stderr",
     "output_type": "stream",
     "text": [
      "\n"
     ]
    },
    {
     "name": "stdout",
     "output_type": "stream",
     "text": [
      "\n",
      "      Epoch    GPU_mem   box_loss   cls_loss   dfl_loss  Instances       Size\n"
     ]
    },
    {
     "name": "stderr",
     "output_type": "stream",
     "text": [
      "    176/200      4.38G     0.7604     0.3193      1.146         12        640: 100%|██████████| 341/341 [00:51<00:00,  6.67it/s]\n",
      "                 Class     Images  Instances      Box(P          R      mAP50  mAP50-95): 100%|██████████| 43/43 [00:04<00:00,  8.70it/s]"
     ]
    },
    {
     "name": "stdout",
     "output_type": "stream",
     "text": [
      "                   all        341        864      0.981       0.98      0.993      0.769\n"
     ]
    },
    {
     "name": "stderr",
     "output_type": "stream",
     "text": [
      "\n"
     ]
    },
    {
     "name": "stdout",
     "output_type": "stream",
     "text": [
      "\n",
      "      Epoch    GPU_mem   box_loss   cls_loss   dfl_loss  Instances       Size\n"
     ]
    },
    {
     "name": "stderr",
     "output_type": "stream",
     "text": [
      "    177/200      4.38G     0.7504     0.3109      1.128         18        640: 100%|██████████| 341/341 [00:51<00:00,  6.67it/s]\n",
      "                 Class     Images  Instances      Box(P          R      mAP50  mAP50-95): 100%|██████████| 43/43 [00:04<00:00,  8.67it/s]"
     ]
    },
    {
     "name": "stdout",
     "output_type": "stream",
     "text": [
      "                   all        341        864      0.975      0.984      0.993       0.77\n"
     ]
    },
    {
     "name": "stderr",
     "output_type": "stream",
     "text": [
      "\n"
     ]
    },
    {
     "name": "stdout",
     "output_type": "stream",
     "text": [
      "\n",
      "      Epoch    GPU_mem   box_loss   cls_loss   dfl_loss  Instances       Size\n"
     ]
    },
    {
     "name": "stderr",
     "output_type": "stream",
     "text": [
      "    178/200      4.38G     0.7533     0.3119      1.146          9        640: 100%|██████████| 341/341 [00:51<00:00,  6.67it/s]\n",
      "                 Class     Images  Instances      Box(P          R      mAP50  mAP50-95): 100%|██████████| 43/43 [00:04<00:00,  8.70it/s]"
     ]
    },
    {
     "name": "stdout",
     "output_type": "stream",
     "text": [
      "                   all        341        864      0.973      0.976       0.99      0.771\n"
     ]
    },
    {
     "name": "stderr",
     "output_type": "stream",
     "text": [
      "\n"
     ]
    },
    {
     "name": "stdout",
     "output_type": "stream",
     "text": [
      "\n",
      "      Epoch    GPU_mem   box_loss   cls_loss   dfl_loss  Instances       Size\n"
     ]
    },
    {
     "name": "stderr",
     "output_type": "stream",
     "text": [
      "    179/200       4.4G     0.7663     0.3153      1.137          5        640: 100%|██████████| 341/341 [00:51<00:00,  6.66it/s]\n",
      "                 Class     Images  Instances      Box(P          R      mAP50  mAP50-95): 100%|██████████| 43/43 [00:04<00:00,  8.70it/s]"
     ]
    },
    {
     "name": "stdout",
     "output_type": "stream",
     "text": [
      "                   all        341        864      0.971      0.976      0.992      0.769\n"
     ]
    },
    {
     "name": "stderr",
     "output_type": "stream",
     "text": [
      "\n"
     ]
    },
    {
     "name": "stdout",
     "output_type": "stream",
     "text": [
      "\n",
      "      Epoch    GPU_mem   box_loss   cls_loss   dfl_loss  Instances       Size\n"
     ]
    },
    {
     "name": "stderr",
     "output_type": "stream",
     "text": [
      "    180/200       4.4G     0.7481     0.3102      1.138         10        640: 100%|██████████| 341/341 [00:51<00:00,  6.65it/s]\n",
      "                 Class     Images  Instances      Box(P          R      mAP50  mAP50-95): 100%|██████████| 43/43 [00:04<00:00,  8.70it/s]\n"
     ]
    },
    {
     "name": "stdout",
     "output_type": "stream",
     "text": [
      "                   all        341        864      0.976      0.975      0.992      0.766\n",
      "\n",
      "      Epoch    GPU_mem   box_loss   cls_loss   dfl_loss  Instances       Size\n"
     ]
    },
    {
     "name": "stderr",
     "output_type": "stream",
     "text": [
      "    181/200      4.39G     0.7565     0.3122      1.142         10        640: 100%|██████████| 341/341 [00:51<00:00,  6.68it/s]\n",
      "                 Class     Images  Instances      Box(P          R      mAP50  mAP50-95): 100%|██████████| 43/43 [00:04<00:00,  8.72it/s]\n"
     ]
    },
    {
     "name": "stdout",
     "output_type": "stream",
     "text": [
      "                   all        341        864      0.978      0.974       0.99      0.769\n",
      "\n",
      "      Epoch    GPU_mem   box_loss   cls_loss   dfl_loss  Instances       Size\n"
     ]
    },
    {
     "name": "stderr",
     "output_type": "stream",
     "text": [
      "    182/200      4.39G     0.7512     0.3121      1.136         10        640: 100%|██████████| 341/341 [00:51<00:00,  6.68it/s]\n",
      "                 Class     Images  Instances      Box(P          R      mAP50  mAP50-95): 100%|██████████| 43/43 [00:04<00:00,  8.73it/s]\n"
     ]
    },
    {
     "name": "stdout",
     "output_type": "stream",
     "text": [
      "                   all        341        864      0.978      0.972      0.991      0.768\n",
      "\n",
      "      Epoch    GPU_mem   box_loss   cls_loss   dfl_loss  Instances       Size\n"
     ]
    },
    {
     "name": "stderr",
     "output_type": "stream",
     "text": [
      "    183/200       4.4G     0.7499     0.3117      1.148         13        640: 100%|██████████| 341/341 [00:51<00:00,  6.68it/s]\n",
      "                 Class     Images  Instances      Box(P          R      mAP50  mAP50-95): 100%|██████████| 43/43 [00:04<00:00,  8.72it/s]\n"
     ]
    },
    {
     "name": "stdout",
     "output_type": "stream",
     "text": [
      "                   all        341        864      0.977      0.976      0.993      0.769\n",
      "\n",
      "      Epoch    GPU_mem   box_loss   cls_loss   dfl_loss  Instances       Size\n"
     ]
    },
    {
     "name": "stderr",
     "output_type": "stream",
     "text": [
      "    184/200      4.39G     0.7574     0.3115      1.141          3        640: 100%|██████████| 341/341 [00:51<00:00,  6.68it/s]\n",
      "                 Class     Images  Instances      Box(P          R      mAP50  mAP50-95): 100%|██████████| 43/43 [00:04<00:00,  8.73it/s]\n"
     ]
    },
    {
     "name": "stdout",
     "output_type": "stream",
     "text": [
      "                   all        341        864      0.974      0.976      0.991      0.766\n",
      "\n",
      "      Epoch    GPU_mem   box_loss   cls_loss   dfl_loss  Instances       Size\n"
     ]
    },
    {
     "name": "stderr",
     "output_type": "stream",
     "text": [
      "    185/200      4.38G     0.7458     0.3069      1.138          5        640: 100%|██████████| 341/341 [00:51<00:00,  6.68it/s]\n",
      "                 Class     Images  Instances      Box(P          R      mAP50  mAP50-95): 100%|██████████| 43/43 [00:04<00:00,  8.73it/s]\n"
     ]
    },
    {
     "name": "stdout",
     "output_type": "stream",
     "text": [
      "                   all        341        864      0.975      0.977       0.99      0.768\n",
      "\n",
      "      Epoch    GPU_mem   box_loss   cls_loss   dfl_loss  Instances       Size\n"
     ]
    },
    {
     "name": "stderr",
     "output_type": "stream",
     "text": [
      "    186/200      4.38G     0.7389     0.3065      1.124          3        640: 100%|██████████| 341/341 [00:51<00:00,  6.68it/s]\n",
      "                 Class     Images  Instances      Box(P          R      mAP50  mAP50-95): 100%|██████████| 43/43 [00:04<00:00,  8.72it/s]\n"
     ]
    },
    {
     "name": "stdout",
     "output_type": "stream",
     "text": [
      "                   all        341        864      0.975      0.977      0.992      0.768\n",
      "\n",
      "      Epoch    GPU_mem   box_loss   cls_loss   dfl_loss  Instances       Size\n"
     ]
    },
    {
     "name": "stderr",
     "output_type": "stream",
     "text": [
      "    187/200      4.39G     0.7417     0.3105      1.144          2        640: 100%|██████████| 341/341 [00:50<00:00,  6.69it/s]\n",
      "                 Class     Images  Instances      Box(P          R      mAP50  mAP50-95): 100%|██████████| 43/43 [00:04<00:00,  8.71it/s]"
     ]
    },
    {
     "name": "stdout",
     "output_type": "stream",
     "text": [
      "                   all        341        864      0.977      0.973      0.991      0.771\n"
     ]
    },
    {
     "name": "stderr",
     "output_type": "stream",
     "text": [
      "\n"
     ]
    },
    {
     "name": "stdout",
     "output_type": "stream",
     "text": [
      "\n",
      "      Epoch    GPU_mem   box_loss   cls_loss   dfl_loss  Instances       Size\n"
     ]
    },
    {
     "name": "stderr",
     "output_type": "stream",
     "text": [
      "    188/200       4.4G     0.7338     0.3021      1.139         19        640: 100%|██████████| 341/341 [00:51<00:00,  6.68it/s]\n",
      "                 Class     Images  Instances      Box(P          R      mAP50  mAP50-95): 100%|██████████| 43/43 [00:04<00:00,  8.72it/s]\n"
     ]
    },
    {
     "name": "stdout",
     "output_type": "stream",
     "text": [
      "                   all        341        864      0.982      0.971      0.992       0.77\n",
      "\n",
      "      Epoch    GPU_mem   box_loss   cls_loss   dfl_loss  Instances       Size\n"
     ]
    },
    {
     "name": "stderr",
     "output_type": "stream",
     "text": [
      "    189/200      4.39G     0.7531      0.308      1.137         11        640: 100%|██████████| 341/341 [00:50<00:00,  6.69it/s]\n",
      "                 Class     Images  Instances      Box(P          R      mAP50  mAP50-95): 100%|██████████| 43/43 [00:04<00:00,  8.67it/s]\n"
     ]
    },
    {
     "name": "stdout",
     "output_type": "stream",
     "text": [
      "                   all        341        864      0.973      0.977      0.992       0.77\n",
      "\n",
      "      Epoch    GPU_mem   box_loss   cls_loss   dfl_loss  Instances       Size\n"
     ]
    },
    {
     "name": "stderr",
     "output_type": "stream",
     "text": [
      "    190/200       4.4G     0.7353     0.3025      1.131         16        640: 100%|██████████| 341/341 [00:51<00:00,  6.69it/s]\n",
      "                 Class     Images  Instances      Box(P          R      mAP50  mAP50-95): 100%|██████████| 43/43 [00:04<00:00,  8.73it/s]"
     ]
    },
    {
     "name": "stdout",
     "output_type": "stream",
     "text": [
      "                   all        341        864      0.976      0.976      0.991      0.768\n"
     ]
    },
    {
     "name": "stderr",
     "output_type": "stream",
     "text": [
      "\n"
     ]
    },
    {
     "name": "stdout",
     "output_type": "stream",
     "text": [
      "Closing dataloader mosaic\n",
      "\n",
      "      Epoch    GPU_mem   box_loss   cls_loss   dfl_loss  Instances       Size\n"
     ]
    },
    {
     "name": "stderr",
     "output_type": "stream",
     "text": [
      "    191/200      4.38G     0.7077     0.2691      1.175          7        640: 100%|██████████| 341/341 [00:51<00:00,  6.68it/s]\n",
      "                 Class     Images  Instances      Box(P          R      mAP50  mAP50-95): 100%|██████████| 43/43 [00:04<00:00,  8.74it/s]\n"
     ]
    },
    {
     "name": "stdout",
     "output_type": "stream",
     "text": [
      "                   all        341        864      0.973      0.973      0.989      0.767\n",
      "\n",
      "      Epoch    GPU_mem   box_loss   cls_loss   dfl_loss  Instances       Size\n"
     ]
    },
    {
     "name": "stderr",
     "output_type": "stream",
     "text": [
      "    192/200       4.4G     0.7027     0.2677      1.172          5        640: 100%|██████████| 341/341 [00:50<00:00,  6.69it/s]\n",
      "                 Class     Images  Instances      Box(P          R      mAP50  mAP50-95): 100%|██████████| 43/43 [00:04<00:00,  8.69it/s]"
     ]
    },
    {
     "name": "stdout",
     "output_type": "stream",
     "text": [
      "                   all        341        864      0.977      0.976      0.991       0.77\n"
     ]
    },
    {
     "name": "stderr",
     "output_type": "stream",
     "text": [
      "\n"
     ]
    },
    {
     "name": "stdout",
     "output_type": "stream",
     "text": [
      "\n",
      "      Epoch    GPU_mem   box_loss   cls_loss   dfl_loss  Instances       Size\n"
     ]
    },
    {
     "name": "stderr",
     "output_type": "stream",
     "text": [
      "    193/200      4.39G     0.6989     0.2669      1.162         11        640: 100%|██████████| 341/341 [00:51<00:00,  6.68it/s]\n",
      "                 Class     Images  Instances      Box(P          R      mAP50  mAP50-95): 100%|██████████| 43/43 [00:04<00:00,  8.70it/s]\n"
     ]
    },
    {
     "name": "stdout",
     "output_type": "stream",
     "text": [
      "                   all        341        864      0.974       0.98      0.993      0.766\n",
      "\n",
      "      Epoch    GPU_mem   box_loss   cls_loss   dfl_loss  Instances       Size\n"
     ]
    },
    {
     "name": "stderr",
     "output_type": "stream",
     "text": [
      "    194/200      4.39G        0.7     0.2677      1.167         11        640: 100%|██████████| 341/341 [00:50<00:00,  6.70it/s]\n",
      "                 Class     Images  Instances      Box(P          R      mAP50  mAP50-95): 100%|██████████| 43/43 [00:04<00:00,  8.73it/s]\n"
     ]
    },
    {
     "name": "stdout",
     "output_type": "stream",
     "text": [
      "                   all        341        864      0.977      0.976      0.993      0.767\n",
      "\n",
      "      Epoch    GPU_mem   box_loss   cls_loss   dfl_loss  Instances       Size\n"
     ]
    },
    {
     "name": "stderr",
     "output_type": "stream",
     "text": [
      "    195/200      4.39G     0.7015     0.2643      1.177          5        640: 100%|██████████| 341/341 [00:51<00:00,  6.68it/s]\n",
      "                 Class     Images  Instances      Box(P          R      mAP50  mAP50-95): 100%|██████████| 43/43 [00:04<00:00,  8.70it/s]"
     ]
    },
    {
     "name": "stdout",
     "output_type": "stream",
     "text": [
      "                   all        341        864      0.981      0.974      0.993      0.771\n"
     ]
    },
    {
     "name": "stderr",
     "output_type": "stream",
     "text": [
      "\n"
     ]
    },
    {
     "name": "stdout",
     "output_type": "stream",
     "text": [
      "\n",
      "      Epoch    GPU_mem   box_loss   cls_loss   dfl_loss  Instances       Size\n"
     ]
    },
    {
     "name": "stderr",
     "output_type": "stream",
     "text": [
      "    196/200      4.39G      0.695     0.2626      1.147         14        640: 100%|██████████| 341/341 [00:50<00:00,  6.70it/s]\n",
      "                 Class     Images  Instances      Box(P          R      mAP50  mAP50-95): 100%|██████████| 43/43 [00:04<00:00,  8.72it/s]\n"
     ]
    },
    {
     "name": "stdout",
     "output_type": "stream",
     "text": [
      "                   all        341        864      0.981      0.973      0.991      0.771\n",
      "\n",
      "      Epoch    GPU_mem   box_loss   cls_loss   dfl_loss  Instances       Size\n"
     ]
    },
    {
     "name": "stderr",
     "output_type": "stream",
     "text": [
      "    197/200      4.39G     0.6894     0.2631      1.156          9        640: 100%|██████████| 341/341 [00:50<00:00,  6.69it/s]\n",
      "                 Class     Images  Instances      Box(P          R      mAP50  mAP50-95): 100%|██████████| 43/43 [00:04<00:00,  8.69it/s]"
     ]
    },
    {
     "name": "stdout",
     "output_type": "stream",
     "text": [
      "                   all        341        864      0.982      0.975      0.992      0.771\n"
     ]
    },
    {
     "name": "stderr",
     "output_type": "stream",
     "text": [
      "\n"
     ]
    },
    {
     "name": "stdout",
     "output_type": "stream",
     "text": [
      "\n",
      "      Epoch    GPU_mem   box_loss   cls_loss   dfl_loss  Instances       Size\n"
     ]
    },
    {
     "name": "stderr",
     "output_type": "stream",
     "text": [
      "    198/200      4.39G     0.6877     0.2618      1.155          7        640: 100%|██████████| 341/341 [00:50<00:00,  6.70it/s]\n",
      "                 Class     Images  Instances      Box(P          R      mAP50  mAP50-95): 100%|██████████| 43/43 [00:04<00:00,  8.73it/s]\n"
     ]
    },
    {
     "name": "stdout",
     "output_type": "stream",
     "text": [
      "                   all        341        864      0.974      0.978      0.992      0.769\n",
      "\n",
      "      Epoch    GPU_mem   box_loss   cls_loss   dfl_loss  Instances       Size\n"
     ]
    },
    {
     "name": "stderr",
     "output_type": "stream",
     "text": [
      "    199/200       4.4G     0.6925     0.2664      1.155          4        640: 100%|██████████| 341/341 [00:50<00:00,  6.70it/s]\n",
      "                 Class     Images  Instances      Box(P          R      mAP50  mAP50-95): 100%|██████████| 43/43 [00:04<00:00,  8.71it/s]\n"
     ]
    },
    {
     "name": "stdout",
     "output_type": "stream",
     "text": [
      "                   all        341        864      0.973      0.978      0.991      0.768\n",
      "\n",
      "      Epoch    GPU_mem   box_loss   cls_loss   dfl_loss  Instances       Size\n"
     ]
    },
    {
     "name": "stderr",
     "output_type": "stream",
     "text": [
      "    200/200       4.4G     0.6866     0.2621      1.162          5        640: 100%|██████████| 341/341 [00:50<00:00,  6.70it/s]\n",
      "                 Class     Images  Instances      Box(P          R      mAP50  mAP50-95): 100%|██████████| 43/43 [00:04<00:00,  8.72it/s]\n"
     ]
    },
    {
     "name": "stdout",
     "output_type": "stream",
     "text": [
      "                   all        341        864      0.977      0.977      0.992      0.766\n",
      "\n",
      "200 epochs completed in 3.173 hours.\n",
      "Optimizer stripped from runs\\detect\\train\\weights\\last.pt, 136.7MB\n",
      "Optimizer stripped from runs\\detect\\train\\weights\\best.pt, 136.7MB\n",
      "\n",
      "Validating runs\\detect\\train\\weights\\best.pt...\n",
      "Ultralytics YOLOv8.1.15 🚀 Python-3.11.7 torch-2.2.0 CUDA:0 (NVIDIA RTX A4500, 20470MiB)\n",
      "Model summary (fused): 268 layers, 68124531 parameters, 0 gradients, 257.4 GFLOPs\n"
     ]
    },
    {
     "name": "stderr",
     "output_type": "stream",
     "text": [
      "                 Class     Images  Instances      Box(P          R      mAP50  mAP50-95): 100%|██████████| 43/43 [00:04<00:00,  8.75it/s]\n"
     ]
    },
    {
     "name": "stdout",
     "output_type": "stream",
     "text": [
      "                   all        341        864      0.983      0.987      0.994      0.782\n",
      "Speed: 0.2ms preprocess, 9.9ms inference, 0.0ms loss, 0.9ms postprocess per image\n",
      "Results saved to \u001b[1mruns\\detect\\train\u001b[0m\n"
     ]
    },
    {
     "data": {
      "text/plain": [
       "ultralytics.utils.metrics.DetMetrics object with attributes:\n",
       "\n",
       "ap_class_index: array([0])\n",
       "box: ultralytics.utils.metrics.Metric object\n",
       "confusion_matrix: <ultralytics.utils.metrics.ConfusionMatrix object at 0x000001A1A7254110>\n",
       "curves: ['Precision-Recall(B)', 'F1-Confidence(B)', 'Precision-Confidence(B)', 'Recall-Confidence(B)']\n",
       "curves_results: [[array([          0,    0.001001,    0.002002,    0.003003,    0.004004,    0.005005,    0.006006,    0.007007,    0.008008,    0.009009,     0.01001,    0.011011,    0.012012,    0.013013,    0.014014,    0.015015,    0.016016,    0.017017,    0.018018,    0.019019,     0.02002,    0.021021,    0.022022,    0.023023,\n",
       "          0.024024,    0.025025,    0.026026,    0.027027,    0.028028,    0.029029,     0.03003,    0.031031,    0.032032,    0.033033,    0.034034,    0.035035,    0.036036,    0.037037,    0.038038,    0.039039,     0.04004,    0.041041,    0.042042,    0.043043,    0.044044,    0.045045,    0.046046,    0.047047,\n",
       "          0.048048,    0.049049,     0.05005,    0.051051,    0.052052,    0.053053,    0.054054,    0.055055,    0.056056,    0.057057,    0.058058,    0.059059,     0.06006,    0.061061,    0.062062,    0.063063,    0.064064,    0.065065,    0.066066,    0.067067,    0.068068,    0.069069,     0.07007,    0.071071,\n",
       "          0.072072,    0.073073,    0.074074,    0.075075,    0.076076,    0.077077,    0.078078,    0.079079,     0.08008,    0.081081,    0.082082,    0.083083,    0.084084,    0.085085,    0.086086,    0.087087,    0.088088,    0.089089,     0.09009,    0.091091,    0.092092,    0.093093,    0.094094,    0.095095,\n",
       "          0.096096,    0.097097,    0.098098,    0.099099,      0.1001,      0.1011,      0.1021,      0.1031,      0.1041,     0.10511,     0.10611,     0.10711,     0.10811,     0.10911,     0.11011,     0.11111,     0.11211,     0.11311,     0.11411,     0.11512,     0.11612,     0.11712,     0.11812,     0.11912,\n",
       "           0.12012,     0.12112,     0.12212,     0.12312,     0.12412,     0.12513,     0.12613,     0.12713,     0.12813,     0.12913,     0.13013,     0.13113,     0.13213,     0.13313,     0.13413,     0.13514,     0.13614,     0.13714,     0.13814,     0.13914,     0.14014,     0.14114,     0.14214,     0.14314,\n",
       "           0.14414,     0.14515,     0.14615,     0.14715,     0.14815,     0.14915,     0.15015,     0.15115,     0.15215,     0.15315,     0.15415,     0.15516,     0.15616,     0.15716,     0.15816,     0.15916,     0.16016,     0.16116,     0.16216,     0.16316,     0.16416,     0.16517,     0.16617,     0.16717,\n",
       "           0.16817,     0.16917,     0.17017,     0.17117,     0.17217,     0.17317,     0.17417,     0.17518,     0.17618,     0.17718,     0.17818,     0.17918,     0.18018,     0.18118,     0.18218,     0.18318,     0.18418,     0.18519,     0.18619,     0.18719,     0.18819,     0.18919,     0.19019,     0.19119,\n",
       "           0.19219,     0.19319,     0.19419,      0.1952,      0.1962,      0.1972,      0.1982,      0.1992,      0.2002,      0.2012,      0.2022,      0.2032,      0.2042,     0.20521,     0.20621,     0.20721,     0.20821,     0.20921,     0.21021,     0.21121,     0.21221,     0.21321,     0.21421,     0.21522,\n",
       "           0.21622,     0.21722,     0.21822,     0.21922,     0.22022,     0.22122,     0.22222,     0.22322,     0.22422,     0.22523,     0.22623,     0.22723,     0.22823,     0.22923,     0.23023,     0.23123,     0.23223,     0.23323,     0.23423,     0.23524,     0.23624,     0.23724,     0.23824,     0.23924,\n",
       "           0.24024,     0.24124,     0.24224,     0.24324,     0.24424,     0.24525,     0.24625,     0.24725,     0.24825,     0.24925,     0.25025,     0.25125,     0.25225,     0.25325,     0.25425,     0.25526,     0.25626,     0.25726,     0.25826,     0.25926,     0.26026,     0.26126,     0.26226,     0.26326,\n",
       "           0.26426,     0.26527,     0.26627,     0.26727,     0.26827,     0.26927,     0.27027,     0.27127,     0.27227,     0.27327,     0.27427,     0.27528,     0.27628,     0.27728,     0.27828,     0.27928,     0.28028,     0.28128,     0.28228,     0.28328,     0.28428,     0.28529,     0.28629,     0.28729,\n",
       "           0.28829,     0.28929,     0.29029,     0.29129,     0.29229,     0.29329,     0.29429,      0.2953,      0.2963,      0.2973,      0.2983,      0.2993,      0.3003,      0.3013,      0.3023,      0.3033,      0.3043,     0.30531,     0.30631,     0.30731,     0.30831,     0.30931,     0.31031,     0.31131,\n",
       "           0.31231,     0.31331,     0.31431,     0.31532,     0.31632,     0.31732,     0.31832,     0.31932,     0.32032,     0.32132,     0.32232,     0.32332,     0.32432,     0.32533,     0.32633,     0.32733,     0.32833,     0.32933,     0.33033,     0.33133,     0.33233,     0.33333,     0.33433,     0.33534,\n",
       "           0.33634,     0.33734,     0.33834,     0.33934,     0.34034,     0.34134,     0.34234,     0.34334,     0.34434,     0.34535,     0.34635,     0.34735,     0.34835,     0.34935,     0.35035,     0.35135,     0.35235,     0.35335,     0.35435,     0.35536,     0.35636,     0.35736,     0.35836,     0.35936,\n",
       "           0.36036,     0.36136,     0.36236,     0.36336,     0.36436,     0.36537,     0.36637,     0.36737,     0.36837,     0.36937,     0.37037,     0.37137,     0.37237,     0.37337,     0.37437,     0.37538,     0.37638,     0.37738,     0.37838,     0.37938,     0.38038,     0.38138,     0.38238,     0.38338,\n",
       "           0.38438,     0.38539,     0.38639,     0.38739,     0.38839,     0.38939,     0.39039,     0.39139,     0.39239,     0.39339,     0.39439,      0.3954,      0.3964,      0.3974,      0.3984,      0.3994,      0.4004,      0.4014,      0.4024,      0.4034,      0.4044,     0.40541,     0.40641,     0.40741,\n",
       "           0.40841,     0.40941,     0.41041,     0.41141,     0.41241,     0.41341,     0.41441,     0.41542,     0.41642,     0.41742,     0.41842,     0.41942,     0.42042,     0.42142,     0.42242,     0.42342,     0.42442,     0.42543,     0.42643,     0.42743,     0.42843,     0.42943,     0.43043,     0.43143,\n",
       "           0.43243,     0.43343,     0.43443,     0.43544,     0.43644,     0.43744,     0.43844,     0.43944,     0.44044,     0.44144,     0.44244,     0.44344,     0.44444,     0.44545,     0.44645,     0.44745,     0.44845,     0.44945,     0.45045,     0.45145,     0.45245,     0.45345,     0.45445,     0.45546,\n",
       "           0.45646,     0.45746,     0.45846,     0.45946,     0.46046,     0.46146,     0.46246,     0.46346,     0.46446,     0.46547,     0.46647,     0.46747,     0.46847,     0.46947,     0.47047,     0.47147,     0.47247,     0.47347,     0.47447,     0.47548,     0.47648,     0.47748,     0.47848,     0.47948,\n",
       "           0.48048,     0.48148,     0.48248,     0.48348,     0.48448,     0.48549,     0.48649,     0.48749,     0.48849,     0.48949,     0.49049,     0.49149,     0.49249,     0.49349,     0.49449,      0.4955,      0.4965,      0.4975,      0.4985,      0.4995,      0.5005,      0.5015,      0.5025,      0.5035,\n",
       "            0.5045,     0.50551,     0.50651,     0.50751,     0.50851,     0.50951,     0.51051,     0.51151,     0.51251,     0.51351,     0.51451,     0.51552,     0.51652,     0.51752,     0.51852,     0.51952,     0.52052,     0.52152,     0.52252,     0.52352,     0.52452,     0.52553,     0.52653,     0.52753,\n",
       "           0.52853,     0.52953,     0.53053,     0.53153,     0.53253,     0.53353,     0.53453,     0.53554,     0.53654,     0.53754,     0.53854,     0.53954,     0.54054,     0.54154,     0.54254,     0.54354,     0.54454,     0.54555,     0.54655,     0.54755,     0.54855,     0.54955,     0.55055,     0.55155,\n",
       "           0.55255,     0.55355,     0.55455,     0.55556,     0.55656,     0.55756,     0.55856,     0.55956,     0.56056,     0.56156,     0.56256,     0.56356,     0.56456,     0.56557,     0.56657,     0.56757,     0.56857,     0.56957,     0.57057,     0.57157,     0.57257,     0.57357,     0.57457,     0.57558,\n",
       "           0.57658,     0.57758,     0.57858,     0.57958,     0.58058,     0.58158,     0.58258,     0.58358,     0.58458,     0.58559,     0.58659,     0.58759,     0.58859,     0.58959,     0.59059,     0.59159,     0.59259,     0.59359,     0.59459,      0.5956,      0.5966,      0.5976,      0.5986,      0.5996,\n",
       "            0.6006,      0.6016,      0.6026,      0.6036,      0.6046,     0.60561,     0.60661,     0.60761,     0.60861,     0.60961,     0.61061,     0.61161,     0.61261,     0.61361,     0.61461,     0.61562,     0.61662,     0.61762,     0.61862,     0.61962,     0.62062,     0.62162,     0.62262,     0.62362,\n",
       "           0.62462,     0.62563,     0.62663,     0.62763,     0.62863,     0.62963,     0.63063,     0.63163,     0.63263,     0.63363,     0.63463,     0.63564,     0.63664,     0.63764,     0.63864,     0.63964,     0.64064,     0.64164,     0.64264,     0.64364,     0.64464,     0.64565,     0.64665,     0.64765,\n",
       "           0.64865,     0.64965,     0.65065,     0.65165,     0.65265,     0.65365,     0.65465,     0.65566,     0.65666,     0.65766,     0.65866,     0.65966,     0.66066,     0.66166,     0.66266,     0.66366,     0.66466,     0.66567,     0.66667,     0.66767,     0.66867,     0.66967,     0.67067,     0.67167,\n",
       "           0.67267,     0.67367,     0.67467,     0.67568,     0.67668,     0.67768,     0.67868,     0.67968,     0.68068,     0.68168,     0.68268,     0.68368,     0.68468,     0.68569,     0.68669,     0.68769,     0.68869,     0.68969,     0.69069,     0.69169,     0.69269,     0.69369,     0.69469,      0.6957,\n",
       "            0.6967,      0.6977,      0.6987,      0.6997,      0.7007,      0.7017,      0.7027,      0.7037,      0.7047,     0.70571,     0.70671,     0.70771,     0.70871,     0.70971,     0.71071,     0.71171,     0.71271,     0.71371,     0.71471,     0.71572,     0.71672,     0.71772,     0.71872,     0.71972,\n",
       "           0.72072,     0.72172,     0.72272,     0.72372,     0.72472,     0.72573,     0.72673,     0.72773,     0.72873,     0.72973,     0.73073,     0.73173,     0.73273,     0.73373,     0.73473,     0.73574,     0.73674,     0.73774,     0.73874,     0.73974,     0.74074,     0.74174,     0.74274,     0.74374,\n",
       "           0.74474,     0.74575,     0.74675,     0.74775,     0.74875,     0.74975,     0.75075,     0.75175,     0.75275,     0.75375,     0.75475,     0.75576,     0.75676,     0.75776,     0.75876,     0.75976,     0.76076,     0.76176,     0.76276,     0.76376,     0.76476,     0.76577,     0.76677,     0.76777,\n",
       "           0.76877,     0.76977,     0.77077,     0.77177,     0.77277,     0.77377,     0.77477,     0.77578,     0.77678,     0.77778,     0.77878,     0.77978,     0.78078,     0.78178,     0.78278,     0.78378,     0.78478,     0.78579,     0.78679,     0.78779,     0.78879,     0.78979,     0.79079,     0.79179,\n",
       "           0.79279,     0.79379,     0.79479,      0.7958,      0.7968,      0.7978,      0.7988,      0.7998,      0.8008,      0.8018,      0.8028,      0.8038,      0.8048,     0.80581,     0.80681,     0.80781,     0.80881,     0.80981,     0.81081,     0.81181,     0.81281,     0.81381,     0.81481,     0.81582,\n",
       "           0.81682,     0.81782,     0.81882,     0.81982,     0.82082,     0.82182,     0.82282,     0.82382,     0.82482,     0.82583,     0.82683,     0.82783,     0.82883,     0.82983,     0.83083,     0.83183,     0.83283,     0.83383,     0.83483,     0.83584,     0.83684,     0.83784,     0.83884,     0.83984,\n",
       "           0.84084,     0.84184,     0.84284,     0.84384,     0.84484,     0.84585,     0.84685,     0.84785,     0.84885,     0.84985,     0.85085,     0.85185,     0.85285,     0.85385,     0.85485,     0.85586,     0.85686,     0.85786,     0.85886,     0.85986,     0.86086,     0.86186,     0.86286,     0.86386,\n",
       "           0.86486,     0.86587,     0.86687,     0.86787,     0.86887,     0.86987,     0.87087,     0.87187,     0.87287,     0.87387,     0.87487,     0.87588,     0.87688,     0.87788,     0.87888,     0.87988,     0.88088,     0.88188,     0.88288,     0.88388,     0.88488,     0.88589,     0.88689,     0.88789,\n",
       "           0.88889,     0.88989,     0.89089,     0.89189,     0.89289,     0.89389,     0.89489,      0.8959,      0.8969,      0.8979,      0.8989,      0.8999,      0.9009,      0.9019,      0.9029,      0.9039,      0.9049,     0.90591,     0.90691,     0.90791,     0.90891,     0.90991,     0.91091,     0.91191,\n",
       "           0.91291,     0.91391,     0.91491,     0.91592,     0.91692,     0.91792,     0.91892,     0.91992,     0.92092,     0.92192,     0.92292,     0.92392,     0.92492,     0.92593,     0.92693,     0.92793,     0.92893,     0.92993,     0.93093,     0.93193,     0.93293,     0.93393,     0.93493,     0.93594,\n",
       "           0.93694,     0.93794,     0.93894,     0.93994,     0.94094,     0.94194,     0.94294,     0.94394,     0.94494,     0.94595,     0.94695,     0.94795,     0.94895,     0.94995,     0.95095,     0.95195,     0.95295,     0.95395,     0.95495,     0.95596,     0.95696,     0.95796,     0.95896,     0.95996,\n",
       "           0.96096,     0.96196,     0.96296,     0.96396,     0.96496,     0.96597,     0.96697,     0.96797,     0.96897,     0.96997,     0.97097,     0.97197,     0.97297,     0.97397,     0.97497,     0.97598,     0.97698,     0.97798,     0.97898,     0.97998,     0.98098,     0.98198,     0.98298,     0.98398,\n",
       "           0.98498,     0.98599,     0.98699,     0.98799,     0.98899,     0.98999,     0.99099,     0.99199,     0.99299,     0.99399,     0.99499,       0.996,       0.997,       0.998,       0.999,           1]), array([[          1,           1,           1,           1,           1,           1,           1,           1,           1,           1,           1,           1,           1,           1,           1,           1,           1,           1,           1,           1,           1,           1,           1,\n",
       "                  1,           1,           1,           1,           1,           1,           1,           1,           1,           1,           1,           1,           1,           1,           1,           1,           1,           1,           1,           1,           1,           1,           1,\n",
       "                  1,           1,           1,           1,           1,           1,           1,           1,           1,           1,           1,           1,           1,           1,           1,           1,           1,           1,           1,           1,           1,           1,           1,\n",
       "                  1,           1,           1,           1,           1,           1,           1,           1,           1,           1,           1,           1,           1,           1,           1,           1,           1,           1,           1,           1,           1,           1,           1,\n",
       "                  1,           1,           1,           1,           1,           1,           1,           1,           1,           1,           1,           1,           1,           1,           1,           1,           1,           1,           1,           1,           1,           1,           1,\n",
       "                  1,           1,           1,           1,           1,           1,           1,           1,           1,           1,           1,           1,           1,           1,           1,           1,           1,           1,           1,           1,           1,           1,           1,\n",
       "                  1,           1,           1,           1,           1,           1,           1,           1,           1,           1,           1,           1,           1,           1,           1,           1,           1,           1,           1,           1,           1,           1,           1,\n",
       "                  1,           1,           1,           1,           1,           1,           1,           1,           1,           1,           1,           1,           1,           1,           1,           1,           1,           1,           1,           1,           1,           1,           1,\n",
       "                  1,           1,           1,           1,           1,           1,           1,           1,           1,           1,           1,           1,           1,           1,           1,           1,           1,           1,           1,           1,           1,           1,           1,\n",
       "                  1,           1,           1,           1,           1,           1,           1,           1,           1,           1,           1,           1,           1,           1,           1,           1,           1,           1,           1,           1,           1,           1,           1,\n",
       "                  1,           1,           1,           1,           1,           1,           1,           1,           1,           1,           1,           1,           1,           1,           1,           1,           1,           1,           1,           1,           1,           1,           1,\n",
       "                  1,           1,           1,           1,           1,           1,           1,           1,           1,           1,           1,           1,           1,           1,           1,           1,           1,           1,           1,           1,           1,           1,           1,\n",
       "                  1,           1,           1,           1,           1,           1,           1,           1,           1,           1,           1,           1,           1,           1,           1,           1,           1,           1,           1,           1,           1,           1,           1,\n",
       "                  1,           1,           1,           1,           1,           1,           1,           1,           1,           1,           1,           1,           1,           1,           1,           1,           1,           1,           1,           1,           1,           1,           1,\n",
       "                  1,           1,           1,           1,           1,           1,           1,           1,           1,           1,           1,           1,           1,           1,           1,           1,           1,           1,           1,           1,           1,           1,           1,\n",
       "                  1,           1,           1,           1,           1,           1,           1,           1,           1,           1,           1,           1,           1,           1,           1,           1,           1,           1,           1,           1,           1,           1,           1,\n",
       "                  1,           1,           1,           1,           1,           1,           1,           1,           1,           1,           1,           1,           1,           1,           1,           1,           1,           1,           1,           1,           1,           1,           1,\n",
       "                  1,           1,           1,           1,           1,           1,           1,           1,           1,           1,           1,           1,           1,           1,           1,           1,           1,           1,           1,           1,           1,           1,           1,\n",
       "                  1,           1,           1,           1,           1,           1,           1,           1,           1,           1,           1,           1,           1,           1,           1,           1,           1,           1,           1,           1,           1,           1,           1,\n",
       "                  1,           1,           1,           1,           1,           1,           1,           1,           1,           1,           1,           1,           1,           1,           1,           1,           1,           1,           1,           1,           1,           1,           1,\n",
       "                  1,           1,           1,           1,           1,           1,           1,           1,           1,           1,           1,           1,           1,           1,           1,           1,           1,           1,           1,           1,           1,           1,           1,\n",
       "                  1,           1,           1,           1,           1,           1,           1,           1,           1,           1,           1,           1,           1,           1,           1,           1,           1,           1,           1,           1,           1,           1,           1,\n",
       "                  1,           1,           1,           1,           1,           1,           1,           1,           1,           1,           1,           1,           1,           1,           1,           1,           1,           1,           1,           1,           1,           1,           1,\n",
       "                  1,           1,           1,           1,           1,           1,           1,           1,           1,           1,           1,           1,           1,           1,           1,           1,           1,           1,           1,           1,           1,           1,           1,\n",
       "                  1,           1,           1,           1,           1,           1,           1,           1,           1,           1,           1,           1,           1,           1,           1,           1,           1,           1,           1,           1,           1,           1,           1,\n",
       "                  1,           1,           1,           1,           1,           1,           1,           1,           1,           1,           1,           1,           1,           1,           1,           1,           1,           1,           1,           1,           1,           1,           1,\n",
       "                  1,           1,           1,           1,           1,           1,           1,           1,           1,           1,           1,           1,           1,           1,           1,           1,           1,           1,           1,           1,           1,           1,           1,\n",
       "                  1,           1,           1,           1,           1,           1,           1,           1,           1,           1,           1,           1,           1,           1,           1,           1,           1,           1,           1,           1,           1,           1,           1,\n",
       "                  1,           1,           1,           1,           1,           1,           1,           1,           1,           1,           1,           1,           1,           1,           1,           1,           1,           1,           1,           1,           1,           1,           1,\n",
       "                  1,           1,           1,           1,           1,           1,           1,           1,           1,           1,           1,           1,           1,           1,           1,           1,           1,           1,           1,           1,           1,           1,           1,\n",
       "                  1,           1,           1,           1,           1,           1,           1,           1,           1,           1,           1,           1,           1,           1,           1,           1,           1,           1,           1,           1,           1,           1,           1,\n",
       "                  1,           1,           1,           1,           1,           1,           1,           1,           1,           1,           1,           1,           1,           1,           1,           1,           1,           1,           1,           1,           1,           1,           1,\n",
       "                  1,           1,           1,           1,           1,           1,           1,           1,           1,           1,           1,           1,           1,           1,           1,           1,           1,           1,           1,           1,           1,           1,           1,\n",
       "                  1,           1,           1,           1,           1,           1,           1,           1,           1,           1,           1,           1,           1,           1,           1,           1,           1,           1,           1,           1,           1,           1,           1,\n",
       "                  1,           1,           1,           1,           1,           1,           1,           1,           1,           1,           1,           1,           1,           1,           1,           1,           1,           1,           1,           1,           1,           1,           1,\n",
       "                  1,           1,           1,           1,           1,           1,           1,           1,           1,           1,           1,           1,           1,           1,           1,           1,     0.99875,     0.99875,     0.99875,     0.99875,     0.99875,     0.99875,     0.99875,\n",
       "            0.99875,     0.99875,     0.99875,     0.99875,     0.99875,     0.99875,     0.99875,     0.99875,     0.99875,     0.99875,     0.99875,     0.99875,     0.99875,     0.99875,     0.99875,     0.99875,     0.99875,     0.99875,     0.99875,     0.99875,     0.99875,     0.99875,     0.99875,\n",
       "            0.99875,     0.99875,     0.99875,     0.99875,     0.99875,     0.99875,     0.99875,     0.99875,     0.99875,     0.99875,     0.99875,     0.99875,     0.99875,     0.99875,     0.99875,     0.99875,     0.99875,     0.99875,     0.99875,     0.99875,     0.99875,     0.99875,     0.99875,\n",
       "            0.99875,     0.99875,     0.99875,     0.99875,     0.99875,     0.99875,     0.99875,     0.99875,     0.99875,     0.99875,     0.99875,     0.99875,     0.99875,     0.99875,     0.99875,     0.99875,     0.99875,     0.99875,     0.99875,     0.99875,     0.99875,     0.99875,     0.99875,\n",
       "            0.99875,     0.99875,     0.99875,     0.99875,     0.99875,     0.99875,     0.99875,     0.99875,     0.99875,     0.99875,     0.99875,     0.99875,     0.99875,     0.99875,     0.99875,     0.99875,     0.99875,     0.99875,     0.99875,     0.99875,     0.99875,     0.99875,     0.99875,\n",
       "            0.99875,     0.99875,     0.99875,     0.99875,     0.99757,     0.99757,     0.99757,     0.99757,     0.99757,     0.99757,     0.99757,     0.99757,     0.99757,     0.99757,     0.99757,     0.99757,     0.99757,     0.99757,     0.99757,     0.99757,     0.99757,     0.99757,     0.99757,\n",
       "            0.99757,     0.99757,     0.99757,     0.99757,     0.99757,     0.99757,     0.99757,     0.99636,     0.99517,     0.99517,     0.99283,     0.99283,     0.99283,     0.99283,     0.99283,     0.99283,     0.99283,     0.99283,     0.99168,     0.99168,     0.99168,     0.99168,     0.99052,\n",
       "            0.99052,     0.98936,     0.98824,     0.98824,     0.98824,     0.98824,     0.98712,     0.98712,     0.98712,     0.98487,     0.98487,     0.98487,     0.98487,     0.98385,     0.98385,     0.98385,     0.98385,     0.98385,     0.98385,     0.98385,     0.98385,     0.98161,     0.97603,\n",
       "            0.97494,     0.97276,     0.96404,     0.96404,     0.96085,     0.92672,       0.875,     0.71258,     0.47505,     0.23753,           0]]), 'Recall', 'Precision'], [array([          0,    0.001001,    0.002002,    0.003003,    0.004004,    0.005005,    0.006006,    0.007007,    0.008008,    0.009009,     0.01001,    0.011011,    0.012012,    0.013013,    0.014014,    0.015015,    0.016016,    0.017017,    0.018018,    0.019019,     0.02002,    0.021021,    0.022022,    0.023023,\n",
       "          0.024024,    0.025025,    0.026026,    0.027027,    0.028028,    0.029029,     0.03003,    0.031031,    0.032032,    0.033033,    0.034034,    0.035035,    0.036036,    0.037037,    0.038038,    0.039039,     0.04004,    0.041041,    0.042042,    0.043043,    0.044044,    0.045045,    0.046046,    0.047047,\n",
       "          0.048048,    0.049049,     0.05005,    0.051051,    0.052052,    0.053053,    0.054054,    0.055055,    0.056056,    0.057057,    0.058058,    0.059059,     0.06006,    0.061061,    0.062062,    0.063063,    0.064064,    0.065065,    0.066066,    0.067067,    0.068068,    0.069069,     0.07007,    0.071071,\n",
       "          0.072072,    0.073073,    0.074074,    0.075075,    0.076076,    0.077077,    0.078078,    0.079079,     0.08008,    0.081081,    0.082082,    0.083083,    0.084084,    0.085085,    0.086086,    0.087087,    0.088088,    0.089089,     0.09009,    0.091091,    0.092092,    0.093093,    0.094094,    0.095095,\n",
       "          0.096096,    0.097097,    0.098098,    0.099099,      0.1001,      0.1011,      0.1021,      0.1031,      0.1041,     0.10511,     0.10611,     0.10711,     0.10811,     0.10911,     0.11011,     0.11111,     0.11211,     0.11311,     0.11411,     0.11512,     0.11612,     0.11712,     0.11812,     0.11912,\n",
       "           0.12012,     0.12112,     0.12212,     0.12312,     0.12412,     0.12513,     0.12613,     0.12713,     0.12813,     0.12913,     0.13013,     0.13113,     0.13213,     0.13313,     0.13413,     0.13514,     0.13614,     0.13714,     0.13814,     0.13914,     0.14014,     0.14114,     0.14214,     0.14314,\n",
       "           0.14414,     0.14515,     0.14615,     0.14715,     0.14815,     0.14915,     0.15015,     0.15115,     0.15215,     0.15315,     0.15415,     0.15516,     0.15616,     0.15716,     0.15816,     0.15916,     0.16016,     0.16116,     0.16216,     0.16316,     0.16416,     0.16517,     0.16617,     0.16717,\n",
       "           0.16817,     0.16917,     0.17017,     0.17117,     0.17217,     0.17317,     0.17417,     0.17518,     0.17618,     0.17718,     0.17818,     0.17918,     0.18018,     0.18118,     0.18218,     0.18318,     0.18418,     0.18519,     0.18619,     0.18719,     0.18819,     0.18919,     0.19019,     0.19119,\n",
       "           0.19219,     0.19319,     0.19419,      0.1952,      0.1962,      0.1972,      0.1982,      0.1992,      0.2002,      0.2012,      0.2022,      0.2032,      0.2042,     0.20521,     0.20621,     0.20721,     0.20821,     0.20921,     0.21021,     0.21121,     0.21221,     0.21321,     0.21421,     0.21522,\n",
       "           0.21622,     0.21722,     0.21822,     0.21922,     0.22022,     0.22122,     0.22222,     0.22322,     0.22422,     0.22523,     0.22623,     0.22723,     0.22823,     0.22923,     0.23023,     0.23123,     0.23223,     0.23323,     0.23423,     0.23524,     0.23624,     0.23724,     0.23824,     0.23924,\n",
       "           0.24024,     0.24124,     0.24224,     0.24324,     0.24424,     0.24525,     0.24625,     0.24725,     0.24825,     0.24925,     0.25025,     0.25125,     0.25225,     0.25325,     0.25425,     0.25526,     0.25626,     0.25726,     0.25826,     0.25926,     0.26026,     0.26126,     0.26226,     0.26326,\n",
       "           0.26426,     0.26527,     0.26627,     0.26727,     0.26827,     0.26927,     0.27027,     0.27127,     0.27227,     0.27327,     0.27427,     0.27528,     0.27628,     0.27728,     0.27828,     0.27928,     0.28028,     0.28128,     0.28228,     0.28328,     0.28428,     0.28529,     0.28629,     0.28729,\n",
       "           0.28829,     0.28929,     0.29029,     0.29129,     0.29229,     0.29329,     0.29429,      0.2953,      0.2963,      0.2973,      0.2983,      0.2993,      0.3003,      0.3013,      0.3023,      0.3033,      0.3043,     0.30531,     0.30631,     0.30731,     0.30831,     0.30931,     0.31031,     0.31131,\n",
       "           0.31231,     0.31331,     0.31431,     0.31532,     0.31632,     0.31732,     0.31832,     0.31932,     0.32032,     0.32132,     0.32232,     0.32332,     0.32432,     0.32533,     0.32633,     0.32733,     0.32833,     0.32933,     0.33033,     0.33133,     0.33233,     0.33333,     0.33433,     0.33534,\n",
       "           0.33634,     0.33734,     0.33834,     0.33934,     0.34034,     0.34134,     0.34234,     0.34334,     0.34434,     0.34535,     0.34635,     0.34735,     0.34835,     0.34935,     0.35035,     0.35135,     0.35235,     0.35335,     0.35435,     0.35536,     0.35636,     0.35736,     0.35836,     0.35936,\n",
       "           0.36036,     0.36136,     0.36236,     0.36336,     0.36436,     0.36537,     0.36637,     0.36737,     0.36837,     0.36937,     0.37037,     0.37137,     0.37237,     0.37337,     0.37437,     0.37538,     0.37638,     0.37738,     0.37838,     0.37938,     0.38038,     0.38138,     0.38238,     0.38338,\n",
       "           0.38438,     0.38539,     0.38639,     0.38739,     0.38839,     0.38939,     0.39039,     0.39139,     0.39239,     0.39339,     0.39439,      0.3954,      0.3964,      0.3974,      0.3984,      0.3994,      0.4004,      0.4014,      0.4024,      0.4034,      0.4044,     0.40541,     0.40641,     0.40741,\n",
       "           0.40841,     0.40941,     0.41041,     0.41141,     0.41241,     0.41341,     0.41441,     0.41542,     0.41642,     0.41742,     0.41842,     0.41942,     0.42042,     0.42142,     0.42242,     0.42342,     0.42442,     0.42543,     0.42643,     0.42743,     0.42843,     0.42943,     0.43043,     0.43143,\n",
       "           0.43243,     0.43343,     0.43443,     0.43544,     0.43644,     0.43744,     0.43844,     0.43944,     0.44044,     0.44144,     0.44244,     0.44344,     0.44444,     0.44545,     0.44645,     0.44745,     0.44845,     0.44945,     0.45045,     0.45145,     0.45245,     0.45345,     0.45445,     0.45546,\n",
       "           0.45646,     0.45746,     0.45846,     0.45946,     0.46046,     0.46146,     0.46246,     0.46346,     0.46446,     0.46547,     0.46647,     0.46747,     0.46847,     0.46947,     0.47047,     0.47147,     0.47247,     0.47347,     0.47447,     0.47548,     0.47648,     0.47748,     0.47848,     0.47948,\n",
       "           0.48048,     0.48148,     0.48248,     0.48348,     0.48448,     0.48549,     0.48649,     0.48749,     0.48849,     0.48949,     0.49049,     0.49149,     0.49249,     0.49349,     0.49449,      0.4955,      0.4965,      0.4975,      0.4985,      0.4995,      0.5005,      0.5015,      0.5025,      0.5035,\n",
       "            0.5045,     0.50551,     0.50651,     0.50751,     0.50851,     0.50951,     0.51051,     0.51151,     0.51251,     0.51351,     0.51451,     0.51552,     0.51652,     0.51752,     0.51852,     0.51952,     0.52052,     0.52152,     0.52252,     0.52352,     0.52452,     0.52553,     0.52653,     0.52753,\n",
       "           0.52853,     0.52953,     0.53053,     0.53153,     0.53253,     0.53353,     0.53453,     0.53554,     0.53654,     0.53754,     0.53854,     0.53954,     0.54054,     0.54154,     0.54254,     0.54354,     0.54454,     0.54555,     0.54655,     0.54755,     0.54855,     0.54955,     0.55055,     0.55155,\n",
       "           0.55255,     0.55355,     0.55455,     0.55556,     0.55656,     0.55756,     0.55856,     0.55956,     0.56056,     0.56156,     0.56256,     0.56356,     0.56456,     0.56557,     0.56657,     0.56757,     0.56857,     0.56957,     0.57057,     0.57157,     0.57257,     0.57357,     0.57457,     0.57558,\n",
       "           0.57658,     0.57758,     0.57858,     0.57958,     0.58058,     0.58158,     0.58258,     0.58358,     0.58458,     0.58559,     0.58659,     0.58759,     0.58859,     0.58959,     0.59059,     0.59159,     0.59259,     0.59359,     0.59459,      0.5956,      0.5966,      0.5976,      0.5986,      0.5996,\n",
       "            0.6006,      0.6016,      0.6026,      0.6036,      0.6046,     0.60561,     0.60661,     0.60761,     0.60861,     0.60961,     0.61061,     0.61161,     0.61261,     0.61361,     0.61461,     0.61562,     0.61662,     0.61762,     0.61862,     0.61962,     0.62062,     0.62162,     0.62262,     0.62362,\n",
       "           0.62462,     0.62563,     0.62663,     0.62763,     0.62863,     0.62963,     0.63063,     0.63163,     0.63263,     0.63363,     0.63463,     0.63564,     0.63664,     0.63764,     0.63864,     0.63964,     0.64064,     0.64164,     0.64264,     0.64364,     0.64464,     0.64565,     0.64665,     0.64765,\n",
       "           0.64865,     0.64965,     0.65065,     0.65165,     0.65265,     0.65365,     0.65465,     0.65566,     0.65666,     0.65766,     0.65866,     0.65966,     0.66066,     0.66166,     0.66266,     0.66366,     0.66466,     0.66567,     0.66667,     0.66767,     0.66867,     0.66967,     0.67067,     0.67167,\n",
       "           0.67267,     0.67367,     0.67467,     0.67568,     0.67668,     0.67768,     0.67868,     0.67968,     0.68068,     0.68168,     0.68268,     0.68368,     0.68468,     0.68569,     0.68669,     0.68769,     0.68869,     0.68969,     0.69069,     0.69169,     0.69269,     0.69369,     0.69469,      0.6957,\n",
       "            0.6967,      0.6977,      0.6987,      0.6997,      0.7007,      0.7017,      0.7027,      0.7037,      0.7047,     0.70571,     0.70671,     0.70771,     0.70871,     0.70971,     0.71071,     0.71171,     0.71271,     0.71371,     0.71471,     0.71572,     0.71672,     0.71772,     0.71872,     0.71972,\n",
       "           0.72072,     0.72172,     0.72272,     0.72372,     0.72472,     0.72573,     0.72673,     0.72773,     0.72873,     0.72973,     0.73073,     0.73173,     0.73273,     0.73373,     0.73473,     0.73574,     0.73674,     0.73774,     0.73874,     0.73974,     0.74074,     0.74174,     0.74274,     0.74374,\n",
       "           0.74474,     0.74575,     0.74675,     0.74775,     0.74875,     0.74975,     0.75075,     0.75175,     0.75275,     0.75375,     0.75475,     0.75576,     0.75676,     0.75776,     0.75876,     0.75976,     0.76076,     0.76176,     0.76276,     0.76376,     0.76476,     0.76577,     0.76677,     0.76777,\n",
       "           0.76877,     0.76977,     0.77077,     0.77177,     0.77277,     0.77377,     0.77477,     0.77578,     0.77678,     0.77778,     0.77878,     0.77978,     0.78078,     0.78178,     0.78278,     0.78378,     0.78478,     0.78579,     0.78679,     0.78779,     0.78879,     0.78979,     0.79079,     0.79179,\n",
       "           0.79279,     0.79379,     0.79479,      0.7958,      0.7968,      0.7978,      0.7988,      0.7998,      0.8008,      0.8018,      0.8028,      0.8038,      0.8048,     0.80581,     0.80681,     0.80781,     0.80881,     0.80981,     0.81081,     0.81181,     0.81281,     0.81381,     0.81481,     0.81582,\n",
       "           0.81682,     0.81782,     0.81882,     0.81982,     0.82082,     0.82182,     0.82282,     0.82382,     0.82482,     0.82583,     0.82683,     0.82783,     0.82883,     0.82983,     0.83083,     0.83183,     0.83283,     0.83383,     0.83483,     0.83584,     0.83684,     0.83784,     0.83884,     0.83984,\n",
       "           0.84084,     0.84184,     0.84284,     0.84384,     0.84484,     0.84585,     0.84685,     0.84785,     0.84885,     0.84985,     0.85085,     0.85185,     0.85285,     0.85385,     0.85485,     0.85586,     0.85686,     0.85786,     0.85886,     0.85986,     0.86086,     0.86186,     0.86286,     0.86386,\n",
       "           0.86486,     0.86587,     0.86687,     0.86787,     0.86887,     0.86987,     0.87087,     0.87187,     0.87287,     0.87387,     0.87487,     0.87588,     0.87688,     0.87788,     0.87888,     0.87988,     0.88088,     0.88188,     0.88288,     0.88388,     0.88488,     0.88589,     0.88689,     0.88789,\n",
       "           0.88889,     0.88989,     0.89089,     0.89189,     0.89289,     0.89389,     0.89489,      0.8959,      0.8969,      0.8979,      0.8989,      0.8999,      0.9009,      0.9019,      0.9029,      0.9039,      0.9049,     0.90591,     0.90691,     0.90791,     0.90891,     0.90991,     0.91091,     0.91191,\n",
       "           0.91291,     0.91391,     0.91491,     0.91592,     0.91692,     0.91792,     0.91892,     0.91992,     0.92092,     0.92192,     0.92292,     0.92392,     0.92492,     0.92593,     0.92693,     0.92793,     0.92893,     0.92993,     0.93093,     0.93193,     0.93293,     0.93393,     0.93493,     0.93594,\n",
       "           0.93694,     0.93794,     0.93894,     0.93994,     0.94094,     0.94194,     0.94294,     0.94394,     0.94494,     0.94595,     0.94695,     0.94795,     0.94895,     0.94995,     0.95095,     0.95195,     0.95295,     0.95395,     0.95495,     0.95596,     0.95696,     0.95796,     0.95896,     0.95996,\n",
       "           0.96096,     0.96196,     0.96296,     0.96396,     0.96496,     0.96597,     0.96697,     0.96797,     0.96897,     0.96997,     0.97097,     0.97197,     0.97297,     0.97397,     0.97497,     0.97598,     0.97698,     0.97798,     0.97898,     0.97998,     0.98098,     0.98198,     0.98298,     0.98398,\n",
       "           0.98498,     0.98599,     0.98699,     0.98799,     0.98899,     0.98999,     0.99099,     0.99199,     0.99299,     0.99399,     0.99499,       0.996,       0.997,       0.998,       0.999,           1]), array([[    0.90204,     0.90204,      0.9262,     0.93593,     0.94375,     0.95059,     0.95306,     0.95375,     0.95624,     0.95864,     0.95948,     0.96058,     0.96206,     0.96362,     0.96402,     0.96529,     0.96574,     0.96624,     0.96803,     0.96877,     0.96923,     0.96965,     0.97019,\n",
       "            0.97067,     0.97139,     0.97182,     0.97368,     0.97474,     0.97509,     0.97529,     0.97549,     0.97579,     0.97616,     0.97637,     0.97657,      0.9768,     0.97706,     0.97708,      0.9767,     0.97679,     0.97688,     0.97697,     0.97707,     0.97716,     0.97724,      0.9773,\n",
       "            0.97737,     0.97743,     0.97749,     0.97756,     0.97762,     0.97768,     0.97774,     0.97784,     0.97797,      0.9781,     0.97823,     0.97832,     0.97822,     0.97812,     0.97802,     0.97792,     0.97783,     0.97781,     0.97803,     0.97824,     0.97851,      0.9788,     0.97921,\n",
       "            0.97973,     0.98001,     0.98005,     0.98009,     0.98014,     0.98018,     0.98022,     0.98026,      0.9803,     0.98034,     0.98039,     0.98043,     0.98047,     0.98051,     0.98069,     0.98148,     0.98169,     0.98173,     0.98176,      0.9818,     0.98183,     0.98186,      0.9819,\n",
       "            0.98193,     0.98197,       0.982,     0.98204,     0.98207,     0.98211,     0.98214,     0.98217,     0.98221,      0.9822,     0.98205,     0.98189,     0.98174,     0.98172,     0.98188,     0.98204,      0.9822,     0.98223,     0.98224,     0.98226,     0.98227,     0.98229,      0.9823,\n",
       "            0.98232,     0.98233,     0.98235,     0.98236,     0.98237,     0.98239,      0.9824,     0.98242,     0.98243,     0.98245,     0.98246,     0.98248,     0.98249,     0.98251,     0.98252,     0.98254,     0.98255,     0.98257,     0.98258,      0.9826,     0.98261,     0.98262,     0.98264,\n",
       "            0.98265,     0.98267,     0.98268,      0.9827,     0.98271,     0.98273,     0.98274,     0.98276,     0.98277,     0.98277,     0.98275,     0.98273,     0.98271,     0.98269,     0.98267,     0.98265,     0.98263,     0.98261,     0.98259,     0.98257,     0.98255,     0.98252,      0.9825,\n",
       "            0.98248,     0.98246,     0.98244,     0.98242,      0.9824,     0.98238,     0.98236,     0.98234,     0.98232,      0.9823,     0.98228,     0.98226,     0.98224,     0.98222,      0.9822,     0.98223,     0.98228,     0.98234,     0.98239,     0.98245,      0.9825,     0.98256,     0.98261,\n",
       "            0.98266,     0.98272,      0.9825,     0.98218,      0.9822,     0.98222,     0.98224,     0.98225,     0.98227,     0.98229,      0.9823,     0.98232,     0.98234,     0.98235,     0.98237,     0.98239,      0.9824,     0.98242,     0.98244,     0.98246,     0.98247,     0.98249,     0.98251,\n",
       "            0.98252,     0.98254,     0.98256,     0.98257,     0.98259,     0.98261,     0.98262,     0.98264,     0.98266,     0.98268,     0.98269,     0.98271,     0.98273,     0.98275,     0.98279,     0.98283,     0.98287,     0.98291,     0.98295,     0.98298,     0.98302,     0.98306,      0.9831,\n",
       "            0.98314,     0.98318,     0.98322,     0.98326,      0.9833,     0.98353,     0.98378,     0.98392,     0.98398,     0.98405,     0.98411,     0.98418,     0.98425,     0.98431,     0.98438,     0.98444,     0.98447,     0.98451,     0.98454,     0.98457,      0.9846,     0.98463,     0.98467,\n",
       "             0.9847,     0.98473,     0.98476,     0.98479,     0.98482,     0.98486,     0.98489,     0.98492,     0.98495,     0.98498,       0.985,       0.985,     0.98499,     0.98498,     0.98497,     0.98496,     0.98496,     0.98495,     0.98494,     0.98493,     0.98492,     0.98492,     0.98491,\n",
       "             0.9849,     0.98489,     0.98488,     0.98488,     0.98487,     0.98486,     0.98485,     0.98485,     0.98484,     0.98483,     0.98482,     0.98481,     0.98481,      0.9848,     0.98479,     0.98478,     0.98477,     0.98477,     0.98476,     0.98475,     0.98474,     0.98473,     0.98473,\n",
       "            0.98472,     0.98471,      0.9847,      0.9847,     0.98469,     0.98468,     0.98467,     0.98466,     0.98466,     0.98465,     0.98464,     0.98463,     0.98462,     0.98462,     0.98461,      0.9846,     0.98459,     0.98458,     0.98458,     0.98457,     0.98456,     0.98455,     0.98455,\n",
       "            0.98454,     0.98453,     0.98452,     0.98451,     0.98451,      0.9845,     0.98449,     0.98448,     0.98447,     0.98447,     0.98446,     0.98445,     0.98444,     0.98443,     0.98443,     0.98444,     0.98455,     0.98465,     0.98476,     0.98486,     0.98497,     0.98503,     0.98508,\n",
       "            0.98513,     0.98518,     0.98523,     0.98528,     0.98533,     0.98538,     0.98543,     0.98548,     0.98553,     0.98555,     0.98554,     0.98552,      0.9855,     0.98549,     0.98547,     0.98546,     0.98544,     0.98542,     0.98541,     0.98539,     0.98537,     0.98536,     0.98534,\n",
       "            0.98533,     0.98531,     0.98529,     0.98528,     0.98526,     0.98525,     0.98523,     0.98521,      0.9852,     0.98518,     0.98516,     0.98515,     0.98513,     0.98512,      0.9851,     0.98508,     0.98507,     0.98505,     0.98504,     0.98502,       0.985,     0.98499,     0.98497,\n",
       "            0.98494,     0.98491,     0.98488,     0.98485,     0.98481,     0.98478,     0.98475,     0.98472,     0.98469,     0.98466,     0.98463,      0.9846,     0.98456,     0.98453,      0.9845,     0.98447,     0.98444,     0.98441,     0.98437,     0.98433,     0.98428,     0.98423,     0.98418,\n",
       "            0.98414,     0.98409,     0.98404,       0.984,     0.98395,      0.9839,     0.98385,     0.98381,     0.98332,     0.98319,     0.98317,     0.98315,     0.98312,      0.9831,     0.98308,     0.98306,     0.98304,     0.98301,     0.98299,     0.98297,     0.98295,     0.98293,      0.9829,\n",
       "            0.98288,     0.98286,     0.98284,     0.98282,     0.98279,     0.98277,     0.98275,     0.98273,     0.98271,     0.98268,     0.98266,     0.98264,     0.98262,     0.98252,     0.98241,      0.9823,      0.9822,     0.98209,     0.98201,     0.98195,     0.98189,     0.98182,     0.98176,\n",
       "             0.9817,     0.98164,     0.98158,     0.98152,     0.98146,     0.98146,     0.98149,     0.98152,     0.98155,     0.98158,     0.98161,     0.98164,     0.98167,      0.9817,     0.98173,     0.98176,      0.9818,     0.98183,     0.98186,     0.98189,     0.98192,     0.98195,     0.98198,\n",
       "            0.98201,     0.98197,     0.98194,     0.98191,     0.98188,     0.98185,     0.98181,     0.98178,     0.98175,     0.98172,     0.98169,     0.98165,     0.98162,     0.98159,     0.98156,     0.98153,      0.9815,     0.98146,     0.98143,      0.9814,     0.98138,     0.98135,     0.98132,\n",
       "             0.9813,     0.98127,     0.98124,     0.98122,     0.98119,     0.98117,     0.98114,     0.98111,     0.98109,     0.98106,     0.98103,     0.98101,     0.98098,     0.98095,     0.98093,      0.9809,     0.98087,     0.98085,     0.98082,      0.9808,     0.98078,     0.98076,     0.98074,\n",
       "            0.98072,      0.9807,     0.98068,     0.98066,     0.98063,     0.98061,     0.98059,     0.98057,     0.98055,     0.98053,     0.98051,     0.98049,     0.98047,     0.98045,     0.98042,      0.9804,     0.98038,     0.98036,     0.98034,     0.98032,      0.9803,     0.98028,     0.98026,\n",
       "            0.98024,     0.98039,     0.98059,     0.98078,     0.98095,     0.98112,     0.98129,     0.98134,     0.98128,     0.98122,     0.98116,      0.9811,     0.98104,     0.98098,     0.98092,     0.98086,      0.9808,     0.98073,     0.98065,     0.98057,      0.9805,     0.98042,     0.98035,\n",
       "            0.98027,     0.98019,        0.98,      0.9798,     0.97959,     0.97961,     0.97962,     0.97964,     0.97966,     0.97967,     0.97969,     0.97971,     0.97972,     0.97974,     0.97976,     0.97977,     0.97979,     0.97981,     0.97982,     0.97984,     0.97986,     0.97987,     0.97989,\n",
       "            0.97991,     0.97992,     0.97994,     0.97995,     0.97997,     0.97999,        0.98,     0.98002,     0.98004,     0.98005,     0.98007,     0.98009,      0.9801,     0.98012,     0.98014,     0.98015,     0.98005,     0.97975,     0.97955,      0.9795,     0.97945,     0.97939,     0.97934,\n",
       "            0.97929,     0.97924,     0.97919,     0.97914,     0.97909,     0.97904,     0.97899,     0.97876,     0.97845,     0.97891,     0.97886,     0.97881,     0.97876,     0.97871,     0.97865,      0.9786,     0.97855,      0.9785,     0.97845,      0.9784,     0.97892,     0.97878,     0.97864,\n",
       "            0.97851,     0.97837,     0.97813,     0.97782,     0.97775,     0.97779,     0.97782,     0.97786,      0.9779,     0.97794,     0.97797,     0.97801,     0.97805,     0.97808,     0.97812,     0.97816,     0.97819,     0.97823,     0.97827,     0.97769,     0.97763,     0.97756,     0.97749,\n",
       "            0.97742,     0.97735,     0.97728,     0.97721,     0.97715,     0.97704,     0.97687,     0.97669,     0.97652,     0.97659,     0.97668,     0.97678,     0.97688,     0.97698,     0.97707,     0.97689,     0.97671,     0.97654,     0.97638,     0.97625,     0.97611,     0.97597,     0.97584,\n",
       "            0.97574,     0.97564,     0.97553,     0.97543,     0.97533,     0.97525,     0.97521,     0.97517,     0.97513,     0.97509,     0.97505,     0.97501,     0.97497,     0.97493,     0.97489,     0.97485,     0.97481,     0.97477,     0.97473,     0.97469,     0.97465,     0.97462,     0.97459,\n",
       "            0.97456,     0.97453,      0.9745,     0.97447,     0.97444,     0.97441,     0.97438,     0.97435,     0.97432,     0.97429,     0.97426,     0.97423,      0.9742,     0.97417,     0.97414,     0.97411,     0.97408,     0.97334,     0.97293,     0.97373,     0.97397,     0.97388,      0.9738,\n",
       "            0.97372,     0.97364,     0.97355,     0.97347,     0.97339,     0.97329,      0.9732,      0.9731,       0.973,     0.97291,     0.97281,     0.97291,     0.97311,     0.97331,      0.9729,     0.97309,     0.97329,     0.97315,     0.97295,     0.97274,     0.97261,      0.9725,     0.97239,\n",
       "            0.97227,     0.97216,     0.97139,     0.97118,     0.97097,     0.97082,      0.9707,     0.97059,     0.97047,     0.97036,     0.96961,      0.9694,     0.96919,      0.9683,     0.96788,     0.96746,     0.96704,     0.96662,       0.966,     0.96495,     0.96453,     0.96349,     0.96306,\n",
       "            0.96128,     0.96014,     0.96029,     0.95986,     0.95804,     0.95754,     0.95648,     0.95605,     0.95293,     0.95118,     0.95011,     0.94967,     0.94841,     0.94731,     0.94356,      0.9417,     0.94126,     0.93952,     0.93701,     0.93515,     0.93139,     0.93074,     0.93029,\n",
       "            0.92836,     0.92517,     0.92132,     0.91933,     0.91886,     0.91687,     0.91364,     0.91241,     0.90828,     0.90619,     0.90521,     0.90309,     0.90032,     0.89268,     0.88982,     0.88563,     0.88224,      0.8786,     0.87413,     0.87234,     0.86641,     0.86415,     0.85699,\n",
       "            0.85073,     0.84781,     0.83907,     0.83354,     0.83257,     0.82713,     0.82139,        0.81,     0.80263,     0.79613,     0.78827,     0.77491,      0.7626,     0.75635,     0.74951,     0.73943,     0.73662,      0.7262,     0.71889,     0.71218,     0.70054,     0.69166,     0.67963,\n",
       "             0.6643,     0.65772,     0.64715,     0.63359,     0.62814,     0.61888,     0.61155,      0.6048,     0.59911,     0.57892,     0.57538,     0.57182,     0.56586,     0.55504,      0.5451,     0.53909,     0.53386,      0.5209,     0.51579,     0.50935,     0.50803,     0.49916,     0.49432,\n",
       "            0.48588,     0.48049,      0.4763,     0.47492,     0.47262,     0.46775,     0.46705,     0.46397,     0.46327,       0.461,     0.45968,     0.45933,     0.45898,     0.45862,     0.45696,     0.45671,     0.45645,     0.45619,     0.45593,     0.45544,      0.4545,     0.45245,     0.45103,\n",
       "            0.44898,     0.44472,     0.44044,      0.4333,     0.42759,     0.42315,     0.41439,     0.39518,     0.37854,     0.36774,     0.34102,     0.31834,     0.28657,     0.26759,     0.23979,     0.22652,     0.20989,     0.19106,     0.17376,      0.1502,      0.1321,     0.11365,     0.10111,\n",
       "           0.093719,    0.086175,    0.081317,    0.077445,    0.070898,    0.065712,    0.053295,    0.042156,    0.035865,    0.033019,    0.026166,    0.021076,    0.014599,    0.009912,   0.0085487,   0.0077642,   0.0069791,   0.0064358,   0.0059118,   0.0053875,   0.0048629,   0.0033542,           0,\n",
       "                  0,           0,           0,           0,           0,           0,           0,           0,           0,           0,           0,           0,           0,           0,           0,           0,           0,           0,           0,           0,           0,           0,           0,\n",
       "                  0,           0,           0,           0,           0,           0,           0,           0,           0,           0,           0,           0,           0,           0,           0,           0,           0,           0,           0,           0,           0,           0,           0,\n",
       "                  0,           0,           0,           0,           0,           0,           0,           0,           0,           0,           0]]), 'Confidence', 'F1'], [array([          0,    0.001001,    0.002002,    0.003003,    0.004004,    0.005005,    0.006006,    0.007007,    0.008008,    0.009009,     0.01001,    0.011011,    0.012012,    0.013013,    0.014014,    0.015015,    0.016016,    0.017017,    0.018018,    0.019019,     0.02002,    0.021021,    0.022022,    0.023023,\n",
       "          0.024024,    0.025025,    0.026026,    0.027027,    0.028028,    0.029029,     0.03003,    0.031031,    0.032032,    0.033033,    0.034034,    0.035035,    0.036036,    0.037037,    0.038038,    0.039039,     0.04004,    0.041041,    0.042042,    0.043043,    0.044044,    0.045045,    0.046046,    0.047047,\n",
       "          0.048048,    0.049049,     0.05005,    0.051051,    0.052052,    0.053053,    0.054054,    0.055055,    0.056056,    0.057057,    0.058058,    0.059059,     0.06006,    0.061061,    0.062062,    0.063063,    0.064064,    0.065065,    0.066066,    0.067067,    0.068068,    0.069069,     0.07007,    0.071071,\n",
       "          0.072072,    0.073073,    0.074074,    0.075075,    0.076076,    0.077077,    0.078078,    0.079079,     0.08008,    0.081081,    0.082082,    0.083083,    0.084084,    0.085085,    0.086086,    0.087087,    0.088088,    0.089089,     0.09009,    0.091091,    0.092092,    0.093093,    0.094094,    0.095095,\n",
       "          0.096096,    0.097097,    0.098098,    0.099099,      0.1001,      0.1011,      0.1021,      0.1031,      0.1041,     0.10511,     0.10611,     0.10711,     0.10811,     0.10911,     0.11011,     0.11111,     0.11211,     0.11311,     0.11411,     0.11512,     0.11612,     0.11712,     0.11812,     0.11912,\n",
       "           0.12012,     0.12112,     0.12212,     0.12312,     0.12412,     0.12513,     0.12613,     0.12713,     0.12813,     0.12913,     0.13013,     0.13113,     0.13213,     0.13313,     0.13413,     0.13514,     0.13614,     0.13714,     0.13814,     0.13914,     0.14014,     0.14114,     0.14214,     0.14314,\n",
       "           0.14414,     0.14515,     0.14615,     0.14715,     0.14815,     0.14915,     0.15015,     0.15115,     0.15215,     0.15315,     0.15415,     0.15516,     0.15616,     0.15716,     0.15816,     0.15916,     0.16016,     0.16116,     0.16216,     0.16316,     0.16416,     0.16517,     0.16617,     0.16717,\n",
       "           0.16817,     0.16917,     0.17017,     0.17117,     0.17217,     0.17317,     0.17417,     0.17518,     0.17618,     0.17718,     0.17818,     0.17918,     0.18018,     0.18118,     0.18218,     0.18318,     0.18418,     0.18519,     0.18619,     0.18719,     0.18819,     0.18919,     0.19019,     0.19119,\n",
       "           0.19219,     0.19319,     0.19419,      0.1952,      0.1962,      0.1972,      0.1982,      0.1992,      0.2002,      0.2012,      0.2022,      0.2032,      0.2042,     0.20521,     0.20621,     0.20721,     0.20821,     0.20921,     0.21021,     0.21121,     0.21221,     0.21321,     0.21421,     0.21522,\n",
       "           0.21622,     0.21722,     0.21822,     0.21922,     0.22022,     0.22122,     0.22222,     0.22322,     0.22422,     0.22523,     0.22623,     0.22723,     0.22823,     0.22923,     0.23023,     0.23123,     0.23223,     0.23323,     0.23423,     0.23524,     0.23624,     0.23724,     0.23824,     0.23924,\n",
       "           0.24024,     0.24124,     0.24224,     0.24324,     0.24424,     0.24525,     0.24625,     0.24725,     0.24825,     0.24925,     0.25025,     0.25125,     0.25225,     0.25325,     0.25425,     0.25526,     0.25626,     0.25726,     0.25826,     0.25926,     0.26026,     0.26126,     0.26226,     0.26326,\n",
       "           0.26426,     0.26527,     0.26627,     0.26727,     0.26827,     0.26927,     0.27027,     0.27127,     0.27227,     0.27327,     0.27427,     0.27528,     0.27628,     0.27728,     0.27828,     0.27928,     0.28028,     0.28128,     0.28228,     0.28328,     0.28428,     0.28529,     0.28629,     0.28729,\n",
       "           0.28829,     0.28929,     0.29029,     0.29129,     0.29229,     0.29329,     0.29429,      0.2953,      0.2963,      0.2973,      0.2983,      0.2993,      0.3003,      0.3013,      0.3023,      0.3033,      0.3043,     0.30531,     0.30631,     0.30731,     0.30831,     0.30931,     0.31031,     0.31131,\n",
       "           0.31231,     0.31331,     0.31431,     0.31532,     0.31632,     0.31732,     0.31832,     0.31932,     0.32032,     0.32132,     0.32232,     0.32332,     0.32432,     0.32533,     0.32633,     0.32733,     0.32833,     0.32933,     0.33033,     0.33133,     0.33233,     0.33333,     0.33433,     0.33534,\n",
       "           0.33634,     0.33734,     0.33834,     0.33934,     0.34034,     0.34134,     0.34234,     0.34334,     0.34434,     0.34535,     0.34635,     0.34735,     0.34835,     0.34935,     0.35035,     0.35135,     0.35235,     0.35335,     0.35435,     0.35536,     0.35636,     0.35736,     0.35836,     0.35936,\n",
       "           0.36036,     0.36136,     0.36236,     0.36336,     0.36436,     0.36537,     0.36637,     0.36737,     0.36837,     0.36937,     0.37037,     0.37137,     0.37237,     0.37337,     0.37437,     0.37538,     0.37638,     0.37738,     0.37838,     0.37938,     0.38038,     0.38138,     0.38238,     0.38338,\n",
       "           0.38438,     0.38539,     0.38639,     0.38739,     0.38839,     0.38939,     0.39039,     0.39139,     0.39239,     0.39339,     0.39439,      0.3954,      0.3964,      0.3974,      0.3984,      0.3994,      0.4004,      0.4014,      0.4024,      0.4034,      0.4044,     0.40541,     0.40641,     0.40741,\n",
       "           0.40841,     0.40941,     0.41041,     0.41141,     0.41241,     0.41341,     0.41441,     0.41542,     0.41642,     0.41742,     0.41842,     0.41942,     0.42042,     0.42142,     0.42242,     0.42342,     0.42442,     0.42543,     0.42643,     0.42743,     0.42843,     0.42943,     0.43043,     0.43143,\n",
       "           0.43243,     0.43343,     0.43443,     0.43544,     0.43644,     0.43744,     0.43844,     0.43944,     0.44044,     0.44144,     0.44244,     0.44344,     0.44444,     0.44545,     0.44645,     0.44745,     0.44845,     0.44945,     0.45045,     0.45145,     0.45245,     0.45345,     0.45445,     0.45546,\n",
       "           0.45646,     0.45746,     0.45846,     0.45946,     0.46046,     0.46146,     0.46246,     0.46346,     0.46446,     0.46547,     0.46647,     0.46747,     0.46847,     0.46947,     0.47047,     0.47147,     0.47247,     0.47347,     0.47447,     0.47548,     0.47648,     0.47748,     0.47848,     0.47948,\n",
       "           0.48048,     0.48148,     0.48248,     0.48348,     0.48448,     0.48549,     0.48649,     0.48749,     0.48849,     0.48949,     0.49049,     0.49149,     0.49249,     0.49349,     0.49449,      0.4955,      0.4965,      0.4975,      0.4985,      0.4995,      0.5005,      0.5015,      0.5025,      0.5035,\n",
       "            0.5045,     0.50551,     0.50651,     0.50751,     0.50851,     0.50951,     0.51051,     0.51151,     0.51251,     0.51351,     0.51451,     0.51552,     0.51652,     0.51752,     0.51852,     0.51952,     0.52052,     0.52152,     0.52252,     0.52352,     0.52452,     0.52553,     0.52653,     0.52753,\n",
       "           0.52853,     0.52953,     0.53053,     0.53153,     0.53253,     0.53353,     0.53453,     0.53554,     0.53654,     0.53754,     0.53854,     0.53954,     0.54054,     0.54154,     0.54254,     0.54354,     0.54454,     0.54555,     0.54655,     0.54755,     0.54855,     0.54955,     0.55055,     0.55155,\n",
       "           0.55255,     0.55355,     0.55455,     0.55556,     0.55656,     0.55756,     0.55856,     0.55956,     0.56056,     0.56156,     0.56256,     0.56356,     0.56456,     0.56557,     0.56657,     0.56757,     0.56857,     0.56957,     0.57057,     0.57157,     0.57257,     0.57357,     0.57457,     0.57558,\n",
       "           0.57658,     0.57758,     0.57858,     0.57958,     0.58058,     0.58158,     0.58258,     0.58358,     0.58458,     0.58559,     0.58659,     0.58759,     0.58859,     0.58959,     0.59059,     0.59159,     0.59259,     0.59359,     0.59459,      0.5956,      0.5966,      0.5976,      0.5986,      0.5996,\n",
       "            0.6006,      0.6016,      0.6026,      0.6036,      0.6046,     0.60561,     0.60661,     0.60761,     0.60861,     0.60961,     0.61061,     0.61161,     0.61261,     0.61361,     0.61461,     0.61562,     0.61662,     0.61762,     0.61862,     0.61962,     0.62062,     0.62162,     0.62262,     0.62362,\n",
       "           0.62462,     0.62563,     0.62663,     0.62763,     0.62863,     0.62963,     0.63063,     0.63163,     0.63263,     0.63363,     0.63463,     0.63564,     0.63664,     0.63764,     0.63864,     0.63964,     0.64064,     0.64164,     0.64264,     0.64364,     0.64464,     0.64565,     0.64665,     0.64765,\n",
       "           0.64865,     0.64965,     0.65065,     0.65165,     0.65265,     0.65365,     0.65465,     0.65566,     0.65666,     0.65766,     0.65866,     0.65966,     0.66066,     0.66166,     0.66266,     0.66366,     0.66466,     0.66567,     0.66667,     0.66767,     0.66867,     0.66967,     0.67067,     0.67167,\n",
       "           0.67267,     0.67367,     0.67467,     0.67568,     0.67668,     0.67768,     0.67868,     0.67968,     0.68068,     0.68168,     0.68268,     0.68368,     0.68468,     0.68569,     0.68669,     0.68769,     0.68869,     0.68969,     0.69069,     0.69169,     0.69269,     0.69369,     0.69469,      0.6957,\n",
       "            0.6967,      0.6977,      0.6987,      0.6997,      0.7007,      0.7017,      0.7027,      0.7037,      0.7047,     0.70571,     0.70671,     0.70771,     0.70871,     0.70971,     0.71071,     0.71171,     0.71271,     0.71371,     0.71471,     0.71572,     0.71672,     0.71772,     0.71872,     0.71972,\n",
       "           0.72072,     0.72172,     0.72272,     0.72372,     0.72472,     0.72573,     0.72673,     0.72773,     0.72873,     0.72973,     0.73073,     0.73173,     0.73273,     0.73373,     0.73473,     0.73574,     0.73674,     0.73774,     0.73874,     0.73974,     0.74074,     0.74174,     0.74274,     0.74374,\n",
       "           0.74474,     0.74575,     0.74675,     0.74775,     0.74875,     0.74975,     0.75075,     0.75175,     0.75275,     0.75375,     0.75475,     0.75576,     0.75676,     0.75776,     0.75876,     0.75976,     0.76076,     0.76176,     0.76276,     0.76376,     0.76476,     0.76577,     0.76677,     0.76777,\n",
       "           0.76877,     0.76977,     0.77077,     0.77177,     0.77277,     0.77377,     0.77477,     0.77578,     0.77678,     0.77778,     0.77878,     0.77978,     0.78078,     0.78178,     0.78278,     0.78378,     0.78478,     0.78579,     0.78679,     0.78779,     0.78879,     0.78979,     0.79079,     0.79179,\n",
       "           0.79279,     0.79379,     0.79479,      0.7958,      0.7968,      0.7978,      0.7988,      0.7998,      0.8008,      0.8018,      0.8028,      0.8038,      0.8048,     0.80581,     0.80681,     0.80781,     0.80881,     0.80981,     0.81081,     0.81181,     0.81281,     0.81381,     0.81481,     0.81582,\n",
       "           0.81682,     0.81782,     0.81882,     0.81982,     0.82082,     0.82182,     0.82282,     0.82382,     0.82482,     0.82583,     0.82683,     0.82783,     0.82883,     0.82983,     0.83083,     0.83183,     0.83283,     0.83383,     0.83483,     0.83584,     0.83684,     0.83784,     0.83884,     0.83984,\n",
       "           0.84084,     0.84184,     0.84284,     0.84384,     0.84484,     0.84585,     0.84685,     0.84785,     0.84885,     0.84985,     0.85085,     0.85185,     0.85285,     0.85385,     0.85485,     0.85586,     0.85686,     0.85786,     0.85886,     0.85986,     0.86086,     0.86186,     0.86286,     0.86386,\n",
       "           0.86486,     0.86587,     0.86687,     0.86787,     0.86887,     0.86987,     0.87087,     0.87187,     0.87287,     0.87387,     0.87487,     0.87588,     0.87688,     0.87788,     0.87888,     0.87988,     0.88088,     0.88188,     0.88288,     0.88388,     0.88488,     0.88589,     0.88689,     0.88789,\n",
       "           0.88889,     0.88989,     0.89089,     0.89189,     0.89289,     0.89389,     0.89489,      0.8959,      0.8969,      0.8979,      0.8989,      0.8999,      0.9009,      0.9019,      0.9029,      0.9039,      0.9049,     0.90591,     0.90691,     0.90791,     0.90891,     0.90991,     0.91091,     0.91191,\n",
       "           0.91291,     0.91391,     0.91491,     0.91592,     0.91692,     0.91792,     0.91892,     0.91992,     0.92092,     0.92192,     0.92292,     0.92392,     0.92492,     0.92593,     0.92693,     0.92793,     0.92893,     0.92993,     0.93093,     0.93193,     0.93293,     0.93393,     0.93493,     0.93594,\n",
       "           0.93694,     0.93794,     0.93894,     0.93994,     0.94094,     0.94194,     0.94294,     0.94394,     0.94494,     0.94595,     0.94695,     0.94795,     0.94895,     0.94995,     0.95095,     0.95195,     0.95295,     0.95395,     0.95495,     0.95596,     0.95696,     0.95796,     0.95896,     0.95996,\n",
       "           0.96096,     0.96196,     0.96296,     0.96396,     0.96496,     0.96597,     0.96697,     0.96797,     0.96897,     0.96997,     0.97097,     0.97197,     0.97297,     0.97397,     0.97497,     0.97598,     0.97698,     0.97798,     0.97898,     0.97998,     0.98098,     0.98198,     0.98298,     0.98398,\n",
       "           0.98498,     0.98599,     0.98699,     0.98799,     0.98899,     0.98999,     0.99099,     0.99199,     0.99299,     0.99399,     0.99499,       0.996,       0.997,       0.998,       0.999,           1]), array([[    0.82392,     0.82392,     0.86515,     0.88319,     0.89722,     0.90966,     0.91421,     0.91547,     0.92007,     0.92452,     0.92668,     0.92916,     0.93193,     0.93485,     0.93561,     0.93801,     0.93885,      0.9398,     0.94319,      0.9446,     0.94548,     0.94627,     0.94729,\n",
       "            0.94822,     0.94958,     0.95041,     0.95398,     0.95602,      0.9567,     0.95708,     0.95746,     0.95803,     0.95875,     0.95915,     0.95955,     0.95999,     0.96048,     0.96084,     0.96087,     0.96105,     0.96123,     0.96141,     0.96159,     0.96177,     0.96192,     0.96205,\n",
       "            0.96217,     0.96229,     0.96241,     0.96253,     0.96265,     0.96277,      0.9629,     0.96308,     0.96333,     0.96359,     0.96384,     0.96404,     0.96404,     0.96403,     0.96402,     0.96402,     0.96401,     0.96411,     0.96454,     0.96496,     0.96548,     0.96604,     0.96684,\n",
       "            0.96786,     0.96841,     0.96849,     0.96857,     0.96865,     0.96873,     0.96881,     0.96889,     0.96898,     0.96906,     0.96914,     0.96922,      0.9693,     0.96938,     0.96973,     0.97129,      0.9717,     0.97176,     0.97183,      0.9719,     0.97197,     0.97203,      0.9721,\n",
       "            0.97217,     0.97223,      0.9723,     0.97237,     0.97244,      0.9725,     0.97257,     0.97264,     0.97271,     0.97276,     0.97275,     0.97274,     0.97273,     0.97286,     0.97317,     0.97349,      0.9738,     0.97386,     0.97389,     0.97392,     0.97395,     0.97398,       0.974,\n",
       "            0.97403,     0.97406,     0.97409,     0.97412,     0.97415,     0.97418,     0.97421,     0.97424,     0.97426,     0.97429,     0.97432,     0.97435,     0.97438,     0.97441,     0.97444,     0.97447,      0.9745,     0.97452,     0.97455,     0.97458,     0.97461,     0.97464,     0.97467,\n",
       "             0.9747,     0.97473,     0.97476,     0.97479,     0.97481,     0.97484,     0.97487,      0.9749,     0.97493,     0.97494,     0.97494,     0.97494,     0.97494,     0.97494,     0.97494,     0.97494,     0.97494,     0.97493,     0.97493,     0.97493,     0.97493,     0.97493,     0.97493,\n",
       "            0.97493,     0.97493,     0.97493,     0.97493,     0.97492,     0.97492,     0.97492,     0.97492,     0.97492,     0.97492,     0.97492,     0.97492,     0.97492,     0.97492,     0.97491,     0.97498,     0.97509,      0.9752,     0.97531,     0.97541,     0.97552,     0.97563,     0.97573,\n",
       "            0.97584,     0.97595,     0.97602,     0.97602,     0.97606,     0.97609,     0.97612,     0.97616,     0.97619,     0.97622,     0.97626,     0.97629,     0.97632,     0.97636,     0.97639,     0.97642,     0.97646,     0.97649,     0.97652,     0.97656,     0.97659,     0.97662,     0.97666,\n",
       "            0.97669,     0.97672,     0.97676,     0.97679,     0.97682,     0.97686,     0.97689,     0.97692,     0.97696,     0.97699,     0.97702,     0.97706,     0.97709,     0.97714,     0.97721,     0.97729,     0.97737,     0.97745,     0.97752,      0.9776,     0.97768,     0.97776,     0.97784,\n",
       "            0.97791,     0.97799,     0.97807,     0.97815,     0.97823,     0.97868,     0.97919,     0.97945,     0.97958,     0.97971,     0.97984,     0.97997,      0.9801,     0.98024,     0.98037,     0.98049,     0.98055,     0.98062,     0.98068,     0.98074,     0.98081,     0.98087,     0.98093,\n",
       "              0.981,     0.98106,     0.98112,     0.98119,     0.98125,     0.98131,     0.98138,     0.98144,      0.9815,     0.98157,     0.98161,     0.98161,     0.98161,     0.98161,     0.98161,     0.98161,     0.98161,     0.98161,     0.98161,     0.98161,     0.98161,     0.98161,     0.98161,\n",
       "            0.98161,     0.98161,      0.9816,      0.9816,      0.9816,      0.9816,      0.9816,      0.9816,      0.9816,      0.9816,      0.9816,      0.9816,      0.9816,      0.9816,      0.9816,      0.9816,      0.9816,      0.9816,      0.9816,      0.9816,      0.9816,      0.9816,      0.9816,\n",
       "             0.9816,      0.9816,      0.9816,      0.9816,      0.9816,      0.9816,      0.9816,      0.9816,      0.9816,      0.9816,      0.9816,      0.9816,      0.9816,      0.9816,     0.98159,     0.98159,     0.98159,     0.98159,     0.98159,     0.98159,     0.98159,     0.98159,     0.98159,\n",
       "            0.98159,     0.98159,     0.98159,     0.98159,     0.98159,     0.98159,     0.98159,     0.98159,     0.98159,     0.98159,     0.98159,     0.98159,     0.98159,     0.98159,     0.98159,     0.98163,     0.98184,     0.98205,     0.98226,     0.98247,     0.98268,      0.9828,      0.9829,\n",
       "              0.983,      0.9831,     0.98319,     0.98329,     0.98339,     0.98349,     0.98359,     0.98369,     0.98379,     0.98385,     0.98385,     0.98385,     0.98385,     0.98385,     0.98385,     0.98385,     0.98385,     0.98385,     0.98385,     0.98385,     0.98385,     0.98385,     0.98385,\n",
       "            0.98385,     0.98384,     0.98384,     0.98384,     0.98384,     0.98384,     0.98384,     0.98384,     0.98384,     0.98384,     0.98384,     0.98384,     0.98384,     0.98384,     0.98384,     0.98384,     0.98384,     0.98384,     0.98384,     0.98384,     0.98383,     0.98383,     0.98383,\n",
       "            0.98383,     0.98383,     0.98383,     0.98383,     0.98383,     0.98383,     0.98383,     0.98383,     0.98382,     0.98382,     0.98382,     0.98382,     0.98382,     0.98382,     0.98382,     0.98382,     0.98382,     0.98382,     0.98381,     0.98381,     0.98381,     0.98381,     0.98381,\n",
       "            0.98381,     0.98381,      0.9838,      0.9838,      0.9838,      0.9838,      0.9838,      0.9838,     0.98378,     0.98378,     0.98378,     0.98378,     0.98377,     0.98377,     0.98377,     0.98377,     0.98377,     0.98377,     0.98377,     0.98377,     0.98377,     0.98377,     0.98377,\n",
       "            0.98377,     0.98377,     0.98377,     0.98377,     0.98376,     0.98376,     0.98376,     0.98376,     0.98376,     0.98376,     0.98376,     0.98376,     0.98376,     0.98376,     0.98375,     0.98375,     0.98375,     0.98374,     0.98374,     0.98374,     0.98374,     0.98373,     0.98373,\n",
       "            0.98373,     0.98373,     0.98373,     0.98372,     0.98372,     0.98376,     0.98382,     0.98388,     0.98394,     0.98401,     0.98407,     0.98413,     0.98419,     0.98425,     0.98432,     0.98438,     0.98444,      0.9845,     0.98456,     0.98462,     0.98469,     0.98475,     0.98481,\n",
       "            0.98487,     0.98487,     0.98486,     0.98486,     0.98486,     0.98486,     0.98486,     0.98486,     0.98486,     0.98486,     0.98486,     0.98486,     0.98485,     0.98485,     0.98485,     0.98485,     0.98485,     0.98485,     0.98485,     0.98485,     0.98485,     0.98485,     0.98485,\n",
       "            0.98484,     0.98484,     0.98484,     0.98484,     0.98484,     0.98484,     0.98484,     0.98484,     0.98484,     0.98484,     0.98484,     0.98484,     0.98484,     0.98483,     0.98483,     0.98483,     0.98483,     0.98483,     0.98483,     0.98483,     0.98483,     0.98483,     0.98483,\n",
       "            0.98483,     0.98483,     0.98483,     0.98483,     0.98483,     0.98482,     0.98482,     0.98482,     0.98482,     0.98482,     0.98482,     0.98482,     0.98482,     0.98482,     0.98482,     0.98482,     0.98482,     0.98482,     0.98482,     0.98482,     0.98482,     0.98481,     0.98481,\n",
       "            0.98481,     0.98514,     0.98553,     0.98592,     0.98627,      0.9866,     0.98694,     0.98712,     0.98712,     0.98712,     0.98711,     0.98711,     0.98711,     0.98711,     0.98711,     0.98711,      0.9871,      0.9871,      0.9871,      0.9871,      0.9871,      0.9871,     0.98709,\n",
       "            0.98709,     0.98709,     0.98708,     0.98708,     0.98707,     0.98711,     0.98714,     0.98717,     0.98721,     0.98724,     0.98727,     0.98731,     0.98734,     0.98738,     0.98741,     0.98744,     0.98748,     0.98751,     0.98754,     0.98758,     0.98761,     0.98764,     0.98768,\n",
       "            0.98771,     0.98774,     0.98778,     0.98781,     0.98784,     0.98788,     0.98791,     0.98795,     0.98798,     0.98801,     0.98805,     0.98808,     0.98811,     0.98815,     0.98818,     0.98821,     0.98823,     0.98823,     0.98822,     0.98822,     0.98822,     0.98822,     0.98822,\n",
       "            0.98822,     0.98821,     0.98821,     0.98821,     0.98821,     0.98821,     0.98821,      0.9882,      0.9882,     0.98936,     0.98936,     0.98936,     0.98936,     0.98936,     0.98936,     0.98935,     0.98935,     0.98935,     0.98935,     0.98935,     0.99052,     0.99052,     0.99052,\n",
       "            0.99051,     0.99051,     0.99051,      0.9905,     0.99055,     0.99063,      0.9907,     0.99078,     0.99085,     0.99093,       0.991,     0.99108,     0.99116,     0.99123,     0.99131,     0.99138,     0.99146,     0.99153,     0.99161,     0.99167,     0.99167,     0.99166,     0.99166,\n",
       "            0.99166,     0.99166,     0.99166,     0.99166,     0.99166,     0.99166,     0.99165,     0.99165,     0.99165,     0.99183,     0.99203,     0.99223,     0.99244,     0.99264,     0.99283,     0.99283,     0.99283,     0.99282,     0.99282,     0.99282,     0.99282,     0.99282,     0.99281,\n",
       "            0.99281,     0.99281,     0.99281,     0.99281,     0.99281,     0.99281,      0.9928,      0.9928,      0.9928,      0.9928,      0.9928,      0.9928,      0.9928,      0.9928,      0.9928,      0.9928,      0.9928,      0.9928,      0.9928,      0.9928,      0.9928,      0.9928,      0.9928,\n",
       "             0.9928,      0.9928,     0.99279,     0.99279,     0.99279,     0.99279,     0.99279,     0.99279,     0.99279,     0.99279,     0.99279,     0.99279,     0.99279,     0.99279,     0.99279,     0.99279,     0.99279,     0.99278,     0.99277,     0.99462,     0.99517,     0.99517,     0.99517,\n",
       "            0.99517,     0.99517,     0.99516,     0.99516,     0.99516,     0.99516,     0.99516,     0.99516,     0.99516,     0.99516,     0.99516,     0.99544,     0.99585,     0.99626,     0.99667,     0.99708,      0.9975,     0.99757,     0.99757,     0.99757,     0.99757,     0.99757,     0.99757,\n",
       "            0.99756,     0.99756,     0.99756,     0.99756,     0.99756,     0.99756,     0.99756,     0.99756,     0.99756,     0.99756,     0.99755,     0.99755,     0.99755,     0.99755,     0.99754,     0.99754,     0.99754,     0.99754,     0.99753,     0.99753,     0.99753,     0.99752,     0.99752,\n",
       "            0.99751,     0.99751,     0.99875,     0.99875,     0.99874,     0.99874,     0.99874,     0.99874,     0.99873,     0.99873,     0.99872,     0.99872,     0.99872,     0.99872,     0.99871,      0.9987,      0.9987,      0.9987,     0.99869,     0.99869,     0.99868,     0.99867,     0.99867,\n",
       "            0.99867,     0.99866,     0.99865,     0.99864,     0.99864,     0.99864,     0.99863,     0.99862,     0.99861,     0.99861,      0.9986,      0.9986,           1,           1,           1,           1,           1,           1,           1,           1,           1,           1,           1,\n",
       "                  1,           1,           1,           1,           1,           1,           1,           1,           1,           1,           1,           1,           1,           1,           1,           1,           1,           1,           1,           1,           1,           1,           1,\n",
       "                  1,           1,           1,           1,           1,           1,           1,           1,           1,           1,           1,           1,           1,           1,           1,           1,           1,           1,           1,           1,           1,           1,           1,\n",
       "                  1,           1,           1,           1,           1,           1,           1,           1,           1,           1,           1,           1,           1,           1,           1,           1,           1,           1,           1,           1,           1,           1,           1,\n",
       "                  1,           1,           1,           1,           1,           1,           1,           1,           1,           1,           1,           1,           1,           1,           1,           1,           1,           1,           1,           1,           1,           1,           1,\n",
       "                  1,           1,           1,           1,           1,           1,           1,           1,           1,           1,           1,           1,           1,           1,           1,           1,           1,           1,           1,           1,           1,           1,           1,\n",
       "                  1,           1,           1,           1,           1,           1,           1,           1,           1,           1,           1,           1,           1,           1,           1,           1,           1,           1,           1,           1,           1,           1,           1,\n",
       "                  1,           1,           1,           1,           1,           1,           1,           1,           1,           1,           1,           1,           1,           1,           1,           1,           1,           1,           1,           1,           1,           1,           1,\n",
       "                  1,           1,           1,           1,           1,           1,           1,           1,           1,           1,           1]]), 'Confidence', 'Precision'], [array([          0,    0.001001,    0.002002,    0.003003,    0.004004,    0.005005,    0.006006,    0.007007,    0.008008,    0.009009,     0.01001,    0.011011,    0.012012,    0.013013,    0.014014,    0.015015,    0.016016,    0.017017,    0.018018,    0.019019,     0.02002,    0.021021,    0.022022,    0.023023,\n",
       "          0.024024,    0.025025,    0.026026,    0.027027,    0.028028,    0.029029,     0.03003,    0.031031,    0.032032,    0.033033,    0.034034,    0.035035,    0.036036,    0.037037,    0.038038,    0.039039,     0.04004,    0.041041,    0.042042,    0.043043,    0.044044,    0.045045,    0.046046,    0.047047,\n",
       "          0.048048,    0.049049,     0.05005,    0.051051,    0.052052,    0.053053,    0.054054,    0.055055,    0.056056,    0.057057,    0.058058,    0.059059,     0.06006,    0.061061,    0.062062,    0.063063,    0.064064,    0.065065,    0.066066,    0.067067,    0.068068,    0.069069,     0.07007,    0.071071,\n",
       "          0.072072,    0.073073,    0.074074,    0.075075,    0.076076,    0.077077,    0.078078,    0.079079,     0.08008,    0.081081,    0.082082,    0.083083,    0.084084,    0.085085,    0.086086,    0.087087,    0.088088,    0.089089,     0.09009,    0.091091,    0.092092,    0.093093,    0.094094,    0.095095,\n",
       "          0.096096,    0.097097,    0.098098,    0.099099,      0.1001,      0.1011,      0.1021,      0.1031,      0.1041,     0.10511,     0.10611,     0.10711,     0.10811,     0.10911,     0.11011,     0.11111,     0.11211,     0.11311,     0.11411,     0.11512,     0.11612,     0.11712,     0.11812,     0.11912,\n",
       "           0.12012,     0.12112,     0.12212,     0.12312,     0.12412,     0.12513,     0.12613,     0.12713,     0.12813,     0.12913,     0.13013,     0.13113,     0.13213,     0.13313,     0.13413,     0.13514,     0.13614,     0.13714,     0.13814,     0.13914,     0.14014,     0.14114,     0.14214,     0.14314,\n",
       "           0.14414,     0.14515,     0.14615,     0.14715,     0.14815,     0.14915,     0.15015,     0.15115,     0.15215,     0.15315,     0.15415,     0.15516,     0.15616,     0.15716,     0.15816,     0.15916,     0.16016,     0.16116,     0.16216,     0.16316,     0.16416,     0.16517,     0.16617,     0.16717,\n",
       "           0.16817,     0.16917,     0.17017,     0.17117,     0.17217,     0.17317,     0.17417,     0.17518,     0.17618,     0.17718,     0.17818,     0.17918,     0.18018,     0.18118,     0.18218,     0.18318,     0.18418,     0.18519,     0.18619,     0.18719,     0.18819,     0.18919,     0.19019,     0.19119,\n",
       "           0.19219,     0.19319,     0.19419,      0.1952,      0.1962,      0.1972,      0.1982,      0.1992,      0.2002,      0.2012,      0.2022,      0.2032,      0.2042,     0.20521,     0.20621,     0.20721,     0.20821,     0.20921,     0.21021,     0.21121,     0.21221,     0.21321,     0.21421,     0.21522,\n",
       "           0.21622,     0.21722,     0.21822,     0.21922,     0.22022,     0.22122,     0.22222,     0.22322,     0.22422,     0.22523,     0.22623,     0.22723,     0.22823,     0.22923,     0.23023,     0.23123,     0.23223,     0.23323,     0.23423,     0.23524,     0.23624,     0.23724,     0.23824,     0.23924,\n",
       "           0.24024,     0.24124,     0.24224,     0.24324,     0.24424,     0.24525,     0.24625,     0.24725,     0.24825,     0.24925,     0.25025,     0.25125,     0.25225,     0.25325,     0.25425,     0.25526,     0.25626,     0.25726,     0.25826,     0.25926,     0.26026,     0.26126,     0.26226,     0.26326,\n",
       "           0.26426,     0.26527,     0.26627,     0.26727,     0.26827,     0.26927,     0.27027,     0.27127,     0.27227,     0.27327,     0.27427,     0.27528,     0.27628,     0.27728,     0.27828,     0.27928,     0.28028,     0.28128,     0.28228,     0.28328,     0.28428,     0.28529,     0.28629,     0.28729,\n",
       "           0.28829,     0.28929,     0.29029,     0.29129,     0.29229,     0.29329,     0.29429,      0.2953,      0.2963,      0.2973,      0.2983,      0.2993,      0.3003,      0.3013,      0.3023,      0.3033,      0.3043,     0.30531,     0.30631,     0.30731,     0.30831,     0.30931,     0.31031,     0.31131,\n",
       "           0.31231,     0.31331,     0.31431,     0.31532,     0.31632,     0.31732,     0.31832,     0.31932,     0.32032,     0.32132,     0.32232,     0.32332,     0.32432,     0.32533,     0.32633,     0.32733,     0.32833,     0.32933,     0.33033,     0.33133,     0.33233,     0.33333,     0.33433,     0.33534,\n",
       "           0.33634,     0.33734,     0.33834,     0.33934,     0.34034,     0.34134,     0.34234,     0.34334,     0.34434,     0.34535,     0.34635,     0.34735,     0.34835,     0.34935,     0.35035,     0.35135,     0.35235,     0.35335,     0.35435,     0.35536,     0.35636,     0.35736,     0.35836,     0.35936,\n",
       "           0.36036,     0.36136,     0.36236,     0.36336,     0.36436,     0.36537,     0.36637,     0.36737,     0.36837,     0.36937,     0.37037,     0.37137,     0.37237,     0.37337,     0.37437,     0.37538,     0.37638,     0.37738,     0.37838,     0.37938,     0.38038,     0.38138,     0.38238,     0.38338,\n",
       "           0.38438,     0.38539,     0.38639,     0.38739,     0.38839,     0.38939,     0.39039,     0.39139,     0.39239,     0.39339,     0.39439,      0.3954,      0.3964,      0.3974,      0.3984,      0.3994,      0.4004,      0.4014,      0.4024,      0.4034,      0.4044,     0.40541,     0.40641,     0.40741,\n",
       "           0.40841,     0.40941,     0.41041,     0.41141,     0.41241,     0.41341,     0.41441,     0.41542,     0.41642,     0.41742,     0.41842,     0.41942,     0.42042,     0.42142,     0.42242,     0.42342,     0.42442,     0.42543,     0.42643,     0.42743,     0.42843,     0.42943,     0.43043,     0.43143,\n",
       "           0.43243,     0.43343,     0.43443,     0.43544,     0.43644,     0.43744,     0.43844,     0.43944,     0.44044,     0.44144,     0.44244,     0.44344,     0.44444,     0.44545,     0.44645,     0.44745,     0.44845,     0.44945,     0.45045,     0.45145,     0.45245,     0.45345,     0.45445,     0.45546,\n",
       "           0.45646,     0.45746,     0.45846,     0.45946,     0.46046,     0.46146,     0.46246,     0.46346,     0.46446,     0.46547,     0.46647,     0.46747,     0.46847,     0.46947,     0.47047,     0.47147,     0.47247,     0.47347,     0.47447,     0.47548,     0.47648,     0.47748,     0.47848,     0.47948,\n",
       "           0.48048,     0.48148,     0.48248,     0.48348,     0.48448,     0.48549,     0.48649,     0.48749,     0.48849,     0.48949,     0.49049,     0.49149,     0.49249,     0.49349,     0.49449,      0.4955,      0.4965,      0.4975,      0.4985,      0.4995,      0.5005,      0.5015,      0.5025,      0.5035,\n",
       "            0.5045,     0.50551,     0.50651,     0.50751,     0.50851,     0.50951,     0.51051,     0.51151,     0.51251,     0.51351,     0.51451,     0.51552,     0.51652,     0.51752,     0.51852,     0.51952,     0.52052,     0.52152,     0.52252,     0.52352,     0.52452,     0.52553,     0.52653,     0.52753,\n",
       "           0.52853,     0.52953,     0.53053,     0.53153,     0.53253,     0.53353,     0.53453,     0.53554,     0.53654,     0.53754,     0.53854,     0.53954,     0.54054,     0.54154,     0.54254,     0.54354,     0.54454,     0.54555,     0.54655,     0.54755,     0.54855,     0.54955,     0.55055,     0.55155,\n",
       "           0.55255,     0.55355,     0.55455,     0.55556,     0.55656,     0.55756,     0.55856,     0.55956,     0.56056,     0.56156,     0.56256,     0.56356,     0.56456,     0.56557,     0.56657,     0.56757,     0.56857,     0.56957,     0.57057,     0.57157,     0.57257,     0.57357,     0.57457,     0.57558,\n",
       "           0.57658,     0.57758,     0.57858,     0.57958,     0.58058,     0.58158,     0.58258,     0.58358,     0.58458,     0.58559,     0.58659,     0.58759,     0.58859,     0.58959,     0.59059,     0.59159,     0.59259,     0.59359,     0.59459,      0.5956,      0.5966,      0.5976,      0.5986,      0.5996,\n",
       "            0.6006,      0.6016,      0.6026,      0.6036,      0.6046,     0.60561,     0.60661,     0.60761,     0.60861,     0.60961,     0.61061,     0.61161,     0.61261,     0.61361,     0.61461,     0.61562,     0.61662,     0.61762,     0.61862,     0.61962,     0.62062,     0.62162,     0.62262,     0.62362,\n",
       "           0.62462,     0.62563,     0.62663,     0.62763,     0.62863,     0.62963,     0.63063,     0.63163,     0.63263,     0.63363,     0.63463,     0.63564,     0.63664,     0.63764,     0.63864,     0.63964,     0.64064,     0.64164,     0.64264,     0.64364,     0.64464,     0.64565,     0.64665,     0.64765,\n",
       "           0.64865,     0.64965,     0.65065,     0.65165,     0.65265,     0.65365,     0.65465,     0.65566,     0.65666,     0.65766,     0.65866,     0.65966,     0.66066,     0.66166,     0.66266,     0.66366,     0.66466,     0.66567,     0.66667,     0.66767,     0.66867,     0.66967,     0.67067,     0.67167,\n",
       "           0.67267,     0.67367,     0.67467,     0.67568,     0.67668,     0.67768,     0.67868,     0.67968,     0.68068,     0.68168,     0.68268,     0.68368,     0.68468,     0.68569,     0.68669,     0.68769,     0.68869,     0.68969,     0.69069,     0.69169,     0.69269,     0.69369,     0.69469,      0.6957,\n",
       "            0.6967,      0.6977,      0.6987,      0.6997,      0.7007,      0.7017,      0.7027,      0.7037,      0.7047,     0.70571,     0.70671,     0.70771,     0.70871,     0.70971,     0.71071,     0.71171,     0.71271,     0.71371,     0.71471,     0.71572,     0.71672,     0.71772,     0.71872,     0.71972,\n",
       "           0.72072,     0.72172,     0.72272,     0.72372,     0.72472,     0.72573,     0.72673,     0.72773,     0.72873,     0.72973,     0.73073,     0.73173,     0.73273,     0.73373,     0.73473,     0.73574,     0.73674,     0.73774,     0.73874,     0.73974,     0.74074,     0.74174,     0.74274,     0.74374,\n",
       "           0.74474,     0.74575,     0.74675,     0.74775,     0.74875,     0.74975,     0.75075,     0.75175,     0.75275,     0.75375,     0.75475,     0.75576,     0.75676,     0.75776,     0.75876,     0.75976,     0.76076,     0.76176,     0.76276,     0.76376,     0.76476,     0.76577,     0.76677,     0.76777,\n",
       "           0.76877,     0.76977,     0.77077,     0.77177,     0.77277,     0.77377,     0.77477,     0.77578,     0.77678,     0.77778,     0.77878,     0.77978,     0.78078,     0.78178,     0.78278,     0.78378,     0.78478,     0.78579,     0.78679,     0.78779,     0.78879,     0.78979,     0.79079,     0.79179,\n",
       "           0.79279,     0.79379,     0.79479,      0.7958,      0.7968,      0.7978,      0.7988,      0.7998,      0.8008,      0.8018,      0.8028,      0.8038,      0.8048,     0.80581,     0.80681,     0.80781,     0.80881,     0.80981,     0.81081,     0.81181,     0.81281,     0.81381,     0.81481,     0.81582,\n",
       "           0.81682,     0.81782,     0.81882,     0.81982,     0.82082,     0.82182,     0.82282,     0.82382,     0.82482,     0.82583,     0.82683,     0.82783,     0.82883,     0.82983,     0.83083,     0.83183,     0.83283,     0.83383,     0.83483,     0.83584,     0.83684,     0.83784,     0.83884,     0.83984,\n",
       "           0.84084,     0.84184,     0.84284,     0.84384,     0.84484,     0.84585,     0.84685,     0.84785,     0.84885,     0.84985,     0.85085,     0.85185,     0.85285,     0.85385,     0.85485,     0.85586,     0.85686,     0.85786,     0.85886,     0.85986,     0.86086,     0.86186,     0.86286,     0.86386,\n",
       "           0.86486,     0.86587,     0.86687,     0.86787,     0.86887,     0.86987,     0.87087,     0.87187,     0.87287,     0.87387,     0.87487,     0.87588,     0.87688,     0.87788,     0.87888,     0.87988,     0.88088,     0.88188,     0.88288,     0.88388,     0.88488,     0.88589,     0.88689,     0.88789,\n",
       "           0.88889,     0.88989,     0.89089,     0.89189,     0.89289,     0.89389,     0.89489,      0.8959,      0.8969,      0.8979,      0.8989,      0.8999,      0.9009,      0.9019,      0.9029,      0.9039,      0.9049,     0.90591,     0.90691,     0.90791,     0.90891,     0.90991,     0.91091,     0.91191,\n",
       "           0.91291,     0.91391,     0.91491,     0.91592,     0.91692,     0.91792,     0.91892,     0.91992,     0.92092,     0.92192,     0.92292,     0.92392,     0.92492,     0.92593,     0.92693,     0.92793,     0.92893,     0.92993,     0.93093,     0.93193,     0.93293,     0.93393,     0.93493,     0.93594,\n",
       "           0.93694,     0.93794,     0.93894,     0.93994,     0.94094,     0.94194,     0.94294,     0.94394,     0.94494,     0.94595,     0.94695,     0.94795,     0.94895,     0.94995,     0.95095,     0.95195,     0.95295,     0.95395,     0.95495,     0.95596,     0.95696,     0.95796,     0.95896,     0.95996,\n",
       "           0.96096,     0.96196,     0.96296,     0.96396,     0.96496,     0.96597,     0.96697,     0.96797,     0.96897,     0.96997,     0.97097,     0.97197,     0.97297,     0.97397,     0.97497,     0.97598,     0.97698,     0.97798,     0.97898,     0.97998,     0.98098,     0.98198,     0.98298,     0.98398,\n",
       "           0.98498,     0.98599,     0.98699,     0.98799,     0.98899,     0.98999,     0.99099,     0.99199,     0.99299,     0.99399,     0.99499,       0.996,       0.997,       0.998,       0.999,           1]), array([[    0.99653,     0.99653,     0.99653,     0.99537,     0.99537,     0.99537,     0.99537,     0.99537,     0.99537,     0.99537,     0.99469,     0.99421,     0.99421,     0.99421,     0.99421,     0.99421,     0.99421,     0.99421,     0.99421,     0.99421,     0.99421,     0.99421,     0.99421,\n",
       "            0.99421,     0.99421,     0.99421,     0.99421,     0.99421,     0.99421,     0.99421,     0.99421,     0.99421,     0.99421,     0.99421,     0.99421,     0.99421,     0.99421,     0.99388,     0.99306,     0.99306,     0.99306,     0.99306,     0.99306,     0.99306,     0.99306,     0.99306,\n",
       "            0.99306,     0.99306,     0.99306,     0.99306,     0.99306,     0.99306,     0.99306,     0.99306,     0.99306,     0.99306,     0.99306,     0.99302,     0.99282,     0.99263,     0.99243,     0.99224,     0.99204,      0.9919,      0.9919,      0.9919,      0.9919,      0.9919,      0.9919,\n",
       "             0.9919,      0.9919,      0.9919,      0.9919,      0.9919,      0.9919,      0.9919,      0.9919,      0.9919,      0.9919,      0.9919,      0.9919,      0.9919,      0.9919,      0.9919,      0.9919,      0.9919,      0.9919,      0.9919,      0.9919,      0.9919,      0.9919,      0.9919,\n",
       "             0.9919,      0.9919,      0.9919,      0.9919,      0.9919,      0.9919,      0.9919,      0.9919,      0.9919,     0.99183,     0.99153,     0.99122,     0.99092,     0.99074,     0.99074,     0.99074,     0.99074,     0.99074,     0.99074,     0.99074,     0.99074,     0.99074,     0.99074,\n",
       "            0.99074,     0.99074,     0.99074,     0.99074,     0.99074,     0.99074,     0.99074,     0.99074,     0.99074,     0.99074,     0.99074,     0.99074,     0.99074,     0.99074,     0.99074,     0.99074,     0.99074,     0.99074,     0.99074,     0.99074,     0.99074,     0.99074,     0.99074,\n",
       "            0.99074,     0.99074,     0.99074,     0.99074,     0.99074,     0.99074,     0.99074,     0.99074,     0.99074,     0.99072,     0.99068,     0.99064,      0.9906,     0.99056,     0.99052,     0.99048,     0.99044,      0.9904,     0.99036,     0.99032,     0.99028,     0.99024,      0.9902,\n",
       "            0.99016,     0.99012,     0.99008,     0.99004,        0.99,     0.98996,     0.98992,     0.98988,     0.98984,      0.9898,     0.98976,     0.98972,     0.98968,     0.98964,      0.9896,     0.98958,     0.98958,     0.98958,     0.98958,     0.98958,     0.98958,     0.98958,     0.98958,\n",
       "            0.98958,     0.98958,     0.98907,     0.98843,     0.98843,     0.98843,     0.98843,     0.98843,     0.98843,     0.98843,     0.98843,     0.98843,     0.98843,     0.98843,     0.98843,     0.98843,     0.98843,     0.98843,     0.98843,     0.98843,     0.98843,     0.98843,     0.98843,\n",
       "            0.98843,     0.98843,     0.98843,     0.98843,     0.98843,     0.98843,     0.98843,     0.98843,     0.98843,     0.98843,     0.98843,     0.98843,     0.98843,     0.98843,     0.98843,     0.98843,     0.98843,     0.98843,     0.98843,     0.98843,     0.98843,     0.98843,     0.98843,\n",
       "            0.98843,     0.98843,     0.98843,     0.98843,     0.98843,     0.98843,     0.98843,     0.98843,     0.98843,     0.98843,     0.98843,     0.98843,     0.98843,     0.98843,     0.98843,     0.98843,     0.98843,     0.98843,     0.98843,     0.98843,     0.98843,     0.98843,     0.98843,\n",
       "            0.98843,     0.98843,     0.98843,     0.98843,     0.98843,     0.98843,     0.98843,     0.98843,     0.98843,     0.98843,     0.98842,     0.98841,     0.98839,     0.98837,     0.98836,     0.98834,     0.98833,     0.98831,      0.9883,     0.98828,     0.98826,     0.98825,     0.98823,\n",
       "            0.98822,      0.9882,     0.98819,     0.98817,     0.98816,     0.98814,     0.98812,     0.98811,     0.98809,     0.98808,     0.98806,     0.98805,     0.98803,     0.98802,       0.988,     0.98798,     0.98797,     0.98795,     0.98794,     0.98792,     0.98791,     0.98789,     0.98787,\n",
       "            0.98786,     0.98784,     0.98783,     0.98781,      0.9878,     0.98778,     0.98777,     0.98775,     0.98773,     0.98772,      0.9877,     0.98769,     0.98767,     0.98766,     0.98764,     0.98762,     0.98761,     0.98759,     0.98758,     0.98756,     0.98755,     0.98753,     0.98752,\n",
       "             0.9875,     0.98748,     0.98747,     0.98745,     0.98744,     0.98742,     0.98741,     0.98739,     0.98737,     0.98736,     0.98734,     0.98733,     0.98731,      0.9873,     0.98728,     0.98727,     0.98727,     0.98727,     0.98727,     0.98727,     0.98727,     0.98727,     0.98727,\n",
       "            0.98727,     0.98727,     0.98727,     0.98727,     0.98727,     0.98727,     0.98727,     0.98727,     0.98727,     0.98726,     0.98723,     0.98719,     0.98716,     0.98713,      0.9871,     0.98707,     0.98703,       0.987,     0.98697,     0.98694,     0.98691,     0.98688,     0.98684,\n",
       "            0.98681,     0.98678,     0.98675,     0.98672,     0.98668,     0.98665,     0.98662,     0.98659,     0.98656,     0.98652,     0.98649,     0.98646,     0.98643,      0.9864,     0.98637,     0.98633,      0.9863,     0.98627,     0.98624,     0.98621,     0.98617,     0.98614,     0.98611,\n",
       "            0.98605,     0.98599,     0.98593,     0.98586,      0.9858,     0.98574,     0.98568,     0.98562,     0.98556,     0.98549,     0.98543,     0.98537,     0.98531,     0.98525,     0.98519,     0.98512,     0.98506,       0.985,     0.98493,     0.98484,     0.98475,     0.98465,     0.98456,\n",
       "            0.98447,     0.98437,     0.98428,     0.98419,     0.98409,       0.984,     0.98391,     0.98382,     0.98286,      0.9826,     0.98256,     0.98252,     0.98247,     0.98243,     0.98239,     0.98234,      0.9823,     0.98226,     0.98222,     0.98217,     0.98213,     0.98209,     0.98204,\n",
       "              0.982,     0.98196,     0.98191,     0.98187,     0.98183,     0.98178,     0.98174,      0.9817,     0.98165,     0.98161,     0.98157,     0.98153,     0.98148,     0.98128,     0.98107,     0.98087,     0.98066,     0.98045,     0.98028,     0.98016,     0.98004,     0.97992,      0.9798,\n",
       "            0.97969,     0.97957,     0.97945,     0.97933,     0.97921,     0.97917,     0.97917,     0.97917,     0.97917,     0.97917,     0.97917,     0.97917,     0.97917,     0.97917,     0.97917,     0.97917,     0.97917,     0.97917,     0.97917,     0.97917,     0.97917,     0.97917,     0.97917,\n",
       "            0.97916,      0.9791,     0.97904,     0.97897,     0.97891,     0.97885,     0.97879,     0.97872,     0.97866,      0.9786,     0.97854,     0.97847,     0.97841,     0.97835,     0.97829,     0.97822,     0.97816,      0.9781,     0.97804,     0.97798,     0.97793,     0.97788,     0.97783,\n",
       "            0.97777,     0.97772,     0.97767,     0.97762,     0.97757,     0.97752,     0.97747,     0.97741,     0.97736,     0.97731,     0.97726,     0.97721,     0.97716,      0.9771,     0.97705,       0.977,     0.97695,      0.9769,     0.97685,     0.97681,     0.97677,     0.97672,     0.97668,\n",
       "            0.97664,      0.9766,     0.97656,     0.97652,     0.97648,     0.97644,      0.9764,     0.97636,     0.97632,     0.97627,     0.97623,     0.97619,     0.97615,     0.97611,     0.97607,     0.97603,     0.97599,     0.97595,     0.97591,     0.97587,     0.97582,     0.97578,     0.97574,\n",
       "             0.9757,     0.97569,     0.97569,     0.97569,     0.97569,     0.97569,     0.97569,     0.97564,     0.97552,      0.9754,     0.97528,     0.97516,     0.97504,     0.97493,     0.97481,     0.97469,     0.97457,     0.97443,     0.97428,     0.97413,     0.97399,     0.97384,     0.97369,\n",
       "            0.97354,     0.97339,     0.97302,     0.97262,     0.97223,     0.97222,     0.97222,     0.97222,     0.97222,     0.97222,     0.97222,     0.97222,     0.97222,     0.97222,     0.97222,     0.97222,     0.97222,     0.97222,     0.97222,     0.97222,     0.97222,     0.97222,     0.97222,\n",
       "            0.97222,     0.97222,     0.97222,     0.97222,     0.97222,     0.97222,     0.97222,     0.97222,     0.97222,     0.97222,     0.97222,     0.97222,     0.97222,     0.97222,     0.97222,     0.97222,     0.97201,     0.97142,     0.97102,     0.97093,     0.97083,     0.97073,     0.97063,\n",
       "            0.97053,     0.97043,     0.97033,     0.97023,     0.97013,     0.97004,     0.96994,     0.96949,      0.9689,     0.96868,     0.96858,     0.96848,     0.96838,     0.96828,     0.96818,     0.96808,     0.96798,     0.96789,     0.96779,     0.96769,     0.96758,     0.96732,     0.96705,\n",
       "            0.96679,     0.96653,     0.96605,     0.96546,     0.96528,     0.96528,     0.96528,     0.96528,     0.96528,     0.96528,     0.96528,     0.96528,     0.96528,     0.96528,     0.96528,     0.96528,     0.96528,     0.96528,     0.96528,     0.96411,     0.96398,     0.96384,     0.96371,\n",
       "            0.96358,     0.96345,     0.96332,     0.96319,     0.96305,     0.96286,     0.96252,     0.96218,     0.96184,     0.96181,     0.96181,     0.96181,     0.96181,     0.96181,     0.96179,     0.96145,     0.96111,     0.96077,     0.96048,     0.96022,     0.95996,     0.95969,     0.95944,\n",
       "            0.95925,     0.95905,     0.95885,     0.95865,     0.95846,      0.9583,     0.95823,     0.95815,     0.95807,       0.958,     0.95792,     0.95784,     0.95777,     0.95769,     0.95762,     0.95754,     0.95746,     0.95739,     0.95731,     0.95723,     0.95716,      0.9571,     0.95705,\n",
       "            0.95699,     0.95693,     0.95687,     0.95681,     0.95676,      0.9567,     0.95664,     0.95658,     0.95652,     0.95647,     0.95641,     0.95635,     0.95629,     0.95623,     0.95618,     0.95612,     0.95606,     0.95465,     0.95386,      0.9537,     0.95365,     0.95349,     0.95333,\n",
       "            0.95318,     0.95302,     0.95286,      0.9527,     0.95254,     0.95236,     0.95218,       0.952,     0.95181,     0.95163,     0.95145,     0.95139,     0.95139,     0.95139,     0.95023,     0.95023,     0.95023,     0.94991,     0.94951,     0.94912,     0.94888,     0.94866,     0.94845,\n",
       "            0.94823,     0.94802,     0.94655,     0.94615,     0.94576,     0.94547,     0.94526,     0.94504,     0.94482,     0.94461,     0.94319,      0.9428,      0.9424,     0.94073,     0.93993,     0.93914,     0.93835,     0.93756,     0.93641,     0.93444,     0.93365,      0.9317,     0.93091,\n",
       "            0.92758,     0.92547,     0.92468,     0.92389,     0.92052,      0.9196,     0.91765,     0.91686,     0.91115,     0.90795,       0.906,     0.90521,     0.90293,     0.90093,     0.89419,     0.89086,     0.89007,     0.88696,      0.8825,     0.87921,      0.8726,     0.87145,     0.87066,\n",
       "            0.86731,     0.86175,      0.8551,     0.85168,     0.85089,     0.84749,     0.84198,     0.83991,     0.83293,     0.82943,     0.82779,     0.82426,     0.81871,     0.80617,     0.80151,     0.79474,      0.7893,     0.78348,      0.7764,     0.77359,      0.7643,      0.7608,     0.74977,\n",
       "            0.74023,     0.73583,     0.72275,     0.71459,     0.71317,     0.70522,     0.69691,     0.68068,     0.67032,     0.66131,     0.65053,     0.63253,      0.6163,     0.60816,     0.59937,     0.58658,     0.58305,      0.5701,     0.56114,     0.55301,      0.5391,     0.52865,     0.51473,\n",
       "            0.49734,        0.49,     0.47836,     0.46369,     0.45787,      0.4481,     0.44046,     0.43348,     0.42767,     0.40738,     0.40388,     0.40038,     0.39456,     0.38412,     0.37466,     0.36901,     0.36413,     0.35217,     0.34752,      0.3417,     0.34051,     0.33259,      0.3283,\n",
       "             0.3209,     0.31621,     0.31259,      0.3114,     0.30944,     0.30527,     0.30467,     0.30206,     0.30146,     0.29954,     0.29843,     0.29813,     0.29784,     0.29754,     0.29614,     0.29593,     0.29571,      0.2955,     0.29528,     0.29487,     0.29408,     0.29236,     0.29118,\n",
       "            0.28947,     0.28594,     0.28241,     0.27657,     0.27194,     0.26835,     0.26135,     0.24624,     0.23345,     0.22529,     0.20556,      0.1893,     0.16725,     0.15446,     0.13623,     0.12772,     0.11725,     0.10562,    0.095144,    0.081197,    0.070722,    0.060248,    0.053245,\n",
       "           0.049163,    0.045028,    0.042382,    0.040282,    0.036752,    0.033972,    0.027377,    0.021532,     0.01826,    0.016786,    0.013256,     0.01065,   0.0073534,   0.0049807,   0.0042927,   0.0038972,   0.0035018,   0.0032283,   0.0029646,    0.002701,   0.0024374,   0.0016799,           0,\n",
       "                  0,           0,           0,           0,           0,           0,           0,           0,           0,           0,           0,           0,           0,           0,           0,           0,           0,           0,           0,           0,           0,           0,           0,\n",
       "                  0,           0,           0,           0,           0,           0,           0,           0,           0,           0,           0,           0,           0,           0,           0,           0,           0,           0,           0,           0,           0,           0,           0,\n",
       "                  0,           0,           0,           0,           0,           0,           0,           0,           0,           0,           0]]), 'Confidence', 'Recall']]\n",
       "fitness: 0.8027847186054412\n",
       "keys: ['metrics/precision(B)', 'metrics/recall(B)', 'metrics/mAP50(B)', 'metrics/mAP50-95(B)']\n",
       "maps: array([    0.78152])\n",
       "names: {0: 'rivet'}\n",
       "plot: True\n",
       "results_dict: {'metrics/precision(B)': 0.9831948246257246, 'metrics/recall(B)': 0.9872685185185185, 'metrics/mAP50(B)': 0.9942007185123125, 'metrics/mAP50-95(B)': 0.7815162741713444, 'fitness': 0.8027847186054412}\n",
       "save_dir: WindowsPath('runs/detect/train')\n",
       "speed: {'preprocess': 0.19500192658992108, 'inference': 9.9395796700307, 'loss': 0.005862580016910855, 'postprocess': 0.8906737800217794}\n",
       "task: 'detect'"
      ]
     },
     "execution_count": 22,
     "metadata": {},
     "output_type": "execute_result"
    }
   ],
   "source": [
    "# Train the model\n",
    "model_x.train(data=\"custom.yaml\", epochs=200, imgsz=640, batch=4, workers=1)"
   ]
  },
  {
   "cell_type": "code",
   "execution_count": 23,
   "metadata": {},
   "outputs": [],
   "source": [
    "model_loaded1 = YOLO('best.pt')"
   ]
  },
  {
   "cell_type": "code",
   "execution_count": 28,
   "metadata": {},
   "outputs": [
    {
     "name": "stdout",
     "output_type": "stream",
     "text": [
      "\n",
      "image 1/55 C:\\Users\\coigah\\Documents\\PhD Folder\\YOLO\\test\\106_jpg.rf.4ea9feb38107b0dc92f2a5f75abb98d6.jpg: 480x640 4 rivets, 286.6ms\n",
      "image 2/55 C:\\Users\\coigah\\Documents\\PhD Folder\\YOLO\\test\\116_jpg.rf.3f63997d302ed7ec8241e67af56264c8.jpg: 480x640 6 rivets, 18.5ms\n",
      "image 3/55 C:\\Users\\coigah\\Documents\\PhD Folder\\YOLO\\test\\120_jpg.rf.9312fa63edea25fd8d8ddae1c5ba61db.jpg: 480x640 4 rivets, 12.7ms\n",
      "image 4/55 C:\\Users\\coigah\\Documents\\PhD Folder\\YOLO\\test\\131_jpg.rf.bc8aef6e54f266528ad11d3d8b220fc2.jpg: 480x640 6 rivets, 19.9ms\n",
      "image 5/55 C:\\Users\\coigah\\Documents\\PhD Folder\\YOLO\\test\\134_jpg.rf.b66ff5eb04c0cae84ca328e3def9b944.jpg: 480x640 5 rivets, 13.1ms\n",
      "image 6/55 C:\\Users\\coigah\\Documents\\PhD Folder\\YOLO\\test\\181_jpg.rf.b1ae72db70469ed8b1930d46f64e00c3.jpg: 480x640 5 rivets, 19.9ms\n",
      "image 7/55 C:\\Users\\coigah\\Documents\\PhD Folder\\YOLO\\test\\184_jpg.rf.c99b12942e6553ffe0ce316275df4460.jpg: 480x640 6 rivets, 15.2ms\n",
      "image 8/55 C:\\Users\\coigah\\Documents\\PhD Folder\\YOLO\\test\\29_jpg.rf.ea49939540ec4230de0eda1a46cd43f2.jpg: 480x640 6 rivets, 23.0ms\n",
      "image 9/55 C:\\Users\\coigah\\Documents\\PhD Folder\\YOLO\\test\\31_jpg.rf.a99e14adf386e7b4bbf37a3712654725.jpg: 480x640 4 rivets, 14.3ms\n",
      "image 10/55 C:\\Users\\coigah\\Documents\\PhD Folder\\YOLO\\test\\36_jpg.rf.67adf1034d246ad267745c7bca87df8f.jpg: 480x640 6 rivets, 23.1ms\n",
      "image 11/55 C:\\Users\\coigah\\Documents\\PhD Folder\\YOLO\\test\\38_jpg.rf.3ec65defc81f66ea4257f867aa3c7d23.jpg: 480x640 6 rivets, 3.2ms\n",
      "image 12/55 C:\\Users\\coigah\\Documents\\PhD Folder\\YOLO\\test\\72_jpg.rf.d4d019966367aef9d3fa81223ec3dcda.jpg: 480x640 4 rivets, 19.0ms\n",
      "image 13/55 C:\\Users\\coigah\\Documents\\PhD Folder\\YOLO\\test\\89_jpg.rf.7f687b74d523177de6f47a996d2ad00c.jpg: 480x640 6 rivets, 13.0ms\n",
      "image 14/55 C:\\Users\\coigah\\Documents\\PhD Folder\\YOLO\\test\\8_jpg.rf.ee99e9b4b1af2def13105dd66b4817b6.jpg: 480x640 6 rivets, 18.0ms\n",
      "image 15/55 C:\\Users\\coigah\\Documents\\PhD Folder\\YOLO\\test\\98_jpg.rf.8382bb215704318cf19abbdac1c45801.jpg: 480x640 6 rivets, 12.1ms\n",
      "image 16/55 C:\\Users\\coigah\\Documents\\PhD Folder\\YOLO\\test\\image1.jpg: 448x640 1 rivet, 5.1ms\n",
      "image 17/55 C:\\Users\\coigah\\Documents\\PhD Folder\\YOLO\\test\\image10.jpg: 448x640 6 rivets, 3.9ms\n",
      "image 18/55 C:\\Users\\coigah\\Documents\\PhD Folder\\YOLO\\test\\image11.jpg: 640x480 6 rivets, 16.0ms\n",
      "image 19/55 C:\\Users\\coigah\\Documents\\PhD Folder\\YOLO\\test\\image12.jpg: 352x640 6 rivets, 1.7ms\n",
      "image 20/55 C:\\Users\\coigah\\Documents\\PhD Folder\\YOLO\\test\\image13.jpg: 448x640 (no detections), 13.5ms\n",
      "image 21/55 C:\\Users\\coigah\\Documents\\PhD Folder\\YOLO\\test\\image14.jpg: 448x640 1 rivet, 19.0ms\n",
      "image 22/55 C:\\Users\\coigah\\Documents\\PhD Folder\\YOLO\\test\\image15.jpg: 480x640 6 rivets, 13.9ms\n",
      "image 23/55 C:\\Users\\coigah\\Documents\\PhD Folder\\YOLO\\test\\image16.jpg: 480x640 6 rivets, 11.7ms\n",
      "image 24/55 C:\\Users\\coigah\\Documents\\PhD Folder\\YOLO\\test\\image2.jpg: 448x640 (no detections), 3.6ms\n",
      "image 25/55 C:\\Users\\coigah\\Documents\\PhD Folder\\YOLO\\test\\image21.jpg: 640x640 6 rivets, 18.9ms\n",
      "image 26/55 C:\\Users\\coigah\\Documents\\PhD Folder\\YOLO\\test\\image22.jpg: 480x640 4 rivets, 17.5ms\n",
      "image 27/55 C:\\Users\\coigah\\Documents\\PhD Folder\\YOLO\\test\\image23.jpg: 416x640 6 rivets, 13.1ms\n",
      "image 28/55 C:\\Users\\coigah\\Documents\\PhD Folder\\YOLO\\test\\image24.jpg: 640x576 6 rivets, 18.1ms\n",
      "image 29/55 C:\\Users\\coigah\\Documents\\PhD Folder\\YOLO\\test\\image25.jpg: 640x640 4 rivets, 17.1ms\n",
      "image 30/55 C:\\Users\\coigah\\Documents\\PhD Folder\\YOLO\\test\\image26.jpg: 384x640 (no detections), 3.4ms\n",
      "image 31/55 C:\\Users\\coigah\\Documents\\PhD Folder\\YOLO\\test\\image27.jpg: 640x512 6 rivets, 6.3ms\n",
      "image 32/55 C:\\Users\\coigah\\Documents\\PhD Folder\\YOLO\\test\\image29.jpg: 480x640 6 rivets, 11.2ms\n",
      "image 33/55 C:\\Users\\coigah\\Documents\\PhD Folder\\YOLO\\test\\image3.jpg: 480x640 6 rivets, 15.8ms\n",
      "image 34/55 C:\\Users\\coigah\\Documents\\PhD Folder\\YOLO\\test\\image31.jpeg: 448x640 6 rivets, 14.0ms\n",
      "image 35/55 C:\\Users\\coigah\\Documents\\PhD Folder\\YOLO\\test\\image32.jpeg: 448x640 2 rivets, 16.1ms\n",
      "image 36/55 C:\\Users\\coigah\\Documents\\PhD Folder\\YOLO\\test\\image34.jpg: 448x640 6 rivets, 9.6ms\n",
      "image 37/55 C:\\Users\\coigah\\Documents\\PhD Folder\\YOLO\\test\\image35.jpg: 640x640 6 rivets, 20.5ms\n",
      "image 38/55 C:\\Users\\coigah\\Documents\\PhD Folder\\YOLO\\test\\image36.jpg: 384x640 6 rivets, 0.0ms\n",
      "image 39/55 C:\\Users\\coigah\\Documents\\PhD Folder\\YOLO\\test\\image37.jpg: 384x640 6 rivets, 16.8ms\n",
      "image 40/55 C:\\Users\\coigah\\Documents\\PhD Folder\\YOLO\\test\\image38.jpg: 384x640 6 rivets, 18.5ms\n",
      "image 41/55 C:\\Users\\coigah\\Documents\\PhD Folder\\YOLO\\test\\image39.jpg: 640x640 6 rivets, 24.6ms\n",
      "image 42/55 C:\\Users\\coigah\\Documents\\PhD Folder\\YOLO\\test\\image4.jpg: 448x640 6 rivets, 12.0ms\n",
      "image 43/55 C:\\Users\\coigah\\Documents\\PhD Folder\\YOLO\\test\\image40.jpg: 384x640 6 rivets, 14.1ms\n",
      "image 44/55 C:\\Users\\coigah\\Documents\\PhD Folder\\YOLO\\test\\image41.jpg: 384x640 6 rivets, 20.1ms\n",
      "image 45/55 C:\\Users\\coigah\\Documents\\PhD Folder\\YOLO\\test\\image42.jpg: 384x640 6 rivets, 9.2ms\n",
      "image 46/55 C:\\Users\\coigah\\Documents\\PhD Folder\\YOLO\\test\\image43.jpg: 384x640 6 rivets, 3.3ms\n",
      "image 47/55 C:\\Users\\coigah\\Documents\\PhD Folder\\YOLO\\test\\image44.jpg: 384x640 6 rivets, 0.0ms\n",
      "image 48/55 C:\\Users\\coigah\\Documents\\PhD Folder\\YOLO\\test\\image45.jpg: 384x640 6 rivets, 15.5ms\n",
      "image 49/55 C:\\Users\\coigah\\Documents\\PhD Folder\\YOLO\\test\\image46.jpg: 384x640 6 rivets, 15.4ms\n",
      "image 50/55 C:\\Users\\coigah\\Documents\\PhD Folder\\YOLO\\test\\image47.jpg: 384x640 6 rivets, 8.5ms\n",
      "image 51/55 C:\\Users\\coigah\\Documents\\PhD Folder\\YOLO\\test\\image48.jpg: 384x640 6 rivets, 1.0ms\n",
      "image 52/55 C:\\Users\\coigah\\Documents\\PhD Folder\\YOLO\\test\\image49.jpg: 384x640 4 rivets, 11.0ms\n",
      "image 53/55 C:\\Users\\coigah\\Documents\\PhD Folder\\YOLO\\test\\image5.jpg: 480x640 6 rivets, 8.5ms\n",
      "image 54/55 C:\\Users\\coigah\\Documents\\PhD Folder\\YOLO\\test\\image50.jpg: 384x640 5 rivets, 8.0ms\n",
      "image 55/55 C:\\Users\\coigah\\Documents\\PhD Folder\\YOLO\\test\\image7.jpg: 448x640 6 rivets, 12.6ms\n",
      "Speed: 1.1ms preprocess, 17.8ms inference, 0.7ms postprocess per image at shape (1, 3, 448, 640)\n"
     ]
    },
    {
     "data": {
      "text/plain": [
       "[ultralytics.engine.results.Results object with attributes:\n",
       " \n",
       " boxes: ultralytics.engine.results.Boxes object\n",
       " keypoints: None\n",
       " masks: None\n",
       " names: {0: 'rivet'}\n",
       " obb: None\n",
       " orig_img: array([[[ 36,  52, 105],\n",
       "         [ 36,  52, 105],\n",
       "         [ 36,  52, 105],\n",
       "         ...,\n",
       "         [ 68,  82, 148],\n",
       "         [ 68,  82, 148],\n",
       "         [ 66,  82, 148]],\n",
       " \n",
       "        [[ 36,  52, 105],\n",
       "         [ 36,  52, 105],\n",
       "         [ 36,  52, 105],\n",
       "         ...,\n",
       "         [ 68,  82, 148],\n",
       "         [ 68,  82, 148],\n",
       "         [ 66,  82, 148]],\n",
       " \n",
       "        [[ 36,  53, 104],\n",
       "         [ 36,  53, 104],\n",
       "         [ 36,  53, 104],\n",
       "         ...,\n",
       "         [ 67,  80, 148],\n",
       "         [ 68,  81, 149],\n",
       "         [ 66,  82, 149]],\n",
       " \n",
       "        ...,\n",
       " \n",
       "        [[ 12,  16,  21],\n",
       "         [ 12,  16,  21],\n",
       "         [ 12,  16,  21],\n",
       "         ...,\n",
       "         [130, 130, 124],\n",
       "         [130, 130, 124],\n",
       "         [129, 129, 123]],\n",
       " \n",
       "        [[  0,   4,   9],\n",
       "         [  0,   4,   9],\n",
       "         [  0,   4,   9],\n",
       "         ...,\n",
       "         [  0,   2,   0],\n",
       "         [  0,   2,   0],\n",
       "         [  0,   2,   0]],\n",
       " \n",
       "        [[  0,   0,   4],\n",
       "         [  0,   0,   4],\n",
       "         [  0,   0,   4],\n",
       "         ...,\n",
       "         [  2,   4,   0],\n",
       "         [  1,   3,   0],\n",
       "         [  1,   3,   0]]], dtype=uint8)\n",
       " orig_shape: (960, 1280)\n",
       " path: 'C:\\\\Users\\\\coigah\\\\Documents\\\\PhD Folder\\\\YOLO\\\\test\\\\106_jpg.rf.4ea9feb38107b0dc92f2a5f75abb98d6.jpg'\n",
       " probs: None\n",
       " save_dir: None\n",
       " speed: {'preprocess': 4.851818084716797, 'inference': 286.6075038909912, 'postprocess': 0.0},\n",
       " ultralytics.engine.results.Results object with attributes:\n",
       " \n",
       " boxes: ultralytics.engine.results.Boxes object\n",
       " keypoints: None\n",
       " masks: None\n",
       " names: {0: 'rivet'}\n",
       " obb: None\n",
       " orig_img: array([[[ 28,  52,  76],\n",
       "         [ 25,  49,  73],\n",
       "         [ 27,  52,  78],\n",
       "         ...,\n",
       "         [103,  86, 160],\n",
       "         [102,  86, 163],\n",
       "         [102,  86, 163]],\n",
       " \n",
       "        [[ 27,  50,  76],\n",
       "         [ 25,  50,  76],\n",
       "         [ 31,  56,  82],\n",
       "         ...,\n",
       "         [102,  87, 161],\n",
       "         [102,  86, 163],\n",
       "         [100,  87, 163]],\n",
       " \n",
       "        [[ 23,  47,  75],\n",
       "         [ 25,  52,  79],\n",
       "         [ 34,  60,  90],\n",
       "         ...,\n",
       "         [100,  89, 161],\n",
       "         [ 99,  88, 161],\n",
       "         [ 98,  87, 160]],\n",
       " \n",
       "        ...,\n",
       " \n",
       "        [[123, 130, 125],\n",
       "         [123, 130, 125],\n",
       "         [122, 129, 124],\n",
       "         ...,\n",
       "         [165, 152, 144],\n",
       "         [165, 152, 144],\n",
       "         [165, 152, 144]],\n",
       " \n",
       "        [[  0,   1,   0],\n",
       "         [  0,   1,   0],\n",
       "         [  0,   1,   0],\n",
       "         ...,\n",
       "         [ 12,   0,   0],\n",
       "         [ 12,   0,   0],\n",
       "         [ 12,   0,   0]],\n",
       " \n",
       "        [[  0,   2,   0],\n",
       "         [  0,   2,   0],\n",
       "         [  0,   3,   1],\n",
       "         ...,\n",
       "         [ 15,   3,   0],\n",
       "         [ 15,   3,   0],\n",
       "         [ 14,   2,   0]]], dtype=uint8)\n",
       " orig_shape: (960, 1280)\n",
       " path: 'C:\\\\Users\\\\coigah\\\\Documents\\\\PhD Folder\\\\YOLO\\\\test\\\\116_jpg.rf.3f63997d302ed7ec8241e67af56264c8.jpg'\n",
       " probs: None\n",
       " save_dir: None\n",
       " speed: {'preprocess': 0.0, 'inference': 18.48626136779785, 'postprocess': 0.0},\n",
       " ultralytics.engine.results.Results object with attributes:\n",
       " \n",
       " boxes: ultralytics.engine.results.Boxes object\n",
       " keypoints: None\n",
       " masks: None\n",
       " names: {0: 'rivet'}\n",
       " obb: None\n",
       " orig_img: array([[[ 44,  48,  73],\n",
       "         [ 39,  43,  68],\n",
       "         [ 33,  37,  65],\n",
       "         ...,\n",
       "         [178, 180, 181],\n",
       "         [178, 180, 181],\n",
       "         [178, 180, 181]],\n",
       " \n",
       "        [[ 44,  49,  74],\n",
       "         [ 39,  44,  69],\n",
       "         [ 35,  40,  65],\n",
       "         ...,\n",
       "         [178, 180, 181],\n",
       "         [177, 179, 180],\n",
       "         [177, 179, 180]],\n",
       " \n",
       "        [[ 43,  51,  74],\n",
       "         [ 39,  47,  70],\n",
       "         [ 35,  42,  67],\n",
       "         ...,\n",
       "         [179, 179, 179],\n",
       "         [178, 178, 178],\n",
       "         [178, 178, 178]],\n",
       " \n",
       "        ...,\n",
       " \n",
       "        [[  7,   9,  10],\n",
       "         [  7,   9,  10],\n",
       "         [  7,   9,  10],\n",
       "         ...,\n",
       "         [142, 139, 135],\n",
       "         [143, 140, 136],\n",
       "         [143, 140, 136]],\n",
       " \n",
       "        [[  2,   4,   5],\n",
       "         [  1,   3,   4],\n",
       "         [  1,   3,   4],\n",
       "         ...,\n",
       "         [  6,   1,   0],\n",
       "         [  6,   1,   0],\n",
       "         [  6,   1,   0]],\n",
       " \n",
       "        [[  0,   0,   1],\n",
       "         [  0,   0,   1],\n",
       "         [  0,   0,   1],\n",
       "         ...,\n",
       "         [  5,   0,   0],\n",
       "         [  5,   0,   0],\n",
       "         [  5,   0,   0]]], dtype=uint8)\n",
       " orig_shape: (960, 1280)\n",
       " path: 'C:\\\\Users\\\\coigah\\\\Documents\\\\PhD Folder\\\\YOLO\\\\test\\\\120_jpg.rf.9312fa63edea25fd8d8ddae1c5ba61db.jpg'\n",
       " probs: None\n",
       " save_dir: None\n",
       " speed: {'preprocess': 0.0, 'inference': 12.711524963378906, 'postprocess': 0.0},\n",
       " ultralytics.engine.results.Results object with attributes:\n",
       " \n",
       " boxes: ultralytics.engine.results.Boxes object\n",
       " keypoints: None\n",
       " masks: None\n",
       " names: {0: 'rivet'}\n",
       " obb: None\n",
       " orig_img: array([[[ 69,  59, 106],\n",
       "         [ 67,  59, 106],\n",
       "         [ 67,  59, 106],\n",
       "         ...,\n",
       "         [164, 152, 150],\n",
       "         [164, 152, 150],\n",
       "         [164, 152, 150]],\n",
       " \n",
       "        [[ 67,  58, 108],\n",
       "         [ 65,  59, 106],\n",
       "         [ 63,  59, 108],\n",
       "         ...,\n",
       "         [164, 152, 150],\n",
       "         [164, 152, 150],\n",
       "         [164, 152, 150]],\n",
       " \n",
       "        [[ 62,  59, 109],\n",
       "         [ 62,  59, 108],\n",
       "         [ 61,  60, 110],\n",
       "         ...,\n",
       "         [164, 153, 149],\n",
       "         [164, 153, 149],\n",
       "         [164, 153, 149]],\n",
       " \n",
       "        ...,\n",
       " \n",
       "        [[  6,   8,   9],\n",
       "         [  6,   8,   9],\n",
       "         [  6,   8,   9],\n",
       "         ...,\n",
       "         [  4,   3,   5],\n",
       "         [  4,   3,   5],\n",
       "         [  4,   3,   5]],\n",
       " \n",
       "        [[  0,   2,   3],\n",
       "         [  0,   2,   3],\n",
       "         [  0,   2,   3],\n",
       "         ...,\n",
       "         [  1,   1,   1],\n",
       "         [  1,   1,   1],\n",
       "         [  1,   1,   1]],\n",
       " \n",
       "        [[  0,   0,   1],\n",
       "         [  0,   0,   1],\n",
       "         [  0,   0,   1],\n",
       "         ...,\n",
       "         [  0,   0,   0],\n",
       "         [  0,   0,   0],\n",
       "         [  0,   0,   0]]], dtype=uint8)\n",
       " orig_shape: (960, 1280)\n",
       " path: 'C:\\\\Users\\\\coigah\\\\Documents\\\\PhD Folder\\\\YOLO\\\\test\\\\131_jpg.rf.bc8aef6e54f266528ad11d3d8b220fc2.jpg'\n",
       " probs: None\n",
       " save_dir: None\n",
       " speed: {'preprocess': 0.0, 'inference': 19.92034912109375, 'postprocess': 1.0123252868652344},\n",
       " ultralytics.engine.results.Results object with attributes:\n",
       " \n",
       " boxes: ultralytics.engine.results.Boxes object\n",
       " keypoints: None\n",
       " masks: None\n",
       " names: {0: 'rivet'}\n",
       " obb: None\n",
       " orig_img: array([[[ 74,  76, 107],\n",
       "         [ 73,  75, 105],\n",
       "         [ 45,  47,  77],\n",
       "         ...,\n",
       "         [ 88,  84, 136],\n",
       "         [ 87,  84, 140],\n",
       "         [ 87,  84, 140]],\n",
       " \n",
       "        [[ 72,  74, 105],\n",
       "         [ 71,  75, 104],\n",
       "         [ 44,  47,  75],\n",
       "         ...,\n",
       "         [ 86,  83, 138],\n",
       "         [ 86,  83, 139],\n",
       "         [ 84,  83, 139]],\n",
       " \n",
       "        [[ 70,  74, 103],\n",
       "         [ 67,  73, 102],\n",
       "         [ 42,  46,  74],\n",
       "         ...,\n",
       "         [ 81,  82, 138],\n",
       "         [ 81,  82, 140],\n",
       "         [ 81,  82, 140]],\n",
       " \n",
       "        ...,\n",
       " \n",
       "        [[ 13,  11,  11],\n",
       "         [ 13,  11,  11],\n",
       "         [ 13,  11,  11],\n",
       "         ...,\n",
       "         [  6,   3,   5],\n",
       "         [  6,   3,   5],\n",
       "         [  6,   3,   5]],\n",
       " \n",
       "        [[  6,   1,   2],\n",
       "         [  6,   1,   2],\n",
       "         [  6,   1,   2],\n",
       "         ...,\n",
       "         [  3,   0,   2],\n",
       "         [  3,   0,   2],\n",
       "         [  3,   0,   2]],\n",
       " \n",
       "        [[  4,   0,   0],\n",
       "         [  4,   0,   0],\n",
       "         [  4,   0,   0],\n",
       "         ...,\n",
       "         [  2,   0,   1],\n",
       "         [  2,   0,   1],\n",
       "         [  2,   0,   1]]], dtype=uint8)\n",
       " orig_shape: (960, 1280)\n",
       " path: 'C:\\\\Users\\\\coigah\\\\Documents\\\\PhD Folder\\\\YOLO\\\\test\\\\134_jpg.rf.b66ff5eb04c0cae84ca328e3def9b944.jpg'\n",
       " probs: None\n",
       " save_dir: None\n",
       " speed: {'preprocess': 0.0, 'inference': 13.053417205810547, 'postprocess': 0.0},\n",
       " ultralytics.engine.results.Results object with attributes:\n",
       " \n",
       " boxes: ultralytics.engine.results.Boxes object\n",
       " keypoints: None\n",
       " masks: None\n",
       " names: {0: 'rivet'}\n",
       " obb: None\n",
       " orig_img: array([[[ 32,  67, 123],\n",
       "         [ 32,  67, 123],\n",
       "         [ 34,  67, 123],\n",
       "         ...,\n",
       "         [105,  85, 162],\n",
       "         [103,  85, 162],\n",
       "         [103,  85, 162]],\n",
       " \n",
       "        [[ 32,  67, 123],\n",
       "         [ 32,  67, 123],\n",
       "         [ 34,  67, 123],\n",
       "         ...,\n",
       "         [103,  85, 162],\n",
       "         [103,  85, 162],\n",
       "         [101,  85, 162]],\n",
       " \n",
       "        [[ 30,  67, 125],\n",
       "         [ 30,  67, 125],\n",
       "         [ 32,  66, 125],\n",
       "         ...,\n",
       "         [101,  85, 162],\n",
       "         [101,  85, 162],\n",
       "         [ 99,  86, 162]],\n",
       " \n",
       "        ...,\n",
       " \n",
       "        [[119, 116, 112],\n",
       "         [117, 117, 111],\n",
       "         [117, 116, 112],\n",
       "         ...,\n",
       "         [119, 109, 132],\n",
       "         [117, 109, 132],\n",
       "         [117, 109, 132]],\n",
       " \n",
       "        [[  5,   0,   0],\n",
       "         [  4,   1,   0],\n",
       "         [  2,   0,   0],\n",
       "         ...,\n",
       "         [  0,   0,  13],\n",
       "         [  0,   0,  13],\n",
       "         [  0,   0,  13]],\n",
       " \n",
       "        [[  5,   0,   0],\n",
       "         [  4,   0,   0],\n",
       "         [  4,   0,   0],\n",
       "         ...,\n",
       "         [  0,   0,  10],\n",
       "         [  0,   0,  10],\n",
       "         [  0,   0,  10]]], dtype=uint8)\n",
       " orig_shape: (960, 1280)\n",
       " path: 'C:\\\\Users\\\\coigah\\\\Documents\\\\PhD Folder\\\\YOLO\\\\test\\\\181_jpg.rf.b1ae72db70469ed8b1930d46f64e00c3.jpg'\n",
       " probs: None\n",
       " save_dir: None\n",
       " speed: {'preprocess': 0.0, 'inference': 19.898414611816406, 'postprocess': 0.0},\n",
       " ultralytics.engine.results.Results object with attributes:\n",
       " \n",
       " boxes: ultralytics.engine.results.Boxes object\n",
       " keypoints: None\n",
       " masks: None\n",
       " names: {0: 'rivet'}\n",
       " obb: None\n",
       " orig_img: array([[[194, 186, 169],\n",
       "         [195, 187, 170],\n",
       "         [194, 187, 170],\n",
       "         ...,\n",
       "         [132, 109, 183],\n",
       "         [135, 108, 182],\n",
       "         [135, 108, 182]],\n",
       " \n",
       "        [[194, 186, 169],\n",
       "         [194, 187, 170],\n",
       "         [194, 187, 170],\n",
       "         ...,\n",
       "         [131, 108, 182],\n",
       "         [133, 108, 182],\n",
       "         [132, 107, 181]],\n",
       " \n",
       "        [[193, 186, 169],\n",
       "         [193, 186, 169],\n",
       "         [192, 188, 170],\n",
       "         ...,\n",
       "         [128, 108, 181],\n",
       "         [130, 107, 181],\n",
       "         [129, 106, 180]],\n",
       " \n",
       "        ...,\n",
       " \n",
       "        [[ 12,  12,  12],\n",
       "         [ 12,  12,  12],\n",
       "         [ 12,  12,  12],\n",
       "         ...,\n",
       "         [  6,   3,   5],\n",
       "         [  6,   3,   5],\n",
       "         [  6,   3,   5]],\n",
       " \n",
       "        [[  3,   3,   3],\n",
       "         [  2,   2,   2],\n",
       "         [  2,   2,   2],\n",
       "         ...,\n",
       "         [  3,   0,   2],\n",
       "         [  3,   0,   2],\n",
       "         [  3,   0,   2]],\n",
       " \n",
       "        [[  2,   2,   2],\n",
       "         [  2,   2,   2],\n",
       "         [  1,   1,   1],\n",
       "         ...,\n",
       "         [  2,   0,   1],\n",
       "         [  2,   0,   1],\n",
       "         [  2,   0,   1]]], dtype=uint8)\n",
       " orig_shape: (960, 1280)\n",
       " path: 'C:\\\\Users\\\\coigah\\\\Documents\\\\PhD Folder\\\\YOLO\\\\test\\\\184_jpg.rf.c99b12942e6553ffe0ce316275df4460.jpg'\n",
       " probs: None\n",
       " save_dir: None\n",
       " speed: {'preprocess': 0.7755756378173828, 'inference': 15.17629623413086, 'postprocess': 1.0867118835449219},\n",
       " ultralytics.engine.results.Results object with attributes:\n",
       " \n",
       " boxes: ultralytics.engine.results.Boxes object\n",
       " keypoints: None\n",
       " masks: None\n",
       " names: {0: 'rivet'}\n",
       " obb: None\n",
       " orig_img: array([[[ 43,  62, 105],\n",
       "         [ 43,  62, 105],\n",
       "         [ 43,  62, 107],\n",
       "         ...,\n",
       "         [ 85,  73,  95],\n",
       "         [104,  91, 113],\n",
       "         [115, 102, 124]],\n",
       " \n",
       "        [[ 40,  62, 104],\n",
       "         [ 40,  62, 104],\n",
       "         [ 40,  61, 106],\n",
       "         ...,\n",
       "         [ 91,  78, 102],\n",
       "         [104,  91, 115],\n",
       "         [111,  98, 122]],\n",
       " \n",
       "        [[ 37,  60, 105],\n",
       "         [ 37,  60, 105],\n",
       "         [ 37,  60, 105],\n",
       "         ...,\n",
       "         [103,  91, 119],\n",
       "         [114, 102, 130],\n",
       "         [116, 104, 132]],\n",
       " \n",
       "        ...,\n",
       " \n",
       "        [[114, 115, 113],\n",
       "         [112, 115, 113],\n",
       "         [114, 114, 114],\n",
       "         ...,\n",
       "         [  7,   4,   6],\n",
       "         [  7,   4,   6],\n",
       "         [  7,   4,   6]],\n",
       " \n",
       "        [[  0,   0,   3],\n",
       "         [  0,   0,   3],\n",
       "         [  0,   0,   4],\n",
       "         ...,\n",
       "         [  4,   1,   3],\n",
       "         [  4,   1,   3],\n",
       "         [  4,   1,   3]],\n",
       " \n",
       "        [[  0,   0,   4],\n",
       "         [  0,   0,   4],\n",
       "         [  0,   0,   6],\n",
       "         ...,\n",
       "         [  2,   0,   1],\n",
       "         [  2,   0,   1],\n",
       "         [  2,   0,   1]]], dtype=uint8)\n",
       " orig_shape: (960, 1280)\n",
       " path: 'C:\\\\Users\\\\coigah\\\\Documents\\\\PhD Folder\\\\YOLO\\\\test\\\\29_jpg.rf.ea49939540ec4230de0eda1a46cd43f2.jpg'\n",
       " probs: None\n",
       " save_dir: None\n",
       " speed: {'preprocess': 0.0, 'inference': 22.99189567565918, 'postprocess': 0.9989738464355469},\n",
       " ultralytics.engine.results.Results object with attributes:\n",
       " \n",
       " boxes: ultralytics.engine.results.Boxes object\n",
       " keypoints: None\n",
       " masks: None\n",
       " names: {0: 'rivet'}\n",
       " obb: None\n",
       " orig_img: array([[[ 62,  53, 104],\n",
       "         [ 61,  52, 103],\n",
       "         [ 59,  52, 103],\n",
       "         ...,\n",
       "         [ 78,  71, 122],\n",
       "         [ 82,  73, 130],\n",
       "         [ 86,  76, 136]],\n",
       " \n",
       "        [[ 60,  53, 104],\n",
       "         [ 59,  52, 103],\n",
       "         [ 59,  52, 103],\n",
       "         ...,\n",
       "         [ 83,  75, 128],\n",
       "         [ 86,  76, 136],\n",
       "         [ 88,  80, 141]],\n",
       " \n",
       "        [[ 57,  52, 103],\n",
       "         [ 57,  52, 103],\n",
       "         [ 57,  52, 103],\n",
       "         ...,\n",
       "         [ 80,  74, 129],\n",
       "         [ 83,  75, 136],\n",
       "         [ 85,  77, 140]],\n",
       " \n",
       "        ...,\n",
       " \n",
       "        [[102, 116, 104],\n",
       "         [102, 117, 103],\n",
       "         [104, 116, 104],\n",
       "         ...,\n",
       "         [  7,   4,   6],\n",
       "         [  7,   4,   6],\n",
       "         [  7,   4,   6]],\n",
       " \n",
       "        [[  0,   3,   0],\n",
       "         [  0,   4,   0],\n",
       "         [  0,   3,   0],\n",
       "         ...,\n",
       "         [  4,   1,   3],\n",
       "         [  4,   1,   3],\n",
       "         [  4,   1,   3]],\n",
       " \n",
       "        [[  0,   4,   0],\n",
       "         [  0,   4,   0],\n",
       "         [  0,   4,   1],\n",
       "         ...,\n",
       "         [  2,   0,   1],\n",
       "         [  2,   0,   1],\n",
       "         [  2,   0,   1]]], dtype=uint8)\n",
       " orig_shape: (960, 1280)\n",
       " path: 'C:\\\\Users\\\\coigah\\\\Documents\\\\PhD Folder\\\\YOLO\\\\test\\\\31_jpg.rf.a99e14adf386e7b4bbf37a3712654725.jpg'\n",
       " probs: None\n",
       " save_dir: None\n",
       " speed: {'preprocess': 1.3649463653564453, 'inference': 14.257669448852539, 'postprocess': 1.0695457458496094},\n",
       " ultralytics.engine.results.Results object with attributes:\n",
       " \n",
       " boxes: ultralytics.engine.results.Boxes object\n",
       " keypoints: None\n",
       " masks: None\n",
       " names: {0: 'rivet'}\n",
       " obb: None\n",
       " orig_img: array([[[131, 122, 118],\n",
       "         [131, 122, 118],\n",
       "         [129, 123, 116],\n",
       "         ...,\n",
       "         [182, 157, 153],\n",
       "         [184, 157, 153],\n",
       "         [184, 157, 153]],\n",
       " \n",
       "        [[131, 122, 118],\n",
       "         [129, 123, 118],\n",
       "         [129, 123, 118],\n",
       "         ...,\n",
       "         [183, 158, 154],\n",
       "         [183, 158, 154],\n",
       "         [183, 158, 154]],\n",
       " \n",
       "        [[130, 123, 120],\n",
       "         [128, 123, 120],\n",
       "         [128, 123, 120],\n",
       "         ...,\n",
       "         [182, 160, 155],\n",
       "         [182, 160, 155],\n",
       "         [182, 160, 155]],\n",
       " \n",
       "        ...,\n",
       " \n",
       "        [[ 97,  96, 100],\n",
       "         [ 95,  97,  98],\n",
       "         [ 95,  97,  98],\n",
       "         ...,\n",
       "         [140, 129, 121],\n",
       "         [140, 129, 121],\n",
       "         [140, 129, 121]],\n",
       " \n",
       "        [[  0,   1,   2],\n",
       "         [  0,   1,   2],\n",
       "         [  0,   1,   2],\n",
       "         ...,\n",
       "         [ 10,   1,   0],\n",
       "         [ 10,   1,   0],\n",
       "         [ 10,   1,   0]],\n",
       " \n",
       "        [[  0,   0,   1],\n",
       "         [  0,   0,   1],\n",
       "         [  0,   1,   0],\n",
       "         ...,\n",
       "         [  9,   2,   0],\n",
       "         [  9,   2,   0],\n",
       "         [  9,   2,   0]]], dtype=uint8)\n",
       " orig_shape: (960, 1280)\n",
       " path: 'C:\\\\Users\\\\coigah\\\\Documents\\\\PhD Folder\\\\YOLO\\\\test\\\\36_jpg.rf.67adf1034d246ad267745c7bca87df8f.jpg'\n",
       " probs: None\n",
       " save_dir: None\n",
       " speed: {'preprocess': 0.0, 'inference': 23.102521896362305, 'postprocess': 0.9989738464355469},\n",
       " ultralytics.engine.results.Results object with attributes:\n",
       " \n",
       " boxes: ultralytics.engine.results.Boxes object\n",
       " keypoints: None\n",
       " masks: None\n",
       " names: {0: 'rivet'}\n",
       " obb: None\n",
       " orig_img: array([[[ 92,  88,  93],\n",
       "         [ 84,  80,  85],\n",
       "         [103,  99, 104],\n",
       "         ...,\n",
       "         [187, 157, 146],\n",
       "         [189, 157, 146],\n",
       "         [190, 158, 147]],\n",
       " \n",
       "        [[ 90,  86,  91],\n",
       "         [ 85,  81,  86],\n",
       "         [107, 103, 108],\n",
       "         ...,\n",
       "         [186, 156, 145],\n",
       "         [189, 157, 146],\n",
       "         [189, 157, 146]],\n",
       " \n",
       "        [[ 89,  84,  86],\n",
       "         [ 88,  83,  85],\n",
       "         [112, 109, 111],\n",
       "         ...,\n",
       "         [186, 156, 145],\n",
       "         [186, 156, 145],\n",
       "         [187, 157, 146]],\n",
       " \n",
       "        ...,\n",
       " \n",
       "        [[ 40,  35,  32],\n",
       "         [ 40,  35,  32],\n",
       "         [ 40,  35,  32],\n",
       "         ...,\n",
       "         [139, 128, 124],\n",
       "         [139, 128, 124],\n",
       "         [139, 128, 124]],\n",
       " \n",
       "        [[  6,   1,   0],\n",
       "         [  6,   1,   0],\n",
       "         [  6,   1,   0],\n",
       "         ...,\n",
       "         [  9,   0,   0],\n",
       "         [  9,   0,   0],\n",
       "         [  9,   0,   0]],\n",
       " \n",
       "        [[  5,   0,   0],\n",
       "         [  5,   0,   0],\n",
       "         [  5,   0,   0],\n",
       "         ...,\n",
       "         [ 11,   2,   0],\n",
       "         [ 11,   2,   0],\n",
       "         [ 11,   2,   0]]], dtype=uint8)\n",
       " orig_shape: (960, 1280)\n",
       " path: 'C:\\\\Users\\\\coigah\\\\Documents\\\\PhD Folder\\\\YOLO\\\\test\\\\38_jpg.rf.3ec65defc81f66ea4257f867aa3c7d23.jpg'\n",
       " probs: None\n",
       " save_dir: None\n",
       " speed: {'preprocess': 1.0063648223876953, 'inference': 3.1938552856445312, 'postprocess': 12.405633926391602},\n",
       " ultralytics.engine.results.Results object with attributes:\n",
       " \n",
       " boxes: ultralytics.engine.results.Boxes object\n",
       " keypoints: None\n",
       " masks: None\n",
       " names: {0: 'rivet'}\n",
       " obb: None\n",
       " orig_img: array([[[ 89,  73, 126],\n",
       "         [ 89,  73, 126],\n",
       "         [ 88,  72, 125],\n",
       "         ...,\n",
       "         [ 72,  68,  79],\n",
       "         [ 75,  70,  79],\n",
       "         [ 76,  71,  80]],\n",
       " \n",
       "        [[ 87,  74, 126],\n",
       "         [ 87,  74, 126],\n",
       "         [ 86,  73, 125],\n",
       "         ...,\n",
       "         [ 71,  69,  81],\n",
       "         [ 74,  70,  81],\n",
       "         [ 75,  71,  82]],\n",
       " \n",
       "        [[ 82,  74, 127],\n",
       "         [ 82,  74, 127],\n",
       "         [ 81,  73, 126],\n",
       "         ...,\n",
       "         [ 70,  70,  86],\n",
       "         [ 72,  71,  87],\n",
       "         [ 72,  71,  87]],\n",
       " \n",
       "        ...,\n",
       " \n",
       "        [[ 78,  82,  63],\n",
       "         [ 79,  82,  66],\n",
       "         [ 79,  82,  67],\n",
       "         ...,\n",
       "         [  9,   6,   8],\n",
       "         [  9,   6,   8],\n",
       "         [  9,   6,   8]],\n",
       " \n",
       "        [[  7,   8,   0],\n",
       "         [  7,   8,   0],\n",
       "         [  7,   7,   0],\n",
       "         ...,\n",
       "         [  5,   2,   4],\n",
       "         [  5,   2,   4],\n",
       "         [  5,   2,   4]],\n",
       " \n",
       "        [[  5,   6,   0],\n",
       "         [  5,   6,   0],\n",
       "         [  4,   4,   0],\n",
       "         ...,\n",
       "         [  2,   0,   1],\n",
       "         [  2,   0,   1],\n",
       "         [  2,   0,   1]]], dtype=uint8)\n",
       " orig_shape: (960, 1280)\n",
       " path: 'C:\\\\Users\\\\coigah\\\\Documents\\\\PhD Folder\\\\YOLO\\\\test\\\\72_jpg.rf.d4d019966367aef9d3fa81223ec3dcda.jpg'\n",
       " probs: None\n",
       " save_dir: None\n",
       " speed: {'preprocess': 0.0, 'inference': 19.044160842895508, 'postprocess': 0.9996891021728516},\n",
       " ultralytics.engine.results.Results object with attributes:\n",
       " \n",
       " boxes: ultralytics.engine.results.Boxes object\n",
       " keypoints: None\n",
       " masks: None\n",
       " names: {0: 'rivet'}\n",
       " obb: None\n",
       " orig_img: array([[[ 31,  56, 120],\n",
       "         [ 32,  57, 119],\n",
       "         [ 32,  57, 119],\n",
       "         ...,\n",
       "         [ 49,  50,  88],\n",
       "         [ 50,  52,  87],\n",
       "         [ 49,  53,  88]],\n",
       " \n",
       "        [[ 31,  56, 120],\n",
       "         [ 30,  58, 119],\n",
       "         [ 32,  58, 118],\n",
       "         ...,\n",
       "         [ 49,  50,  88],\n",
       "         [ 48,  52,  87],\n",
       "         [ 49,  53,  88]],\n",
       " \n",
       "        [[ 30,  58, 119],\n",
       "         [ 29,  58, 119],\n",
       "         [ 30,  58, 118],\n",
       "         ...,\n",
       "         [ 48,  49,  87],\n",
       "         [ 47,  50,  88],\n",
       "         [ 46,  52,  89]],\n",
       " \n",
       "        ...,\n",
       " \n",
       "        [[  8,   8,  14],\n",
       "         [  8,   9,  13],\n",
       "         [  8,   9,  13],\n",
       "         ...,\n",
       "         [  5,   4,   6],\n",
       "         [  5,   4,   6],\n",
       "         [  5,   4,   6]],\n",
       " \n",
       "        [[  0,   1,   5],\n",
       "         [  1,   3,   4],\n",
       "         [  1,   3,   4],\n",
       "         ...,\n",
       "         [  2,   1,   5],\n",
       "         [  2,   1,   5],\n",
       "         [  2,   1,   5]],\n",
       " \n",
       "        [[  0,   0,   1],\n",
       "         [  0,   0,   1],\n",
       "         [  0,   0,   1],\n",
       "         ...,\n",
       "         [  0,   0,   3],\n",
       "         [  0,   0,   3],\n",
       "         [  0,   0,   3]]], dtype=uint8)\n",
       " orig_shape: (960, 1280)\n",
       " path: 'C:\\\\Users\\\\coigah\\\\Documents\\\\PhD Folder\\\\YOLO\\\\test\\\\89_jpg.rf.7f687b74d523177de6f47a996d2ad00c.jpg'\n",
       " probs: None\n",
       " save_dir: None\n",
       " speed: {'preprocess': 1.0080337524414062, 'inference': 12.996196746826172, 'postprocess': 1.0988712310791016},\n",
       " ultralytics.engine.results.Results object with attributes:\n",
       " \n",
       " boxes: ultralytics.engine.results.Boxes object\n",
       " keypoints: None\n",
       " masks: None\n",
       " names: {0: 'rivet'}\n",
       " obb: None\n",
       " orig_img: array([[[ 34,  48,  97],\n",
       "         [ 33,  47,  96],\n",
       "         [ 33,  47,  96],\n",
       "         ...,\n",
       "         [170, 159, 155],\n",
       "         [170, 160, 153],\n",
       "         [170, 160, 153]],\n",
       " \n",
       "        [[ 34,  48,  97],\n",
       "         [ 33,  47,  95],\n",
       "         [ 33,  47,  96],\n",
       "         ...,\n",
       "         [170, 159, 155],\n",
       "         [171, 160, 156],\n",
       "         [171, 161, 154]],\n",
       " \n",
       "        [[ 33,  49,  96],\n",
       "         [ 33,  49,  95],\n",
       "         [ 32,  48,  95],\n",
       "         ...,\n",
       "         [172, 160, 158],\n",
       "         [172, 160, 158],\n",
       "         [172, 161, 157]],\n",
       " \n",
       "        ...,\n",
       " \n",
       "        [[ 21,  20,  29],\n",
       "         [ 21,  21,  27],\n",
       "         [ 21,  20,  29],\n",
       "         ...,\n",
       "         [100,  74,  68],\n",
       "         [ 99,  72,  68],\n",
       "         [ 99,  73,  67]],\n",
       " \n",
       "        [[  1,   0,   5],\n",
       "         [  1,   0,   4],\n",
       "         [  1,   0,   5],\n",
       "         ...,\n",
       "         [ 20,   1,   0],\n",
       "         [ 20,   1,   0],\n",
       "         [ 20,   1,   0]],\n",
       " \n",
       "        [[  2,   1,   5],\n",
       "         [  2,   1,   5],\n",
       "         [  2,   1,   5],\n",
       "         ...,\n",
       "         [ 15,   0,   0],\n",
       "         [ 15,   0,   0],\n",
       "         [ 15,   0,   0]]], dtype=uint8)\n",
       " orig_shape: (960, 1280)\n",
       " path: 'C:\\\\Users\\\\coigah\\\\Documents\\\\PhD Folder\\\\YOLO\\\\test\\\\8_jpg.rf.ee99e9b4b1af2def13105dd66b4817b6.jpg'\n",
       " probs: None\n",
       " save_dir: None\n",
       " speed: {'preprocess': 0.0, 'inference': 17.99941062927246, 'postprocess': 0.0},\n",
       " ultralytics.engine.results.Results object with attributes:\n",
       " \n",
       " boxes: ultralytics.engine.results.Boxes object\n",
       " keypoints: None\n",
       " masks: None\n",
       " names: {0: 'rivet'}\n",
       " obb: None\n",
       " orig_img: array([[[ 76,  55, 104],\n",
       "         [ 73,  54, 103],\n",
       "         [ 71,  55, 103],\n",
       "         ...,\n",
       "         [209, 162, 171],\n",
       "         [211, 161, 171],\n",
       "         [211, 161, 171]],\n",
       " \n",
       "        [[ 76,  55, 104],\n",
       "         [ 73,  54, 103],\n",
       "         [ 69,  55, 103],\n",
       "         ...,\n",
       "         [207, 162, 171],\n",
       "         [209, 162, 171],\n",
       "         [210, 163, 172]],\n",
       " \n",
       "        [[ 74,  56, 103],\n",
       "         [ 72,  56, 103],\n",
       "         [ 67,  56, 102],\n",
       "         ...,\n",
       "         [205, 164, 172],\n",
       "         [206, 163, 172],\n",
       "         [206, 163, 172]],\n",
       " \n",
       "        ...,\n",
       " \n",
       "        [[ 75,  70,  55],\n",
       "         [ 76,  71,  56],\n",
       "         [ 78,  73,  58],\n",
       "         ...,\n",
       "         [  9,   6,   8],\n",
       "         [  9,   6,   8],\n",
       "         [  9,   6,   8]],\n",
       " \n",
       "        [[  7,   4,   0],\n",
       "         [  7,   4,   0],\n",
       "         [  7,   4,   0],\n",
       "         ...,\n",
       "         [  5,   2,   4],\n",
       "         [  5,   2,   4],\n",
       "         [  5,   2,   4]],\n",
       " \n",
       "        [[  9,   6,   0],\n",
       "         [  9,   6,   0],\n",
       "         [  9,   6,   0],\n",
       "         ...,\n",
       "         [  2,   0,   1],\n",
       "         [  2,   0,   1],\n",
       "         [  2,   0,   1]]], dtype=uint8)\n",
       " orig_shape: (960, 1280)\n",
       " path: 'C:\\\\Users\\\\coigah\\\\Documents\\\\PhD Folder\\\\YOLO\\\\test\\\\98_jpg.rf.8382bb215704318cf19abbdac1c45801.jpg'\n",
       " probs: None\n",
       " save_dir: None\n",
       " speed: {'preprocess': 0.0, 'inference': 12.06064224243164, 'postprocess': 0.0},\n",
       " ultralytics.engine.results.Results object with attributes:\n",
       " \n",
       " boxes: ultralytics.engine.results.Boxes object\n",
       " keypoints: None\n",
       " masks: None\n",
       " names: {0: 'rivet'}\n",
       " obb: None\n",
       " orig_img: array([[[117, 106,  98],\n",
       "         [115, 104,  96],\n",
       "         [111,  99,  93],\n",
       "         ...,\n",
       "         [ 34,  34,  34],\n",
       "         [ 41,  37,  36],\n",
       "         [ 43,  39,  38]],\n",
       " \n",
       "        [[120, 109, 101],\n",
       "         [118, 107,  99],\n",
       "         [114, 102,  96],\n",
       "         ...,\n",
       "         [ 39,  37,  36],\n",
       "         [ 44,  40,  39],\n",
       "         [ 47,  43,  42]],\n",
       " \n",
       "        [[127, 116, 108],\n",
       "         [124, 113, 105],\n",
       "         [119, 108, 100],\n",
       "         ...,\n",
       "         [ 47,  43,  42],\n",
       "         [ 51,  47,  46],\n",
       "         [ 54,  49,  46]],\n",
       " \n",
       "        ...,\n",
       " \n",
       "        [[231, 186, 143],\n",
       "         [231, 186, 143],\n",
       "         [232, 187, 144],\n",
       "         ...,\n",
       "         [ 40,  40,  40],\n",
       "         [ 39,  39,  39],\n",
       "         [ 39,  39,  39]],\n",
       " \n",
       "        [[231, 186, 143],\n",
       "         [231, 186, 143],\n",
       "         [232, 187, 144],\n",
       "         ...,\n",
       "         [ 39,  39,  39],\n",
       "         [ 38,  38,  38],\n",
       "         [ 37,  37,  37]],\n",
       " \n",
       "        [[232, 187, 144],\n",
       "         [232, 187, 144],\n",
       "         [231, 186, 143],\n",
       "         ...,\n",
       "         [ 43,  43,  43],\n",
       "         [ 41,  41,  41],\n",
       "         [ 40,  40,  40]]], dtype=uint8)\n",
       " orig_shape: (265, 400)\n",
       " path: 'C:\\\\Users\\\\coigah\\\\Documents\\\\PhD Folder\\\\YOLO\\\\test\\\\image1.jpg'\n",
       " probs: None\n",
       " save_dir: None\n",
       " speed: {'preprocess': 11.417627334594727, 'inference': 5.138158798217773, 'postprocess': 0.0},\n",
       " ultralytics.engine.results.Results object with attributes:\n",
       " \n",
       " boxes: ultralytics.engine.results.Boxes object\n",
       " keypoints: None\n",
       " masks: None\n",
       " names: {0: 'rivet'}\n",
       " obb: None\n",
       " orig_img: array([[[184, 182, 181],\n",
       "         [184, 182, 181],\n",
       "         [184, 182, 181],\n",
       "         ...,\n",
       "         [221, 220, 216],\n",
       "         [221, 220, 216],\n",
       "         [221, 220, 216]],\n",
       " \n",
       "        [[185, 183, 182],\n",
       "         [185, 183, 182],\n",
       "         [184, 182, 181],\n",
       "         ...,\n",
       "         [209, 208, 204],\n",
       "         [209, 208, 204],\n",
       "         [210, 209, 205]],\n",
       " \n",
       "        [[185, 183, 182],\n",
       "         [185, 183, 182],\n",
       "         [185, 183, 182],\n",
       "         ...,\n",
       "         [189, 188, 184],\n",
       "         [189, 188, 184],\n",
       "         [190, 189, 185]],\n",
       " \n",
       "        ...,\n",
       " \n",
       "        [[ 43,  48,  46],\n",
       "         [ 44,  49,  47],\n",
       "         [ 45,  50,  48],\n",
       "         ...,\n",
       "         [ 45,  51,  46],\n",
       "         [ 56,  63,  56],\n",
       "         [ 64,  71,  64]],\n",
       " \n",
       "        [[ 46,  51,  49],\n",
       "         [ 47,  52,  50],\n",
       "         [ 49,  54,  52],\n",
       "         ...,\n",
       "         [ 41,  55,  49],\n",
       "         [ 50,  65,  57],\n",
       "         [ 54,  69,  61]],\n",
       " \n",
       "        [[ 44,  49,  47],\n",
       "         [ 46,  51,  49],\n",
       "         [ 48,  53,  51],\n",
       "         ...,\n",
       "         [ 40,  47,  42],\n",
       "         [ 46,  54,  47],\n",
       "         [ 51,  59,  52]]], dtype=uint8)\n",
       " orig_shape: (407, 612)\n",
       " path: 'C:\\\\Users\\\\coigah\\\\Documents\\\\PhD Folder\\\\YOLO\\\\test\\\\image10.jpg'\n",
       " probs: None\n",
       " save_dir: None\n",
       " speed: {'preprocess': 0.9341239929199219, 'inference': 3.908872604370117, 'postprocess': 0.0},\n",
       " ultralytics.engine.results.Results object with attributes:\n",
       " \n",
       " boxes: ultralytics.engine.results.Boxes object\n",
       " keypoints: None\n",
       " masks: None\n",
       " names: {0: 'rivet'}\n",
       " obb: None\n",
       " orig_img: array([[[202, 201, 205],\n",
       "         [202, 201, 205],\n",
       "         [202, 201, 205],\n",
       "         ...,\n",
       "         [219, 216, 212],\n",
       "         [219, 216, 212],\n",
       "         [218, 215, 211]],\n",
       " \n",
       "        [[202, 201, 205],\n",
       "         [202, 201, 205],\n",
       "         [202, 201, 205],\n",
       "         ...,\n",
       "         [221, 218, 214],\n",
       "         [221, 218, 214],\n",
       "         [220, 217, 213]],\n",
       " \n",
       "        [[202, 201, 205],\n",
       "         [202, 201, 205],\n",
       "         [202, 201, 205],\n",
       "         ...,\n",
       "         [224, 221, 217],\n",
       "         [223, 220, 216],\n",
       "         [223, 220, 216]],\n",
       " \n",
       "        ...,\n",
       " \n",
       "        [[155, 160, 159],\n",
       "         [155, 160, 159],\n",
       "         [153, 158, 157],\n",
       "         ...,\n",
       "         [180, 181, 177],\n",
       "         [178, 179, 175],\n",
       "         [178, 179, 175]],\n",
       " \n",
       "        [[153, 158, 157],\n",
       "         [152, 157, 156],\n",
       "         [150, 155, 154],\n",
       "         ...,\n",
       "         [185, 186, 182],\n",
       "         [177, 178, 174],\n",
       "         [169, 170, 166]],\n",
       " \n",
       "        [[151, 156, 155],\n",
       "         [150, 155, 154],\n",
       "         [148, 153, 152],\n",
       "         ...,\n",
       "         [188, 189, 185],\n",
       "         [177, 178, 174],\n",
       "         [162, 163, 159]]], dtype=uint8)\n",
       " orig_shape: (2016, 1512)\n",
       " path: 'C:\\\\Users\\\\coigah\\\\Documents\\\\PhD Folder\\\\YOLO\\\\test\\\\image11.jpg'\n",
       " probs: None\n",
       " save_dir: None\n",
       " speed: {'preprocess': 0.0, 'inference': 15.99574089050293, 'postprocess': 0.0},\n",
       " ultralytics.engine.results.Results object with attributes:\n",
       " \n",
       " boxes: ultralytics.engine.results.Boxes object\n",
       " keypoints: None\n",
       " masks: None\n",
       " names: {0: 'rivet'}\n",
       " obb: None\n",
       " orig_img: array([[[ 37,  39,  39],\n",
       "         [ 35,  37,  38],\n",
       "         [ 34,  33,  37],\n",
       "         ...,\n",
       "         [108,  87,  79],\n",
       "         [112,  91,  83],\n",
       "         [111,  90,  82]],\n",
       " \n",
       "        [[ 35,  37,  37],\n",
       "         [ 34,  36,  37],\n",
       "         [ 33,  32,  36],\n",
       "         ...,\n",
       "         [106,  85,  77],\n",
       "         [109,  88,  80],\n",
       "         [114,  93,  85]],\n",
       " \n",
       "        [[ 31,  31,  31],\n",
       "         [ 32,  31,  33],\n",
       "         [ 32,  31,  35],\n",
       "         ...,\n",
       "         [102,  81,  73],\n",
       "         [105,  84,  76],\n",
       "         [107,  86,  78]],\n",
       " \n",
       "        ...,\n",
       " \n",
       "        [[ 17,  20,  18],\n",
       "         [ 26,  28,  28],\n",
       "         [ 39,  39,  39],\n",
       "         ...,\n",
       "         [ 52,  47,  38],\n",
       "         [ 52,  47,  38],\n",
       "         [ 49,  44,  35]],\n",
       " \n",
       "        [[  9,  12,  10],\n",
       "         [ 19,  19,  19],\n",
       "         [ 29,  29,  29],\n",
       "         ...,\n",
       "         [ 50,  45,  36],\n",
       "         [ 49,  44,  35],\n",
       "         [ 46,  41,  32]],\n",
       " \n",
       "        [[  5,   6,   4],\n",
       "         [ 14,  15,  13],\n",
       "         [ 26,  26,  26],\n",
       "         ...,\n",
       "         [ 53,  48,  39],\n",
       "         [ 51,  46,  37],\n",
       "         [ 50,  44,  33]]], dtype=uint8)\n",
       " orig_shape: (406, 800)\n",
       " path: 'C:\\\\Users\\\\coigah\\\\Documents\\\\PhD Folder\\\\YOLO\\\\test\\\\image12.jpg'\n",
       " probs: None\n",
       " save_dir: None\n",
       " speed: {'preprocess': 0.9996891021728516, 'inference': 1.674652099609375, 'postprocess': 0.0},\n",
       " ultralytics.engine.results.Results object with attributes:\n",
       " \n",
       " boxes: ultralytics.engine.results.Boxes object\n",
       " keypoints: None\n",
       " masks: None\n",
       " names: {0: 'rivet'}\n",
       " obb: None\n",
       " orig_img: array([[[166, 163, 165],\n",
       "         [166, 163, 165],\n",
       "         [166, 163, 165],\n",
       "         ...,\n",
       "         [178, 171, 174],\n",
       "         [180, 173, 176],\n",
       "         [180, 173, 176]],\n",
       " \n",
       "        [[166, 163, 165],\n",
       "         [166, 163, 165],\n",
       "         [166, 163, 165],\n",
       "         ...,\n",
       "         [169, 162, 165],\n",
       "         [170, 163, 166],\n",
       "         [170, 163, 166]],\n",
       " \n",
       "        [[166, 163, 165],\n",
       "         [166, 163, 165],\n",
       "         [166, 163, 165],\n",
       "         ...,\n",
       "         [169, 162, 165],\n",
       "         [169, 162, 165],\n",
       "         [169, 162, 165]],\n",
       " \n",
       "        ...,\n",
       " \n",
       "        [[141, 128, 126],\n",
       "         [142, 129, 127],\n",
       "         [142, 129, 127],\n",
       "         ...,\n",
       "         [145, 133, 131],\n",
       "         [145, 133, 131],\n",
       "         [145, 133, 131]],\n",
       " \n",
       "        [[142, 129, 127],\n",
       "         [142, 129, 127],\n",
       "         [143, 130, 128],\n",
       "         ...,\n",
       "         [130, 118, 116],\n",
       "         [130, 118, 116],\n",
       "         [130, 118, 116]],\n",
       " \n",
       "        [[143, 130, 128],\n",
       "         [143, 130, 128],\n",
       "         [143, 130, 128],\n",
       "         ...,\n",
       "         [ 76,  64,  62],\n",
       "         [ 75,  63,  61],\n",
       "         [ 75,  63,  61]]], dtype=uint8)\n",
       " orig_shape: (1000, 1429)\n",
       " path: 'C:\\\\Users\\\\coigah\\\\Documents\\\\PhD Folder\\\\YOLO\\\\test\\\\image13.jpg'\n",
       " probs: None\n",
       " save_dir: None\n",
       " speed: {'preprocess': 0.0, 'inference': 13.451814651489258, 'postprocess': 0.0},\n",
       " ultralytics.engine.results.Results object with attributes:\n",
       " \n",
       " boxes: ultralytics.engine.results.Boxes object\n",
       " keypoints: None\n",
       " masks: None\n",
       " names: {0: 'rivet'}\n",
       " obb: None\n",
       " orig_img: array([[[19, 19, 19],\n",
       "         [20, 20, 20],\n",
       "         [21, 21, 21],\n",
       "         ...,\n",
       "         [13, 13, 13],\n",
       "         [14, 14, 14],\n",
       "         [14, 14, 14]],\n",
       " \n",
       "        [[20, 20, 20],\n",
       "         [21, 21, 21],\n",
       "         [22, 22, 22],\n",
       "         ...,\n",
       "         [15, 15, 15],\n",
       "         [15, 15, 15],\n",
       "         [15, 15, 15]],\n",
       " \n",
       "        [[21, 21, 21],\n",
       "         [22, 22, 22],\n",
       "         [24, 24, 24],\n",
       "         ...,\n",
       "         [15, 15, 15],\n",
       "         [15, 15, 15],\n",
       "         [14, 14, 14]],\n",
       " \n",
       "        ...,\n",
       " \n",
       "        [[ 1,  1,  1],\n",
       "         [ 2,  2,  2],\n",
       "         [ 2,  2,  2],\n",
       "         ...,\n",
       "         [ 7,  7,  7],\n",
       "         [ 6,  6,  6],\n",
       "         [ 6,  6,  6]],\n",
       " \n",
       "        [[ 1,  1,  1],\n",
       "         [ 1,  1,  1],\n",
       "         [ 2,  2,  2],\n",
       "         ...,\n",
       "         [ 7,  7,  7],\n",
       "         [ 6,  6,  6],\n",
       "         [ 6,  6,  6]],\n",
       " \n",
       "        [[ 1,  1,  1],\n",
       "         [ 1,  1,  1],\n",
       "         [ 2,  2,  2],\n",
       "         ...,\n",
       "         [ 7,  7,  7],\n",
       "         [ 6,  6,  6],\n",
       "         [ 6,  6,  6]]], dtype=uint8)\n",
       " orig_shape: (360, 516)\n",
       " path: 'C:\\\\Users\\\\coigah\\\\Documents\\\\PhD Folder\\\\YOLO\\\\test\\\\image14.jpg'\n",
       " probs: None\n",
       " save_dir: None\n",
       " speed: {'preprocess': 0.0, 'inference': 18.969058990478516, 'postprocess': 0.0},\n",
       " ultralytics.engine.results.Results object with attributes:\n",
       " \n",
       " boxes: ultralytics.engine.results.Boxes object\n",
       " keypoints: None\n",
       " masks: None\n",
       " names: {0: 'rivet'}\n",
       " obb: None\n",
       " orig_img: array([[[165, 134, 111],\n",
       "         [167, 136, 113],\n",
       "         [166, 136, 117],\n",
       "         ...,\n",
       "         [149, 125, 107],\n",
       "         [152, 127, 111],\n",
       "         [158, 133, 117]],\n",
       " \n",
       "        [[170, 139, 118],\n",
       "         [168, 137, 116],\n",
       "         [161, 131, 112],\n",
       "         ...,\n",
       "         [158, 134, 116],\n",
       "         [159, 135, 117],\n",
       "         [163, 139, 121]],\n",
       " \n",
       "        [[173, 143, 126],\n",
       "         [170, 140, 123],\n",
       "         [162, 132, 115],\n",
       "         ...,\n",
       "         [164, 141, 119],\n",
       "         [163, 140, 118],\n",
       "         [165, 142, 120]],\n",
       " \n",
       "        ...,\n",
       " \n",
       "        [[146, 110,  86],\n",
       "         [147, 111,  87],\n",
       "         [140, 107,  81],\n",
       "         ...,\n",
       "         [170, 138, 109],\n",
       "         [163, 133, 104],\n",
       "         [155, 125,  96]],\n",
       " \n",
       "        [[145, 109,  85],\n",
       "         [148, 112,  88],\n",
       "         [143, 110,  84],\n",
       "         ...,\n",
       "         [178, 146, 117],\n",
       "         [167, 137, 108],\n",
       "         [158, 128,  99]],\n",
       " \n",
       "        [[146, 110,  86],\n",
       "         [152, 116,  92],\n",
       "         [150, 117,  91],\n",
       "         ...,\n",
       "         [185, 153, 124],\n",
       "         [174, 144, 115],\n",
       "         [165, 135, 106]]], dtype=uint8)\n",
       " orig_shape: (900, 1200)\n",
       " path: 'C:\\\\Users\\\\coigah\\\\Documents\\\\PhD Folder\\\\YOLO\\\\test\\\\image15.jpg'\n",
       " probs: None\n",
       " save_dir: None\n",
       " speed: {'preprocess': 1.1169910430908203, 'inference': 13.902902603149414, 'postprocess': 0.0},\n",
       " ultralytics.engine.results.Results object with attributes:\n",
       " \n",
       " boxes: ultralytics.engine.results.Boxes object\n",
       " keypoints: None\n",
       " masks: None\n",
       " names: {0: 'rivet'}\n",
       " obb: None\n",
       " orig_img: array([[[ 80, 100, 118],\n",
       "         [ 67,  87, 105],\n",
       "         [ 71,  94, 110],\n",
       "         ...,\n",
       "         [ 78, 105, 119],\n",
       "         [ 82, 108, 124],\n",
       "         [ 72, 101, 116]],\n",
       " \n",
       "        [[ 89, 111, 129],\n",
       "         [ 79, 101, 119],\n",
       "         [ 76,  99, 115],\n",
       "         ...,\n",
       "         [ 91, 117, 131],\n",
       "         [ 85, 111, 127],\n",
       "         [ 83, 109, 125]],\n",
       " \n",
       "        [[ 89, 114, 130],\n",
       "         [ 73,  98, 114],\n",
       "         [ 86, 111, 127],\n",
       "         ...,\n",
       "         [ 75,  98, 113],\n",
       "         [ 72,  95, 110],\n",
       "         [ 71,  97, 111]],\n",
       " \n",
       "        ...,\n",
       " \n",
       "        [[ 64,  98, 114],\n",
       "         [ 61,  95, 111],\n",
       "         [ 63,  97, 113],\n",
       "         ...,\n",
       "         [ 65,  88, 103],\n",
       "         [ 79, 100, 115],\n",
       "         [ 75,  96, 111]],\n",
       " \n",
       "        [[ 61,  94, 110],\n",
       "         [ 51,  85, 101],\n",
       "         [ 63,  97, 113],\n",
       "         ...,\n",
       "         [ 75,  98, 113],\n",
       "         [ 65,  86, 101],\n",
       "         [ 66,  87, 102]],\n",
       " \n",
       "        [[ 73, 104, 119],\n",
       "         [ 55,  88, 103],\n",
       "         [ 56,  89, 105],\n",
       "         ...,\n",
       "         [ 93, 116, 131],\n",
       "         [ 69,  92, 107],\n",
       "         [ 73,  96, 111]]], dtype=uint8)\n",
       " orig_shape: (607, 810)\n",
       " path: 'C:\\\\Users\\\\coigah\\\\Documents\\\\PhD Folder\\\\YOLO\\\\test\\\\image16.jpg'\n",
       " probs: None\n",
       " save_dir: None\n",
       " speed: {'preprocess': 0.0, 'inference': 11.672735214233398, 'postprocess': 0.0},\n",
       " ultralytics.engine.results.Results object with attributes:\n",
       " \n",
       " boxes: ultralytics.engine.results.Boxes object\n",
       " keypoints: None\n",
       " masks: None\n",
       " names: {0: 'rivet'}\n",
       " obb: None\n",
       " orig_img: array([[[181, 181, 181],\n",
       "         [182, 182, 182],\n",
       "         [182, 182, 182],\n",
       "         ...,\n",
       "         [117, 123, 130],\n",
       "         [187, 193, 200],\n",
       "         [232, 238, 245]],\n",
       " \n",
       "        [[203, 203, 203],\n",
       "         [204, 204, 204],\n",
       "         [204, 204, 204],\n",
       "         ...,\n",
       "         [175, 181, 188],\n",
       "         [222, 228, 235],\n",
       "         [220, 226, 233]],\n",
       " \n",
       "        [[211, 211, 211],\n",
       "         [212, 212, 212],\n",
       "         [212, 212, 212],\n",
       "         ...,\n",
       "         [210, 216, 223],\n",
       "         [229, 235, 242],\n",
       "         [211, 217, 224]],\n",
       " \n",
       "        ...,\n",
       " \n",
       "        [[232, 231, 233],\n",
       "         [242, 241, 243],\n",
       "         [250, 249, 251],\n",
       "         ...,\n",
       "         [ 29,  34,  33],\n",
       "         [ 31,  36,  35],\n",
       "         [ 32,  37,  36]],\n",
       " \n",
       "        [[250, 249, 251],\n",
       "         [254, 253, 255],\n",
       "         [255, 254, 255],\n",
       "         ...,\n",
       "         [ 29,  34,  33],\n",
       "         [ 30,  35,  34],\n",
       "         [ 31,  36,  35]],\n",
       " \n",
       "        [[160, 159, 161],\n",
       "         [148, 147, 149],\n",
       "         [137, 136, 138],\n",
       "         ...,\n",
       "         [ 29,  34,  33],\n",
       "         [ 30,  35,  34],\n",
       "         [ 31,  36,  35]]], dtype=uint8)\n",
       " orig_shape: (408, 612)\n",
       " path: 'C:\\\\Users\\\\coigah\\\\Documents\\\\PhD Folder\\\\YOLO\\\\test\\\\image2.jpg'\n",
       " probs: None\n",
       " save_dir: None\n",
       " speed: {'preprocess': 1.0066032409667969, 'inference': 3.623485565185547, 'postprocess': 0.0},\n",
       " ultralytics.engine.results.Results object with attributes:\n",
       " \n",
       " boxes: ultralytics.engine.results.Boxes object\n",
       " keypoints: None\n",
       " masks: None\n",
       " names: {0: 'rivet'}\n",
       " obb: None\n",
       " orig_img: array([[[175, 185, 192],\n",
       "         [175, 185, 192],\n",
       "         [175, 185, 192],\n",
       "         ...,\n",
       "         [134, 142, 149],\n",
       "         [134, 142, 149],\n",
       "         [135, 143, 150]],\n",
       " \n",
       "        [[175, 185, 192],\n",
       "         [175, 185, 192],\n",
       "         [175, 185, 192],\n",
       "         ...,\n",
       "         [134, 142, 149],\n",
       "         [134, 142, 149],\n",
       "         [134, 142, 149]],\n",
       " \n",
       "        [[175, 185, 192],\n",
       "         [175, 185, 192],\n",
       "         [175, 185, 192],\n",
       "         ...,\n",
       "         [134, 142, 149],\n",
       "         [133, 141, 148],\n",
       "         [133, 141, 148]],\n",
       " \n",
       "        ...,\n",
       " \n",
       "        [[160, 164, 159],\n",
       "         [154, 158, 153],\n",
       "         [150, 154, 149],\n",
       "         ...,\n",
       "         [121, 134, 136],\n",
       "         [123, 132, 135],\n",
       "         [122, 131, 134]],\n",
       " \n",
       "        [[162, 166, 161],\n",
       "         [157, 161, 156],\n",
       "         [154, 158, 153],\n",
       "         ...,\n",
       "         [134, 147, 149],\n",
       "         [130, 139, 142],\n",
       "         [124, 133, 136]],\n",
       " \n",
       "        [[164, 168, 163],\n",
       "         [159, 163, 158],\n",
       "         [157, 161, 156],\n",
       "         ...,\n",
       "         [134, 147, 149],\n",
       "         [127, 136, 139],\n",
       "         [119, 128, 131]]], dtype=uint8)\n",
       " orig_shape: (612, 612)\n",
       " path: 'C:\\\\Users\\\\coigah\\\\Documents\\\\PhD Folder\\\\YOLO\\\\test\\\\image21.jpg'\n",
       " probs: None\n",
       " save_dir: None\n",
       " speed: {'preprocess': 0.0, 'inference': 18.85986328125, 'postprocess': 0.0},\n",
       " ultralytics.engine.results.Results object with attributes:\n",
       " \n",
       " boxes: ultralytics.engine.results.Boxes object\n",
       " keypoints: None\n",
       " masks: None\n",
       " names: {0: 'rivet'}\n",
       " obb: None\n",
       " orig_img: array([[[164, 135, 130],\n",
       "         [159, 130, 125],\n",
       "         [159, 131, 124],\n",
       "         ...,\n",
       "         [195, 165, 154],\n",
       "         [195, 165, 154],\n",
       "         [194, 164, 153]],\n",
       " \n",
       "        [[164, 135, 130],\n",
       "         [161, 132, 127],\n",
       "         [160, 132, 125],\n",
       "         ...,\n",
       "         [190, 160, 149],\n",
       "         [192, 162, 151],\n",
       "         [194, 164, 153]],\n",
       " \n",
       "        [[166, 138, 131],\n",
       "         [166, 138, 131],\n",
       "         [165, 137, 130],\n",
       "         ...,\n",
       "         [188, 158, 147],\n",
       "         [192, 162, 151],\n",
       "         [197, 167, 156]],\n",
       " \n",
       "        ...,\n",
       " \n",
       "        [[ 33,  36,  21],\n",
       "         [ 34,  37,  22],\n",
       "         [ 36,  39,  24],\n",
       "         ...,\n",
       "         [ 83,  63,  45],\n",
       "         [ 82,  62,  44],\n",
       "         [ 80,  60,  42]],\n",
       " \n",
       "        [[ 39,  42,  27],\n",
       "         [ 38,  41,  26],\n",
       "         [ 37,  39,  27],\n",
       "         ...,\n",
       "         [ 81,  62,  41],\n",
       "         [ 80,  61,  40],\n",
       "         [ 79,  60,  39]],\n",
       " \n",
       "        [[ 32,  35,  20],\n",
       "         [ 31,  34,  19],\n",
       "         [ 31,  33,  21],\n",
       "         ...,\n",
       "         [ 79,  60,  39],\n",
       "         [ 77,  58,  37],\n",
       "         [ 77,  58,  37]]], dtype=uint8)\n",
       " orig_shape: (600, 800)\n",
       " path: 'C:\\\\Users\\\\coigah\\\\Documents\\\\PhD Folder\\\\YOLO\\\\test\\\\image22.jpg'\n",
       " probs: None\n",
       " save_dir: None\n",
       " speed: {'preprocess': 0.0, 'inference': 17.4560546875, 'postprocess': 0.0},\n",
       " ultralytics.engine.results.Results object with attributes:\n",
       " \n",
       " boxes: ultralytics.engine.results.Boxes object\n",
       " keypoints: None\n",
       " masks: None\n",
       " names: {0: 'rivet'}\n",
       " obb: None\n",
       " orig_img: array([[[112, 112, 112],\n",
       "         [112, 112, 112],\n",
       "         [121, 121, 121],\n",
       "         ...,\n",
       "         [ 83,  85,  86],\n",
       "         [ 69,  71,  72],\n",
       "         [ 89,  86,  88]],\n",
       " \n",
       "        [[122, 122, 122],\n",
       "         [115, 115, 115],\n",
       "         [117, 117, 117],\n",
       "         ...,\n",
       "         [ 92,  94,  95],\n",
       "         [ 99, 101, 102],\n",
       "         [ 90,  89,  91]],\n",
       " \n",
       "        [[115, 115, 115],\n",
       "         [109, 109, 109],\n",
       "         [115, 115, 115],\n",
       "         ...,\n",
       "         [ 99, 101, 102],\n",
       "         [104, 106, 107],\n",
       "         [ 87,  89,  90]],\n",
       " \n",
       "        ...,\n",
       " \n",
       "        [[ 31,  34,  38],\n",
       "         [ 31,  34,  38],\n",
       "         [ 31,  34,  38],\n",
       "         ...,\n",
       "         [ 39,  42,  46],\n",
       "         [ 38,  41,  45],\n",
       "         [ 35,  38,  42]],\n",
       " \n",
       "        [[ 34,  37,  41],\n",
       "         [ 33,  36,  40],\n",
       "         [ 33,  36,  40],\n",
       "         ...,\n",
       "         [ 30,  33,  37],\n",
       "         [ 26,  29,  33],\n",
       "         [ 31,  34,  38]],\n",
       " \n",
       "        [[ 34,  37,  41],\n",
       "         [ 32,  35,  39],\n",
       "         [ 31,  34,  38],\n",
       "         ...,\n",
       "         [ 35,  38,  42],\n",
       "         [ 32,  35,  39],\n",
       "         [ 29,  32,  36]]], dtype=uint8)\n",
       " orig_shape: (360, 593)\n",
       " path: 'C:\\\\Users\\\\coigah\\\\Documents\\\\PhD Folder\\\\YOLO\\\\test\\\\image23.jpg'\n",
       " probs: None\n",
       " save_dir: None\n",
       " speed: {'preprocess': 1.5189647674560547, 'inference': 13.084888458251953, 'postprocess': 0.99945068359375},\n",
       " ultralytics.engine.results.Results object with attributes:\n",
       " \n",
       " boxes: ultralytics.engine.results.Boxes object\n",
       " keypoints: None\n",
       " masks: None\n",
       " names: {0: 'rivet'}\n",
       " obb: None\n",
       " orig_img: array([[[ 58,  58,  64],\n",
       "         [ 52,  52,  58],\n",
       "         [ 47,  47,  53],\n",
       "         ...,\n",
       "         [ 59,  54,  56],\n",
       "         [ 54,  49,  51],\n",
       "         [ 51,  46,  48]],\n",
       " \n",
       "        [[ 58,  58,  64],\n",
       "         [ 53,  53,  59],\n",
       "         [ 49,  49,  55],\n",
       "         ...,\n",
       "         [ 58,  53,  55],\n",
       "         [ 52,  47,  49],\n",
       "         [ 49,  44,  46]],\n",
       " \n",
       "        [[ 61,  62,  66],\n",
       "         [ 56,  57,  61],\n",
       "         [ 54,  53,  57],\n",
       "         ...,\n",
       "         [ 59,  54,  56],\n",
       "         [ 54,  49,  51],\n",
       "         [ 50,  45,  47]],\n",
       " \n",
       "        ...,\n",
       " \n",
       "        [[ 30,  25,  26],\n",
       "         [ 30,  25,  26],\n",
       "         [ 30,  25,  26],\n",
       "         ...,\n",
       "         [ 60, 125, 134],\n",
       "         [ 60, 125, 134],\n",
       "         [ 59, 124, 133]],\n",
       " \n",
       "        [[ 30,  25,  26],\n",
       "         [ 30,  25,  26],\n",
       "         [ 30,  25,  26],\n",
       "         ...,\n",
       "         [ 62, 127, 136],\n",
       "         [ 61, 126, 135],\n",
       "         [ 60, 125, 134]],\n",
       " \n",
       "        [[ 30,  25,  26],\n",
       "         [ 30,  25,  26],\n",
       "         [ 30,  25,  26],\n",
       "         ...,\n",
       "         [ 65, 127, 137],\n",
       "         [ 64, 126, 136],\n",
       "         [ 64, 126, 136]]], dtype=uint8)\n",
       " orig_shape: (283, 244)\n",
       " path: 'C:\\\\Users\\\\coigah\\\\Documents\\\\PhD Folder\\\\YOLO\\\\test\\\\image24.jpg'\n",
       " probs: None\n",
       " save_dir: None\n",
       " speed: {'preprocess': 0.8728504180908203, 'inference': 18.121957778930664, 'postprocess': 0.0},\n",
       " ultralytics.engine.results.Results object with attributes:\n",
       " \n",
       " boxes: ultralytics.engine.results.Boxes object\n",
       " keypoints: None\n",
       " masks: None\n",
       " names: {0: 'rivet'}\n",
       " obb: None\n",
       " orig_img: array([[[255, 254, 255],\n",
       "         [255, 254, 255],\n",
       "         [ 35,  34,  36],\n",
       "         ...,\n",
       "         [ 87,  79,  80],\n",
       "         [253, 248, 249],\n",
       "         [255, 252, 253]],\n",
       " \n",
       "        [[254, 253, 255],\n",
       "         [252, 251, 253],\n",
       "         [ 31,  30,  32],\n",
       "         ...,\n",
       "         [ 88,  80,  81],\n",
       "         [253, 248, 249],\n",
       "         [255, 252, 253]],\n",
       " \n",
       "        [[254, 253, 255],\n",
       "         [252, 251, 253],\n",
       "         [ 31,  30,  32],\n",
       "         ...,\n",
       "         [ 89,  81,  82],\n",
       "         [254, 249, 250],\n",
       "         [255, 253, 254]],\n",
       " \n",
       "        ...,\n",
       " \n",
       "        [[255, 253, 255],\n",
       "         [255, 254, 255],\n",
       "         [ 94,  87,  94],\n",
       "         ...,\n",
       "         [164, 153, 161],\n",
       "         [255, 252, 254],\n",
       "         [255, 254, 255]],\n",
       " \n",
       "        [[255, 252, 254],\n",
       "         [255, 254, 255],\n",
       "         [ 95,  88,  95],\n",
       "         ...,\n",
       "         [166, 155, 163],\n",
       "         [255, 252, 254],\n",
       "         [255, 254, 255]],\n",
       " \n",
       "        [[255, 250, 252],\n",
       "         [255, 254, 255],\n",
       "         [ 95,  88,  95],\n",
       "         ...,\n",
       "         [167, 156, 164],\n",
       "         [255, 252, 254],\n",
       "         [255, 254, 255]]], dtype=uint8)\n",
       " orig_shape: (343, 343)\n",
       " path: 'C:\\\\Users\\\\coigah\\\\Documents\\\\PhD Folder\\\\YOLO\\\\test\\\\image25.jpg'\n",
       " probs: None\n",
       " save_dir: None\n",
       " speed: {'preprocess': 0.0, 'inference': 17.12965965270996, 'postprocess': 0.0},\n",
       " ultralytics.engine.results.Results object with attributes:\n",
       " \n",
       " boxes: ultralytics.engine.results.Boxes object\n",
       " keypoints: None\n",
       " masks: None\n",
       " names: {0: 'rivet'}\n",
       " obb: None\n",
       " orig_img: array([[[204, 222, 251],\n",
       "         [177, 195, 224],\n",
       "         [193, 212, 239],\n",
       "         ...,\n",
       "         [ 10,  15,  24],\n",
       "         [ 10,  15,  24],\n",
       "         [ 10,  15,  24]],\n",
       " \n",
       "        [[188, 206, 235],\n",
       "         [174, 192, 221],\n",
       "         [183, 202, 229],\n",
       "         ...,\n",
       "         [ 10,  15,  24],\n",
       "         [ 10,  15,  24],\n",
       "         [ 10,  15,  24]],\n",
       " \n",
       "        [[197, 215, 244],\n",
       "         [196, 214, 243],\n",
       "         [188, 207, 234],\n",
       "         ...,\n",
       "         [ 10,  15,  24],\n",
       "         [ 10,  15,  24],\n",
       "         [ 10,  15,  24]],\n",
       " \n",
       "        ...,\n",
       " \n",
       "        [[177, 182, 207],\n",
       "         [174, 179, 204],\n",
       "         [166, 171, 196],\n",
       "         ...,\n",
       "         [171, 158, 166],\n",
       "         [173, 160, 168],\n",
       "         [171, 158, 166]],\n",
       " \n",
       "        [[171, 176, 201],\n",
       "         [182, 187, 212],\n",
       "         [173, 178, 203],\n",
       "         ...,\n",
       "         [171, 158, 166],\n",
       "         [170, 157, 165],\n",
       "         [165, 152, 160]],\n",
       " \n",
       "        [[159, 164, 189],\n",
       "         [184, 189, 214],\n",
       "         [176, 181, 206],\n",
       "         ...,\n",
       "         [181, 169, 175],\n",
       "         [175, 163, 169],\n",
       "         [167, 155, 161]]], dtype=uint8)\n",
       " orig_shape: (327, 588)\n",
       " path: 'C:\\\\Users\\\\coigah\\\\Documents\\\\PhD Folder\\\\YOLO\\\\test\\\\image26.jpg'\n",
       " probs: None\n",
       " save_dir: None\n",
       " speed: {'preprocess': 1.0287761688232422, 'inference': 3.4143924713134766, 'postprocess': 0.0},\n",
       " ultralytics.engine.results.Results object with attributes:\n",
       " \n",
       " boxes: ultralytics.engine.results.Boxes object\n",
       " keypoints: None\n",
       " masks: None\n",
       " names: {0: 'rivet'}\n",
       " obb: None\n",
       " orig_img: array([[[  7,   1,   2],\n",
       "         [  6,   1,   2],\n",
       "         [  6,   1,   2],\n",
       "         ...,\n",
       "         [109, 109, 115],\n",
       "         [107, 107, 113],\n",
       "         [102, 102, 108]],\n",
       " \n",
       "        [[  7,   1,   2],\n",
       "         [  6,   1,   2],\n",
       "         [  6,   1,   2],\n",
       "         ...,\n",
       "         [105, 105, 111],\n",
       "         [102, 102, 108],\n",
       "         [ 97,  97, 103]],\n",
       " \n",
       "        [[  7,   1,   2],\n",
       "         [  6,   1,   2],\n",
       "         [  6,   1,   2],\n",
       "         ...,\n",
       "         [ 94,  97, 102],\n",
       "         [ 96,  99, 104],\n",
       "         [ 93,  96, 101]],\n",
       " \n",
       "        ...,\n",
       " \n",
       "        [[140, 114, 108],\n",
       "         [145, 119, 113],\n",
       "         [145, 121, 115],\n",
       "         ...,\n",
       "         [158, 209, 211],\n",
       "         [158, 209, 211],\n",
       "         [158, 209, 211]],\n",
       " \n",
       "        [[138, 112, 106],\n",
       "         [141, 115, 109],\n",
       "         [144, 118, 112],\n",
       "         ...,\n",
       "         [160, 211, 213],\n",
       "         [160, 211, 213],\n",
       "         [160, 211, 213]],\n",
       " \n",
       "        [[130, 104,  98],\n",
       "         [133, 107, 101],\n",
       "         [139, 113, 107],\n",
       "         ...,\n",
       "         [160, 211, 213],\n",
       "         [160, 211, 213],\n",
       "         [160, 211, 213]]], dtype=uint8)\n",
       " orig_shape: (346, 276)\n",
       " path: 'C:\\\\Users\\\\coigah\\\\Documents\\\\PhD Folder\\\\YOLO\\\\test\\\\image27.jpg'\n",
       " probs: None\n",
       " save_dir: None\n",
       " speed: {'preprocess': 12.228012084960938, 'inference': 6.263494491577148, 'postprocess': 0.0},\n",
       " ultralytics.engine.results.Results object with attributes:\n",
       " \n",
       " boxes: ultralytics.engine.results.Boxes object\n",
       " keypoints: None\n",
       " masks: None\n",
       " names: {0: 'rivet'}\n",
       " obb: None\n",
       " orig_img: array([[[112, 104, 104],\n",
       "         [112, 104, 104],\n",
       "         [112, 104, 104],\n",
       "         ...,\n",
       "         [239, 245, 244],\n",
       "         [240, 246, 245],\n",
       "         [240, 246, 245]],\n",
       " \n",
       "        [[112, 104, 104],\n",
       "         [112, 104, 104],\n",
       "         [112, 104, 104],\n",
       "         ...,\n",
       "         [238, 244, 243],\n",
       "         [239, 245, 244],\n",
       "         [238, 244, 243]],\n",
       " \n",
       "        [[112, 104, 104],\n",
       "         [112, 104, 104],\n",
       "         [112, 104, 104],\n",
       "         ...,\n",
       "         [238, 244, 243],\n",
       "         [237, 243, 242],\n",
       "         [237, 243, 242]],\n",
       " \n",
       "        ...,\n",
       " \n",
       "        [[207, 234, 244],\n",
       "         [209, 236, 246],\n",
       "         [212, 239, 249],\n",
       "         ...,\n",
       "         [156, 176, 194],\n",
       "         [170, 190, 208],\n",
       "         [193, 213, 231]],\n",
       " \n",
       "        [[204, 231, 241],\n",
       "         [205, 232, 242],\n",
       "         [209, 235, 247],\n",
       "         ...,\n",
       "         [155, 175, 193],\n",
       "         [170, 190, 208],\n",
       "         [195, 215, 233]],\n",
       " \n",
       "        [[201, 228, 238],\n",
       "         [203, 230, 240],\n",
       "         [207, 233, 245],\n",
       "         ...,\n",
       "         [156, 176, 194],\n",
       "         [169, 189, 207],\n",
       "         [195, 215, 233]]], dtype=uint8)\n",
       " orig_shape: (768, 1024)\n",
       " path: 'C:\\\\Users\\\\coigah\\\\Documents\\\\PhD Folder\\\\YOLO\\\\test\\\\image29.jpg'\n",
       " probs: None\n",
       " save_dir: None\n",
       " speed: {'preprocess': 7.519245147705078, 'inference': 11.198997497558594, 'postprocess': 0.0},\n",
       " ultralytics.engine.results.Results object with attributes:\n",
       " \n",
       " boxes: ultralytics.engine.results.Boxes object\n",
       " keypoints: None\n",
       " masks: None\n",
       " names: {0: 'rivet'}\n",
       " obb: None\n",
       " orig_img: array([[[139, 139, 145],\n",
       "         [144, 144, 150],\n",
       "         [148, 147, 156],\n",
       "         ...,\n",
       "         [120, 114, 115],\n",
       "         [117, 111, 112],\n",
       "         [115, 109, 110]],\n",
       " \n",
       "        [[141, 141, 147],\n",
       "         [146, 146, 152],\n",
       "         [150, 150, 156],\n",
       "         ...,\n",
       "         [128, 122, 123],\n",
       "         [126, 120, 121],\n",
       "         [124, 118, 119]],\n",
       " \n",
       "        [[147, 145, 151],\n",
       "         [151, 149, 155],\n",
       "         [152, 152, 158],\n",
       "         ...,\n",
       "         [141, 133, 134],\n",
       "         [139, 131, 132],\n",
       "         [137, 129, 130]],\n",
       " \n",
       "        ...,\n",
       " \n",
       "        [[202, 192, 205],\n",
       "         [186, 176, 188],\n",
       "         [181, 170, 178],\n",
       "         ...,\n",
       "         [123, 121, 121],\n",
       "         [124, 122, 122],\n",
       "         [125, 123, 123]],\n",
       " \n",
       "        [[191, 181, 194],\n",
       "         [178, 168, 180],\n",
       "         [174, 163, 171],\n",
       "         ...,\n",
       "         [112, 110, 110],\n",
       "         [110, 108, 108],\n",
       "         [109, 107, 107]],\n",
       " \n",
       "        [[182, 172, 185],\n",
       "         [172, 162, 174],\n",
       "         [170, 159, 167],\n",
       "         ...,\n",
       "         [126, 124, 124],\n",
       "         [121, 119, 119],\n",
       "         [117, 115, 115]]], dtype=uint8)\n",
       " orig_shape: (675, 900)\n",
       " path: 'C:\\\\Users\\\\coigah\\\\Documents\\\\PhD Folder\\\\YOLO\\\\test\\\\image3.jpg'\n",
       " probs: None\n",
       " save_dir: None\n",
       " speed: {'preprocess': 0.0, 'inference': 15.790462493896484, 'postprocess': 0.0},\n",
       " ultralytics.engine.results.Results object with attributes:\n",
       " \n",
       " boxes: ultralytics.engine.results.Boxes object\n",
       " keypoints: None\n",
       " masks: None\n",
       " names: {0: 'rivet'}\n",
       " obb: None\n",
       " orig_img: array([[[ 0,  0,  0],\n",
       "         [ 0,  0,  0],\n",
       "         [ 0,  0,  0],\n",
       "         ...,\n",
       "         [49, 56, 75],\n",
       "         [49, 56, 75],\n",
       "         [50, 57, 76]],\n",
       " \n",
       "        [[ 0,  0,  0],\n",
       "         [ 0,  0,  0],\n",
       "         [ 0,  0,  0],\n",
       "         ...,\n",
       "         [50, 57, 76],\n",
       "         [50, 57, 76],\n",
       "         [52, 59, 78]],\n",
       " \n",
       "        [[ 0,  0,  0],\n",
       "         [ 0,  0,  0],\n",
       "         [ 0,  0,  0],\n",
       "         ...,\n",
       "         [51, 58, 77],\n",
       "         [51, 58, 77],\n",
       "         [52, 59, 78]],\n",
       " \n",
       "        ...,\n",
       " \n",
       "        [[14,  2, 20],\n",
       "         [16,  4, 22],\n",
       "         [18,  6, 24],\n",
       "         ...,\n",
       "         [20,  5, 19],\n",
       "         [19,  4, 18],\n",
       "         [19,  4, 18]],\n",
       " \n",
       "        [[15,  3, 21],\n",
       "         [16,  4, 22],\n",
       "         [18,  6, 24],\n",
       "         ...,\n",
       "         [19,  4, 18],\n",
       "         [18,  3, 17],\n",
       "         [18,  3, 17]],\n",
       " \n",
       "        [[15,  3, 21],\n",
       "         [17,  5, 23],\n",
       "         [19,  7, 25],\n",
       "         ...,\n",
       "         [18,  3, 17],\n",
       "         [17,  2, 16],\n",
       "         [17,  2, 16]]], dtype=uint8)\n",
       " orig_shape: (667, 1000)\n",
       " path: 'C:\\\\Users\\\\coigah\\\\Documents\\\\PhD Folder\\\\YOLO\\\\test\\\\image31.jpeg'\n",
       " probs: None\n",
       " save_dir: None\n",
       " speed: {'preprocess': 0.0, 'inference': 14.008283615112305, 'postprocess': 0.9980201721191406},\n",
       " ultralytics.engine.results.Results object with attributes:\n",
       " \n",
       " boxes: ultralytics.engine.results.Boxes object\n",
       " keypoints: None\n",
       " masks: None\n",
       " names: {0: 'rivet'}\n",
       " obb: None\n",
       " orig_img: array([[[250, 252, 252],\n",
       "         [249, 251, 251],\n",
       "         [249, 251, 251],\n",
       "         ...,\n",
       "         [153, 167, 166],\n",
       "         [149, 161, 161],\n",
       "         [154, 166, 166]],\n",
       " \n",
       "        [[249, 251, 251],\n",
       "         [248, 250, 250],\n",
       "         [248, 250, 250],\n",
       "         ...,\n",
       "         [151, 163, 163],\n",
       "         [154, 164, 164],\n",
       "         [153, 163, 163]],\n",
       " \n",
       "        [[248, 250, 250],\n",
       "         [247, 249, 249],\n",
       "         [246, 248, 248],\n",
       "         ...,\n",
       "         [153, 163, 163],\n",
       "         [163, 171, 171],\n",
       "         [157, 165, 165]],\n",
       " \n",
       "        ...,\n",
       " \n",
       "        [[171, 167, 162],\n",
       "         [174, 170, 165],\n",
       "         [174, 170, 165],\n",
       "         ...,\n",
       "         [125, 128, 126],\n",
       "         [115, 119, 114],\n",
       "         [110, 114, 109]],\n",
       " \n",
       "        [[173, 169, 164],\n",
       "         [176, 172, 167],\n",
       "         [173, 169, 164],\n",
       "         ...,\n",
       "         [125, 128, 126],\n",
       "         [118, 121, 119],\n",
       "         [116, 119, 117]],\n",
       " \n",
       "        [[176, 172, 167],\n",
       "         [176, 172, 167],\n",
       "         [172, 168, 163],\n",
       "         ...,\n",
       "         [128, 131, 129],\n",
       "         [123, 126, 124],\n",
       "         [122, 125, 123]]], dtype=uint8)\n",
       " orig_shape: (662, 1000)\n",
       " path: 'C:\\\\Users\\\\coigah\\\\Documents\\\\PhD Folder\\\\YOLO\\\\test\\\\image32.jpeg'\n",
       " probs: None\n",
       " save_dir: None\n",
       " speed: {'preprocess': 0.0, 'inference': 16.068696975708008, 'postprocess': 1.01470947265625},\n",
       " ultralytics.engine.results.Results object with attributes:\n",
       " \n",
       " boxes: ultralytics.engine.results.Boxes object\n",
       " keypoints: None\n",
       " masks: None\n",
       " names: {0: 'rivet'}\n",
       " obb: None\n",
       " orig_img: array([[[152, 148, 143],\n",
       "         [162, 158, 153],\n",
       "         [165, 162, 154],\n",
       "         ...,\n",
       "         [ 40,  35,  36],\n",
       "         [ 37,  35,  35],\n",
       "         [ 38,  36,  36]],\n",
       " \n",
       "        [[141, 138, 134],\n",
       "         [144, 141, 137],\n",
       "         [147, 144, 139],\n",
       "         ...,\n",
       "         [ 37,  35,  35],\n",
       "         [ 33,  31,  31],\n",
       "         [ 33,  31,  31]],\n",
       " \n",
       "        [[120, 118, 117],\n",
       "         [116, 114, 113],\n",
       "         [113, 112, 108],\n",
       "         ...,\n",
       "         [ 42,  40,  40],\n",
       "         [ 35,  33,  33],\n",
       "         [ 31,  29,  29]],\n",
       " \n",
       "        ...,\n",
       " \n",
       "        [[ 48,  48,  48],\n",
       "         [ 47,  47,  47],\n",
       "         [ 47,  47,  47],\n",
       "         ...,\n",
       "         [ 68,  73,  74],\n",
       "         [ 67,  72,  73],\n",
       "         [ 67,  72,  73]],\n",
       " \n",
       "        [[ 48,  48,  48],\n",
       "         [ 48,  48,  48],\n",
       "         [ 48,  48,  48],\n",
       "         ...,\n",
       "         [ 60,  65,  66],\n",
       "         [ 59,  64,  65],\n",
       "         [ 62,  67,  68]],\n",
       " \n",
       "        [[ 53,  53,  53],\n",
       "         [ 53,  53,  53],\n",
       "         [ 53,  53,  53],\n",
       "         ...,\n",
       "         [ 61,  66,  67],\n",
       "         [ 64,  69,  70],\n",
       "         [ 65,  70,  71]]], dtype=uint8)\n",
       " orig_shape: (5333, 7999)\n",
       " path: 'C:\\\\Users\\\\coigah\\\\Documents\\\\PhD Folder\\\\YOLO\\\\test\\\\image34.jpg'\n",
       " probs: None\n",
       " save_dir: None\n",
       " speed: {'preprocess': 0.0, 'inference': 9.613275527954102, 'postprocess': 0.0},\n",
       " ultralytics.engine.results.Results object with attributes:\n",
       " \n",
       " boxes: ultralytics.engine.results.Boxes object\n",
       " keypoints: None\n",
       " masks: None\n",
       " names: {0: 'rivet'}\n",
       " obb: None\n",
       " orig_img: array([[[ 9,  9,  9],\n",
       "         [10, 10, 10],\n",
       "         [14, 14, 14],\n",
       "         ...,\n",
       "         [19, 19, 19],\n",
       "         [17, 17, 17],\n",
       "         [22, 22, 22]],\n",
       " \n",
       "        [[13, 13, 13],\n",
       "         [10, 10, 10],\n",
       "         [ 9,  9,  9],\n",
       "         ...,\n",
       "         [17, 17, 17],\n",
       "         [22, 22, 22],\n",
       "         [25, 25, 25]],\n",
       " \n",
       "        [[13, 13, 13],\n",
       "         [ 9,  9,  9],\n",
       "         [11, 11, 11],\n",
       "         ...,\n",
       "         [19, 19, 19],\n",
       "         [24, 24, 24],\n",
       "         [16, 16, 16]],\n",
       " \n",
       "        ...,\n",
       " \n",
       "        [[ 8,  8,  8],\n",
       "         [ 8,  8,  8],\n",
       "         [ 7,  7,  7],\n",
       "         ...,\n",
       "         [ 7,  7,  7],\n",
       "         [10, 10, 10],\n",
       "         [11, 11, 11]],\n",
       " \n",
       "        [[ 8,  8,  8],\n",
       "         [ 6,  6,  6],\n",
       "         [ 6,  6,  6],\n",
       "         ...,\n",
       "         [ 9,  9,  9],\n",
       "         [10, 10, 10],\n",
       "         [ 9,  9,  9]],\n",
       " \n",
       "        [[ 7,  7,  7],\n",
       "         [ 6,  6,  6],\n",
       "         [ 7,  7,  7],\n",
       "         ...,\n",
       "         [10, 10, 10],\n",
       "         [ 8,  8,  8],\n",
       "         [11, 11, 11]]], dtype=uint8)\n",
       " orig_shape: (4000, 4000)\n",
       " path: 'C:\\\\Users\\\\coigah\\\\Documents\\\\PhD Folder\\\\YOLO\\\\test\\\\image35.jpg'\n",
       " probs: None\n",
       " save_dir: None\n",
       " speed: {'preprocess': 0.0, 'inference': 20.48349380493164, 'postprocess': 6.063699722290039},\n",
       " ultralytics.engine.results.Results object with attributes:\n",
       " \n",
       " boxes: ultralytics.engine.results.Boxes object\n",
       " keypoints: None\n",
       " masks: None\n",
       " names: {0: 'rivet'}\n",
       " obb: None\n",
       " orig_img: array([[[255, 255, 255],\n",
       "         [255, 255, 255],\n",
       "         [255, 255, 255],\n",
       "         ...,\n",
       "         [183, 255, 255],\n",
       "         [183, 255, 255],\n",
       "         [183, 255, 255]],\n",
       " \n",
       "        [[255, 255, 255],\n",
       "         [255, 255, 255],\n",
       "         [255, 255, 255],\n",
       "         ...,\n",
       "         [183, 255, 255],\n",
       "         [183, 255, 255],\n",
       "         [183, 255, 255]],\n",
       " \n",
       "        [[255, 255, 255],\n",
       "         [255, 255, 255],\n",
       "         [255, 255, 255],\n",
       "         ...,\n",
       "         [183, 255, 255],\n",
       "         [183, 255, 255],\n",
       "         [183, 255, 255]],\n",
       " \n",
       "        ...,\n",
       " \n",
       "        [[ 85,  89, 117],\n",
       "         [ 85,  89, 117],\n",
       "         [ 85,  89, 117],\n",
       "         ...,\n",
       "         [114, 208, 237],\n",
       "         [114, 208, 237],\n",
       "         [114, 208, 237]],\n",
       " \n",
       "        [[ 86,  90, 118],\n",
       "         [ 86,  90, 118],\n",
       "         [ 86,  90, 118],\n",
       "         ...,\n",
       "         [114, 208, 237],\n",
       "         [114, 208, 237],\n",
       "         [114, 208, 237]],\n",
       " \n",
       "        [[ 86,  90, 118],\n",
       "         [ 86,  90, 118],\n",
       "         [ 86,  90, 118],\n",
       "         ...,\n",
       "         [114, 208, 237],\n",
       "         [114, 208, 237],\n",
       "         [114, 208, 237]]], dtype=uint8)\n",
       " orig_shape: (720, 1280)\n",
       " path: 'C:\\\\Users\\\\coigah\\\\Documents\\\\PhD Folder\\\\YOLO\\\\test\\\\image36.jpg'\n",
       " probs: None\n",
       " save_dir: None\n",
       " speed: {'preprocess': 0.0, 'inference': 0.0, 'postprocess': 0.0},\n",
       " ultralytics.engine.results.Results object with attributes:\n",
       " \n",
       " boxes: ultralytics.engine.results.Boxes object\n",
       " keypoints: None\n",
       " masks: None\n",
       " names: {0: 'rivet'}\n",
       " obb: None\n",
       " orig_img: array([[[255, 255, 255],\n",
       "         [255, 255, 255],\n",
       "         [255, 255, 255],\n",
       "         ...,\n",
       "         [  1,  87, 111],\n",
       "         [  1,  87, 111],\n",
       "         [  1,  87, 111]],\n",
       " \n",
       "        [[255, 255, 255],\n",
       "         [255, 255, 255],\n",
       "         [255, 255, 255],\n",
       "         ...,\n",
       "         [  1,  87, 111],\n",
       "         [  1,  87, 111],\n",
       "         [  1,  87, 111]],\n",
       " \n",
       "        [[255, 255, 255],\n",
       "         [255, 255, 255],\n",
       "         [255, 255, 255],\n",
       "         ...,\n",
       "         [  0,  86, 108],\n",
       "         [  0,  86, 108],\n",
       "         [  0,  86, 108]],\n",
       " \n",
       "        ...,\n",
       " \n",
       "        [[255, 255, 255],\n",
       "         [255, 255, 255],\n",
       "         [255, 255, 255],\n",
       "         ...,\n",
       "         [138, 242, 255],\n",
       "         [138, 242, 255],\n",
       "         [138, 242, 255]],\n",
       " \n",
       "        [[255, 255, 255],\n",
       "         [255, 255, 255],\n",
       "         [255, 255, 255],\n",
       "         ...,\n",
       "         [138, 242, 255],\n",
       "         [138, 242, 255],\n",
       "         [138, 242, 255]],\n",
       " \n",
       "        [[255, 255, 255],\n",
       "         [255, 255, 255],\n",
       "         [255, 255, 255],\n",
       "         ...,\n",
       "         [138, 242, 255],\n",
       "         [138, 242, 255],\n",
       "         [138, 242, 255]]], dtype=uint8)\n",
       " orig_shape: (720, 1280)\n",
       " path: 'C:\\\\Users\\\\coigah\\\\Documents\\\\PhD Folder\\\\YOLO\\\\test\\\\image37.jpg'\n",
       " probs: None\n",
       " save_dir: None\n",
       " speed: {'preprocess': 0.0, 'inference': 16.83831214904785, 'postprocess': 0.9984970092773438},\n",
       " ultralytics.engine.results.Results object with attributes:\n",
       " \n",
       " boxes: ultralytics.engine.results.Boxes object\n",
       " keypoints: None\n",
       " masks: None\n",
       " names: {0: 'rivet'}\n",
       " obb: None\n",
       " orig_img: array([[[255, 255, 255],\n",
       "         [255, 255, 255],\n",
       "         [255, 255, 255],\n",
       "         ...,\n",
       "         [195, 255, 255],\n",
       "         [195, 255, 255],\n",
       "         [195, 255, 255]],\n",
       " \n",
       "        [[255, 255, 255],\n",
       "         [255, 255, 255],\n",
       "         [255, 255, 255],\n",
       "         ...,\n",
       "         [195, 255, 255],\n",
       "         [195, 255, 255],\n",
       "         [195, 255, 255]],\n",
       " \n",
       "        [[255, 255, 255],\n",
       "         [255, 255, 255],\n",
       "         [255, 255, 255],\n",
       "         ...,\n",
       "         [195, 255, 255],\n",
       "         [195, 255, 255],\n",
       "         [195, 255, 255]],\n",
       " \n",
       "        ...,\n",
       " \n",
       "        [[255, 255, 255],\n",
       "         [255, 255, 255],\n",
       "         [255, 255, 255],\n",
       "         ...,\n",
       "         [133, 255, 255],\n",
       "         [133, 255, 255],\n",
       "         [133, 255, 255]],\n",
       " \n",
       "        [[255, 255, 255],\n",
       "         [255, 255, 255],\n",
       "         [255, 255, 255],\n",
       "         ...,\n",
       "         [133, 255, 255],\n",
       "         [133, 255, 255],\n",
       "         [133, 255, 255]],\n",
       " \n",
       "        [[255, 255, 255],\n",
       "         [255, 255, 255],\n",
       "         [255, 255, 255],\n",
       "         ...,\n",
       "         [133, 255, 255],\n",
       "         [133, 255, 255],\n",
       "         [133, 255, 255]]], dtype=uint8)\n",
       " orig_shape: (720, 1280)\n",
       " path: 'C:\\\\Users\\\\coigah\\\\Documents\\\\PhD Folder\\\\YOLO\\\\test\\\\image38.jpg'\n",
       " probs: None\n",
       " save_dir: None\n",
       " speed: {'preprocess': 0.0, 'inference': 18.529891967773438, 'postprocess': 0.0},\n",
       " ultralytics.engine.results.Results object with attributes:\n",
       " \n",
       " boxes: ultralytics.engine.results.Boxes object\n",
       " keypoints: None\n",
       " masks: None\n",
       " names: {0: 'rivet'}\n",
       " obb: None\n",
       " orig_img: array([[[ 37,  42,  40],\n",
       "         [ 40,  45,  43],\n",
       "         [ 43,  47,  48],\n",
       "         ...,\n",
       "         [  2,   0,   0],\n",
       "         [  2,   0,   0],\n",
       "         [  2,   0,   0]],\n",
       " \n",
       "        [[ 37,  42,  40],\n",
       "         [ 41,  46,  44],\n",
       "         [ 43,  47,  48],\n",
       "         ...,\n",
       "         [  2,   0,   0],\n",
       "         [  2,   0,   0],\n",
       "         [  4,   2,   1]],\n",
       " \n",
       "        [[ 38,  43,  41],\n",
       "         [ 41,  46,  44],\n",
       "         [ 42,  47,  48],\n",
       "         ...,\n",
       "         [  1,   1,   1],\n",
       "         [  2,   2,   2],\n",
       "         [  4,   2,   2]],\n",
       " \n",
       "        ...,\n",
       " \n",
       "        [[255, 255, 255],\n",
       "         [255, 255, 255],\n",
       "         [255, 255, 255],\n",
       "         ...,\n",
       "         [ 69, 172, 204],\n",
       "         [ 69, 172, 204],\n",
       "         [ 69, 172, 204]],\n",
       " \n",
       "        [[255, 255, 255],\n",
       "         [255, 255, 255],\n",
       "         [255, 255, 255],\n",
       "         ...,\n",
       "         [ 69, 172, 204],\n",
       "         [ 69, 172, 204],\n",
       "         [ 69, 172, 204]],\n",
       " \n",
       "        [[255, 255, 255],\n",
       "         [255, 255, 255],\n",
       "         [255, 255, 255],\n",
       "         ...,\n",
       "         [ 69, 172, 204],\n",
       "         [ 69, 172, 204],\n",
       "         [ 69, 172, 204]]], dtype=uint8)\n",
       " orig_shape: (368, 383)\n",
       " path: 'C:\\\\Users\\\\coigah\\\\Documents\\\\PhD Folder\\\\YOLO\\\\test\\\\image39.jpg'\n",
       " probs: None\n",
       " save_dir: None\n",
       " speed: {'preprocess': 0.0, 'inference': 24.558305740356445, 'postprocess': 1.0025501251220703},\n",
       " ultralytics.engine.results.Results object with attributes:\n",
       " \n",
       " boxes: ultralytics.engine.results.Boxes object\n",
       " keypoints: None\n",
       " masks: None\n",
       " names: {0: 'rivet'}\n",
       " obb: None\n",
       " orig_img: array([[[197, 191, 192],\n",
       "         [199, 195, 194],\n",
       "         [194, 191, 187],\n",
       "         ...,\n",
       "         [193, 191, 191],\n",
       "         [194, 194, 194],\n",
       "         [198, 199, 195]],\n",
       " \n",
       "        [[200, 194, 195],\n",
       "         [200, 195, 194],\n",
       "         [195, 190, 187],\n",
       "         ...,\n",
       "         [188, 187, 189],\n",
       "         [185, 187, 187],\n",
       "         [193, 194, 192]],\n",
       " \n",
       "        [[197, 195, 195],\n",
       "         [196, 194, 193],\n",
       "         [194, 193, 189],\n",
       "         ...,\n",
       "         [189, 188, 190],\n",
       "         [186, 188, 188],\n",
       "         [185, 188, 186]],\n",
       " \n",
       "        ...,\n",
       " \n",
       "        [[104, 102, 101],\n",
       "         [103, 101, 100],\n",
       "         [102, 100,  99],\n",
       "         ...,\n",
       "         [ 85,  87,  87],\n",
       "         [ 85,  87,  87],\n",
       "         [ 85,  87,  87]],\n",
       " \n",
       "        [[103, 101, 100],\n",
       "         [103, 101, 100],\n",
       "         [102, 100,  99],\n",
       "         ...,\n",
       "         [ 84,  86,  87],\n",
       "         [ 83,  85,  86],\n",
       "         [ 84,  86,  87]],\n",
       " \n",
       "        [[104, 102, 101],\n",
       "         [104, 102, 101],\n",
       "         [103, 101, 100],\n",
       "         ...,\n",
       "         [ 83,  85,  86],\n",
       "         [ 83,  85,  86],\n",
       "         [ 84,  86,  87]]], dtype=uint8)\n",
       " orig_shape: (1367, 2048)\n",
       " path: 'C:\\\\Users\\\\coigah\\\\Documents\\\\PhD Folder\\\\YOLO\\\\test\\\\image4.jpg'\n",
       " probs: None\n",
       " save_dir: None\n",
       " speed: {'preprocess': 9.239435195922852, 'inference': 12.007951736450195, 'postprocess': 1.0001659393310547},\n",
       " ultralytics.engine.results.Results object with attributes:\n",
       " \n",
       " boxes: ultralytics.engine.results.Boxes object\n",
       " keypoints: None\n",
       " masks: None\n",
       " names: {0: 'rivet'}\n",
       " obb: None\n",
       " orig_img: array([[[ 93,  95, 135],\n",
       "         [ 95,  97, 137],\n",
       "         [ 92,  94, 134],\n",
       "         ...,\n",
       "         [131, 218, 244],\n",
       "         [131, 218, 244],\n",
       "         [131, 218, 244]],\n",
       " \n",
       "        [[ 94,  96, 136],\n",
       "         [ 95,  97, 137],\n",
       "         [ 92,  94, 134],\n",
       "         ...,\n",
       "         [131, 218, 244],\n",
       "         [131, 218, 244],\n",
       "         [131, 218, 244]],\n",
       " \n",
       "        [[ 94,  96, 137],\n",
       "         [ 95,  97, 138],\n",
       "         [ 93,  95, 136],\n",
       "         ...,\n",
       "         [131, 218, 244],\n",
       "         [131, 218, 244],\n",
       "         [131, 218, 244]],\n",
       " \n",
       "        ...,\n",
       " \n",
       "        [[214, 239, 255],\n",
       "         [214, 239, 255],\n",
       "         [215, 240, 255],\n",
       "         ...,\n",
       "         [ 55, 172, 199],\n",
       "         [ 58, 173, 200],\n",
       "         [ 59, 174, 201]],\n",
       " \n",
       "        [[215, 241, 255],\n",
       "         [215, 241, 255],\n",
       "         [216, 242, 255],\n",
       "         ...,\n",
       "         [ 55, 172, 199],\n",
       "         [ 58, 173, 200],\n",
       "         [ 59, 174, 201]],\n",
       " \n",
       "        [[215, 241, 255],\n",
       "         [215, 241, 255],\n",
       "         [215, 241, 255],\n",
       "         ...,\n",
       "         [ 54, 171, 198],\n",
       "         [ 58, 173, 200],\n",
       "         [ 59, 174, 201]]], dtype=uint8)\n",
       " orig_shape: (720, 1280)\n",
       " path: 'C:\\\\Users\\\\coigah\\\\Documents\\\\PhD Folder\\\\YOLO\\\\test\\\\image40.jpg'\n",
       " probs: None\n",
       " save_dir: None\n",
       " speed: {'preprocess': 0.0, 'inference': 14.130830764770508, 'postprocess': 0.0},\n",
       " ultralytics.engine.results.Results object with attributes:\n",
       " \n",
       " boxes: ultralytics.engine.results.Boxes object\n",
       " keypoints: None\n",
       " masks: None\n",
       " names: {0: 'rivet'}\n",
       " obb: None\n",
       " orig_img: array([[[ 98, 101, 129],\n",
       "         [ 98, 101, 129],\n",
       "         [ 99, 102, 130],\n",
       "         ...,\n",
       "         [149, 255, 255],\n",
       "         [147, 255, 255],\n",
       "         [147, 255, 255]],\n",
       " \n",
       "        [[ 90,  93, 121],\n",
       "         [ 89,  92, 120],\n",
       "         [ 91,  94, 122],\n",
       "         ...,\n",
       "         [149, 255, 255],\n",
       "         [149, 255, 255],\n",
       "         [147, 255, 255]],\n",
       " \n",
       "        [[ 85,  89, 114],\n",
       "         [ 85,  89, 114],\n",
       "         [ 87,  91, 116],\n",
       "         ...,\n",
       "         [149, 255, 255],\n",
       "         [149, 255, 255],\n",
       "         [149, 255, 255]],\n",
       " \n",
       "        ...,\n",
       " \n",
       "        [[209, 236, 250],\n",
       "         [209, 236, 250],\n",
       "         [209, 236, 250],\n",
       "         ...,\n",
       "         [ 56, 170, 200],\n",
       "         [ 56, 170, 200],\n",
       "         [ 56, 170, 200]],\n",
       " \n",
       "        [[209, 236, 250],\n",
       "         [209, 236, 250],\n",
       "         [209, 236, 250],\n",
       "         ...,\n",
       "         [ 56, 170, 200],\n",
       "         [ 55, 169, 199],\n",
       "         [ 56, 170, 200]],\n",
       " \n",
       "        [[209, 236, 250],\n",
       "         [209, 236, 250],\n",
       "         [209, 236, 250],\n",
       "         ...,\n",
       "         [ 57, 171, 201],\n",
       "         [ 56, 170, 200],\n",
       "         [ 56, 170, 200]]], dtype=uint8)\n",
       " orig_shape: (720, 1280)\n",
       " path: 'C:\\\\Users\\\\coigah\\\\Documents\\\\PhD Folder\\\\YOLO\\\\test\\\\image41.jpg'\n",
       " probs: None\n",
       " save_dir: None\n",
       " speed: {'preprocess': 0.0, 'inference': 20.063400268554688, 'postprocess': 1.5041828155517578},\n",
       " ultralytics.engine.results.Results object with attributes:\n",
       " \n",
       " boxes: ultralytics.engine.results.Boxes object\n",
       " keypoints: None\n",
       " masks: None\n",
       " names: {0: 'rivet'}\n",
       " obb: None\n",
       " orig_img: array([[[ 54, 119, 127],\n",
       "         [ 54, 119, 127],\n",
       "         [ 54, 119, 127],\n",
       "         ...,\n",
       "         [105, 171, 224],\n",
       "         [102, 166, 220],\n",
       "         [ 98, 162, 216]],\n",
       " \n",
       "        [[ 54, 119, 127],\n",
       "         [ 54, 119, 127],\n",
       "         [ 54, 119, 127],\n",
       "         ...,\n",
       "         [105, 171, 224],\n",
       "         [102, 166, 220],\n",
       "         [ 98, 162, 216]],\n",
       " \n",
       "        [[ 54, 119, 127],\n",
       "         [ 54, 119, 127],\n",
       "         [ 54, 119, 127],\n",
       "         ...,\n",
       "         [104, 170, 223],\n",
       "         [102, 166, 220],\n",
       "         [ 98, 162, 216]],\n",
       " \n",
       "        ...,\n",
       " \n",
       "        [[253, 255, 255],\n",
       "         [253, 255, 255],\n",
       "         [255, 255, 255],\n",
       "         ...,\n",
       "         [ 85, 131, 139],\n",
       "         [ 85, 131, 139],\n",
       "         [ 85, 131, 139]],\n",
       " \n",
       "        [[251, 255, 255],\n",
       "         [253, 255, 255],\n",
       "         [253, 255, 255],\n",
       "         ...,\n",
       "         [ 85, 131, 139],\n",
       "         [ 85, 131, 139],\n",
       "         [ 85, 131, 139]],\n",
       " \n",
       "        [[251, 255, 255],\n",
       "         [251, 255, 255],\n",
       "         [253, 255, 255],\n",
       "         ...,\n",
       "         [ 85, 131, 139],\n",
       "         [ 85, 131, 139],\n",
       "         [ 85, 131, 139]]], dtype=uint8)\n",
       " orig_shape: (720, 1280)\n",
       " path: 'C:\\\\Users\\\\coigah\\\\Documents\\\\PhD Folder\\\\YOLO\\\\test\\\\image42.jpg'\n",
       " probs: None\n",
       " save_dir: None\n",
       " speed: {'preprocess': 0.9980201721191406, 'inference': 9.17506217956543, 'postprocess': 0.0},\n",
       " ultralytics.engine.results.Results object with attributes:\n",
       " \n",
       " boxes: ultralytics.engine.results.Boxes object\n",
       " keypoints: None\n",
       " masks: None\n",
       " names: {0: 'rivet'}\n",
       " obb: None\n",
       " orig_img: array([[[255, 255, 255],\n",
       "         [255, 255, 255],\n",
       "         [255, 255, 255],\n",
       "         ...,\n",
       "         [ 15, 119, 250],\n",
       "         [ 13, 118, 251],\n",
       "         [ 13, 118, 251]],\n",
       " \n",
       "        [[255, 255, 255],\n",
       "         [255, 255, 255],\n",
       "         [255, 255, 255],\n",
       "         ...,\n",
       "         [ 13, 119, 250],\n",
       "         [ 13, 118, 251],\n",
       "         [ 10, 118, 250]],\n",
       " \n",
       "        [[255, 255, 255],\n",
       "         [255, 255, 255],\n",
       "         [255, 255, 255],\n",
       "         ...,\n",
       "         [ 11, 119, 250],\n",
       "         [ 11, 119, 251],\n",
       "         [  9, 118, 250]],\n",
       " \n",
       "        ...,\n",
       " \n",
       "        [[255, 255, 255],\n",
       "         [255, 255, 255],\n",
       "         [255, 255, 255],\n",
       "         ...,\n",
       "         [120, 153, 162],\n",
       "         [120, 153, 162],\n",
       "         [120, 153, 162]],\n",
       " \n",
       "        [[255, 255, 255],\n",
       "         [255, 255, 255],\n",
       "         [255, 255, 255],\n",
       "         ...,\n",
       "         [120, 153, 162],\n",
       "         [120, 153, 162],\n",
       "         [120, 153, 162]],\n",
       " \n",
       "        [[255, 255, 255],\n",
       "         [255, 255, 255],\n",
       "         [255, 255, 255],\n",
       "         ...,\n",
       "         [120, 153, 162],\n",
       "         [120, 153, 162],\n",
       "         [120, 153, 162]]], dtype=uint8)\n",
       " orig_shape: (720, 1280)\n",
       " path: 'C:\\\\Users\\\\coigah\\\\Documents\\\\PhD Folder\\\\YOLO\\\\test\\\\image43.jpg'\n",
       " probs: None\n",
       " save_dir: None\n",
       " speed: {'preprocess': 1.0001659393310547, 'inference': 3.3006668090820312, 'postprocess': 0.0},\n",
       " ultralytics.engine.results.Results object with attributes:\n",
       " \n",
       " boxes: ultralytics.engine.results.Boxes object\n",
       " keypoints: None\n",
       " masks: None\n",
       " names: {0: 'rivet'}\n",
       " obb: None\n",
       " orig_img: array([[[163, 255, 255],\n",
       "         [163, 255, 255],\n",
       "         [163, 255, 255],\n",
       "         ...,\n",
       "         [ 98, 148, 160],\n",
       "         [ 95, 147, 159],\n",
       "         [ 94, 146, 158]],\n",
       " \n",
       "        [[163, 255, 255],\n",
       "         [163, 255, 255],\n",
       "         [163, 255, 255],\n",
       "         ...,\n",
       "         [ 94, 144, 156],\n",
       "         [ 90, 142, 154],\n",
       "         [ 90, 142, 154]],\n",
       " \n",
       "        [[163, 255, 255],\n",
       "         [163, 255, 255],\n",
       "         [163, 255, 255],\n",
       "         ...,\n",
       "         [ 84, 137, 147],\n",
       "         [ 83, 136, 146],\n",
       "         [ 83, 136, 146]],\n",
       " \n",
       "        ...,\n",
       " \n",
       "        [[ 48,  98, 104],\n",
       "         [ 50, 100, 106],\n",
       "         [ 54, 104, 110],\n",
       "         ...,\n",
       "         [ 96, 138, 145],\n",
       "         [ 96, 138, 145],\n",
       "         [ 96, 138, 145]],\n",
       " \n",
       "        [[ 50,  98, 104],\n",
       "         [ 51,  99, 105],\n",
       "         [ 54, 102, 108],\n",
       "         ...,\n",
       "         [ 96, 138, 145],\n",
       "         [ 96, 138, 145],\n",
       "         [ 96, 138, 145]],\n",
       " \n",
       "        [[ 52, 100, 106],\n",
       "         [ 51,  99, 105],\n",
       "         [ 52, 100, 106],\n",
       "         ...,\n",
       "         [ 96, 138, 145],\n",
       "         [ 96, 138, 145],\n",
       "         [ 96, 138, 145]]], dtype=uint8)\n",
       " orig_shape: (720, 1280)\n",
       " path: 'C:\\\\Users\\\\coigah\\\\Documents\\\\PhD Folder\\\\YOLO\\\\test\\\\image44.jpg'\n",
       " probs: None\n",
       " save_dir: None\n",
       " speed: {'preprocess': 0.698089599609375, 'inference': 0.0, 'postprocess': 0.0},\n",
       " ultralytics.engine.results.Results object with attributes:\n",
       " \n",
       " boxes: ultralytics.engine.results.Boxes object\n",
       " keypoints: None\n",
       " masks: None\n",
       " names: {0: 'rivet'}\n",
       " obb: None\n",
       " orig_img: array([[[204, 213, 226],\n",
       "         [203, 212, 225],\n",
       "         [202, 211, 224],\n",
       "         ...,\n",
       "         [ 54,  83,  90],\n",
       "         [ 57,  86,  93],\n",
       "         [ 57,  86,  93]],\n",
       " \n",
       "        [[205, 214, 227],\n",
       "         [204, 213, 226],\n",
       "         [203, 212, 225],\n",
       "         ...,\n",
       "         [ 54,  83,  90],\n",
       "         [ 57,  86,  93],\n",
       "         [ 57,  86,  93]],\n",
       " \n",
       "        [[205, 214, 227],\n",
       "         [204, 213, 226],\n",
       "         [203, 212, 225],\n",
       "         ...,\n",
       "         [ 54,  83,  90],\n",
       "         [ 57,  86,  93],\n",
       "         [ 57,  86,  93]],\n",
       " \n",
       "        ...,\n",
       " \n",
       "        [[110, 152, 157],\n",
       "         [110, 152, 157],\n",
       "         [110, 152, 157],\n",
       "         ...,\n",
       "         [118, 153, 163],\n",
       "         [118, 153, 163],\n",
       "         [118, 153, 163]],\n",
       " \n",
       "        [[110, 152, 157],\n",
       "         [110, 152, 157],\n",
       "         [110, 152, 157],\n",
       "         ...,\n",
       "         [118, 153, 163],\n",
       "         [118, 153, 163],\n",
       "         [118, 153, 163]],\n",
       " \n",
       "        [[109, 151, 156],\n",
       "         [110, 152, 157],\n",
       "         [110, 152, 157],\n",
       "         ...,\n",
       "         [118, 153, 163],\n",
       "         [118, 153, 163],\n",
       "         [118, 153, 163]]], dtype=uint8)\n",
       " orig_shape: (720, 1280)\n",
       " path: 'C:\\\\Users\\\\coigah\\\\Documents\\\\PhD Folder\\\\YOLO\\\\test\\\\image45.jpg'\n",
       " probs: None\n",
       " save_dir: None\n",
       " speed: {'preprocess': 0.0, 'inference': 15.45858383178711, 'postprocess': 1.001119613647461},\n",
       " ultralytics.engine.results.Results object with attributes:\n",
       " \n",
       " boxes: ultralytics.engine.results.Boxes object\n",
       " keypoints: None\n",
       " masks: None\n",
       " names: {0: 'rivet'}\n",
       " obb: None\n",
       " orig_img: array([[[187, 191, 202],\n",
       "         [187, 191, 202],\n",
       "         [187, 191, 202],\n",
       "         ...,\n",
       "         [255, 255, 255],\n",
       "         [255, 255, 255],\n",
       "         [255, 255, 255]],\n",
       " \n",
       "        [[187, 191, 202],\n",
       "         [187, 191, 202],\n",
       "         [187, 191, 202],\n",
       "         ...,\n",
       "         [255, 255, 255],\n",
       "         [255, 255, 255],\n",
       "         [255, 255, 255]],\n",
       " \n",
       "        [[188, 192, 203],\n",
       "         [187, 191, 202],\n",
       "         [187, 191, 202],\n",
       "         ...,\n",
       "         [255, 255, 255],\n",
       "         [255, 255, 255],\n",
       "         [255, 255, 255]],\n",
       " \n",
       "        ...,\n",
       " \n",
       "        [[217, 255, 255],\n",
       "         [217, 255, 255],\n",
       "         [217, 255, 255],\n",
       "         ...,\n",
       "         [103, 138, 148],\n",
       "         [103, 138, 148],\n",
       "         [103, 138, 148]],\n",
       " \n",
       "        [[219, 255, 255],\n",
       "         [219, 255, 255],\n",
       "         [219, 255, 255],\n",
       "         ...,\n",
       "         [103, 138, 148],\n",
       "         [103, 138, 148],\n",
       "         [103, 138, 148]],\n",
       " \n",
       "        [[221, 255, 255],\n",
       "         [221, 255, 255],\n",
       "         [221, 255, 255],\n",
       "         ...,\n",
       "         [103, 138, 148],\n",
       "         [103, 138, 148],\n",
       "         [103, 138, 148]]], dtype=uint8)\n",
       " orig_shape: (720, 1280)\n",
       " path: 'C:\\\\Users\\\\coigah\\\\Documents\\\\PhD Folder\\\\YOLO\\\\test\\\\image46.jpg'\n",
       " probs: None\n",
       " save_dir: None\n",
       " speed: {'preprocess': 0.0, 'inference': 15.447854995727539, 'postprocess': 0.0},\n",
       " ultralytics.engine.results.Results object with attributes:\n",
       " \n",
       " boxes: ultralytics.engine.results.Boxes object\n",
       " keypoints: None\n",
       " masks: None\n",
       " names: {0: 'rivet'}\n",
       " obb: None\n",
       " orig_img: array([[[255, 255, 255],\n",
       "         [255, 255, 255],\n",
       "         [255, 255, 255],\n",
       "         ...,\n",
       "         [255, 255, 255],\n",
       "         [255, 255, 255],\n",
       "         [255, 255, 255]],\n",
       " \n",
       "        [[255, 255, 255],\n",
       "         [255, 255, 255],\n",
       "         [255, 255, 255],\n",
       "         ...,\n",
       "         [255, 255, 255],\n",
       "         [255, 255, 255],\n",
       "         [255, 255, 255]],\n",
       " \n",
       "        [[255, 255, 255],\n",
       "         [255, 255, 255],\n",
       "         [255, 255, 255],\n",
       "         ...,\n",
       "         [255, 255, 255],\n",
       "         [255, 255, 255],\n",
       "         [255, 255, 255]],\n",
       " \n",
       "        ...,\n",
       " \n",
       "        [[111, 156, 159],\n",
       "         [111, 156, 159],\n",
       "         [111, 156, 159],\n",
       "         ...,\n",
       "         [110, 152, 159],\n",
       "         [110, 152, 159],\n",
       "         [110, 152, 159]],\n",
       " \n",
       "        [[111, 156, 159],\n",
       "         [111, 156, 159],\n",
       "         [111, 156, 159],\n",
       "         ...,\n",
       "         [109, 151, 158],\n",
       "         [109, 151, 158],\n",
       "         [109, 151, 158]],\n",
       " \n",
       "        [[111, 156, 159],\n",
       "         [111, 156, 159],\n",
       "         [111, 156, 159],\n",
       "         ...,\n",
       "         [106, 148, 155],\n",
       "         [106, 148, 155],\n",
       "         [106, 148, 155]]], dtype=uint8)\n",
       " orig_shape: (720, 1280)\n",
       " path: 'C:\\\\Users\\\\coigah\\\\Documents\\\\PhD Folder\\\\YOLO\\\\test\\\\image47.jpg'\n",
       " probs: None\n",
       " save_dir: None\n",
       " speed: {'preprocess': 0.0, 'inference': 8.460760116577148, 'postprocess': 0.0},\n",
       " ultralytics.engine.results.Results object with attributes:\n",
       " \n",
       " boxes: ultralytics.engine.results.Boxes object\n",
       " keypoints: None\n",
       " masks: None\n",
       " names: {0: 'rivet'}\n",
       " obb: None\n",
       " orig_img: array([[[ 72,  80,  87],\n",
       "         [ 72,  80,  87],\n",
       "         [ 72,  80,  87],\n",
       "         ...,\n",
       "         [160, 165, 164],\n",
       "         [160, 165, 164],\n",
       "         [160, 165, 164]],\n",
       " \n",
       "        [[ 72,  80,  87],\n",
       "         [ 72,  80,  87],\n",
       "         [ 72,  80,  87],\n",
       "         ...,\n",
       "         [160, 165, 164],\n",
       "         [160, 165, 164],\n",
       "         [160, 165, 164]],\n",
       " \n",
       "        [[ 72,  80,  87],\n",
       "         [ 72,  80,  87],\n",
       "         [ 72,  80,  87],\n",
       "         ...,\n",
       "         [160, 165, 164],\n",
       "         [160, 165, 164],\n",
       "         [160, 165, 164]],\n",
       " \n",
       "        ...,\n",
       " \n",
       "        [[178, 238, 238],\n",
       "         [186, 242, 243],\n",
       "         [205, 254, 255],\n",
       "         ...,\n",
       "         [176, 174, 174],\n",
       "         [176, 174, 174],\n",
       "         [176, 174, 174]],\n",
       " \n",
       "        [[179, 241, 241],\n",
       "         [192, 249, 250],\n",
       "         [205, 254, 255],\n",
       "         ...,\n",
       "         [176, 174, 174],\n",
       "         [176, 174, 174],\n",
       "         [176, 174, 174]],\n",
       " \n",
       "        [[181, 245, 245],\n",
       "         [196, 255, 255],\n",
       "         [207, 255, 255],\n",
       "         ...,\n",
       "         [175, 173, 173],\n",
       "         [175, 173, 173],\n",
       "         [175, 173, 173]]], dtype=uint8)\n",
       " orig_shape: (720, 1280)\n",
       " path: 'C:\\\\Users\\\\coigah\\\\Documents\\\\PhD Folder\\\\YOLO\\\\test\\\\image48.jpg'\n",
       " probs: None\n",
       " save_dir: None\n",
       " speed: {'preprocess': 0.8094310760498047, 'inference': 1.0495185852050781, 'postprocess': 0.0},\n",
       " ultralytics.engine.results.Results object with attributes:\n",
       " \n",
       " boxes: ultralytics.engine.results.Boxes object\n",
       " keypoints: None\n",
       " masks: None\n",
       " names: {0: 'rivet'}\n",
       " obb: None\n",
       " orig_img: array([[[139, 186, 184],\n",
       "         [139, 186, 184],\n",
       "         [140, 187, 185],\n",
       "         ...,\n",
       "         [185, 174, 170],\n",
       "         [185, 174, 170],\n",
       "         [185, 174, 170]],\n",
       " \n",
       "        [[139, 186, 184],\n",
       "         [139, 186, 184],\n",
       "         [140, 187, 185],\n",
       "         ...,\n",
       "         [185, 174, 170],\n",
       "         [185, 174, 170],\n",
       "         [185, 174, 170]],\n",
       " \n",
       "        [[139, 186, 184],\n",
       "         [139, 186, 184],\n",
       "         [140, 187, 185],\n",
       "         ...,\n",
       "         [186, 175, 171],\n",
       "         [186, 175, 171],\n",
       "         [186, 175, 171]],\n",
       " \n",
       "        ...,\n",
       " \n",
       "        [[144, 187, 190],\n",
       "         [145, 188, 191],\n",
       "         [144, 189, 192],\n",
       "         ...,\n",
       "         [155, 153, 153],\n",
       "         [156, 154, 154],\n",
       "         [155, 153, 153]],\n",
       " \n",
       "        [[145, 188, 191],\n",
       "         [145, 188, 191],\n",
       "         [144, 189, 192],\n",
       "         ...,\n",
       "         [159, 157, 157],\n",
       "         [160, 158, 158],\n",
       "         [159, 157, 157]],\n",
       " \n",
       "        [[145, 188, 191],\n",
       "         [144, 187, 190],\n",
       "         [143, 188, 191],\n",
       "         ...,\n",
       "         [163, 161, 161],\n",
       "         [165, 163, 163],\n",
       "         [161, 159, 159]]], dtype=uint8)\n",
       " orig_shape: (720, 1280)\n",
       " path: 'C:\\\\Users\\\\coigah\\\\Documents\\\\PhD Folder\\\\YOLO\\\\test\\\\image49.jpg'\n",
       " probs: None\n",
       " save_dir: None\n",
       " speed: {'preprocess': 1.0004043579101562, 'inference': 10.993719100952148, 'postprocess': 1.6827583312988281},\n",
       " ultralytics.engine.results.Results object with attributes:\n",
       " \n",
       " boxes: ultralytics.engine.results.Boxes object\n",
       " keypoints: None\n",
       " masks: None\n",
       " names: {0: 'rivet'}\n",
       " obb: None\n",
       " orig_img: array([[[136, 121, 112],\n",
       "         [137, 122, 113],\n",
       "         [139, 124, 115],\n",
       "         ...,\n",
       "         [158, 152, 141],\n",
       "         [158, 152, 141],\n",
       "         [157, 151, 140]],\n",
       " \n",
       "        [[137, 122, 113],\n",
       "         [138, 123, 114],\n",
       "         [140, 125, 116],\n",
       "         ...,\n",
       "         [156, 150, 139],\n",
       "         [155, 149, 138],\n",
       "         [154, 148, 137]],\n",
       " \n",
       "        [[138, 123, 114],\n",
       "         [139, 124, 115],\n",
       "         [138, 126, 116],\n",
       "         ...,\n",
       "         [154, 148, 137],\n",
       "         [153, 147, 136],\n",
       "         [152, 146, 135]],\n",
       " \n",
       "        ...,\n",
       " \n",
       "        [[ 15,   9,   4],\n",
       "         [ 15,   9,   4],\n",
       "         [ 15,   9,   4],\n",
       "         ...,\n",
       "         [ 12,   0,   0],\n",
       "         [ 13,   1,   1],\n",
       "         [ 13,   1,   1]],\n",
       " \n",
       "        [[ 14,   8,   3],\n",
       "         [ 14,   8,   3],\n",
       "         [ 15,   9,   4],\n",
       "         ...,\n",
       "         [ 12,   0,   0],\n",
       "         [ 13,   1,   1],\n",
       "         [ 13,   1,   1]],\n",
       " \n",
       "        [[ 15,   9,   4],\n",
       "         [ 15,   9,   4],\n",
       "         [ 16,  10,   5],\n",
       "         ...,\n",
       "         [ 12,   0,   0],\n",
       "         [ 13,   1,   1],\n",
       "         [ 13,   1,   1]]], dtype=uint8)\n",
       " orig_shape: (768, 1024)\n",
       " path: 'C:\\\\Users\\\\coigah\\\\Documents\\\\PhD Folder\\\\YOLO\\\\test\\\\image5.jpg'\n",
       " probs: None\n",
       " save_dir: None\n",
       " speed: {'preprocess': 0.0, 'inference': 8.482217788696289, 'postprocess': 0.0},\n",
       " ultralytics.engine.results.Results object with attributes:\n",
       " \n",
       " boxes: ultralytics.engine.results.Boxes object\n",
       " keypoints: None\n",
       " masks: None\n",
       " names: {0: 'rivet'}\n",
       " obb: None\n",
       " orig_img: array([[[ 95, 109, 132],\n",
       "         [ 95, 109, 132],\n",
       "         [ 96, 110, 133],\n",
       "         ...,\n",
       "         [248, 238, 228],\n",
       "         [253, 243, 233],\n",
       "         [251, 241, 231]],\n",
       " \n",
       "        [[ 95, 109, 132],\n",
       "         [ 95, 109, 132],\n",
       "         [ 96, 110, 133],\n",
       "         ...,\n",
       "         [248, 238, 228],\n",
       "         [255, 245, 235],\n",
       "         [254, 244, 234]],\n",
       " \n",
       "        [[ 95, 109, 132],\n",
       "         [ 95, 109, 132],\n",
       "         [ 96, 110, 133],\n",
       "         ...,\n",
       "         [247, 237, 227],\n",
       "         [255, 246, 236],\n",
       "         [255, 247, 237]],\n",
       " \n",
       "        ...,\n",
       " \n",
       "        [[ 18,  47,  52],\n",
       "         [ 18,  47,  52],\n",
       "         [ 18,  47,  52],\n",
       "         ...,\n",
       "         [162, 160, 160],\n",
       "         [162, 160, 160],\n",
       "         [162, 160, 160]],\n",
       " \n",
       "        [[ 18,  47,  52],\n",
       "         [ 18,  47,  52],\n",
       "         [ 18,  47,  52],\n",
       "         ...,\n",
       "         [162, 160, 160],\n",
       "         [162, 160, 160],\n",
       "         [162, 160, 160]],\n",
       " \n",
       "        [[ 18,  47,  52],\n",
       "         [ 18,  47,  52],\n",
       "         [ 18,  47,  52],\n",
       "         ...,\n",
       "         [162, 160, 160],\n",
       "         [162, 160, 160],\n",
       "         [162, 160, 160]]], dtype=uint8)\n",
       " orig_shape: (720, 1280)\n",
       " path: 'C:\\\\Users\\\\coigah\\\\Documents\\\\PhD Folder\\\\YOLO\\\\test\\\\image50.jpg'\n",
       " probs: None\n",
       " save_dir: None\n",
       " speed: {'preprocess': 0.0, 'inference': 8.019208908081055, 'postprocess': 0.0},\n",
       " ultralytics.engine.results.Results object with attributes:\n",
       " \n",
       " boxes: ultralytics.engine.results.Boxes object\n",
       " keypoints: None\n",
       " masks: None\n",
       " names: {0: 'rivet'}\n",
       " obb: None\n",
       " orig_img: array([[[184, 182, 181],\n",
       "         [184, 182, 181],\n",
       "         [184, 182, 181],\n",
       "         ...,\n",
       "         [221, 220, 216],\n",
       "         [221, 220, 216],\n",
       "         [221, 220, 216]],\n",
       " \n",
       "        [[185, 183, 182],\n",
       "         [185, 183, 182],\n",
       "         [184, 182, 181],\n",
       "         ...,\n",
       "         [209, 208, 204],\n",
       "         [209, 208, 204],\n",
       "         [210, 209, 205]],\n",
       " \n",
       "        [[185, 183, 182],\n",
       "         [185, 183, 182],\n",
       "         [185, 183, 182],\n",
       "         ...,\n",
       "         [189, 188, 184],\n",
       "         [189, 188, 184],\n",
       "         [190, 189, 185]],\n",
       " \n",
       "        ...,\n",
       " \n",
       "        [[ 43,  48,  46],\n",
       "         [ 44,  49,  47],\n",
       "         [ 45,  50,  48],\n",
       "         ...,\n",
       "         [ 45,  51,  46],\n",
       "         [ 56,  63,  56],\n",
       "         [ 64,  71,  64]],\n",
       " \n",
       "        [[ 46,  51,  49],\n",
       "         [ 47,  52,  50],\n",
       "         [ 49,  54,  52],\n",
       "         ...,\n",
       "         [ 41,  55,  49],\n",
       "         [ 50,  65,  57],\n",
       "         [ 54,  69,  61]],\n",
       " \n",
       "        [[ 44,  49,  47],\n",
       "         [ 46,  51,  49],\n",
       "         [ 48,  53,  51],\n",
       "         ...,\n",
       "         [ 40,  47,  42],\n",
       "         [ 46,  54,  47],\n",
       "         [ 51,  59,  52]]], dtype=uint8)\n",
       " orig_shape: (407, 612)\n",
       " path: 'C:\\\\Users\\\\coigah\\\\Documents\\\\PhD Folder\\\\YOLO\\\\test\\\\image7.jpg'\n",
       " probs: None\n",
       " save_dir: None\n",
       " speed: {'preprocess': 1.5304088592529297, 'inference': 12.607336044311523, 'postprocess': 1.0089874267578125}]"
      ]
     },
     "execution_count": 28,
     "metadata": {},
     "output_type": "execute_result"
    }
   ],
   "source": [
    "# Path to your test images folder\n",
    "test_folder_path = 'C:\\\\Users\\\\coigah\\\\Documents\\\\PhD Folder\\\\YOLO\\\\test'\n",
    "\n",
    "# Output directory where the images with detections will be saved\n",
    "output_dir = 'runs/detect'\n",
    "\n",
    "# Loop through images in the folder and process them\n",
    "# The YOLOv8 library handles loading images, running detections, and saving the results.\n",
    "model_loaded1.predict(source=test_folder_path, save_dir=output_dir, show_conf=True)\n"
   ]
  },
  {
   "cell_type": "code",
   "execution_count": 29,
   "metadata": {},
   "outputs": [
    {
     "name": "stdout",
     "output_type": "stream",
     "text": [
      "\n",
      "image 1/55 c:\\Users\\coigah\\Documents\\PhD Folder\\YOLO\\test\\106_jpg.rf.4ea9feb38107b0dc92f2a5f75abb98d6.jpg: 480x640 3 rivets, 184.7ms\n",
      "image 2/55 c:\\Users\\coigah\\Documents\\PhD Folder\\YOLO\\test\\116_jpg.rf.3f63997d302ed7ec8241e67af56264c8.jpg: 480x640 6 rivets, 14.0ms\n",
      "image 3/55 c:\\Users\\coigah\\Documents\\PhD Folder\\YOLO\\test\\120_jpg.rf.9312fa63edea25fd8d8ddae1c5ba61db.jpg: 480x640 4 rivets, 15.3ms\n",
      "image 4/55 c:\\Users\\coigah\\Documents\\PhD Folder\\YOLO\\test\\131_jpg.rf.bc8aef6e54f266528ad11d3d8b220fc2.jpg: 480x640 6 rivets, 16.8ms\n",
      "image 5/55 c:\\Users\\coigah\\Documents\\PhD Folder\\YOLO\\test\\134_jpg.rf.b66ff5eb04c0cae84ca328e3def9b944.jpg: 480x640 5 rivets, 15.5ms\n",
      "image 6/55 c:\\Users\\coigah\\Documents\\PhD Folder\\YOLO\\test\\181_jpg.rf.b1ae72db70469ed8b1930d46f64e00c3.jpg: 480x640 5 rivets, 11.5ms\n",
      "image 7/55 c:\\Users\\coigah\\Documents\\PhD Folder\\YOLO\\test\\184_jpg.rf.c99b12942e6553ffe0ce316275df4460.jpg: 480x640 6 rivets, 0.0ms\n",
      "image 8/55 c:\\Users\\coigah\\Documents\\PhD Folder\\YOLO\\test\\29_jpg.rf.ea49939540ec4230de0eda1a46cd43f2.jpg: 480x640 6 rivets, 13.5ms\n",
      "image 9/55 c:\\Users\\coigah\\Documents\\PhD Folder\\YOLO\\test\\31_jpg.rf.a99e14adf386e7b4bbf37a3712654725.jpg: 480x640 4 rivets, 10.1ms\n",
      "image 10/55 c:\\Users\\coigah\\Documents\\PhD Folder\\YOLO\\test\\36_jpg.rf.67adf1034d246ad267745c7bca87df8f.jpg: 480x640 6 rivets, 15.1ms\n",
      "image 11/55 c:\\Users\\coigah\\Documents\\PhD Folder\\YOLO\\test\\38_jpg.rf.3ec65defc81f66ea4257f867aa3c7d23.jpg: 480x640 6 rivets, 7.2ms\n",
      "image 12/55 c:\\Users\\coigah\\Documents\\PhD Folder\\YOLO\\test\\72_jpg.rf.d4d019966367aef9d3fa81223ec3dcda.jpg: 480x640 4 rivets, 13.5ms\n",
      "image 13/55 c:\\Users\\coigah\\Documents\\PhD Folder\\YOLO\\test\\89_jpg.rf.7f687b74d523177de6f47a996d2ad00c.jpg: 480x640 4 rivets, 14.3ms\n",
      "image 14/55 c:\\Users\\coigah\\Documents\\PhD Folder\\YOLO\\test\\8_jpg.rf.ee99e9b4b1af2def13105dd66b4817b6.jpg: 480x640 6 rivets, 10.0ms\n",
      "image 15/55 c:\\Users\\coigah\\Documents\\PhD Folder\\YOLO\\test\\98_jpg.rf.8382bb215704318cf19abbdac1c45801.jpg: 480x640 6 rivets, 13.9ms\n",
      "image 16/55 c:\\Users\\coigah\\Documents\\PhD Folder\\YOLO\\test\\image1.jpg: 448x640 1 rivet, 14.8ms\n",
      "image 17/55 c:\\Users\\coigah\\Documents\\PhD Folder\\YOLO\\test\\image10.jpg: 448x640 (no detections), 13.0ms\n",
      "image 18/55 c:\\Users\\coigah\\Documents\\PhD Folder\\YOLO\\test\\image11.jpg: 640x480 2 rivets, 17.0ms\n",
      "image 19/55 c:\\Users\\coigah\\Documents\\PhD Folder\\YOLO\\test\\image12.jpg: 352x640 6 rivets, 10.5ms\n",
      "image 20/55 c:\\Users\\coigah\\Documents\\PhD Folder\\YOLO\\test\\image13.jpg: 448x640 (no detections), 16.7ms\n",
      "image 21/55 c:\\Users\\coigah\\Documents\\PhD Folder\\YOLO\\test\\image14.jpg: 448x640 (no detections), 14.8ms\n",
      "image 22/55 c:\\Users\\coigah\\Documents\\PhD Folder\\YOLO\\test\\image15.jpg: 480x640 6 rivets, 14.5ms\n",
      "image 23/55 c:\\Users\\coigah\\Documents\\PhD Folder\\YOLO\\test\\image16.jpg: 480x640 6 rivets, 2.9ms\n",
      "image 24/55 c:\\Users\\coigah\\Documents\\PhD Folder\\YOLO\\test\\image2.jpg: 448x640 (no detections), 13.8ms\n",
      "image 25/55 c:\\Users\\coigah\\Documents\\PhD Folder\\YOLO\\test\\image21.jpg: 640x640 6 rivets, 15.0ms\n",
      "image 26/55 c:\\Users\\coigah\\Documents\\PhD Folder\\YOLO\\test\\image22.jpg: 480x640 1 rivet, 11.6ms\n",
      "image 27/55 c:\\Users\\coigah\\Documents\\PhD Folder\\YOLO\\test\\image23.jpg: 416x640 6 rivets, 4.3ms\n",
      "image 28/55 c:\\Users\\coigah\\Documents\\PhD Folder\\YOLO\\test\\image24.jpg: 640x576 6 rivets, 18.8ms\n",
      "image 29/55 c:\\Users\\coigah\\Documents\\PhD Folder\\YOLO\\test\\image25.jpg: 640x640 2 rivets, 24.1ms\n",
      "image 30/55 c:\\Users\\coigah\\Documents\\PhD Folder\\YOLO\\test\\image26.jpg: 384x640 (no detections), 17.5ms\n",
      "image 31/55 c:\\Users\\coigah\\Documents\\PhD Folder\\YOLO\\test\\image27.jpg: 640x512 5 rivets, 16.4ms\n",
      "image 32/55 c:\\Users\\coigah\\Documents\\PhD Folder\\YOLO\\test\\image29.jpg: 480x640 3 rivets, 16.7ms\n",
      "image 33/55 c:\\Users\\coigah\\Documents\\PhD Folder\\YOLO\\test\\image3.jpg: 480x640 1 rivet, 13.8ms\n",
      "image 34/55 c:\\Users\\coigah\\Documents\\PhD Folder\\YOLO\\test\\image31.jpeg: 448x640 6 rivets, 1.1ms\n",
      "image 35/55 c:\\Users\\coigah\\Documents\\PhD Folder\\YOLO\\test\\image32.jpeg: 448x640 (no detections), 3.3ms\n",
      "image 36/55 c:\\Users\\coigah\\Documents\\PhD Folder\\YOLO\\test\\image34.jpg: 448x640 5 rivets, 10.9ms\n",
      "image 37/55 c:\\Users\\coigah\\Documents\\PhD Folder\\YOLO\\test\\image35.jpg: 640x640 6 rivets, 19.4ms\n",
      "image 38/55 c:\\Users\\coigah\\Documents\\PhD Folder\\YOLO\\test\\image36.jpg: 384x640 6 rivets, 12.7ms\n",
      "image 39/55 c:\\Users\\coigah\\Documents\\PhD Folder\\YOLO\\test\\image37.jpg: 384x640 6 rivets, 11.0ms\n",
      "image 40/55 c:\\Users\\coigah\\Documents\\PhD Folder\\YOLO\\test\\image38.jpg: 384x640 6 rivets, 19.9ms\n",
      "image 41/55 c:\\Users\\coigah\\Documents\\PhD Folder\\YOLO\\test\\image39.jpg: 640x640 6 rivets, 18.1ms\n",
      "image 42/55 c:\\Users\\coigah\\Documents\\PhD Folder\\YOLO\\test\\image4.jpg: 448x640 6 rivets, 18.6ms\n",
      "image 43/55 c:\\Users\\coigah\\Documents\\PhD Folder\\YOLO\\test\\image40.jpg: 384x640 6 rivets, 0.0ms\n",
      "image 44/55 c:\\Users\\coigah\\Documents\\PhD Folder\\YOLO\\test\\image41.jpg: 384x640 6 rivets, 11.0ms\n",
      "image 45/55 c:\\Users\\coigah\\Documents\\PhD Folder\\YOLO\\test\\image42.jpg: 384x640 6 rivets, 25.2ms\n",
      "image 46/55 c:\\Users\\coigah\\Documents\\PhD Folder\\YOLO\\test\\image43.jpg: 384x640 6 rivets, 19.0ms\n",
      "image 47/55 c:\\Users\\coigah\\Documents\\PhD Folder\\YOLO\\test\\image44.jpg: 384x640 6 rivets, 11.5ms\n",
      "image 48/55 c:\\Users\\coigah\\Documents\\PhD Folder\\YOLO\\test\\image45.jpg: 384x640 5 rivets, 17.0ms\n",
      "image 49/55 c:\\Users\\coigah\\Documents\\PhD Folder\\YOLO\\test\\image46.jpg: 384x640 6 rivets, 10.7ms\n",
      "image 50/55 c:\\Users\\coigah\\Documents\\PhD Folder\\YOLO\\test\\image47.jpg: 384x640 6 rivets, 0.0ms\n",
      "image 51/55 c:\\Users\\coigah\\Documents\\PhD Folder\\YOLO\\test\\image48.jpg: 384x640 6 rivets, 11.0ms\n",
      "image 52/55 c:\\Users\\coigah\\Documents\\PhD Folder\\YOLO\\test\\image49.jpg: 384x640 3 rivets, 1.3ms\n",
      "image 53/55 c:\\Users\\coigah\\Documents\\PhD Folder\\YOLO\\test\\image5.jpg: 480x640 (no detections), 13.0ms\n",
      "image 54/55 c:\\Users\\coigah\\Documents\\PhD Folder\\YOLO\\test\\image50.jpg: 384x640 5 rivets, 18.5ms\n",
      "image 55/55 c:\\Users\\coigah\\Documents\\PhD Folder\\YOLO\\test\\image7.jpg: 448x640 (no detections), 22.5ms\n",
      "Speed: 1.2ms preprocess, 16.1ms inference, 0.8ms postprocess per image at shape (1, 3, 448, 640)\n",
      "Results saved to \u001b[1mruns\\detect\\predict\u001b[0m\n"
     ]
    }
   ],
   "source": [
    "results = model_loaded1.predict(source='test', save=True, show_conf=True, max_det=6, conf=0.65, show_labels=True)"
   ]
  },
  {
   "cell_type": "code",
   "execution_count": null,
   "metadata": {},
   "outputs": [],
   "source": [
    "import cv2\n",
    "import supervision as sv\n",
    "import os\n",
    "import matplotlib.pyplot as plt\n",
    "from IPython.display import display\n",
    "\n",
    "# Assuming 'model' is your preloaded YOLOv8 model\n",
    "test_folder_path = 'C:\\\\Users\\\\coigah\\\\Documents\\\\PhD Folder\\\\YOLO\\\\test'\n",
    "images = os.listdir(test_folder_path)\n",
    "\n",
    "bounding_box_annotator = sv.BoundingBoxAnnotator()\n",
    "label_annotator = sv.LabelAnnotator()\n",
    "\n",
    "for image_name in images:\n",
    "    # Construct the full image path\n",
    "    image_path = os.path.join(test_folder_path, image_name)\n",
    "    \n",
    "    # Check if the file is an image\n",
    "    if image_path.lower().endswith(('.png', '.jpg', '.jpeg')):\n",
    "        image = cv2.imread(image_path)\n",
    "        results = model(image)[0]\n",
    "        detections = sv.Detections.from_ultralytics(results)\n",
    "        \n",
    "        labels = [\n",
    "            model.model.names[class_id]\n",
    "            for class_id\n",
    "            in detections.class_id\n",
    "        ]\n",
    "        \n",
    "        annotated_image = bounding_box_annotator.annotate(\n",
    "            scene=image, detections=detections)\n",
    "        annotated_image = label_annotator.annotate(\n",
    "            scene=annotated_image, detections=detections, labels=labels)\n",
    "        \n",
    "        # Convert BGR image to RGB for matplotlib\n",
    "        annotated_image_rgb = cv2.cvtColor(annotated_image, cv2.COLOR_BGR2RGB)\n",
    "        \n",
    "        # Display the annotated image inline in Jupyter Notebook\n",
    "        plt.figure(figsize=(10, 10))  # Adjust display size as needed\n",
    "        plt.imshow(annotated_image_rgb)\n",
    "        plt.axis('off')  # Hide axis\n",
    "        plt.show()\n"
   ]
  }
 ],
 "metadata": {
  "kernelspec": {
   "display_name": "Python 3.9 (torch)",
   "language": "python",
   "name": "pytorch"
  },
  "language_info": {
   "codemirror_mode": {
    "name": "ipython",
    "version": 3
   },
   "file_extension": ".py",
   "mimetype": "text/x-python",
   "name": "python",
   "nbconvert_exporter": "python",
   "pygments_lexer": "ipython3",
   "version": "3.11.7"
  }
 },
 "nbformat": 4,
 "nbformat_minor": 2
}
